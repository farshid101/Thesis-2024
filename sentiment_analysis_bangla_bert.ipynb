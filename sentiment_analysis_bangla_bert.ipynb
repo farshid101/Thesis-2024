{
  "cells": [
    {
      "cell_type": "markdown",
      "metadata": {
        "id": "view-in-github",
        "colab_type": "text"
      },
      "source": [
        "<a href=\"https://colab.research.google.com/github/farshid101/Thesis-2024/blob/main/sentiment_analysis_bangla_bert.ipynb\" target=\"_parent\"><img src=\"https://colab.research.google.com/assets/colab-badge.svg\" alt=\"Open In Colab\"/></a>"
      ]
    },
    {
      "cell_type": "code",
      "execution_count": null,
      "id": "a9f45b8e",
      "metadata": {
        "execution": {
          "iopub.execute_input": "2023-09-03T08:26:48.707309Z",
          "iopub.status.busy": "2023-09-03T08:26:48.706838Z",
          "iopub.status.idle": "2023-09-03T08:26:49.463337Z",
          "shell.execute_reply": "2023-09-03T08:26:49.462406Z"
        },
        "papermill": {
          "duration": 0.805255,
          "end_time": "2023-09-03T08:26:49.465878",
          "exception": false,
          "start_time": "2023-09-03T08:26:48.660623",
          "status": "completed"
        },
        "tags": [],
        "id": "a9f45b8e"
      },
      "outputs": [],
      "source": [
        "# This Python 3 environment comes with many helpful analytics libraries installed\n",
        "# It is defined by the kaggle/python Docker image: https://github.com/kaggle/docker-python\n",
        "# For example, here's several helpful packages to load\n",
        "\n",
        "import numpy as np # linear algebra\n",
        "import pandas as pd # data processing, CSV file I/O (e.g. pd.read_csv)\n",
        "\n",
        "# Input data files are available in the read-only \"../input/\" directory\n",
        "# For example, running this (by clicking run or pressing Shift+Enter) will list all files under the input directory\n",
        "\n",
        "import os\n",
        "# for dirname, _, filenames in os.walk('/kaggle/input'):\n",
        "#     for filename in filenames:\n",
        "#         print(os.path.join(dirname, filename))\n",
        "\n",
        "# You can write up to 20GB to the current directory (/kaggle/working/) that gets preserved as output when you create a version using \"Save & Run All\"\n",
        "# You can also write temporary files to /kaggle/temp/, but they won't be saved outside of the current"
      ]
    },
    {
      "cell_type": "code",
      "execution_count": null,
      "id": "f7dbb827",
      "metadata": {
        "execution": {
          "iopub.execute_input": "2023-09-03T08:26:49.556657Z",
          "iopub.status.busy": "2023-09-03T08:26:49.555572Z",
          "iopub.status.idle": "2023-09-03T08:26:51.065425Z",
          "shell.execute_reply": "2023-09-03T08:26:51.064231Z"
        },
        "papermill": {
          "duration": 1.558964,
          "end_time": "2023-09-03T08:26:51.069024",
          "exception": false,
          "start_time": "2023-09-03T08:26:49.510060",
          "status": "completed"
        },
        "tags": [],
        "colab": {
          "base_uri": "https://localhost:8080/"
        },
        "id": "f7dbb827",
        "outputId": "b4b27939-b52d-4083-f007-2b1dcd1bfe8d"
      },
      "outputs": [
        {
          "output_type": "stream",
          "name": "stdout",
          "text": [
            "--2024-10-06 05:43:58--  https://raw.githubusercontent.com/DeepProgram/random/main/blp23_sentiment_test_with_label.tsv\n",
            "Resolving raw.githubusercontent.com (raw.githubusercontent.com)... 185.199.108.133, 185.199.109.133, 185.199.110.133, ...\n",
            "Connecting to raw.githubusercontent.com (raw.githubusercontent.com)|185.199.108.133|:443... connected.\n",
            "HTTP request sent, awaiting response... 200 OK\n",
            "Length: 1626269 (1.6M) [text/plain]\n",
            "Saving to: ‘blp23_sentiment_test_with_label.tsv’\n",
            "\n",
            "blp23_sentiment_tes 100%[===================>]   1.55M  --.-KB/s    in 0.05s   \n",
            "\n",
            "2024-10-06 05:43:58 (34.3 MB/s) - ‘blp23_sentiment_test_with_label.tsv’ saved [1626269/1626269]\n",
            "\n"
          ]
        }
      ],
      "source": [
        "#Dataset\n",
        "!wget \"https://raw.githubusercontent.com/DeepProgram/random/main/blp23_sentiment_test_with_label.tsv\""
      ]
    },
    {
      "cell_type": "code",
      "execution_count": null,
      "id": "891a9e7a",
      "metadata": {
        "execution": {
          "iopub.execute_input": "2023-09-03T08:26:51.203832Z",
          "iopub.status.busy": "2023-09-03T08:26:51.203358Z",
          "iopub.status.idle": "2023-09-03T08:27:40.908923Z",
          "shell.execute_reply": "2023-09-03T08:27:40.907633Z"
        },
        "id": "891a9e7a",
        "outputId": "02337d2e-e5b2-4e9c-909d-a2d61a43b49b",
        "papermill": {
          "duration": 49.776895,
          "end_time": "2023-09-03T08:27:40.911640",
          "exception": false,
          "start_time": "2023-09-03T08:26:51.134745",
          "status": "completed"
        },
        "tags": [],
        "colab": {
          "base_uri": "https://localhost:8080/"
        }
      },
      "outputs": [
        {
          "output_type": "stream",
          "name": "stdout",
          "text": [
            "Requirement already satisfied: transformers in /usr/local/lib/python3.10/dist-packages (4.44.2)\n",
            "Requirement already satisfied: filelock in /usr/local/lib/python3.10/dist-packages (from transformers) (3.16.1)\n",
            "Requirement already satisfied: huggingface-hub<1.0,>=0.23.2 in /usr/local/lib/python3.10/dist-packages (from transformers) (0.24.7)\n",
            "Requirement already satisfied: numpy>=1.17 in /usr/local/lib/python3.10/dist-packages (from transformers) (1.26.4)\n",
            "Requirement already satisfied: packaging>=20.0 in /usr/local/lib/python3.10/dist-packages (from transformers) (24.1)\n",
            "Requirement already satisfied: pyyaml>=5.1 in /usr/local/lib/python3.10/dist-packages (from transformers) (6.0.2)\n",
            "Requirement already satisfied: regex!=2019.12.17 in /usr/local/lib/python3.10/dist-packages (from transformers) (2024.9.11)\n",
            "Requirement already satisfied: requests in /usr/local/lib/python3.10/dist-packages (from transformers) (2.32.3)\n",
            "Requirement already satisfied: safetensors>=0.4.1 in /usr/local/lib/python3.10/dist-packages (from transformers) (0.4.5)\n",
            "Requirement already satisfied: tokenizers<0.20,>=0.19 in /usr/local/lib/python3.10/dist-packages (from transformers) (0.19.1)\n",
            "Requirement already satisfied: tqdm>=4.27 in /usr/local/lib/python3.10/dist-packages (from transformers) (4.66.5)\n",
            "Requirement already satisfied: fsspec>=2023.5.0 in /usr/local/lib/python3.10/dist-packages (from huggingface-hub<1.0,>=0.23.2->transformers) (2024.6.1)\n",
            "Requirement already satisfied: typing-extensions>=3.7.4.3 in /usr/local/lib/python3.10/dist-packages (from huggingface-hub<1.0,>=0.23.2->transformers) (4.12.2)\n",
            "Requirement already satisfied: charset-normalizer<4,>=2 in /usr/local/lib/python3.10/dist-packages (from requests->transformers) (3.3.2)\n",
            "Requirement already satisfied: idna<4,>=2.5 in /usr/local/lib/python3.10/dist-packages (from requests->transformers) (3.10)\n",
            "Requirement already satisfied: urllib3<3,>=1.21.1 in /usr/local/lib/python3.10/dist-packages (from requests->transformers) (2.2.3)\n",
            "Requirement already satisfied: certifi>=2017.4.17 in /usr/local/lib/python3.10/dist-packages (from requests->transformers) (2024.8.30)\n",
            "Collecting datasets\n",
            "  Downloading datasets-3.0.1-py3-none-any.whl.metadata (20 kB)\n",
            "Requirement already satisfied: filelock in /usr/local/lib/python3.10/dist-packages (from datasets) (3.16.1)\n",
            "Requirement already satisfied: numpy>=1.17 in /usr/local/lib/python3.10/dist-packages (from datasets) (1.26.4)\n",
            "Requirement already satisfied: pyarrow>=15.0.0 in /usr/local/lib/python3.10/dist-packages (from datasets) (16.1.0)\n",
            "Collecting dill<0.3.9,>=0.3.0 (from datasets)\n",
            "  Downloading dill-0.3.8-py3-none-any.whl.metadata (10 kB)\n",
            "Requirement already satisfied: pandas in /usr/local/lib/python3.10/dist-packages (from datasets) (2.2.2)\n",
            "Requirement already satisfied: requests>=2.32.2 in /usr/local/lib/python3.10/dist-packages (from datasets) (2.32.3)\n",
            "Requirement already satisfied: tqdm>=4.66.3 in /usr/local/lib/python3.10/dist-packages (from datasets) (4.66.5)\n",
            "Collecting xxhash (from datasets)\n",
            "  Downloading xxhash-3.5.0-cp310-cp310-manylinux_2_17_x86_64.manylinux2014_x86_64.whl.metadata (12 kB)\n",
            "Collecting multiprocess (from datasets)\n",
            "  Downloading multiprocess-0.70.17-py310-none-any.whl.metadata (7.2 kB)\n",
            "Requirement already satisfied: fsspec<=2024.6.1,>=2023.1.0 in /usr/local/lib/python3.10/dist-packages (from fsspec[http]<=2024.6.1,>=2023.1.0->datasets) (2024.6.1)\n",
            "Requirement already satisfied: aiohttp in /usr/local/lib/python3.10/dist-packages (from datasets) (3.10.8)\n",
            "Requirement already satisfied: huggingface-hub>=0.22.0 in /usr/local/lib/python3.10/dist-packages (from datasets) (0.24.7)\n",
            "Requirement already satisfied: packaging in /usr/local/lib/python3.10/dist-packages (from datasets) (24.1)\n",
            "Requirement already satisfied: pyyaml>=5.1 in /usr/local/lib/python3.10/dist-packages (from datasets) (6.0.2)\n",
            "Requirement already satisfied: aiohappyeyeballs>=2.3.0 in /usr/local/lib/python3.10/dist-packages (from aiohttp->datasets) (2.4.3)\n",
            "Requirement already satisfied: aiosignal>=1.1.2 in /usr/local/lib/python3.10/dist-packages (from aiohttp->datasets) (1.3.1)\n",
            "Requirement already satisfied: attrs>=17.3.0 in /usr/local/lib/python3.10/dist-packages (from aiohttp->datasets) (24.2.0)\n",
            "Requirement already satisfied: frozenlist>=1.1.1 in /usr/local/lib/python3.10/dist-packages (from aiohttp->datasets) (1.4.1)\n",
            "Requirement already satisfied: multidict<7.0,>=4.5 in /usr/local/lib/python3.10/dist-packages (from aiohttp->datasets) (6.1.0)\n",
            "Requirement already satisfied: yarl<2.0,>=1.12.0 in /usr/local/lib/python3.10/dist-packages (from aiohttp->datasets) (1.13.1)\n",
            "Requirement already satisfied: async-timeout<5.0,>=4.0 in /usr/local/lib/python3.10/dist-packages (from aiohttp->datasets) (4.0.3)\n",
            "Requirement already satisfied: typing-extensions>=3.7.4.3 in /usr/local/lib/python3.10/dist-packages (from huggingface-hub>=0.22.0->datasets) (4.12.2)\n",
            "Requirement already satisfied: charset-normalizer<4,>=2 in /usr/local/lib/python3.10/dist-packages (from requests>=2.32.2->datasets) (3.3.2)\n",
            "Requirement already satisfied: idna<4,>=2.5 in /usr/local/lib/python3.10/dist-packages (from requests>=2.32.2->datasets) (3.10)\n",
            "Requirement already satisfied: urllib3<3,>=1.21.1 in /usr/local/lib/python3.10/dist-packages (from requests>=2.32.2->datasets) (2.2.3)\n",
            "Requirement already satisfied: certifi>=2017.4.17 in /usr/local/lib/python3.10/dist-packages (from requests>=2.32.2->datasets) (2024.8.30)\n",
            "INFO: pip is looking at multiple versions of multiprocess to determine which version is compatible with other requirements. This could take a while.\n",
            "  Downloading multiprocess-0.70.16-py310-none-any.whl.metadata (7.2 kB)\n",
            "Requirement already satisfied: python-dateutil>=2.8.2 in /usr/local/lib/python3.10/dist-packages (from pandas->datasets) (2.8.2)\n",
            "Requirement already satisfied: pytz>=2020.1 in /usr/local/lib/python3.10/dist-packages (from pandas->datasets) (2024.2)\n",
            "Requirement already satisfied: tzdata>=2022.7 in /usr/local/lib/python3.10/dist-packages (from pandas->datasets) (2024.2)\n",
            "Requirement already satisfied: six>=1.5 in /usr/local/lib/python3.10/dist-packages (from python-dateutil>=2.8.2->pandas->datasets) (1.16.0)\n",
            "Downloading datasets-3.0.1-py3-none-any.whl (471 kB)\n",
            "\u001b[2K   \u001b[90m━━━━━━━━━━━━━━━━━━━━━━━━━━━━━━━━━━━━━━━━\u001b[0m \u001b[32m471.6/471.6 kB\u001b[0m \u001b[31m13.0 MB/s\u001b[0m eta \u001b[36m0:00:00\u001b[0m\n",
            "\u001b[?25hDownloading dill-0.3.8-py3-none-any.whl (116 kB)\n",
            "\u001b[2K   \u001b[90m━━━━━━━━━━━━━━━━━━━━━━━━━━━━━━━━━━━━━━━━\u001b[0m \u001b[32m116.3/116.3 kB\u001b[0m \u001b[31m10.4 MB/s\u001b[0m eta \u001b[36m0:00:00\u001b[0m\n",
            "\u001b[?25hDownloading multiprocess-0.70.16-py310-none-any.whl (134 kB)\n",
            "\u001b[2K   \u001b[90m━━━━━━━━━━━━━━━━━━━━━━━━━━━━━━━━━━━━━━━━\u001b[0m \u001b[32m134.8/134.8 kB\u001b[0m \u001b[31m9.9 MB/s\u001b[0m eta \u001b[36m0:00:00\u001b[0m\n",
            "\u001b[?25hDownloading xxhash-3.5.0-cp310-cp310-manylinux_2_17_x86_64.manylinux2014_x86_64.whl (194 kB)\n",
            "\u001b[2K   \u001b[90m━━━━━━━━━━━━━━━━━━━━━━━━━━━━━━━━━━━━━━━━\u001b[0m \u001b[32m194.1/194.1 kB\u001b[0m \u001b[31m15.9 MB/s\u001b[0m eta \u001b[36m0:00:00\u001b[0m\n",
            "\u001b[?25hInstalling collected packages: xxhash, dill, multiprocess, datasets\n",
            "Successfully installed datasets-3.0.1 dill-0.3.8 multiprocess-0.70.16 xxhash-3.5.0\n",
            "Collecting evaluate\n",
            "  Downloading evaluate-0.4.3-py3-none-any.whl.metadata (9.2 kB)\n",
            "Requirement already satisfied: datasets>=2.0.0 in /usr/local/lib/python3.10/dist-packages (from evaluate) (3.0.1)\n",
            "Requirement already satisfied: numpy>=1.17 in /usr/local/lib/python3.10/dist-packages (from evaluate) (1.26.4)\n",
            "Requirement already satisfied: dill in /usr/local/lib/python3.10/dist-packages (from evaluate) (0.3.8)\n",
            "Requirement already satisfied: pandas in /usr/local/lib/python3.10/dist-packages (from evaluate) (2.2.2)\n",
            "Requirement already satisfied: requests>=2.19.0 in /usr/local/lib/python3.10/dist-packages (from evaluate) (2.32.3)\n",
            "Requirement already satisfied: tqdm>=4.62.1 in /usr/local/lib/python3.10/dist-packages (from evaluate) (4.66.5)\n",
            "Requirement already satisfied: xxhash in /usr/local/lib/python3.10/dist-packages (from evaluate) (3.5.0)\n",
            "Requirement already satisfied: multiprocess in /usr/local/lib/python3.10/dist-packages (from evaluate) (0.70.16)\n",
            "Requirement already satisfied: fsspec>=2021.05.0 in /usr/local/lib/python3.10/dist-packages (from fsspec[http]>=2021.05.0->evaluate) (2024.6.1)\n",
            "Requirement already satisfied: huggingface-hub>=0.7.0 in /usr/local/lib/python3.10/dist-packages (from evaluate) (0.24.7)\n",
            "Requirement already satisfied: packaging in /usr/local/lib/python3.10/dist-packages (from evaluate) (24.1)\n",
            "Requirement already satisfied: filelock in /usr/local/lib/python3.10/dist-packages (from datasets>=2.0.0->evaluate) (3.16.1)\n",
            "Requirement already satisfied: pyarrow>=15.0.0 in /usr/local/lib/python3.10/dist-packages (from datasets>=2.0.0->evaluate) (16.1.0)\n",
            "Requirement already satisfied: aiohttp in /usr/local/lib/python3.10/dist-packages (from datasets>=2.0.0->evaluate) (3.10.8)\n",
            "Requirement already satisfied: pyyaml>=5.1 in /usr/local/lib/python3.10/dist-packages (from datasets>=2.0.0->evaluate) (6.0.2)\n",
            "Requirement already satisfied: typing-extensions>=3.7.4.3 in /usr/local/lib/python3.10/dist-packages (from huggingface-hub>=0.7.0->evaluate) (4.12.2)\n",
            "Requirement already satisfied: charset-normalizer<4,>=2 in /usr/local/lib/python3.10/dist-packages (from requests>=2.19.0->evaluate) (3.3.2)\n",
            "Requirement already satisfied: idna<4,>=2.5 in /usr/local/lib/python3.10/dist-packages (from requests>=2.19.0->evaluate) (3.10)\n",
            "Requirement already satisfied: urllib3<3,>=1.21.1 in /usr/local/lib/python3.10/dist-packages (from requests>=2.19.0->evaluate) (2.2.3)\n",
            "Requirement already satisfied: certifi>=2017.4.17 in /usr/local/lib/python3.10/dist-packages (from requests>=2.19.0->evaluate) (2024.8.30)\n",
            "Requirement already satisfied: python-dateutil>=2.8.2 in /usr/local/lib/python3.10/dist-packages (from pandas->evaluate) (2.8.2)\n",
            "Requirement already satisfied: pytz>=2020.1 in /usr/local/lib/python3.10/dist-packages (from pandas->evaluate) (2024.2)\n",
            "Requirement already satisfied: tzdata>=2022.7 in /usr/local/lib/python3.10/dist-packages (from pandas->evaluate) (2024.2)\n",
            "Requirement already satisfied: aiohappyeyeballs>=2.3.0 in /usr/local/lib/python3.10/dist-packages (from aiohttp->datasets>=2.0.0->evaluate) (2.4.3)\n",
            "Requirement already satisfied: aiosignal>=1.1.2 in /usr/local/lib/python3.10/dist-packages (from aiohttp->datasets>=2.0.0->evaluate) (1.3.1)\n",
            "Requirement already satisfied: attrs>=17.3.0 in /usr/local/lib/python3.10/dist-packages (from aiohttp->datasets>=2.0.0->evaluate) (24.2.0)\n",
            "Requirement already satisfied: frozenlist>=1.1.1 in /usr/local/lib/python3.10/dist-packages (from aiohttp->datasets>=2.0.0->evaluate) (1.4.1)\n",
            "Requirement already satisfied: multidict<7.0,>=4.5 in /usr/local/lib/python3.10/dist-packages (from aiohttp->datasets>=2.0.0->evaluate) (6.1.0)\n",
            "Requirement already satisfied: yarl<2.0,>=1.12.0 in /usr/local/lib/python3.10/dist-packages (from aiohttp->datasets>=2.0.0->evaluate) (1.13.1)\n",
            "Requirement already satisfied: async-timeout<5.0,>=4.0 in /usr/local/lib/python3.10/dist-packages (from aiohttp->datasets>=2.0.0->evaluate) (4.0.3)\n",
            "Requirement already satisfied: six>=1.5 in /usr/local/lib/python3.10/dist-packages (from python-dateutil>=2.8.2->pandas->evaluate) (1.16.0)\n",
            "Downloading evaluate-0.4.3-py3-none-any.whl (84 kB)\n",
            "\u001b[2K   \u001b[90m━━━━━━━━━━━━━━━━━━━━━━━━━━━━━━━━━━━━━━━━\u001b[0m \u001b[32m84.0/84.0 kB\u001b[0m \u001b[31m3.3 MB/s\u001b[0m eta \u001b[36m0:00:00\u001b[0m\n",
            "\u001b[?25hInstalling collected packages: evaluate\n",
            "Successfully installed evaluate-0.4.3\n",
            "Requirement already satisfied: accelerate in /usr/local/lib/python3.10/dist-packages (0.34.2)\n",
            "Requirement already satisfied: numpy<3.0.0,>=1.17 in /usr/local/lib/python3.10/dist-packages (from accelerate) (1.26.4)\n",
            "Requirement already satisfied: packaging>=20.0 in /usr/local/lib/python3.10/dist-packages (from accelerate) (24.1)\n",
            "Requirement already satisfied: psutil in /usr/local/lib/python3.10/dist-packages (from accelerate) (5.9.5)\n",
            "Requirement already satisfied: pyyaml in /usr/local/lib/python3.10/dist-packages (from accelerate) (6.0.2)\n",
            "Requirement already satisfied: torch>=1.10.0 in /usr/local/lib/python3.10/dist-packages (from accelerate) (2.4.1+cu121)\n",
            "Requirement already satisfied: huggingface-hub>=0.21.0 in /usr/local/lib/python3.10/dist-packages (from accelerate) (0.24.7)\n",
            "Requirement already satisfied: safetensors>=0.4.3 in /usr/local/lib/python3.10/dist-packages (from accelerate) (0.4.5)\n",
            "Requirement already satisfied: filelock in /usr/local/lib/python3.10/dist-packages (from huggingface-hub>=0.21.0->accelerate) (3.16.1)\n",
            "Requirement already satisfied: fsspec>=2023.5.0 in /usr/local/lib/python3.10/dist-packages (from huggingface-hub>=0.21.0->accelerate) (2024.6.1)\n",
            "Requirement already satisfied: requests in /usr/local/lib/python3.10/dist-packages (from huggingface-hub>=0.21.0->accelerate) (2.32.3)\n",
            "Requirement already satisfied: tqdm>=4.42.1 in /usr/local/lib/python3.10/dist-packages (from huggingface-hub>=0.21.0->accelerate) (4.66.5)\n",
            "Requirement already satisfied: typing-extensions>=3.7.4.3 in /usr/local/lib/python3.10/dist-packages (from huggingface-hub>=0.21.0->accelerate) (4.12.2)\n",
            "Requirement already satisfied: sympy in /usr/local/lib/python3.10/dist-packages (from torch>=1.10.0->accelerate) (1.13.3)\n",
            "Requirement already satisfied: networkx in /usr/local/lib/python3.10/dist-packages (from torch>=1.10.0->accelerate) (3.3)\n",
            "Requirement already satisfied: jinja2 in /usr/local/lib/python3.10/dist-packages (from torch>=1.10.0->accelerate) (3.1.4)\n",
            "Requirement already satisfied: MarkupSafe>=2.0 in /usr/local/lib/python3.10/dist-packages (from jinja2->torch>=1.10.0->accelerate) (2.1.5)\n",
            "Requirement already satisfied: charset-normalizer<4,>=2 in /usr/local/lib/python3.10/dist-packages (from requests->huggingface-hub>=0.21.0->accelerate) (3.3.2)\n",
            "Requirement already satisfied: idna<4,>=2.5 in /usr/local/lib/python3.10/dist-packages (from requests->huggingface-hub>=0.21.0->accelerate) (3.10)\n",
            "Requirement already satisfied: urllib3<3,>=1.21.1 in /usr/local/lib/python3.10/dist-packages (from requests->huggingface-hub>=0.21.0->accelerate) (2.2.3)\n",
            "Requirement already satisfied: certifi>=2017.4.17 in /usr/local/lib/python3.10/dist-packages (from requests->huggingface-hub>=0.21.0->accelerate) (2024.8.30)\n",
            "Requirement already satisfied: mpmath<1.4,>=1.1.0 in /usr/local/lib/python3.10/dist-packages (from sympy->torch>=1.10.0->accelerate) (1.3.0)\n"
          ]
        }
      ],
      "source": [
        "!pip install transformers\n",
        "!pip install datasets\n",
        "!pip install evaluate\n",
        "!pip install --upgrade accelerate"
      ]
    },
    {
      "cell_type": "code",
      "execution_count": null,
      "id": "a9d61744",
      "metadata": {
        "execution": {
          "iopub.execute_input": "2023-09-03T08:27:41.009712Z",
          "iopub.status.busy": "2023-09-03T08:27:41.008751Z",
          "iopub.status.idle": "2023-09-03T08:27:57.058065Z",
          "shell.execute_reply": "2023-09-03T08:27:57.057087Z"
        },
        "id": "a9d61744",
        "papermill": {
          "duration": 16.10001,
          "end_time": "2023-09-03T08:27:57.060827",
          "exception": false,
          "start_time": "2023-09-03T08:27:40.960817",
          "status": "completed"
        },
        "tags": []
      },
      "outputs": [],
      "source": [
        "import logging\n",
        "import os\n",
        "import random\n",
        "import sys\n",
        "from dataclasses import dataclass, field\n",
        "from typing import Optional\n",
        "import pandas as pd\n",
        "import datasets\n",
        "import evaluate\n",
        "import numpy as np\n",
        "from datasets import load_dataset, Dataset, DatasetDict\n",
        "import torch\n",
        "\n",
        "import transformers\n",
        "from transformers import (\n",
        "    AutoConfig,\n",
        "    AutoModelForSequenceClassification,\n",
        "    AutoTokenizer,\n",
        "    DataCollatorWithPadding,\n",
        "    EvalPrediction,\n",
        "    HfArgumentParser,\n",
        "    PretrainedConfig,\n",
        "    Trainer,\n",
        "    TrainingArguments,\n",
        "    default_data_collator,\n",
        "    set_seed,\n",
        ")\n",
        "from transformers.trainer_utils import get_last_checkpoint\n",
        "from transformers.utils import check_min_version, send_example_telemetry\n",
        "from transformers.utils.versions import require_version\n",
        "\n",
        "\n",
        "logger = logging.getLogger(__name__)\n",
        "\n",
        "logging.basicConfig(\n",
        "    format=\"%(asctime)s - %(levelname)s - %(name)s - %(message)s\",\n",
        "    datefmt=\"%m/%d/%Y %H:%M:%S\",\n",
        "    handlers=[logging.StreamHandler(sys.stdout)],\n",
        ")"
      ]
    },
    {
      "cell_type": "code",
      "execution_count": null,
      "id": "8e7a6506",
      "metadata": {
        "execution": {
          "iopub.execute_input": "2023-09-03T08:27:57.208696Z",
          "iopub.status.busy": "2023-09-03T08:27:57.208253Z",
          "iopub.status.idle": "2023-09-03T08:27:58.511137Z",
          "shell.execute_reply": "2023-09-03T08:27:58.509895Z"
        },
        "id": "8e7a6506",
        "outputId": "75c668bc-ac00-4e9b-b5e6-2cdb2932fca9",
        "papermill": {
          "duration": 1.40572,
          "end_time": "2023-09-03T08:27:58.514172",
          "exception": false,
          "start_time": "2023-09-03T08:27:57.108452",
          "status": "completed"
        },
        "tags": [],
        "colab": {
          "base_uri": "https://localhost:8080/"
        }
      },
      "outputs": [
        {
          "output_type": "stream",
          "name": "stdout",
          "text": [
            "--2024-10-06 05:45:32--  https://raw.githubusercontent.com/DeepProgram/random/main/sentiment_analysis_data.zip\n",
            "Resolving raw.githubusercontent.com (raw.githubusercontent.com)... 185.199.110.133, 185.199.108.133, 185.199.109.133, ...\n",
            "Connecting to raw.githubusercontent.com (raw.githubusercontent.com)|185.199.110.133|:443... connected.\n",
            "HTTP request sent, awaiting response... 200 OK\n",
            "Length: 2645403 (2.5M) [application/zip]\n",
            "Saving to: ‘sentiment_analysis_data.zip’\n",
            "\n",
            "sentiment_analysis_ 100%[===================>]   2.52M  --.-KB/s    in 0.05s   \n",
            "\n",
            "2024-10-06 05:45:32 (49.3 MB/s) - ‘sentiment_analysis_data.zip’ saved [2645403/2645403]\n",
            "\n"
          ]
        }
      ],
      "source": [
        "!wget \"https://raw.githubusercontent.com/DeepProgram/random/main/sentiment_analysis_data.zip\""
      ]
    },
    {
      "cell_type": "code",
      "execution_count": null,
      "id": "0cf08c64",
      "metadata": {
        "execution": {
          "iopub.execute_input": "2023-09-03T08:27:58.611909Z",
          "iopub.status.busy": "2023-09-03T08:27:58.611488Z",
          "iopub.status.idle": "2023-09-03T08:27:59.646298Z",
          "shell.execute_reply": "2023-09-03T08:27:59.645048Z"
        },
        "id": "0cf08c64",
        "outputId": "5d859fb9-bb80-4925-a652-160840add9ff",
        "papermill": {
          "duration": 1.087056,
          "end_time": "2023-09-03T08:27:59.649022",
          "exception": false,
          "start_time": "2023-09-03T08:27:58.561966",
          "status": "completed"
        },
        "tags": [],
        "colab": {
          "base_uri": "https://localhost:8080/"
        }
      },
      "outputs": [
        {
          "output_type": "stream",
          "name": "stdout",
          "text": [
            "unzip:  cannot find or open /kaggle/working/sentiment_analysis_data.zip, /kaggle/working/sentiment_analysis_data.zip.zip or /kaggle/working/sentiment_analysis_data.zip.ZIP.\n"
          ]
        }
      ],
      "source": [
        "!unzip -o /kaggle/working/sentiment_analysis_data.zip"
      ]
    },
    {
      "cell_type": "code",
      "execution_count": null,
      "id": "20286660",
      "metadata": {
        "execution": {
          "iopub.execute_input": "2023-09-03T08:27:59.745220Z",
          "iopub.status.busy": "2023-09-03T08:27:59.744807Z",
          "iopub.status.idle": "2023-09-03T08:27:59.750278Z",
          "shell.execute_reply": "2023-09-03T08:27:59.749297Z"
        },
        "id": "20286660",
        "papermill": {
          "duration": 0.056505,
          "end_time": "2023-09-03T08:27:59.752418",
          "exception": false,
          "start_time": "2023-09-03T08:27:59.695913",
          "status": "completed"
        },
        "tags": []
      },
      "outputs": [],
      "source": [
        "train_file = '/content/Mega Test Data.xlsx'\n",
        "validation_file = '/content/Mega Test Data.xlsx'\n",
        "test_file = '/content/Mega Test Data.xlsx'"
      ]
    },
    {
      "cell_type": "code",
      "execution_count": null,
      "id": "720cc115",
      "metadata": {
        "execution": {
          "iopub.execute_input": "2023-09-03T08:27:59.849559Z",
          "iopub.status.busy": "2023-09-03T08:27:59.849154Z",
          "iopub.status.idle": "2023-09-03T08:27:59.924789Z",
          "shell.execute_reply": "2023-09-03T08:27:59.923784Z"
        },
        "id": "720cc115",
        "papermill": {
          "duration": 0.126837,
          "end_time": "2023-09-03T08:27:59.927923",
          "exception": false,
          "start_time": "2023-09-03T08:27:59.801086",
          "status": "completed"
        },
        "tags": [],
        "colab": {
          "base_uri": "https://localhost:8080/"
        },
        "outputId": "3f399787-12f7-49ea-c016-ff0cf52c5bb7"
      },
      "outputs": [
        {
          "output_type": "stream",
          "name": "stderr",
          "text": [
            "[INFO|training_args.py:2100] 2024-10-06 06:02:18,309 >> PyTorch: setting up devices\n",
            "[INFO|training_args.py:1788] 2024-10-06 06:02:18,331 >> The default value for the training argument `--report_to` will change in v5 (from all installed integrations to none). In v5, you will need to use `--report_to all` to get the same behavior as now. You should start updating your code and make this info disappear :-).\n"
          ]
        }
      ],
      "source": [
        "training_args = TrainingArguments(\n",
        "    learning_rate=2e-5,\n",
        "    num_train_epochs=1,\n",
        "    per_device_train_batch_size=16,\n",
        "    per_device_eval_batch_size=16,\n",
        "    output_dir=\"./bertBaseMultilingualNew/\",\n",
        "    overwrite_output_dir=True,\n",
        "    remove_unused_columns=False,\n",
        "    local_rank= 1,\n",
        "    load_best_model_at_end=True,\n",
        "    save_total_limit=2,\n",
        "    save_strategy=\"no\"\n",
        ")\n",
        "\n",
        "max_train_samples = None\n",
        "max_eval_samples=None\n",
        "max_predict_samples=None\n",
        "max_seq_length = 512\n",
        "batch_size = 16"
      ]
    },
    {
      "cell_type": "code",
      "execution_count": null,
      "id": "3ce5bb42",
      "metadata": {
        "execution": {
          "iopub.execute_input": "2023-09-03T08:28:00.025200Z",
          "iopub.status.busy": "2023-09-03T08:28:00.023992Z",
          "iopub.status.idle": "2023-09-03T08:28:00.033946Z",
          "shell.execute_reply": "2023-09-03T08:28:00.033046Z"
        },
        "id": "3ce5bb42",
        "outputId": "cd492585-4f82-45da-e27c-f1c6747c4a05",
        "papermill": {
          "duration": 0.060718,
          "end_time": "2023-09-03T08:28:00.036001",
          "exception": false,
          "start_time": "2023-09-03T08:27:59.975283",
          "status": "completed"
        },
        "tags": [],
        "colab": {
          "base_uri": "https://localhost:8080/"
        }
      },
      "outputs": [
        {
          "output_type": "stream",
          "name": "stderr",
          "text": [
            "WARNING:__main__:Process rank: 0, device: cuda:0, n_gpu: 1 distributed training: True, 16-bits training: False\n",
            "INFO:__main__:Training/evaluation parameters TrainingArguments(\n",
            "_n_gpu=1,\n",
            "accelerator_config={'split_batches': False, 'dispatch_batches': None, 'even_batches': True, 'use_seedable_sampler': True, 'non_blocking': False, 'gradient_accumulation_kwargs': None, 'use_configured_state': False},\n",
            "adafactor=False,\n",
            "adam_beta1=0.9,\n",
            "adam_beta2=0.999,\n",
            "adam_epsilon=1e-08,\n",
            "auto_find_batch_size=False,\n",
            "batch_eval_metrics=False,\n",
            "bf16=False,\n",
            "bf16_full_eval=False,\n",
            "data_seed=None,\n",
            "dataloader_drop_last=False,\n",
            "dataloader_num_workers=0,\n",
            "dataloader_persistent_workers=False,\n",
            "dataloader_pin_memory=True,\n",
            "dataloader_prefetch_factor=None,\n",
            "ddp_backend=None,\n",
            "ddp_broadcast_buffers=None,\n",
            "ddp_bucket_cap_mb=None,\n",
            "ddp_find_unused_parameters=None,\n",
            "ddp_timeout=1800,\n",
            "debug=[],\n",
            "deepspeed=None,\n",
            "disable_tqdm=False,\n",
            "dispatch_batches=None,\n",
            "do_eval=False,\n",
            "do_predict=False,\n",
            "do_train=False,\n",
            "eval_accumulation_steps=None,\n",
            "eval_delay=0,\n",
            "eval_do_concat_batches=True,\n",
            "eval_on_start=False,\n",
            "eval_steps=None,\n",
            "eval_strategy=no,\n",
            "eval_use_gather_object=False,\n",
            "evaluation_strategy=None,\n",
            "fp16=False,\n",
            "fp16_backend=auto,\n",
            "fp16_full_eval=False,\n",
            "fp16_opt_level=O1,\n",
            "fsdp=[],\n",
            "fsdp_config={'min_num_params': 0, 'xla': False, 'xla_fsdp_v2': False, 'xla_fsdp_grad_ckpt': False},\n",
            "fsdp_min_num_params=0,\n",
            "fsdp_transformer_layer_cls_to_wrap=None,\n",
            "full_determinism=False,\n",
            "gradient_accumulation_steps=1,\n",
            "gradient_checkpointing=False,\n",
            "gradient_checkpointing_kwargs=None,\n",
            "greater_is_better=False,\n",
            "group_by_length=False,\n",
            "half_precision_backend=auto,\n",
            "hub_always_push=False,\n",
            "hub_model_id=None,\n",
            "hub_private_repo=False,\n",
            "hub_strategy=every_save,\n",
            "hub_token=<HUB_TOKEN>,\n",
            "ignore_data_skip=False,\n",
            "include_inputs_for_metrics=False,\n",
            "include_num_input_tokens_seen=False,\n",
            "include_tokens_per_second=False,\n",
            "jit_mode_eval=False,\n",
            "label_names=None,\n",
            "label_smoothing_factor=0.0,\n",
            "learning_rate=2e-05,\n",
            "length_column_name=length,\n",
            "load_best_model_at_end=True,\n",
            "local_rank=0,\n",
            "log_level=passive,\n",
            "log_level_replica=warning,\n",
            "log_on_each_node=True,\n",
            "logging_dir=./bertBaseMultilingualNew/runs/Oct06_06-02-18_037cf906e422,\n",
            "logging_first_step=False,\n",
            "logging_nan_inf_filter=True,\n",
            "logging_steps=500,\n",
            "logging_strategy=steps,\n",
            "lr_scheduler_kwargs={},\n",
            "lr_scheduler_type=linear,\n",
            "max_grad_norm=1.0,\n",
            "max_steps=-1,\n",
            "metric_for_best_model=loss,\n",
            "mp_parameters=,\n",
            "neftune_noise_alpha=None,\n",
            "no_cuda=False,\n",
            "num_train_epochs=1,\n",
            "optim=adamw_torch,\n",
            "optim_args=None,\n",
            "optim_target_modules=None,\n",
            "output_dir=./bertBaseMultilingualNew/,\n",
            "overwrite_output_dir=True,\n",
            "past_index=-1,\n",
            "per_device_eval_batch_size=16,\n",
            "per_device_train_batch_size=16,\n",
            "prediction_loss_only=False,\n",
            "push_to_hub=False,\n",
            "push_to_hub_model_id=None,\n",
            "push_to_hub_organization=None,\n",
            "push_to_hub_token=<PUSH_TO_HUB_TOKEN>,\n",
            "ray_scope=last,\n",
            "remove_unused_columns=False,\n",
            "report_to=['tensorboard'],\n",
            "restore_callback_states_from_checkpoint=False,\n",
            "resume_from_checkpoint=None,\n",
            "run_name=./bertBaseMultilingualNew/,\n",
            "save_on_each_node=False,\n",
            "save_only_model=False,\n",
            "save_safetensors=True,\n",
            "save_steps=500,\n",
            "save_strategy=no,\n",
            "save_total_limit=2,\n",
            "seed=42,\n",
            "skip_memory_metrics=True,\n",
            "split_batches=None,\n",
            "tf32=None,\n",
            "torch_compile=False,\n",
            "torch_compile_backend=None,\n",
            "torch_compile_mode=None,\n",
            "torch_empty_cache_steps=None,\n",
            "torchdynamo=None,\n",
            "tpu_metrics_debug=False,\n",
            "tpu_num_cores=None,\n",
            "use_cpu=False,\n",
            "use_ipex=False,\n",
            "use_legacy_prediction_loop=False,\n",
            "use_mps_device=False,\n",
            "warmup_ratio=0.0,\n",
            "warmup_steps=0,\n",
            "weight_decay=0.0,\n",
            ")\n"
          ]
        }
      ],
      "source": [
        "transformers.utils.logging.set_verbosity_info()\n",
        "\n",
        "log_level = training_args.get_process_log_level()\n",
        "logger.setLevel(log_level)\n",
        "datasets.utils.logging.set_verbosity(log_level)\n",
        "transformers.utils.logging.set_verbosity(log_level)\n",
        "transformers.utils.logging.enable_default_handler()\n",
        "transformers.utils.logging.enable_explicit_format()\n",
        "logger.warning(\n",
        "    f\"Process rank: {training_args.local_rank}, device: {training_args.device}, n_gpu: {training_args.n_gpu}\"\n",
        "    + f\" distributed training: {bool(training_args.local_rank != -1)}, 16-bits training: {training_args.fp16}\"\n",
        ")\n",
        "logger.info(f\"Training/evaluation parameters {training_args}\")"
      ]
    },
    {
      "cell_type": "code",
      "execution_count": null,
      "id": "92d6e2cf",
      "metadata": {
        "execution": {
          "iopub.execute_input": "2023-09-03T08:28:00.133888Z",
          "iopub.status.busy": "2023-09-03T08:28:00.132833Z",
          "iopub.status.idle": "2023-09-03T08:28:00.137889Z",
          "shell.execute_reply": "2023-09-03T08:28:00.136964Z"
        },
        "id": "92d6e2cf",
        "papermill": {
          "duration": 0.057349,
          "end_time": "2023-09-03T08:28:00.140025",
          "exception": false,
          "start_time": "2023-09-03T08:28:00.082676",
          "status": "completed"
        },
        "tags": []
      },
      "outputs": [],
      "source": [
        "model_name = 'sagorsarker/bangla-bert-base'"
      ]
    },
    {
      "cell_type": "code",
      "execution_count": null,
      "id": "e4641820",
      "metadata": {
        "execution": {
          "iopub.execute_input": "2023-09-03T08:28:00.239321Z",
          "iopub.status.busy": "2023-09-03T08:28:00.238959Z",
          "iopub.status.idle": "2023-09-03T08:28:00.245801Z",
          "shell.execute_reply": "2023-09-03T08:28:00.244881Z"
        },
        "id": "e4641820",
        "papermill": {
          "duration": 0.059296,
          "end_time": "2023-09-03T08:28:00.247898",
          "exception": false,
          "start_time": "2023-09-03T08:28:00.188602",
          "status": "completed"
        },
        "tags": []
      },
      "outputs": [],
      "source": [
        "set_seed(training_args.seed)"
      ]
    },
    {
      "cell_type": "code",
      "execution_count": null,
      "id": "c2a17ebc",
      "metadata": {
        "execution": {
          "iopub.execute_input": "2023-09-03T08:28:00.342643Z",
          "iopub.status.busy": "2023-09-03T08:28:00.342086Z",
          "iopub.status.idle": "2023-09-03T08:28:00.353856Z",
          "shell.execute_reply": "2023-09-03T08:28:00.352902Z"
        },
        "id": "c2a17ebc",
        "papermill": {
          "duration": 0.061502,
          "end_time": "2023-09-03T08:28:00.355922",
          "exception": false,
          "start_time": "2023-09-03T08:28:00.294420",
          "status": "completed"
        },
        "tags": []
      },
      "outputs": [],
      "source": [
        "punctuations = [\"|\",\"‘\",\">\",\"<\",\"*\",   \"।\", \",\", \";\", \":\", \"?\", \"!\", \"'\", \".\", \"\\\"\", \"-\",\n",
        "                \"[\", \"]\", \"{\", \"}\", \"(\", \")\", '–', \"—\", \"―\", \"~\"]\n",
        "\n",
        "def remove_url(word):\n",
        "    return word.split(\"http\")[0].strip()\n",
        "\n",
        "def extreme_process(word):\n",
        "    word_list = [word]\n",
        "    splitter_list = [\"**\",\"*\", \"…\", \"-\"]\n",
        "\n",
        "    for i in splitter_list:\n",
        "        if i in word:\n",
        "            temp_list = word.split(i)\n",
        "            word_list = list(filter(lambda x:x.strip() != \"\", temp_list))\n",
        "            return word_list\n",
        "    return word_list\n",
        "\n",
        "\n",
        "def process_word(word):\n",
        "    word = word.strip()\n",
        "    if len(word) == 0:\n",
        "        return []\n",
        "    elif len(word) == 1:\n",
        "        if word not in punctuations:\n",
        "            return [word]\n",
        "        else:\n",
        "            return []\n",
        "    else:\n",
        "        word = remove_url(word)\n",
        "\n",
        "        if len(word) == 0:\n",
        "            return []\n",
        "        elif len(word) == 1:\n",
        "            if word in punctuations:\n",
        "                return []\n",
        "            else:\n",
        "                return [word]\n",
        "        else:\n",
        "            if word[0] in punctuations:\n",
        "                word = word[1:]\n",
        "            if word[-1] in punctuations:\n",
        "                word = word[:-1]\n",
        "\n",
        "            word = extreme_process(word)\n",
        "\n",
        "            return word"
      ]
    },
    {
      "cell_type": "code",
      "execution_count": null,
      "id": "2ba9bcd7",
      "metadata": {
        "execution": {
          "iopub.execute_input": "2023-09-03T08:28:00.453325Z",
          "iopub.status.busy": "2023-09-03T08:28:00.452922Z",
          "iopub.status.idle": "2023-09-03T08:28:00.660592Z",
          "shell.execute_reply": "2023-09-03T08:28:00.659358Z"
        },
        "id": "2ba9bcd7",
        "outputId": "086c071a-f082-44b8-f4c5-4d841da6410d",
        "papermill": {
          "duration": 0.26149,
          "end_time": "2023-09-03T08:28:00.663944",
          "exception": false,
          "start_time": "2023-09-03T08:28:00.402454",
          "status": "completed"
        },
        "tags": [],
        "colab": {
          "base_uri": "https://localhost:8080/",
          "height": 206
        }
      },
      "outputs": [
        {
          "output_type": "execute_result",
          "data": {
            "text/plain": [
              "                                                text     label\n",
              "0  মাননীয় প্রধানমন্ত্রী জননেত্রী দেশরত্ন শেখ হাস...  positive\n",
              "1                         আমরা করে দেখিয়েছি বিশ্বকে   neutral\n",
              "2  আরিচা নগরবাড়ি রুটে ৩৩০০০ ভোল্টেজ বিদ্যুৎ সঞ্চ...  positive\n",
              "3                                 এখন কান্দ টাকা নাই  positive\n",
              "4  দেশ থেকে সিমেন্ট কিনলে তো আর পনের হাজার টাকা ব...   neutral"
            ],
            "text/html": [
              "\n",
              "  <div id=\"df-e581c9ad-5ce7-424a-aa04-f36a91c96a24\" class=\"colab-df-container\">\n",
              "    <div>\n",
              "<style scoped>\n",
              "    .dataframe tbody tr th:only-of-type {\n",
              "        vertical-align: middle;\n",
              "    }\n",
              "\n",
              "    .dataframe tbody tr th {\n",
              "        vertical-align: top;\n",
              "    }\n",
              "\n",
              "    .dataframe thead th {\n",
              "        text-align: right;\n",
              "    }\n",
              "</style>\n",
              "<table border=\"1\" class=\"dataframe\">\n",
              "  <thead>\n",
              "    <tr style=\"text-align: right;\">\n",
              "      <th></th>\n",
              "      <th>text</th>\n",
              "      <th>label</th>\n",
              "    </tr>\n",
              "  </thead>\n",
              "  <tbody>\n",
              "    <tr>\n",
              "      <th>0</th>\n",
              "      <td>মাননীয় প্রধানমন্ত্রী জননেত্রী দেশরত্ন শেখ হাস...</td>\n",
              "      <td>positive</td>\n",
              "    </tr>\n",
              "    <tr>\n",
              "      <th>1</th>\n",
              "      <td>আমরা করে দেখিয়েছি বিশ্বকে</td>\n",
              "      <td>neutral</td>\n",
              "    </tr>\n",
              "    <tr>\n",
              "      <th>2</th>\n",
              "      <td>আরিচা নগরবাড়ি রুটে ৩৩০০০ ভোল্টেজ বিদ্যুৎ সঞ্চ...</td>\n",
              "      <td>positive</td>\n",
              "    </tr>\n",
              "    <tr>\n",
              "      <th>3</th>\n",
              "      <td>এখন কান্দ টাকা নাই</td>\n",
              "      <td>positive</td>\n",
              "    </tr>\n",
              "    <tr>\n",
              "      <th>4</th>\n",
              "      <td>দেশ থেকে সিমেন্ট কিনলে তো আর পনের হাজার টাকা ব...</td>\n",
              "      <td>neutral</td>\n",
              "    </tr>\n",
              "  </tbody>\n",
              "</table>\n",
              "</div>\n",
              "    <div class=\"colab-df-buttons\">\n",
              "\n",
              "  <div class=\"colab-df-container\">\n",
              "    <button class=\"colab-df-convert\" onclick=\"convertToInteractive('df-e581c9ad-5ce7-424a-aa04-f36a91c96a24')\"\n",
              "            title=\"Convert this dataframe to an interactive table.\"\n",
              "            style=\"display:none;\">\n",
              "\n",
              "  <svg xmlns=\"http://www.w3.org/2000/svg\" height=\"24px\" viewBox=\"0 -960 960 960\">\n",
              "    <path d=\"M120-120v-720h720v720H120Zm60-500h600v-160H180v160Zm220 220h160v-160H400v160Zm0 220h160v-160H400v160ZM180-400h160v-160H180v160Zm440 0h160v-160H620v160ZM180-180h160v-160H180v160Zm440 0h160v-160H620v160Z\"/>\n",
              "  </svg>\n",
              "    </button>\n",
              "\n",
              "  <style>\n",
              "    .colab-df-container {\n",
              "      display:flex;\n",
              "      gap: 12px;\n",
              "    }\n",
              "\n",
              "    .colab-df-convert {\n",
              "      background-color: #E8F0FE;\n",
              "      border: none;\n",
              "      border-radius: 50%;\n",
              "      cursor: pointer;\n",
              "      display: none;\n",
              "      fill: #1967D2;\n",
              "      height: 32px;\n",
              "      padding: 0 0 0 0;\n",
              "      width: 32px;\n",
              "    }\n",
              "\n",
              "    .colab-df-convert:hover {\n",
              "      background-color: #E2EBFA;\n",
              "      box-shadow: 0px 1px 2px rgba(60, 64, 67, 0.3), 0px 1px 3px 1px rgba(60, 64, 67, 0.15);\n",
              "      fill: #174EA6;\n",
              "    }\n",
              "\n",
              "    .colab-df-buttons div {\n",
              "      margin-bottom: 4px;\n",
              "    }\n",
              "\n",
              "    [theme=dark] .colab-df-convert {\n",
              "      background-color: #3B4455;\n",
              "      fill: #D2E3FC;\n",
              "    }\n",
              "\n",
              "    [theme=dark] .colab-df-convert:hover {\n",
              "      background-color: #434B5C;\n",
              "      box-shadow: 0px 1px 3px 1px rgba(0, 0, 0, 0.15);\n",
              "      filter: drop-shadow(0px 1px 2px rgba(0, 0, 0, 0.3));\n",
              "      fill: #FFFFFF;\n",
              "    }\n",
              "  </style>\n",
              "\n",
              "    <script>\n",
              "      const buttonEl =\n",
              "        document.querySelector('#df-e581c9ad-5ce7-424a-aa04-f36a91c96a24 button.colab-df-convert');\n",
              "      buttonEl.style.display =\n",
              "        google.colab.kernel.accessAllowed ? 'block' : 'none';\n",
              "\n",
              "      async function convertToInteractive(key) {\n",
              "        const element = document.querySelector('#df-e581c9ad-5ce7-424a-aa04-f36a91c96a24');\n",
              "        const dataTable =\n",
              "          await google.colab.kernel.invokeFunction('convertToInteractive',\n",
              "                                                    [key], {});\n",
              "        if (!dataTable) return;\n",
              "\n",
              "        const docLinkHtml = 'Like what you see? Visit the ' +\n",
              "          '<a target=\"_blank\" href=https://colab.research.google.com/notebooks/data_table.ipynb>data table notebook</a>'\n",
              "          + ' to learn more about interactive tables.';\n",
              "        element.innerHTML = '';\n",
              "        dataTable['output_type'] = 'display_data';\n",
              "        await google.colab.output.renderOutput(dataTable, element);\n",
              "        const docLink = document.createElement('div');\n",
              "        docLink.innerHTML = docLinkHtml;\n",
              "        element.appendChild(docLink);\n",
              "      }\n",
              "    </script>\n",
              "  </div>\n",
              "\n",
              "\n",
              "<div id=\"df-9bd80c8d-3a95-4cfb-8053-f7b8bb08e43a\">\n",
              "  <button class=\"colab-df-quickchart\" onclick=\"quickchart('df-9bd80c8d-3a95-4cfb-8053-f7b8bb08e43a')\"\n",
              "            title=\"Suggest charts\"\n",
              "            style=\"display:none;\">\n",
              "\n",
              "<svg xmlns=\"http://www.w3.org/2000/svg\" height=\"24px\"viewBox=\"0 0 24 24\"\n",
              "     width=\"24px\">\n",
              "    <g>\n",
              "        <path d=\"M19 3H5c-1.1 0-2 .9-2 2v14c0 1.1.9 2 2 2h14c1.1 0 2-.9 2-2V5c0-1.1-.9-2-2-2zM9 17H7v-7h2v7zm4 0h-2V7h2v10zm4 0h-2v-4h2v4z\"/>\n",
              "    </g>\n",
              "</svg>\n",
              "  </button>\n",
              "\n",
              "<style>\n",
              "  .colab-df-quickchart {\n",
              "      --bg-color: #E8F0FE;\n",
              "      --fill-color: #1967D2;\n",
              "      --hover-bg-color: #E2EBFA;\n",
              "      --hover-fill-color: #174EA6;\n",
              "      --disabled-fill-color: #AAA;\n",
              "      --disabled-bg-color: #DDD;\n",
              "  }\n",
              "\n",
              "  [theme=dark] .colab-df-quickchart {\n",
              "      --bg-color: #3B4455;\n",
              "      --fill-color: #D2E3FC;\n",
              "      --hover-bg-color: #434B5C;\n",
              "      --hover-fill-color: #FFFFFF;\n",
              "      --disabled-bg-color: #3B4455;\n",
              "      --disabled-fill-color: #666;\n",
              "  }\n",
              "\n",
              "  .colab-df-quickchart {\n",
              "    background-color: var(--bg-color);\n",
              "    border: none;\n",
              "    border-radius: 50%;\n",
              "    cursor: pointer;\n",
              "    display: none;\n",
              "    fill: var(--fill-color);\n",
              "    height: 32px;\n",
              "    padding: 0;\n",
              "    width: 32px;\n",
              "  }\n",
              "\n",
              "  .colab-df-quickchart:hover {\n",
              "    background-color: var(--hover-bg-color);\n",
              "    box-shadow: 0 1px 2px rgba(60, 64, 67, 0.3), 0 1px 3px 1px rgba(60, 64, 67, 0.15);\n",
              "    fill: var(--button-hover-fill-color);\n",
              "  }\n",
              "\n",
              "  .colab-df-quickchart-complete:disabled,\n",
              "  .colab-df-quickchart-complete:disabled:hover {\n",
              "    background-color: var(--disabled-bg-color);\n",
              "    fill: var(--disabled-fill-color);\n",
              "    box-shadow: none;\n",
              "  }\n",
              "\n",
              "  .colab-df-spinner {\n",
              "    border: 2px solid var(--fill-color);\n",
              "    border-color: transparent;\n",
              "    border-bottom-color: var(--fill-color);\n",
              "    animation:\n",
              "      spin 1s steps(1) infinite;\n",
              "  }\n",
              "\n",
              "  @keyframes spin {\n",
              "    0% {\n",
              "      border-color: transparent;\n",
              "      border-bottom-color: var(--fill-color);\n",
              "      border-left-color: var(--fill-color);\n",
              "    }\n",
              "    20% {\n",
              "      border-color: transparent;\n",
              "      border-left-color: var(--fill-color);\n",
              "      border-top-color: var(--fill-color);\n",
              "    }\n",
              "    30% {\n",
              "      border-color: transparent;\n",
              "      border-left-color: var(--fill-color);\n",
              "      border-top-color: var(--fill-color);\n",
              "      border-right-color: var(--fill-color);\n",
              "    }\n",
              "    40% {\n",
              "      border-color: transparent;\n",
              "      border-right-color: var(--fill-color);\n",
              "      border-top-color: var(--fill-color);\n",
              "    }\n",
              "    60% {\n",
              "      border-color: transparent;\n",
              "      border-right-color: var(--fill-color);\n",
              "    }\n",
              "    80% {\n",
              "      border-color: transparent;\n",
              "      border-right-color: var(--fill-color);\n",
              "      border-bottom-color: var(--fill-color);\n",
              "    }\n",
              "    90% {\n",
              "      border-color: transparent;\n",
              "      border-bottom-color: var(--fill-color);\n",
              "    }\n",
              "  }\n",
              "</style>\n",
              "\n",
              "  <script>\n",
              "    async function quickchart(key) {\n",
              "      const quickchartButtonEl =\n",
              "        document.querySelector('#' + key + ' button');\n",
              "      quickchartButtonEl.disabled = true;  // To prevent multiple clicks.\n",
              "      quickchartButtonEl.classList.add('colab-df-spinner');\n",
              "      try {\n",
              "        const charts = await google.colab.kernel.invokeFunction(\n",
              "            'suggestCharts', [key], {});\n",
              "      } catch (error) {\n",
              "        console.error('Error during call to suggestCharts:', error);\n",
              "      }\n",
              "      quickchartButtonEl.classList.remove('colab-df-spinner');\n",
              "      quickchartButtonEl.classList.add('colab-df-quickchart-complete');\n",
              "    }\n",
              "    (() => {\n",
              "      let quickchartButtonEl =\n",
              "        document.querySelector('#df-9bd80c8d-3a95-4cfb-8053-f7b8bb08e43a button');\n",
              "      quickchartButtonEl.style.display =\n",
              "        google.colab.kernel.accessAllowed ? 'block' : 'none';\n",
              "    })();\n",
              "  </script>\n",
              "</div>\n",
              "\n",
              "    </div>\n",
              "  </div>\n"
            ],
            "application/vnd.google.colaboratory.intrinsic+json": {
              "type": "dataframe",
              "variable_name": "train_df",
              "summary": "{\n  \"name\": \"train_df\",\n  \"rows\": 1927,\n  \"fields\": [\n    {\n      \"column\": \"text\",\n      \"properties\": {\n        \"dtype\": \"string\",\n        \"num_unique_values\": 1927,\n        \"samples\": [\n          \"\\u09b8\\u09c1\\u09a8\\u09cd\\u09a6\\u09b0 \\u0986\\u09b2\\u09cb\\u099a\\u09a8\\u09be\\u0964\",\n          \"chapabaj league er chapabaji chalie jabei. nijer takai kora bridge er kisti ka ke pay korte hoce kono ans ni\",\n          \"\\u09b6\\u09be\\u09b2\\u09be \\u09a4\\u09c1\\u0987 \\u0995\\u09c7\\u09a1\\u09be\"\n        ],\n        \"semantic_type\": \"\",\n        \"description\": \"\"\n      }\n    },\n    {\n      \"column\": \"label\",\n      \"properties\": {\n        \"dtype\": \"category\",\n        \"num_unique_values\": 3,\n        \"samples\": [\n          \"positive\",\n          \"neutral\",\n          \"negative\"\n        ],\n        \"semantic_type\": \"\",\n        \"description\": \"\"\n      }\n    }\n  ]\n}"
            }
          },
          "metadata": {},
          "execution_count": 43
        }
      ],
      "source": [
        "# l2id = {'Positive': 2, 'Neutral': 1, 'Negative': 0}\n",
        "# train_df = pd.read_csv(train_file, sep='\\t')\n",
        "# #print(train_df.head())\n",
        "# train_df.head()\n",
        "\n",
        "\n",
        "import pandas as pd\n",
        "\n",
        "l2id = {'positive': 2, 'neutral': 1, 'negative': 0}\n",
        "# Load the Excel file instead of a CSV file\n",
        "train_df = pd.read_excel(train_file)  # Replace with your actual file path\n",
        "#print(train_df.head())\n",
        "train_df.head()\n"
      ]
    },
    {
      "cell_type": "code",
      "source": [
        "train_df.head()"
      ],
      "metadata": {
        "colab": {
          "base_uri": "https://localhost:8080/",
          "height": 206
        },
        "id": "VXhhy8W_aRin",
        "outputId": "21f8b896-b328-41c9-d1c5-8bb5bae5c6f6"
      },
      "id": "VXhhy8W_aRin",
      "execution_count": null,
      "outputs": [
        {
          "output_type": "execute_result",
          "data": {
            "text/plain": [
              "                                                text     label\n",
              "0  মাননীয় প্রধানমন্ত্রী জননেত্রী দেশরত্ন শেখ হাস...  positive\n",
              "1                         আমরা করে দেখিয়েছি বিশ্বকে   neutral\n",
              "2  আরিচা নগরবাড়ি রুটে ৩৩০০০ ভোল্টেজ বিদ্যুৎ সঞ্চ...  positive\n",
              "3                                 এখন কান্দ টাকা নাই  positive\n",
              "4  দেশ থেকে সিমেন্ট কিনলে তো আর পনের হাজার টাকা ব...   neutral"
            ],
            "text/html": [
              "\n",
              "  <div id=\"df-d972619e-5006-4a24-a938-638f88c19a8c\" class=\"colab-df-container\">\n",
              "    <div>\n",
              "<style scoped>\n",
              "    .dataframe tbody tr th:only-of-type {\n",
              "        vertical-align: middle;\n",
              "    }\n",
              "\n",
              "    .dataframe tbody tr th {\n",
              "        vertical-align: top;\n",
              "    }\n",
              "\n",
              "    .dataframe thead th {\n",
              "        text-align: right;\n",
              "    }\n",
              "</style>\n",
              "<table border=\"1\" class=\"dataframe\">\n",
              "  <thead>\n",
              "    <tr style=\"text-align: right;\">\n",
              "      <th></th>\n",
              "      <th>text</th>\n",
              "      <th>label</th>\n",
              "    </tr>\n",
              "  </thead>\n",
              "  <tbody>\n",
              "    <tr>\n",
              "      <th>0</th>\n",
              "      <td>মাননীয় প্রধানমন্ত্রী জননেত্রী দেশরত্ন শেখ হাস...</td>\n",
              "      <td>positive</td>\n",
              "    </tr>\n",
              "    <tr>\n",
              "      <th>1</th>\n",
              "      <td>আমরা করে দেখিয়েছি বিশ্বকে</td>\n",
              "      <td>neutral</td>\n",
              "    </tr>\n",
              "    <tr>\n",
              "      <th>2</th>\n",
              "      <td>আরিচা নগরবাড়ি রুটে ৩৩০০০ ভোল্টেজ বিদ্যুৎ সঞ্চ...</td>\n",
              "      <td>positive</td>\n",
              "    </tr>\n",
              "    <tr>\n",
              "      <th>3</th>\n",
              "      <td>এখন কান্দ টাকা নাই</td>\n",
              "      <td>positive</td>\n",
              "    </tr>\n",
              "    <tr>\n",
              "      <th>4</th>\n",
              "      <td>দেশ থেকে সিমেন্ট কিনলে তো আর পনের হাজার টাকা ব...</td>\n",
              "      <td>neutral</td>\n",
              "    </tr>\n",
              "  </tbody>\n",
              "</table>\n",
              "</div>\n",
              "    <div class=\"colab-df-buttons\">\n",
              "\n",
              "  <div class=\"colab-df-container\">\n",
              "    <button class=\"colab-df-convert\" onclick=\"convertToInteractive('df-d972619e-5006-4a24-a938-638f88c19a8c')\"\n",
              "            title=\"Convert this dataframe to an interactive table.\"\n",
              "            style=\"display:none;\">\n",
              "\n",
              "  <svg xmlns=\"http://www.w3.org/2000/svg\" height=\"24px\" viewBox=\"0 -960 960 960\">\n",
              "    <path d=\"M120-120v-720h720v720H120Zm60-500h600v-160H180v160Zm220 220h160v-160H400v160Zm0 220h160v-160H400v160ZM180-400h160v-160H180v160Zm440 0h160v-160H620v160ZM180-180h160v-160H180v160Zm440 0h160v-160H620v160Z\"/>\n",
              "  </svg>\n",
              "    </button>\n",
              "\n",
              "  <style>\n",
              "    .colab-df-container {\n",
              "      display:flex;\n",
              "      gap: 12px;\n",
              "    }\n",
              "\n",
              "    .colab-df-convert {\n",
              "      background-color: #E8F0FE;\n",
              "      border: none;\n",
              "      border-radius: 50%;\n",
              "      cursor: pointer;\n",
              "      display: none;\n",
              "      fill: #1967D2;\n",
              "      height: 32px;\n",
              "      padding: 0 0 0 0;\n",
              "      width: 32px;\n",
              "    }\n",
              "\n",
              "    .colab-df-convert:hover {\n",
              "      background-color: #E2EBFA;\n",
              "      box-shadow: 0px 1px 2px rgba(60, 64, 67, 0.3), 0px 1px 3px 1px rgba(60, 64, 67, 0.15);\n",
              "      fill: #174EA6;\n",
              "    }\n",
              "\n",
              "    .colab-df-buttons div {\n",
              "      margin-bottom: 4px;\n",
              "    }\n",
              "\n",
              "    [theme=dark] .colab-df-convert {\n",
              "      background-color: #3B4455;\n",
              "      fill: #D2E3FC;\n",
              "    }\n",
              "\n",
              "    [theme=dark] .colab-df-convert:hover {\n",
              "      background-color: #434B5C;\n",
              "      box-shadow: 0px 1px 3px 1px rgba(0, 0, 0, 0.15);\n",
              "      filter: drop-shadow(0px 1px 2px rgba(0, 0, 0, 0.3));\n",
              "      fill: #FFFFFF;\n",
              "    }\n",
              "  </style>\n",
              "\n",
              "    <script>\n",
              "      const buttonEl =\n",
              "        document.querySelector('#df-d972619e-5006-4a24-a938-638f88c19a8c button.colab-df-convert');\n",
              "      buttonEl.style.display =\n",
              "        google.colab.kernel.accessAllowed ? 'block' : 'none';\n",
              "\n",
              "      async function convertToInteractive(key) {\n",
              "        const element = document.querySelector('#df-d972619e-5006-4a24-a938-638f88c19a8c');\n",
              "        const dataTable =\n",
              "          await google.colab.kernel.invokeFunction('convertToInteractive',\n",
              "                                                    [key], {});\n",
              "        if (!dataTable) return;\n",
              "\n",
              "        const docLinkHtml = 'Like what you see? Visit the ' +\n",
              "          '<a target=\"_blank\" href=https://colab.research.google.com/notebooks/data_table.ipynb>data table notebook</a>'\n",
              "          + ' to learn more about interactive tables.';\n",
              "        element.innerHTML = '';\n",
              "        dataTable['output_type'] = 'display_data';\n",
              "        await google.colab.output.renderOutput(dataTable, element);\n",
              "        const docLink = document.createElement('div');\n",
              "        docLink.innerHTML = docLinkHtml;\n",
              "        element.appendChild(docLink);\n",
              "      }\n",
              "    </script>\n",
              "  </div>\n",
              "\n",
              "\n",
              "<div id=\"df-6ea6a3c5-f2c5-47ad-b0d1-5bebab8a7830\">\n",
              "  <button class=\"colab-df-quickchart\" onclick=\"quickchart('df-6ea6a3c5-f2c5-47ad-b0d1-5bebab8a7830')\"\n",
              "            title=\"Suggest charts\"\n",
              "            style=\"display:none;\">\n",
              "\n",
              "<svg xmlns=\"http://www.w3.org/2000/svg\" height=\"24px\"viewBox=\"0 0 24 24\"\n",
              "     width=\"24px\">\n",
              "    <g>\n",
              "        <path d=\"M19 3H5c-1.1 0-2 .9-2 2v14c0 1.1.9 2 2 2h14c1.1 0 2-.9 2-2V5c0-1.1-.9-2-2-2zM9 17H7v-7h2v7zm4 0h-2V7h2v10zm4 0h-2v-4h2v4z\"/>\n",
              "    </g>\n",
              "</svg>\n",
              "  </button>\n",
              "\n",
              "<style>\n",
              "  .colab-df-quickchart {\n",
              "      --bg-color: #E8F0FE;\n",
              "      --fill-color: #1967D2;\n",
              "      --hover-bg-color: #E2EBFA;\n",
              "      --hover-fill-color: #174EA6;\n",
              "      --disabled-fill-color: #AAA;\n",
              "      --disabled-bg-color: #DDD;\n",
              "  }\n",
              "\n",
              "  [theme=dark] .colab-df-quickchart {\n",
              "      --bg-color: #3B4455;\n",
              "      --fill-color: #D2E3FC;\n",
              "      --hover-bg-color: #434B5C;\n",
              "      --hover-fill-color: #FFFFFF;\n",
              "      --disabled-bg-color: #3B4455;\n",
              "      --disabled-fill-color: #666;\n",
              "  }\n",
              "\n",
              "  .colab-df-quickchart {\n",
              "    background-color: var(--bg-color);\n",
              "    border: none;\n",
              "    border-radius: 50%;\n",
              "    cursor: pointer;\n",
              "    display: none;\n",
              "    fill: var(--fill-color);\n",
              "    height: 32px;\n",
              "    padding: 0;\n",
              "    width: 32px;\n",
              "  }\n",
              "\n",
              "  .colab-df-quickchart:hover {\n",
              "    background-color: var(--hover-bg-color);\n",
              "    box-shadow: 0 1px 2px rgba(60, 64, 67, 0.3), 0 1px 3px 1px rgba(60, 64, 67, 0.15);\n",
              "    fill: var(--button-hover-fill-color);\n",
              "  }\n",
              "\n",
              "  .colab-df-quickchart-complete:disabled,\n",
              "  .colab-df-quickchart-complete:disabled:hover {\n",
              "    background-color: var(--disabled-bg-color);\n",
              "    fill: var(--disabled-fill-color);\n",
              "    box-shadow: none;\n",
              "  }\n",
              "\n",
              "  .colab-df-spinner {\n",
              "    border: 2px solid var(--fill-color);\n",
              "    border-color: transparent;\n",
              "    border-bottom-color: var(--fill-color);\n",
              "    animation:\n",
              "      spin 1s steps(1) infinite;\n",
              "  }\n",
              "\n",
              "  @keyframes spin {\n",
              "    0% {\n",
              "      border-color: transparent;\n",
              "      border-bottom-color: var(--fill-color);\n",
              "      border-left-color: var(--fill-color);\n",
              "    }\n",
              "    20% {\n",
              "      border-color: transparent;\n",
              "      border-left-color: var(--fill-color);\n",
              "      border-top-color: var(--fill-color);\n",
              "    }\n",
              "    30% {\n",
              "      border-color: transparent;\n",
              "      border-left-color: var(--fill-color);\n",
              "      border-top-color: var(--fill-color);\n",
              "      border-right-color: var(--fill-color);\n",
              "    }\n",
              "    40% {\n",
              "      border-color: transparent;\n",
              "      border-right-color: var(--fill-color);\n",
              "      border-top-color: var(--fill-color);\n",
              "    }\n",
              "    60% {\n",
              "      border-color: transparent;\n",
              "      border-right-color: var(--fill-color);\n",
              "    }\n",
              "    80% {\n",
              "      border-color: transparent;\n",
              "      border-right-color: var(--fill-color);\n",
              "      border-bottom-color: var(--fill-color);\n",
              "    }\n",
              "    90% {\n",
              "      border-color: transparent;\n",
              "      border-bottom-color: var(--fill-color);\n",
              "    }\n",
              "  }\n",
              "</style>\n",
              "\n",
              "  <script>\n",
              "    async function quickchart(key) {\n",
              "      const quickchartButtonEl =\n",
              "        document.querySelector('#' + key + ' button');\n",
              "      quickchartButtonEl.disabled = true;  // To prevent multiple clicks.\n",
              "      quickchartButtonEl.classList.add('colab-df-spinner');\n",
              "      try {\n",
              "        const charts = await google.colab.kernel.invokeFunction(\n",
              "            'suggestCharts', [key], {});\n",
              "      } catch (error) {\n",
              "        console.error('Error during call to suggestCharts:', error);\n",
              "      }\n",
              "      quickchartButtonEl.classList.remove('colab-df-spinner');\n",
              "      quickchartButtonEl.classList.add('colab-df-quickchart-complete');\n",
              "    }\n",
              "    (() => {\n",
              "      let quickchartButtonEl =\n",
              "        document.querySelector('#df-6ea6a3c5-f2c5-47ad-b0d1-5bebab8a7830 button');\n",
              "      quickchartButtonEl.style.display =\n",
              "        google.colab.kernel.accessAllowed ? 'block' : 'none';\n",
              "    })();\n",
              "  </script>\n",
              "</div>\n",
              "\n",
              "    </div>\n",
              "  </div>\n"
            ],
            "application/vnd.google.colaboratory.intrinsic+json": {
              "type": "dataframe",
              "variable_name": "train_df",
              "summary": "{\n  \"name\": \"train_df\",\n  \"rows\": 1927,\n  \"fields\": [\n    {\n      \"column\": \"text\",\n      \"properties\": {\n        \"dtype\": \"string\",\n        \"num_unique_values\": 1927,\n        \"samples\": [\n          \"\\u09b8\\u09c1\\u09a8\\u09cd\\u09a6\\u09b0 \\u0986\\u09b2\\u09cb\\u099a\\u09a8\\u09be\\u0964\",\n          \"chapabaj league er chapabaji chalie jabei. nijer takai kora bridge er kisti ka ke pay korte hoce kono ans ni\",\n          \"\\u09b6\\u09be\\u09b2\\u09be \\u09a4\\u09c1\\u0987 \\u0995\\u09c7\\u09a1\\u09be\"\n        ],\n        \"semantic_type\": \"\",\n        \"description\": \"\"\n      }\n    },\n    {\n      \"column\": \"label\",\n      \"properties\": {\n        \"dtype\": \"category\",\n        \"num_unique_values\": 3,\n        \"samples\": [\n          \"positive\",\n          \"neutral\",\n          \"negative\"\n        ],\n        \"semantic_type\": \"\",\n        \"description\": \"\"\n      }\n    }\n  ]\n}"
            }
          },
          "metadata": {},
          "execution_count": 45
        }
      ]
    },
    {
      "cell_type": "code",
      "execution_count": null,
      "id": "4367c11b",
      "metadata": {
        "execution": {
          "iopub.execute_input": "2023-09-03T08:28:00.760407Z",
          "iopub.status.busy": "2023-09-03T08:28:00.759964Z",
          "iopub.status.idle": "2023-09-03T08:28:05.552166Z",
          "shell.execute_reply": "2023-09-03T08:28:05.551162Z"
        },
        "id": "4367c11b",
        "papermill": {
          "duration": 4.842507,
          "end_time": "2023-09-03T08:28:05.554678",
          "exception": false,
          "start_time": "2023-09-03T08:28:00.712171",
          "status": "completed"
        },
        "tags": []
      },
      "outputs": [],
      "source": [
        "for index, row in train_df.iterrows():\n",
        "    unprocessed_spliited_word = row[\"text\"].split(\" \")\n",
        "    processed_word_list = []\n",
        "    for i in unprocessed_spliited_word:\n",
        "        processed_word_list += process_word(i)\n",
        "    train_df.at[index, \"text\"] = \" \".join(processed_word_list)"
      ]
    },
    {
      "cell_type": "code",
      "execution_count": null,
      "id": "8efd4635",
      "metadata": {
        "execution": {
          "iopub.execute_input": "2023-09-03T08:28:05.650301Z",
          "iopub.status.busy": "2023-09-03T08:28:05.649935Z",
          "iopub.status.idle": "2023-09-03T08:28:05.669090Z",
          "shell.execute_reply": "2023-09-03T08:28:05.667589Z"
        },
        "id": "8efd4635",
        "outputId": "e57915fc-b0b6-4e23-f39e-74e854a4f4cc",
        "papermill": {
          "duration": 0.069452,
          "end_time": "2023-09-03T08:28:05.671683",
          "exception": false,
          "start_time": "2023-09-03T08:28:05.602231",
          "status": "completed"
        },
        "tags": [],
        "colab": {
          "base_uri": "https://localhost:8080/",
          "height": 206
        }
      },
      "outputs": [
        {
          "output_type": "execute_result",
          "data": {
            "text/plain": [
              "                                                text  label\n",
              "0  মাননীয় প্রধানমন্ত্রী জননেত্রী দেশরত্ন শেখ হাস...      2\n",
              "1                         আমরা করে দেখিয়েছি বিশ্বকে      1\n",
              "2  আরিচা নগরবাড়ি রুটে ৩৩০০০ ভোল্টেজ বিদ্যুৎ সঞ্চ...      2\n",
              "3                                 এখন কান্দ টাকা নাই      2\n",
              "4  দেশ থেকে সিমেন্ট কিনলে তো আর পনের হাজার টাকা ব...      1"
            ],
            "text/html": [
              "\n",
              "  <div id=\"df-e167e9ec-1261-4ffe-aa95-8237c6a770ec\" class=\"colab-df-container\">\n",
              "    <div>\n",
              "<style scoped>\n",
              "    .dataframe tbody tr th:only-of-type {\n",
              "        vertical-align: middle;\n",
              "    }\n",
              "\n",
              "    .dataframe tbody tr th {\n",
              "        vertical-align: top;\n",
              "    }\n",
              "\n",
              "    .dataframe thead th {\n",
              "        text-align: right;\n",
              "    }\n",
              "</style>\n",
              "<table border=\"1\" class=\"dataframe\">\n",
              "  <thead>\n",
              "    <tr style=\"text-align: right;\">\n",
              "      <th></th>\n",
              "      <th>text</th>\n",
              "      <th>label</th>\n",
              "    </tr>\n",
              "  </thead>\n",
              "  <tbody>\n",
              "    <tr>\n",
              "      <th>0</th>\n",
              "      <td>মাননীয় প্রধানমন্ত্রী জননেত্রী দেশরত্ন শেখ হাস...</td>\n",
              "      <td>2</td>\n",
              "    </tr>\n",
              "    <tr>\n",
              "      <th>1</th>\n",
              "      <td>আমরা করে দেখিয়েছি বিশ্বকে</td>\n",
              "      <td>1</td>\n",
              "    </tr>\n",
              "    <tr>\n",
              "      <th>2</th>\n",
              "      <td>আরিচা নগরবাড়ি রুটে ৩৩০০০ ভোল্টেজ বিদ্যুৎ সঞ্চ...</td>\n",
              "      <td>2</td>\n",
              "    </tr>\n",
              "    <tr>\n",
              "      <th>3</th>\n",
              "      <td>এখন কান্দ টাকা নাই</td>\n",
              "      <td>2</td>\n",
              "    </tr>\n",
              "    <tr>\n",
              "      <th>4</th>\n",
              "      <td>দেশ থেকে সিমেন্ট কিনলে তো আর পনের হাজার টাকা ব...</td>\n",
              "      <td>1</td>\n",
              "    </tr>\n",
              "  </tbody>\n",
              "</table>\n",
              "</div>\n",
              "    <div class=\"colab-df-buttons\">\n",
              "\n",
              "  <div class=\"colab-df-container\">\n",
              "    <button class=\"colab-df-convert\" onclick=\"convertToInteractive('df-e167e9ec-1261-4ffe-aa95-8237c6a770ec')\"\n",
              "            title=\"Convert this dataframe to an interactive table.\"\n",
              "            style=\"display:none;\">\n",
              "\n",
              "  <svg xmlns=\"http://www.w3.org/2000/svg\" height=\"24px\" viewBox=\"0 -960 960 960\">\n",
              "    <path d=\"M120-120v-720h720v720H120Zm60-500h600v-160H180v160Zm220 220h160v-160H400v160Zm0 220h160v-160H400v160ZM180-400h160v-160H180v160Zm440 0h160v-160H620v160ZM180-180h160v-160H180v160Zm440 0h160v-160H620v160Z\"/>\n",
              "  </svg>\n",
              "    </button>\n",
              "\n",
              "  <style>\n",
              "    .colab-df-container {\n",
              "      display:flex;\n",
              "      gap: 12px;\n",
              "    }\n",
              "\n",
              "    .colab-df-convert {\n",
              "      background-color: #E8F0FE;\n",
              "      border: none;\n",
              "      border-radius: 50%;\n",
              "      cursor: pointer;\n",
              "      display: none;\n",
              "      fill: #1967D2;\n",
              "      height: 32px;\n",
              "      padding: 0 0 0 0;\n",
              "      width: 32px;\n",
              "    }\n",
              "\n",
              "    .colab-df-convert:hover {\n",
              "      background-color: #E2EBFA;\n",
              "      box-shadow: 0px 1px 2px rgba(60, 64, 67, 0.3), 0px 1px 3px 1px rgba(60, 64, 67, 0.15);\n",
              "      fill: #174EA6;\n",
              "    }\n",
              "\n",
              "    .colab-df-buttons div {\n",
              "      margin-bottom: 4px;\n",
              "    }\n",
              "\n",
              "    [theme=dark] .colab-df-convert {\n",
              "      background-color: #3B4455;\n",
              "      fill: #D2E3FC;\n",
              "    }\n",
              "\n",
              "    [theme=dark] .colab-df-convert:hover {\n",
              "      background-color: #434B5C;\n",
              "      box-shadow: 0px 1px 3px 1px rgba(0, 0, 0, 0.15);\n",
              "      filter: drop-shadow(0px 1px 2px rgba(0, 0, 0, 0.3));\n",
              "      fill: #FFFFFF;\n",
              "    }\n",
              "  </style>\n",
              "\n",
              "    <script>\n",
              "      const buttonEl =\n",
              "        document.querySelector('#df-e167e9ec-1261-4ffe-aa95-8237c6a770ec button.colab-df-convert');\n",
              "      buttonEl.style.display =\n",
              "        google.colab.kernel.accessAllowed ? 'block' : 'none';\n",
              "\n",
              "      async function convertToInteractive(key) {\n",
              "        const element = document.querySelector('#df-e167e9ec-1261-4ffe-aa95-8237c6a770ec');\n",
              "        const dataTable =\n",
              "          await google.colab.kernel.invokeFunction('convertToInteractive',\n",
              "                                                    [key], {});\n",
              "        if (!dataTable) return;\n",
              "\n",
              "        const docLinkHtml = 'Like what you see? Visit the ' +\n",
              "          '<a target=\"_blank\" href=https://colab.research.google.com/notebooks/data_table.ipynb>data table notebook</a>'\n",
              "          + ' to learn more about interactive tables.';\n",
              "        element.innerHTML = '';\n",
              "        dataTable['output_type'] = 'display_data';\n",
              "        await google.colab.output.renderOutput(dataTable, element);\n",
              "        const docLink = document.createElement('div');\n",
              "        docLink.innerHTML = docLinkHtml;\n",
              "        element.appendChild(docLink);\n",
              "      }\n",
              "    </script>\n",
              "  </div>\n",
              "\n",
              "\n",
              "<div id=\"df-e16b8b86-b08f-4c22-97d7-136a876e4e4f\">\n",
              "  <button class=\"colab-df-quickchart\" onclick=\"quickchart('df-e16b8b86-b08f-4c22-97d7-136a876e4e4f')\"\n",
              "            title=\"Suggest charts\"\n",
              "            style=\"display:none;\">\n",
              "\n",
              "<svg xmlns=\"http://www.w3.org/2000/svg\" height=\"24px\"viewBox=\"0 0 24 24\"\n",
              "     width=\"24px\">\n",
              "    <g>\n",
              "        <path d=\"M19 3H5c-1.1 0-2 .9-2 2v14c0 1.1.9 2 2 2h14c1.1 0 2-.9 2-2V5c0-1.1-.9-2-2-2zM9 17H7v-7h2v7zm4 0h-2V7h2v10zm4 0h-2v-4h2v4z\"/>\n",
              "    </g>\n",
              "</svg>\n",
              "  </button>\n",
              "\n",
              "<style>\n",
              "  .colab-df-quickchart {\n",
              "      --bg-color: #E8F0FE;\n",
              "      --fill-color: #1967D2;\n",
              "      --hover-bg-color: #E2EBFA;\n",
              "      --hover-fill-color: #174EA6;\n",
              "      --disabled-fill-color: #AAA;\n",
              "      --disabled-bg-color: #DDD;\n",
              "  }\n",
              "\n",
              "  [theme=dark] .colab-df-quickchart {\n",
              "      --bg-color: #3B4455;\n",
              "      --fill-color: #D2E3FC;\n",
              "      --hover-bg-color: #434B5C;\n",
              "      --hover-fill-color: #FFFFFF;\n",
              "      --disabled-bg-color: #3B4455;\n",
              "      --disabled-fill-color: #666;\n",
              "  }\n",
              "\n",
              "  .colab-df-quickchart {\n",
              "    background-color: var(--bg-color);\n",
              "    border: none;\n",
              "    border-radius: 50%;\n",
              "    cursor: pointer;\n",
              "    display: none;\n",
              "    fill: var(--fill-color);\n",
              "    height: 32px;\n",
              "    padding: 0;\n",
              "    width: 32px;\n",
              "  }\n",
              "\n",
              "  .colab-df-quickchart:hover {\n",
              "    background-color: var(--hover-bg-color);\n",
              "    box-shadow: 0 1px 2px rgba(60, 64, 67, 0.3), 0 1px 3px 1px rgba(60, 64, 67, 0.15);\n",
              "    fill: var(--button-hover-fill-color);\n",
              "  }\n",
              "\n",
              "  .colab-df-quickchart-complete:disabled,\n",
              "  .colab-df-quickchart-complete:disabled:hover {\n",
              "    background-color: var(--disabled-bg-color);\n",
              "    fill: var(--disabled-fill-color);\n",
              "    box-shadow: none;\n",
              "  }\n",
              "\n",
              "  .colab-df-spinner {\n",
              "    border: 2px solid var(--fill-color);\n",
              "    border-color: transparent;\n",
              "    border-bottom-color: var(--fill-color);\n",
              "    animation:\n",
              "      spin 1s steps(1) infinite;\n",
              "  }\n",
              "\n",
              "  @keyframes spin {\n",
              "    0% {\n",
              "      border-color: transparent;\n",
              "      border-bottom-color: var(--fill-color);\n",
              "      border-left-color: var(--fill-color);\n",
              "    }\n",
              "    20% {\n",
              "      border-color: transparent;\n",
              "      border-left-color: var(--fill-color);\n",
              "      border-top-color: var(--fill-color);\n",
              "    }\n",
              "    30% {\n",
              "      border-color: transparent;\n",
              "      border-left-color: var(--fill-color);\n",
              "      border-top-color: var(--fill-color);\n",
              "      border-right-color: var(--fill-color);\n",
              "    }\n",
              "    40% {\n",
              "      border-color: transparent;\n",
              "      border-right-color: var(--fill-color);\n",
              "      border-top-color: var(--fill-color);\n",
              "    }\n",
              "    60% {\n",
              "      border-color: transparent;\n",
              "      border-right-color: var(--fill-color);\n",
              "    }\n",
              "    80% {\n",
              "      border-color: transparent;\n",
              "      border-right-color: var(--fill-color);\n",
              "      border-bottom-color: var(--fill-color);\n",
              "    }\n",
              "    90% {\n",
              "      border-color: transparent;\n",
              "      border-bottom-color: var(--fill-color);\n",
              "    }\n",
              "  }\n",
              "</style>\n",
              "\n",
              "  <script>\n",
              "    async function quickchart(key) {\n",
              "      const quickchartButtonEl =\n",
              "        document.querySelector('#' + key + ' button');\n",
              "      quickchartButtonEl.disabled = true;  // To prevent multiple clicks.\n",
              "      quickchartButtonEl.classList.add('colab-df-spinner');\n",
              "      try {\n",
              "        const charts = await google.colab.kernel.invokeFunction(\n",
              "            'suggestCharts', [key], {});\n",
              "      } catch (error) {\n",
              "        console.error('Error during call to suggestCharts:', error);\n",
              "      }\n",
              "      quickchartButtonEl.classList.remove('colab-df-spinner');\n",
              "      quickchartButtonEl.classList.add('colab-df-quickchart-complete');\n",
              "    }\n",
              "    (() => {\n",
              "      let quickchartButtonEl =\n",
              "        document.querySelector('#df-e16b8b86-b08f-4c22-97d7-136a876e4e4f button');\n",
              "      quickchartButtonEl.style.display =\n",
              "        google.colab.kernel.accessAllowed ? 'block' : 'none';\n",
              "    })();\n",
              "  </script>\n",
              "</div>\n",
              "\n",
              "    </div>\n",
              "  </div>\n"
            ],
            "application/vnd.google.colaboratory.intrinsic+json": {
              "type": "dataframe",
              "variable_name": "train_df",
              "summary": "{\n  \"name\": \"train_df\",\n  \"rows\": 1927,\n  \"fields\": [\n    {\n      \"column\": \"text\",\n      \"properties\": {\n        \"dtype\": \"string\",\n        \"num_unique_values\": 1917,\n        \"samples\": [\n          \"\\u09a7\\u09a8\\u09cd\\u09af\\u09ac\\u09be\\u09a6\",\n          \"That is an arrogant question\",\n          \"\\u09b8\\u09c1\\u09a6\\u0996\\u09cb\\u09b0 \\u0987\\u0989\\u09a8\\u09c1\\u09a2\\u09c7\\u09b0 \\u09a8\\u09be\\u09ae\\u09c7 \\u09b0\\u09be\\u09b7\\u09cd\\u099f\\u09cd\\u09b0\\u09a6\\u09cd\\u09b0\\u09cb\\u09b9 \\u09ae\\u09be\\u09ae\\u09b2\\u09be \\u0995\\u09b0\\u09be \\u09b9\\u09cb\\u0995 \\u098f\\u09ac\\u0982 \\u0990 \\u0995\\u09c1\\u0995\\u09c1\\u09b0 \\u0995\\u09c7 \\u09ab\\u09be\\u0981\\u09b8\\u09bf\\u09b0 \\u09a6\\u09a1\\u09bc\\u09bf\\u09a4\\u09c7 \\u099d\\u09c1\\u09b2\\u09bf\\u09af\\u09bc\\u09c7 \\u09a6\\u09c3\\u09b7\\u09cd\\u099f\\u09be\\u09a8\\u09cd\\u09a4 \\u09ae\\u09c1\\u09b2\\u0995 \\u09b8\\u09be\\u099c\\u09be \\u09a6\\u09c7\\u0996\\u09a4\\u09c7 \\u099a\\u09be\\u0987\"\n        ],\n        \"semantic_type\": \"\",\n        \"description\": \"\"\n      }\n    },\n    {\n      \"column\": \"label\",\n      \"properties\": {\n        \"dtype\": \"number\",\n        \"std\": 0,\n        \"min\": 0,\n        \"max\": 2,\n        \"num_unique_values\": 3,\n        \"samples\": [\n          2,\n          1,\n          0\n        ],\n        \"semantic_type\": \"\",\n        \"description\": \"\"\n      }\n    }\n  ]\n}"
            }
          },
          "metadata": {},
          "execution_count": 47
        }
      ],
      "source": [
        "train_df['label'] = train_df['label'].map(l2id)\n",
        "train_df.head()"
      ]
    },
    {
      "cell_type": "code",
      "execution_count": null,
      "id": "3d6d9952",
      "metadata": {
        "execution": {
          "iopub.execute_input": "2023-09-03T08:28:05.766895Z",
          "iopub.status.busy": "2023-09-03T08:28:05.766487Z",
          "iopub.status.idle": "2023-09-03T08:28:05.824860Z",
          "shell.execute_reply": "2023-09-03T08:28:05.823274Z"
        },
        "id": "3d6d9952",
        "outputId": "1dc3f50a-a98e-4c01-dc7b-01c0058c4197",
        "papermill": {
          "duration": 0.108523,
          "end_time": "2023-09-03T08:28:05.827129",
          "exception": false,
          "start_time": "2023-09-03T08:28:05.718606",
          "status": "completed"
        },
        "tags": [],
        "colab": {
          "base_uri": "https://localhost:8080/"
        }
      },
      "outputs": [
        {
          "output_type": "stream",
          "name": "stdout",
          "text": [
            "Dataset({\n",
            "    features: ['text', 'label'],\n",
            "    num_rows: 1927\n",
            "})\n"
          ]
        }
      ],
      "source": [
        "train_df = Dataset.from_pandas(train_df)\n",
        "print(train_df)"
      ]
    },
    {
      "cell_type": "code",
      "execution_count": null,
      "id": "f78c8098",
      "metadata": {
        "execution": {
          "iopub.execute_input": "2023-09-03T08:28:05.922311Z",
          "iopub.status.busy": "2023-09-03T08:28:05.921941Z",
          "iopub.status.idle": "2023-09-03T08:28:06.488204Z",
          "shell.execute_reply": "2023-09-03T08:28:06.487245Z"
        },
        "id": "f78c8098",
        "papermill": {
          "duration": 0.617027,
          "end_time": "2023-09-03T08:28:06.490769",
          "exception": false,
          "start_time": "2023-09-03T08:28:05.873742",
          "status": "completed"
        },
        "tags": []
      },
      "outputs": [],
      "source": [
        "validation_df = pd.read_excel(validation_file)\n",
        "validation_df=validation_df[:1000]\n",
        "for index, row in validation_df.iterrows():\n",
        "    unprocessed_spliited_word = row[\"text\"].split(\" \")\n",
        "    processed_word_list = []\n",
        "    for i in unprocessed_spliited_word:\n",
        "        processed_word_list += process_word(i)\n",
        "    validation_df.at[index, \"text\"] = \" \".join(processed_word_list)"
      ]
    },
    {
      "cell_type": "code",
      "execution_count": null,
      "id": "f00940b2",
      "metadata": {
        "execution": {
          "iopub.execute_input": "2023-09-03T08:28:06.587395Z",
          "iopub.status.busy": "2023-09-03T08:28:06.586719Z",
          "iopub.status.idle": "2023-09-03T08:28:06.600598Z",
          "shell.execute_reply": "2023-09-03T08:28:06.599705Z"
        },
        "id": "f00940b2",
        "outputId": "866e9417-e1e0-4d9c-d197-4b0dd1e17831",
        "papermill": {
          "duration": 0.064454,
          "end_time": "2023-09-03T08:28:06.602605",
          "exception": false,
          "start_time": "2023-09-03T08:28:06.538151",
          "status": "completed"
        },
        "tags": [],
        "colab": {
          "base_uri": "https://localhost:8080/",
          "height": 206
        }
      },
      "outputs": [
        {
          "output_type": "execute_result",
          "data": {
            "text/plain": [
              "                                                text     label\n",
              "0  মাননীয় প্রধানমন্ত্রী জননেত্রী দেশরত্ন শেখ হাস...  positive\n",
              "1                         আমরা করে দেখিয়েছি বিশ্বকে   neutral\n",
              "2  আরিচা নগরবাড়ি রুটে ৩৩০০০ ভোল্টেজ বিদ্যুৎ সঞ্চ...  positive\n",
              "3                                 এখন কান্দ টাকা নাই  positive\n",
              "4  দেশ থেকে সিমেন্ট কিনলে তো আর পনের হাজার টাকা ব...   neutral"
            ],
            "text/html": [
              "\n",
              "  <div id=\"df-810d488c-d388-4812-9f22-0de4aba45acc\" class=\"colab-df-container\">\n",
              "    <div>\n",
              "<style scoped>\n",
              "    .dataframe tbody tr th:only-of-type {\n",
              "        vertical-align: middle;\n",
              "    }\n",
              "\n",
              "    .dataframe tbody tr th {\n",
              "        vertical-align: top;\n",
              "    }\n",
              "\n",
              "    .dataframe thead th {\n",
              "        text-align: right;\n",
              "    }\n",
              "</style>\n",
              "<table border=\"1\" class=\"dataframe\">\n",
              "  <thead>\n",
              "    <tr style=\"text-align: right;\">\n",
              "      <th></th>\n",
              "      <th>text</th>\n",
              "      <th>label</th>\n",
              "    </tr>\n",
              "  </thead>\n",
              "  <tbody>\n",
              "    <tr>\n",
              "      <th>0</th>\n",
              "      <td>মাননীয় প্রধানমন্ত্রী জননেত্রী দেশরত্ন শেখ হাস...</td>\n",
              "      <td>positive</td>\n",
              "    </tr>\n",
              "    <tr>\n",
              "      <th>1</th>\n",
              "      <td>আমরা করে দেখিয়েছি বিশ্বকে</td>\n",
              "      <td>neutral</td>\n",
              "    </tr>\n",
              "    <tr>\n",
              "      <th>2</th>\n",
              "      <td>আরিচা নগরবাড়ি রুটে ৩৩০০০ ভোল্টেজ বিদ্যুৎ সঞ্চ...</td>\n",
              "      <td>positive</td>\n",
              "    </tr>\n",
              "    <tr>\n",
              "      <th>3</th>\n",
              "      <td>এখন কান্দ টাকা নাই</td>\n",
              "      <td>positive</td>\n",
              "    </tr>\n",
              "    <tr>\n",
              "      <th>4</th>\n",
              "      <td>দেশ থেকে সিমেন্ট কিনলে তো আর পনের হাজার টাকা ব...</td>\n",
              "      <td>neutral</td>\n",
              "    </tr>\n",
              "  </tbody>\n",
              "</table>\n",
              "</div>\n",
              "    <div class=\"colab-df-buttons\">\n",
              "\n",
              "  <div class=\"colab-df-container\">\n",
              "    <button class=\"colab-df-convert\" onclick=\"convertToInteractive('df-810d488c-d388-4812-9f22-0de4aba45acc')\"\n",
              "            title=\"Convert this dataframe to an interactive table.\"\n",
              "            style=\"display:none;\">\n",
              "\n",
              "  <svg xmlns=\"http://www.w3.org/2000/svg\" height=\"24px\" viewBox=\"0 -960 960 960\">\n",
              "    <path d=\"M120-120v-720h720v720H120Zm60-500h600v-160H180v160Zm220 220h160v-160H400v160Zm0 220h160v-160H400v160ZM180-400h160v-160H180v160Zm440 0h160v-160H620v160ZM180-180h160v-160H180v160Zm440 0h160v-160H620v160Z\"/>\n",
              "  </svg>\n",
              "    </button>\n",
              "\n",
              "  <style>\n",
              "    .colab-df-container {\n",
              "      display:flex;\n",
              "      gap: 12px;\n",
              "    }\n",
              "\n",
              "    .colab-df-convert {\n",
              "      background-color: #E8F0FE;\n",
              "      border: none;\n",
              "      border-radius: 50%;\n",
              "      cursor: pointer;\n",
              "      display: none;\n",
              "      fill: #1967D2;\n",
              "      height: 32px;\n",
              "      padding: 0 0 0 0;\n",
              "      width: 32px;\n",
              "    }\n",
              "\n",
              "    .colab-df-convert:hover {\n",
              "      background-color: #E2EBFA;\n",
              "      box-shadow: 0px 1px 2px rgba(60, 64, 67, 0.3), 0px 1px 3px 1px rgba(60, 64, 67, 0.15);\n",
              "      fill: #174EA6;\n",
              "    }\n",
              "\n",
              "    .colab-df-buttons div {\n",
              "      margin-bottom: 4px;\n",
              "    }\n",
              "\n",
              "    [theme=dark] .colab-df-convert {\n",
              "      background-color: #3B4455;\n",
              "      fill: #D2E3FC;\n",
              "    }\n",
              "\n",
              "    [theme=dark] .colab-df-convert:hover {\n",
              "      background-color: #434B5C;\n",
              "      box-shadow: 0px 1px 3px 1px rgba(0, 0, 0, 0.15);\n",
              "      filter: drop-shadow(0px 1px 2px rgba(0, 0, 0, 0.3));\n",
              "      fill: #FFFFFF;\n",
              "    }\n",
              "  </style>\n",
              "\n",
              "    <script>\n",
              "      const buttonEl =\n",
              "        document.querySelector('#df-810d488c-d388-4812-9f22-0de4aba45acc button.colab-df-convert');\n",
              "      buttonEl.style.display =\n",
              "        google.colab.kernel.accessAllowed ? 'block' : 'none';\n",
              "\n",
              "      async function convertToInteractive(key) {\n",
              "        const element = document.querySelector('#df-810d488c-d388-4812-9f22-0de4aba45acc');\n",
              "        const dataTable =\n",
              "          await google.colab.kernel.invokeFunction('convertToInteractive',\n",
              "                                                    [key], {});\n",
              "        if (!dataTable) return;\n",
              "\n",
              "        const docLinkHtml = 'Like what you see? Visit the ' +\n",
              "          '<a target=\"_blank\" href=https://colab.research.google.com/notebooks/data_table.ipynb>data table notebook</a>'\n",
              "          + ' to learn more about interactive tables.';\n",
              "        element.innerHTML = '';\n",
              "        dataTable['output_type'] = 'display_data';\n",
              "        await google.colab.output.renderOutput(dataTable, element);\n",
              "        const docLink = document.createElement('div');\n",
              "        docLink.innerHTML = docLinkHtml;\n",
              "        element.appendChild(docLink);\n",
              "      }\n",
              "    </script>\n",
              "  </div>\n",
              "\n",
              "\n",
              "<div id=\"df-6a1e7516-ec92-4df4-8a46-f37ebe5a7323\">\n",
              "  <button class=\"colab-df-quickchart\" onclick=\"quickchart('df-6a1e7516-ec92-4df4-8a46-f37ebe5a7323')\"\n",
              "            title=\"Suggest charts\"\n",
              "            style=\"display:none;\">\n",
              "\n",
              "<svg xmlns=\"http://www.w3.org/2000/svg\" height=\"24px\"viewBox=\"0 0 24 24\"\n",
              "     width=\"24px\">\n",
              "    <g>\n",
              "        <path d=\"M19 3H5c-1.1 0-2 .9-2 2v14c0 1.1.9 2 2 2h14c1.1 0 2-.9 2-2V5c0-1.1-.9-2-2-2zM9 17H7v-7h2v7zm4 0h-2V7h2v10zm4 0h-2v-4h2v4z\"/>\n",
              "    </g>\n",
              "</svg>\n",
              "  </button>\n",
              "\n",
              "<style>\n",
              "  .colab-df-quickchart {\n",
              "      --bg-color: #E8F0FE;\n",
              "      --fill-color: #1967D2;\n",
              "      --hover-bg-color: #E2EBFA;\n",
              "      --hover-fill-color: #174EA6;\n",
              "      --disabled-fill-color: #AAA;\n",
              "      --disabled-bg-color: #DDD;\n",
              "  }\n",
              "\n",
              "  [theme=dark] .colab-df-quickchart {\n",
              "      --bg-color: #3B4455;\n",
              "      --fill-color: #D2E3FC;\n",
              "      --hover-bg-color: #434B5C;\n",
              "      --hover-fill-color: #FFFFFF;\n",
              "      --disabled-bg-color: #3B4455;\n",
              "      --disabled-fill-color: #666;\n",
              "  }\n",
              "\n",
              "  .colab-df-quickchart {\n",
              "    background-color: var(--bg-color);\n",
              "    border: none;\n",
              "    border-radius: 50%;\n",
              "    cursor: pointer;\n",
              "    display: none;\n",
              "    fill: var(--fill-color);\n",
              "    height: 32px;\n",
              "    padding: 0;\n",
              "    width: 32px;\n",
              "  }\n",
              "\n",
              "  .colab-df-quickchart:hover {\n",
              "    background-color: var(--hover-bg-color);\n",
              "    box-shadow: 0 1px 2px rgba(60, 64, 67, 0.3), 0 1px 3px 1px rgba(60, 64, 67, 0.15);\n",
              "    fill: var(--button-hover-fill-color);\n",
              "  }\n",
              "\n",
              "  .colab-df-quickchart-complete:disabled,\n",
              "  .colab-df-quickchart-complete:disabled:hover {\n",
              "    background-color: var(--disabled-bg-color);\n",
              "    fill: var(--disabled-fill-color);\n",
              "    box-shadow: none;\n",
              "  }\n",
              "\n",
              "  .colab-df-spinner {\n",
              "    border: 2px solid var(--fill-color);\n",
              "    border-color: transparent;\n",
              "    border-bottom-color: var(--fill-color);\n",
              "    animation:\n",
              "      spin 1s steps(1) infinite;\n",
              "  }\n",
              "\n",
              "  @keyframes spin {\n",
              "    0% {\n",
              "      border-color: transparent;\n",
              "      border-bottom-color: var(--fill-color);\n",
              "      border-left-color: var(--fill-color);\n",
              "    }\n",
              "    20% {\n",
              "      border-color: transparent;\n",
              "      border-left-color: var(--fill-color);\n",
              "      border-top-color: var(--fill-color);\n",
              "    }\n",
              "    30% {\n",
              "      border-color: transparent;\n",
              "      border-left-color: var(--fill-color);\n",
              "      border-top-color: var(--fill-color);\n",
              "      border-right-color: var(--fill-color);\n",
              "    }\n",
              "    40% {\n",
              "      border-color: transparent;\n",
              "      border-right-color: var(--fill-color);\n",
              "      border-top-color: var(--fill-color);\n",
              "    }\n",
              "    60% {\n",
              "      border-color: transparent;\n",
              "      border-right-color: var(--fill-color);\n",
              "    }\n",
              "    80% {\n",
              "      border-color: transparent;\n",
              "      border-right-color: var(--fill-color);\n",
              "      border-bottom-color: var(--fill-color);\n",
              "    }\n",
              "    90% {\n",
              "      border-color: transparent;\n",
              "      border-bottom-color: var(--fill-color);\n",
              "    }\n",
              "  }\n",
              "</style>\n",
              "\n",
              "  <script>\n",
              "    async function quickchart(key) {\n",
              "      const quickchartButtonEl =\n",
              "        document.querySelector('#' + key + ' button');\n",
              "      quickchartButtonEl.disabled = true;  // To prevent multiple clicks.\n",
              "      quickchartButtonEl.classList.add('colab-df-spinner');\n",
              "      try {\n",
              "        const charts = await google.colab.kernel.invokeFunction(\n",
              "            'suggestCharts', [key], {});\n",
              "      } catch (error) {\n",
              "        console.error('Error during call to suggestCharts:', error);\n",
              "      }\n",
              "      quickchartButtonEl.classList.remove('colab-df-spinner');\n",
              "      quickchartButtonEl.classList.add('colab-df-quickchart-complete');\n",
              "    }\n",
              "    (() => {\n",
              "      let quickchartButtonEl =\n",
              "        document.querySelector('#df-6a1e7516-ec92-4df4-8a46-f37ebe5a7323 button');\n",
              "      quickchartButtonEl.style.display =\n",
              "        google.colab.kernel.accessAllowed ? 'block' : 'none';\n",
              "    })();\n",
              "  </script>\n",
              "</div>\n",
              "\n",
              "    </div>\n",
              "  </div>\n"
            ],
            "application/vnd.google.colaboratory.intrinsic+json": {
              "type": "dataframe",
              "variable_name": "validation_df",
              "summary": "{\n  \"name\": \"validation_df\",\n  \"rows\": 1000,\n  \"fields\": [\n    {\n      \"column\": \"text\",\n      \"properties\": {\n        \"dtype\": \"string\",\n        \"num_unique_values\": 998,\n        \"samples\": [\n          \"We want voting rights in Bangladesh\",\n          \"\\u0986\\u09b2\\u09cd\\u09b2\\u09be\\u09b9 \\u09a4\\u09be\\u09df\\u09be\\u09b2\\u09be \\u09b8\\u0995\\u09b2 \\u0995\\u09cd\\u09b7\\u09ae\\u09a4\\u09be\\u09b0 \\u09ae\\u09be\\u09b2\\u09bf\\u0995 \\ud83d\\udda4\\ud83d\\udda4\",\n          \"Nijossho orthoyane jokhon setu nirman holo taholle tol kn nicchen\"\n        ],\n        \"semantic_type\": \"\",\n        \"description\": \"\"\n      }\n    },\n    {\n      \"column\": \"label\",\n      \"properties\": {\n        \"dtype\": \"category\",\n        \"num_unique_values\": 3,\n        \"samples\": [\n          \"positive\",\n          \"neutral\",\n          \"negative\"\n        ],\n        \"semantic_type\": \"\",\n        \"description\": \"\"\n      }\n    }\n  ]\n}"
            }
          },
          "metadata": {},
          "execution_count": 56
        }
      ],
      "source": [
        "validation_df.head()"
      ]
    },
    {
      "cell_type": "code",
      "execution_count": null,
      "id": "dcc6106b",
      "metadata": {
        "execution": {
          "iopub.execute_input": "2023-09-03T08:28:06.698676Z",
          "iopub.status.busy": "2023-09-03T08:28:06.697708Z",
          "iopub.status.idle": "2023-09-03T08:28:06.711824Z",
          "shell.execute_reply": "2023-09-03T08:28:06.710441Z"
        },
        "id": "dcc6106b",
        "outputId": "64bb3cee-72d3-4ae1-ec05-c33259d45375",
        "papermill": {
          "duration": 0.064364,
          "end_time": "2023-09-03T08:28:06.714035",
          "exception": false,
          "start_time": "2023-09-03T08:28:06.649671",
          "status": "completed"
        },
        "tags": [],
        "colab": {
          "base_uri": "https://localhost:8080/"
        }
      },
      "outputs": [
        {
          "output_type": "stream",
          "name": "stdout",
          "text": [
            "Dataset({\n",
            "    features: ['text', 'label'],\n",
            "    num_rows: 1000\n",
            "})\n"
          ]
        }
      ],
      "source": [
        "validation_df['label'] = validation_df['label'].map(l2id)\n",
        "validation_df = Dataset.from_pandas(validation_df)\n",
        "print(validation_df)"
      ]
    },
    {
      "cell_type": "code",
      "execution_count": null,
      "id": "2f7cb5bb",
      "metadata": {
        "execution": {
          "iopub.execute_input": "2023-09-03T08:28:06.810570Z",
          "iopub.status.busy": "2023-09-03T08:28:06.810200Z",
          "iopub.status.idle": "2023-09-03T08:28:06.841720Z",
          "shell.execute_reply": "2023-09-03T08:28:06.840589Z"
        },
        "id": "2f7cb5bb",
        "outputId": "238faf09-289b-4342-9522-aba2cb3d52dd",
        "papermill": {
          "duration": 0.082997,
          "end_time": "2023-09-03T08:28:06.844141",
          "exception": false,
          "start_time": "2023-09-03T08:28:06.761144",
          "status": "completed"
        },
        "tags": [],
        "colab": {
          "base_uri": "https://localhost:8080/"
        }
      },
      "outputs": [
        {
          "output_type": "stream",
          "name": "stdout",
          "text": [
            "                                                text\n",
            "0  মাননীয় প্রধানমন্ত্রী জননেত্রী দেশরত্ন শেখ হাস...\n",
            "1                         আমরা করে দেখিয়েছি বিশ্বকে\n",
            "2  আরিচা নগরবাড়ি রুটে ৩৩০০০ ভোল্টেজ বিদ্যুৎ সঞ্চ...\n",
            "3                                 এখন কান্দ টাকা নাই\n",
            "4  দেশ থেকে সিমেন্ট কিনলে তো আর পনের হাজার টাকা ব...\n",
            "1000\n"
          ]
        }
      ],
      "source": [
        "old_test_df = pd.read_excel(validation_file)\n",
        "old_test_df=old_test_df[:1000]\n",
        "old_test_df=old_test_df.drop(columns=['label'])\n",
        "print(old_test_df.head())\n",
        "print(len(old_test_df))"
      ]
    },
    {
      "cell_type": "code",
      "execution_count": null,
      "id": "1dc1f3de",
      "metadata": {
        "execution": {
          "iopub.execute_input": "2023-09-03T08:28:06.942567Z",
          "iopub.status.busy": "2023-09-03T08:28:06.941643Z",
          "iopub.status.idle": "2023-09-03T08:28:06.987882Z",
          "shell.execute_reply": "2023-09-03T08:28:06.986816Z"
        },
        "id": "1dc1f3de",
        "outputId": "24d27259-3407-41d4-e4e7-8351e7359a1d",
        "papermill": {
          "duration": 0.097998,
          "end_time": "2023-09-03T08:28:06.990255",
          "exception": false,
          "start_time": "2023-09-03T08:28:06.892257",
          "status": "completed"
        },
        "tags": [],
        "colab": {
          "base_uri": "https://localhost:8080/"
        }
      },
      "outputs": [
        {
          "output_type": "stream",
          "name": "stdout",
          "text": [
            "                                                text     label\n",
            "0  মাননীয় প্রধানমন্ত্রী জননেত্রী দেশরত্ন শেখ হাস...  positive\n",
            "1                         আমরা করে দেখিয়েছি বিশ্বকে   neutral\n",
            "2  আরিচা নগরবাড়ি রুটে ৩৩০০০ ভোল্টেজ বিদ্যুৎ সঞ্চ...  positive\n",
            "3                                 এখন কান্দ টাকা নাই  positive\n",
            "4  দেশ থেকে সিমেন্ট কিনলে তো আর পনের হাজার টাকা ব...   neutral\n",
            "1000\n"
          ]
        }
      ],
      "source": [
        "test_df = pd.read_excel(validation_file)\n",
        "test_df=test_df[:1000]\n",
        "\n",
        "print(test_df.head())\n",
        "print(len(test_df))"
      ]
    },
    {
      "cell_type": "code",
      "execution_count": null,
      "id": "f0e32ed9",
      "metadata": {
        "execution": {
          "iopub.execute_input": "2023-09-03T08:28:07.089014Z",
          "iopub.status.busy": "2023-09-03T08:28:07.088325Z",
          "iopub.status.idle": "2023-09-03T08:28:07.100674Z",
          "shell.execute_reply": "2023-09-03T08:28:07.099201Z"
        },
        "id": "f0e32ed9",
        "outputId": "3e67faba-29f4-487f-fcc1-3579f759b36f",
        "papermill": {
          "duration": 0.062768,
          "end_time": "2023-09-03T08:28:07.102857",
          "exception": false,
          "start_time": "2023-09-03T08:28:07.040089",
          "status": "completed"
        },
        "tags": [],
        "colab": {
          "base_uri": "https://localhost:8080/"
        }
      },
      "outputs": [
        {
          "output_type": "stream",
          "name": "stdout",
          "text": [
            "                                                  text  label\n",
            "0    মাননীয় প্রধানমন্ত্রী জননেত্রী দেশরত্ন শেখ হাস...      2\n",
            "1                           আমরা করে দেখিয়েছি বিশ্বকে      1\n",
            "2    আরিচা নগরবাড়ি রুটে ৩৩০০০ ভোল্টেজ বিদ্যুৎ সঞ্চ...      2\n",
            "3                                   এখন কান্দ টাকা নাই      2\n",
            "4    দেশ থেকে সিমেন্ট কিনলে তো আর পনের হাজার টাকা ব...      1\n",
            "..                                                 ...    ...\n",
            "995                                              Qqqqq      1\n",
            "996  পদ্মা সেতু খুবই দরকার, আর ট্রাফিক ব্যাবস্থা খা...      0\n",
            "997                  Allah sobaike jannath nosib koron      1\n",
            "998                                                 U+      1\n",
            "999                                              Ameen      1\n",
            "\n",
            "[1000 rows x 2 columns]\n"
          ]
        }
      ],
      "source": [
        "test_df['label'] = test_df['label'].map(l2id)\n",
        "print(test_df)"
      ]
    },
    {
      "cell_type": "code",
      "execution_count": null,
      "id": "4b2ae91b",
      "metadata": {
        "execution": {
          "iopub.execute_input": "2023-09-03T08:28:07.200966Z",
          "iopub.status.busy": "2023-09-03T08:28:07.200400Z",
          "iopub.status.idle": "2023-09-03T08:28:08.106513Z",
          "shell.execute_reply": "2023-09-03T08:28:08.105592Z"
        },
        "id": "4b2ae91b",
        "papermill": {
          "duration": 0.957477,
          "end_time": "2023-09-03T08:28:08.109065",
          "exception": false,
          "start_time": "2023-09-03T08:28:07.151588",
          "status": "completed"
        },
        "tags": []
      },
      "outputs": [],
      "source": [
        "for index, row in test_df.iterrows():\n",
        "    unprocessed_spliited_word = row[\"text\"].split(\" \")\n",
        "    processed_word_list = []\n",
        "    for i in unprocessed_spliited_word:\n",
        "        processed_word_list += process_word(i)\n",
        "    test_df.at[index, \"text\"] = \" \".join(processed_word_list)"
      ]
    },
    {
      "cell_type": "code",
      "execution_count": null,
      "id": "17cf696c",
      "metadata": {
        "execution": {
          "iopub.execute_input": "2023-09-03T08:28:08.206709Z",
          "iopub.status.busy": "2023-09-03T08:28:08.204993Z",
          "iopub.status.idle": "2023-09-03T08:28:08.221464Z",
          "shell.execute_reply": "2023-09-03T08:28:08.220406Z"
        },
        "id": "17cf696c",
        "papermill": {
          "duration": 0.066469,
          "end_time": "2023-09-03T08:28:08.223432",
          "exception": false,
          "start_time": "2023-09-03T08:28:08.156963",
          "status": "completed"
        },
        "tags": [],
        "colab": {
          "base_uri": "https://localhost:8080/"
        },
        "outputId": "85830a63-0cb3-4178-cc94-724b4ebeb06b"
      },
      "outputs": [
        {
          "output_type": "stream",
          "name": "stdout",
          "text": [
            "Dataset({\n",
            "    features: ['text', 'label'],\n",
            "    num_rows: 1000\n",
            "})\n"
          ]
        }
      ],
      "source": [
        "test_df = Dataset.from_pandas(test_df)\n",
        "print(test_df)"
      ]
    },
    {
      "cell_type": "code",
      "execution_count": null,
      "id": "7e016405",
      "metadata": {
        "execution": {
          "iopub.execute_input": "2023-09-03T08:28:08.318990Z",
          "iopub.status.busy": "2023-09-03T08:28:08.318660Z",
          "iopub.status.idle": "2023-09-03T08:28:08.323499Z",
          "shell.execute_reply": "2023-09-03T08:28:08.322565Z"
        },
        "id": "7e016405",
        "outputId": "0deea9bc-f54b-494a-b962-b7e4d86bb92a",
        "papermill": {
          "duration": 0.054992,
          "end_time": "2023-09-03T08:28:08.325513",
          "exception": false,
          "start_time": "2023-09-03T08:28:08.270521",
          "status": "completed"
        },
        "tags": [],
        "colab": {
          "base_uri": "https://localhost:8080/"
        }
      },
      "outputs": [
        {
          "output_type": "stream",
          "name": "stderr",
          "text": [
            "INFO:__main__:loading a local file for train\n",
            "INFO:__main__:loading a local file for validation\n",
            "INFO:__main__:loading a local file for test\n"
          ]
        }
      ],
      "source": [
        "data_files = {\"train\": train_df, \"validation\": validation_df, \"test\": test_df}\n",
        "for key in data_files.keys():\n",
        "    logger.info(f\"loading a local file for {key}\")"
      ]
    },
    {
      "cell_type": "code",
      "execution_count": null,
      "id": "4680ca36",
      "metadata": {
        "execution": {
          "iopub.execute_input": "2023-09-03T08:28:08.422456Z",
          "iopub.status.busy": "2023-09-03T08:28:08.422100Z",
          "iopub.status.idle": "2023-09-03T08:28:08.426572Z",
          "shell.execute_reply": "2023-09-03T08:28:08.425612Z"
        },
        "id": "4680ca36",
        "papermill": {
          "duration": 0.055825,
          "end_time": "2023-09-03T08:28:08.428609",
          "exception": false,
          "start_time": "2023-09-03T08:28:08.372784",
          "status": "completed"
        },
        "tags": []
      },
      "outputs": [],
      "source": [
        "raw_datasets = DatasetDict(\n",
        "    {\"train\": train_df, \"validation\": validation_df, \"test\": test_df}\n",
        ")"
      ]
    },
    {
      "cell_type": "code",
      "execution_count": null,
      "id": "ae814995",
      "metadata": {
        "execution": {
          "iopub.execute_input": "2023-09-03T08:28:08.528322Z",
          "iopub.status.busy": "2023-09-03T08:28:08.527292Z",
          "iopub.status.idle": "2023-09-03T08:28:08.533906Z",
          "shell.execute_reply": "2023-09-03T08:28:08.532325Z"
        },
        "id": "ae814995",
        "outputId": "863ac2c7-c777-478c-d90e-f64541203551",
        "papermill": {
          "duration": 0.057049,
          "end_time": "2023-09-03T08:28:08.536022",
          "exception": false,
          "start_time": "2023-09-03T08:28:08.478973",
          "status": "completed"
        },
        "tags": [],
        "colab": {
          "base_uri": "https://localhost:8080/"
        }
      },
      "outputs": [
        {
          "output_type": "stream",
          "name": "stdout",
          "text": [
            "DatasetDict({\n",
            "    train: Dataset({\n",
            "        features: ['text', 'label'],\n",
            "        num_rows: 1927\n",
            "    })\n",
            "    validation: Dataset({\n",
            "        features: ['text', 'label'],\n",
            "        num_rows: 1000\n",
            "    })\n",
            "    test: Dataset({\n",
            "        features: ['text', 'label'],\n",
            "        num_rows: 1000\n",
            "    })\n",
            "})\n"
          ]
        }
      ],
      "source": [
        "print(raw_datasets)"
      ]
    },
    {
      "cell_type": "code",
      "execution_count": null,
      "id": "4380af34",
      "metadata": {
        "execution": {
          "iopub.execute_input": "2023-09-03T08:28:08.633944Z",
          "iopub.status.busy": "2023-09-03T08:28:08.632949Z",
          "iopub.status.idle": "2023-09-03T08:28:08.670616Z",
          "shell.execute_reply": "2023-09-03T08:28:08.669292Z"
        },
        "id": "4380af34",
        "outputId": "5014763b-6090-4f26-9507-b9f3a2181645",
        "papermill": {
          "duration": 0.089359,
          "end_time": "2023-09-03T08:28:08.672785",
          "exception": false,
          "start_time": "2023-09-03T08:28:08.583426",
          "status": "completed"
        },
        "tags": [],
        "colab": {
          "base_uri": "https://localhost:8080/"
        }
      },
      "outputs": [
        {
          "output_type": "stream",
          "name": "stdout",
          "text": [
            "[2, 1, 0]\n"
          ]
        }
      ],
      "source": [
        "label_list = raw_datasets[\"train\"].unique(\"label\")\n",
        "print(label_list)"
      ]
    },
    {
      "cell_type": "code",
      "execution_count": null,
      "id": "a34fb714",
      "metadata": {
        "execution": {
          "iopub.execute_input": "2023-09-03T08:28:08.770178Z",
          "iopub.status.busy": "2023-09-03T08:28:08.769792Z",
          "iopub.status.idle": "2023-09-03T08:28:08.775007Z",
          "shell.execute_reply": "2023-09-03T08:28:08.774030Z"
        },
        "id": "a34fb714",
        "outputId": "be91c238-3f98-4d34-a0d3-d10cc04d5ac5",
        "papermill": {
          "duration": 0.05719,
          "end_time": "2023-09-03T08:28:08.777596",
          "exception": false,
          "start_time": "2023-09-03T08:28:08.720406",
          "status": "completed"
        },
        "tags": [],
        "colab": {
          "base_uri": "https://localhost:8080/"
        }
      },
      "outputs": [
        {
          "output_type": "stream",
          "name": "stdout",
          "text": [
            "[0, 1, 2]\n"
          ]
        }
      ],
      "source": [
        "label_list.sort()  # sort the labels for determine\n",
        "print(label_list)"
      ]
    },
    {
      "cell_type": "code",
      "execution_count": null,
      "id": "f8cd2254",
      "metadata": {
        "execution": {
          "iopub.execute_input": "2023-09-03T08:28:08.877390Z",
          "iopub.status.busy": "2023-09-03T08:28:08.877043Z",
          "iopub.status.idle": "2023-09-03T08:28:08.881992Z",
          "shell.execute_reply": "2023-09-03T08:28:08.881091Z"
        },
        "id": "f8cd2254",
        "outputId": "5a35295b-783c-4073-e2f6-95610b16c23d",
        "papermill": {
          "duration": 0.056829,
          "end_time": "2023-09-03T08:28:08.884260",
          "exception": false,
          "start_time": "2023-09-03T08:28:08.827431",
          "status": "completed"
        },
        "tags": [],
        "colab": {
          "base_uri": "https://localhost:8080/"
        }
      },
      "outputs": [
        {
          "output_type": "stream",
          "name": "stdout",
          "text": [
            "3\n"
          ]
        }
      ],
      "source": [
        "num_labels = len(label_list)\n",
        "print(num_labels)"
      ]
    },
    {
      "cell_type": "code",
      "execution_count": null,
      "id": "b5f9cfb3",
      "metadata": {
        "execution": {
          "iopub.execute_input": "2023-09-03T08:28:08.981362Z",
          "iopub.status.busy": "2023-09-03T08:28:08.980459Z",
          "iopub.status.idle": "2023-09-03T08:28:09.269487Z",
          "shell.execute_reply": "2023-09-03T08:28:09.268607Z"
        },
        "id": "b5f9cfb3",
        "outputId": "4365321c-7cae-4e80-e2d4-7d0fbe7b33ca",
        "papermill": {
          "duration": 0.339672,
          "end_time": "2023-09-03T08:28:09.271517",
          "exception": false,
          "start_time": "2023-09-03T08:28:08.931845",
          "status": "completed"
        },
        "tags": [],
        "colab": {
          "base_uri": "https://localhost:8080/",
          "height": 798,
          "referenced_widgets": [
            "22a2109a9913453997d210252425ef2f",
            "dacd428c674a4c91a7cdae7fba484436",
            "565ba2b3768c44fbb057a6fdede5c71b",
            "5ead94626df2424c99dd1591a7d5e414",
            "6a1012ff6db34a5bbceb90eb41f88689",
            "62dcc53a9b374d098f00e2de43d286f0",
            "8b720d1d7d1e486bb64e292de63cddc8",
            "29f9331e987f404084af321c266308de",
            "00fbbf41b91f455ca69df6485c2f18ea",
            "ebd78df6f88e4b2ba87cb21fc4d6f050",
            "ad115f2da9b843bcb58f26fbd4c92a0a"
          ]
        }
      },
      "outputs": [
        {
          "output_type": "stream",
          "name": "stderr",
          "text": [
            "/usr/local/lib/python3.10/dist-packages/huggingface_hub/utils/_token.py:89: UserWarning: \n",
            "The secret `HF_TOKEN` does not exist in your Colab secrets.\n",
            "To authenticate with the Hugging Face Hub, create a token in your settings tab (https://huggingface.co/settings/tokens), set it as secret in your Google Colab and restart your session.\n",
            "You will be able to reuse this secret in all of your notebooks.\n",
            "Please note that authentication is recommended but still optional to access public models or datasets.\n",
            "  warnings.warn(\n"
          ]
        },
        {
          "output_type": "display_data",
          "data": {
            "text/plain": [
              "config.json:   0%|          | 0.00/491 [00:00<?, ?B/s]"
            ],
            "application/vnd.jupyter.widget-view+json": {
              "version_major": 2,
              "version_minor": 0,
              "model_id": "22a2109a9913453997d210252425ef2f"
            }
          },
          "metadata": {}
        },
        {
          "output_type": "stream",
          "name": "stderr",
          "text": [
            "[INFO|configuration_utils.py:733] 2024-10-06 06:15:33,414 >> loading configuration file config.json from cache at /root/.cache/huggingface/hub/models--sagorsarker--bangla-bert-base/snapshots/875aa80a42ec196c16bd931ae5d85ad949f58b16/config.json\n",
            "[INFO|configuration_utils.py:800] 2024-10-06 06:15:33,433 >> Model config BertConfig {\n",
            "  \"_name_or_path\": \"sagorsarker/bangla-bert-base\",\n",
            "  \"architectures\": [\n",
            "    \"BertForMaskedLM\"\n",
            "  ],\n",
            "  \"attention_probs_dropout_prob\": 0.1,\n",
            "  \"classifier_dropout\": null,\n",
            "  \"hidden_act\": \"gelu\",\n",
            "  \"hidden_dropout_prob\": 0.1,\n",
            "  \"hidden_size\": 768,\n",
            "  \"id2label\": {\n",
            "    \"0\": \"LABEL_0\",\n",
            "    \"1\": \"LABEL_1\",\n",
            "    \"2\": \"LABEL_2\"\n",
            "  },\n",
            "  \"initializer_range\": 0.02,\n",
            "  \"intermediate_size\": 3072,\n",
            "  \"label2id\": {\n",
            "    \"LABEL_0\": 0,\n",
            "    \"LABEL_1\": 1,\n",
            "    \"LABEL_2\": 2\n",
            "  },\n",
            "  \"layer_norm_eps\": 1e-12,\n",
            "  \"max_position_embeddings\": 512,\n",
            "  \"model_type\": \"bert\",\n",
            "  \"num_attention_heads\": 12,\n",
            "  \"num_hidden_layers\": 12,\n",
            "  \"pad_token_id\": 0,\n",
            "  \"position_embedding_type\": \"absolute\",\n",
            "  \"transformers_version\": \"4.44.2\",\n",
            "  \"type_vocab_size\": 2,\n",
            "  \"use_cache\": true,\n",
            "  \"vocab_size\": 102025\n",
            "}\n",
            "\n"
          ]
        }
      ],
      "source": [
        "config = AutoConfig.from_pretrained(\n",
        "    model_name,\n",
        "    num_labels=num_labels,\n",
        "    finetuning_task=None,\n",
        "    cache_dir=None,\n",
        "    revision=\"main\",\n",
        "    use_auth_token=None,\n",
        ")"
      ]
    },
    {
      "cell_type": "code",
      "execution_count": null,
      "id": "dca293c9",
      "metadata": {
        "execution": {
          "iopub.execute_input": "2023-09-03T08:28:09.370064Z",
          "iopub.status.busy": "2023-09-03T08:28:09.369180Z",
          "iopub.status.idle": "2023-09-03T08:28:10.840792Z",
          "shell.execute_reply": "2023-09-03T08:28:10.839744Z"
        },
        "id": "dca293c9",
        "outputId": "5c306595-8fb8-4549-fd36-e82d11a03479",
        "papermill": {
          "duration": 1.523443,
          "end_time": "2023-09-03T08:28:10.843381",
          "exception": false,
          "start_time": "2023-09-03T08:28:09.319938",
          "status": "completed"
        },
        "tags": [],
        "colab": {
          "base_uri": "https://localhost:8080/",
          "height": 1000,
          "referenced_widgets": [
            "996e11e53e0e493d8a09561dc283cc8d",
            "232d9acb31464ba6b4b6f0b84d51155b",
            "f8fc979d999d4a21b48819b031222e3f",
            "d1171b4692ef4ecfae1c696344b3009b",
            "9399ac1dc8b041b493b1aa3b0f866450",
            "24f6ceacd46b42ac937edeb9f52678e2",
            "49606e605a1648e0929d496908cf5cc0",
            "b8c15eec8a31429b9a0dfe699d5133dc",
            "20c84e1b5607477994c204917297bf38",
            "d19eb89013fc43fb960534c2e9ead3f7",
            "7f6ba75712ff4196b759bec664a60f8e"
          ]
        }
      },
      "outputs": [
        {
          "output_type": "stream",
          "name": "stderr",
          "text": [
            "[INFO|tokenization_auto.py:683] 2024-10-06 06:15:49,012 >> Could not locate the tokenizer configuration file, will try to use the model config instead.\n",
            "[INFO|configuration_utils.py:733] 2024-10-06 06:15:49,098 >> loading configuration file config.json from cache at /root/.cache/huggingface/hub/models--sagorsarker--bangla-bert-base/snapshots/875aa80a42ec196c16bd931ae5d85ad949f58b16/config.json\n",
            "[INFO|configuration_utils.py:800] 2024-10-06 06:15:49,100 >> Model config BertConfig {\n",
            "  \"_name_or_path\": \"sagorsarker/bangla-bert-base\",\n",
            "  \"architectures\": [\n",
            "    \"BertForMaskedLM\"\n",
            "  ],\n",
            "  \"attention_probs_dropout_prob\": 0.1,\n",
            "  \"classifier_dropout\": null,\n",
            "  \"hidden_act\": \"gelu\",\n",
            "  \"hidden_dropout_prob\": 0.1,\n",
            "  \"hidden_size\": 768,\n",
            "  \"initializer_range\": 0.02,\n",
            "  \"intermediate_size\": 3072,\n",
            "  \"layer_norm_eps\": 1e-12,\n",
            "  \"max_position_embeddings\": 512,\n",
            "  \"model_type\": \"bert\",\n",
            "  \"num_attention_heads\": 12,\n",
            "  \"num_hidden_layers\": 12,\n",
            "  \"pad_token_id\": 0,\n",
            "  \"position_embedding_type\": \"absolute\",\n",
            "  \"transformers_version\": \"4.44.2\",\n",
            "  \"type_vocab_size\": 2,\n",
            "  \"use_cache\": true,\n",
            "  \"vocab_size\": 102025\n",
            "}\n",
            "\n"
          ]
        },
        {
          "output_type": "display_data",
          "data": {
            "text/plain": [
              "vocab.txt:   0%|          | 0.00/2.24M [00:00<?, ?B/s]"
            ],
            "application/vnd.jupyter.widget-view+json": {
              "version_major": 2,
              "version_minor": 0,
              "model_id": "996e11e53e0e493d8a09561dc283cc8d"
            }
          },
          "metadata": {}
        },
        {
          "output_type": "stream",
          "name": "stderr",
          "text": [
            "[INFO|tokenization_utils_base.py:2269] 2024-10-06 06:15:49,800 >> loading file vocab.txt from cache at /root/.cache/huggingface/hub/models--sagorsarker--bangla-bert-base/snapshots/875aa80a42ec196c16bd931ae5d85ad949f58b16/vocab.txt\n",
            "[INFO|tokenization_utils_base.py:2269] 2024-10-06 06:15:49,801 >> loading file tokenizer.json from cache at None\n",
            "[INFO|tokenization_utils_base.py:2269] 2024-10-06 06:15:49,803 >> loading file added_tokens.json from cache at None\n",
            "[INFO|tokenization_utils_base.py:2269] 2024-10-06 06:15:49,805 >> loading file special_tokens_map.json from cache at None\n",
            "[INFO|tokenization_utils_base.py:2269] 2024-10-06 06:15:49,806 >> loading file tokenizer_config.json from cache at None\n",
            "[INFO|configuration_utils.py:733] 2024-10-06 06:15:49,808 >> loading configuration file config.json from cache at /root/.cache/huggingface/hub/models--sagorsarker--bangla-bert-base/snapshots/875aa80a42ec196c16bd931ae5d85ad949f58b16/config.json\n",
            "[INFO|configuration_utils.py:800] 2024-10-06 06:15:49,811 >> Model config BertConfig {\n",
            "  \"_name_or_path\": \"sagorsarker/bangla-bert-base\",\n",
            "  \"architectures\": [\n",
            "    \"BertForMaskedLM\"\n",
            "  ],\n",
            "  \"attention_probs_dropout_prob\": 0.1,\n",
            "  \"classifier_dropout\": null,\n",
            "  \"hidden_act\": \"gelu\",\n",
            "  \"hidden_dropout_prob\": 0.1,\n",
            "  \"hidden_size\": 768,\n",
            "  \"initializer_range\": 0.02,\n",
            "  \"intermediate_size\": 3072,\n",
            "  \"layer_norm_eps\": 1e-12,\n",
            "  \"max_position_embeddings\": 512,\n",
            "  \"model_type\": \"bert\",\n",
            "  \"num_attention_heads\": 12,\n",
            "  \"num_hidden_layers\": 12,\n",
            "  \"pad_token_id\": 0,\n",
            "  \"position_embedding_type\": \"absolute\",\n",
            "  \"transformers_version\": \"4.44.2\",\n",
            "  \"type_vocab_size\": 2,\n",
            "  \"use_cache\": true,\n",
            "  \"vocab_size\": 102025\n",
            "}\n",
            "\n",
            "/usr/local/lib/python3.10/dist-packages/transformers/tokenization_utils_base.py:1601: FutureWarning: `clean_up_tokenization_spaces` was not set. It will be set to `True` by default. This behavior will be depracted in transformers v4.45, and will be then set to `False` by default. For more details check this issue: https://github.com/huggingface/transformers/issues/31884\n",
            "  warnings.warn(\n",
            "[INFO|configuration_utils.py:733] 2024-10-06 06:15:49,983 >> loading configuration file config.json from cache at /root/.cache/huggingface/hub/models--sagorsarker--bangla-bert-base/snapshots/875aa80a42ec196c16bd931ae5d85ad949f58b16/config.json\n",
            "[INFO|configuration_utils.py:800] 2024-10-06 06:15:49,985 >> Model config BertConfig {\n",
            "  \"_name_or_path\": \"sagorsarker/bangla-bert-base\",\n",
            "  \"architectures\": [\n",
            "    \"BertForMaskedLM\"\n",
            "  ],\n",
            "  \"attention_probs_dropout_prob\": 0.1,\n",
            "  \"classifier_dropout\": null,\n",
            "  \"hidden_act\": \"gelu\",\n",
            "  \"hidden_dropout_prob\": 0.1,\n",
            "  \"hidden_size\": 768,\n",
            "  \"initializer_range\": 0.02,\n",
            "  \"intermediate_size\": 3072,\n",
            "  \"layer_norm_eps\": 1e-12,\n",
            "  \"max_position_embeddings\": 512,\n",
            "  \"model_type\": \"bert\",\n",
            "  \"num_attention_heads\": 12,\n",
            "  \"num_hidden_layers\": 12,\n",
            "  \"pad_token_id\": 0,\n",
            "  \"position_embedding_type\": \"absolute\",\n",
            "  \"transformers_version\": \"4.44.2\",\n",
            "  \"type_vocab_size\": 2,\n",
            "  \"use_cache\": true,\n",
            "  \"vocab_size\": 102025\n",
            "}\n",
            "\n"
          ]
        }
      ],
      "source": [
        "tokenizer = AutoTokenizer.from_pretrained(\n",
        "    model_name,\n",
        "    cache_dir=None,\n",
        "    use_fast=True,\n",
        "    revision=\"main\",\n",
        "    use_auth_token=None,\n",
        ")"
      ]
    },
    {
      "cell_type": "code",
      "execution_count": null,
      "id": "a27c2c95",
      "metadata": {
        "execution": {
          "iopub.execute_input": "2023-09-03T08:28:10.946394Z",
          "iopub.status.busy": "2023-09-03T08:28:10.946030Z",
          "iopub.status.idle": "2023-09-03T08:28:14.871354Z",
          "shell.execute_reply": "2023-09-03T08:28:14.870480Z"
        },
        "id": "a27c2c95",
        "outputId": "4ab2a923-9916-4962-d619-4f3c0b88063b",
        "papermill": {
          "duration": 3.979308,
          "end_time": "2023-09-03T08:28:14.873672",
          "exception": false,
          "start_time": "2023-09-03T08:28:10.894364",
          "status": "completed"
        },
        "tags": [],
        "colab": {
          "base_uri": "https://localhost:8080/",
          "height": 173,
          "referenced_widgets": [
            "698326d281fe40ed9758fdaa536f69d1",
            "9dc775f605724748bb2147980f7e649b",
            "3d8d6e0101cf4b6590818506ed741725",
            "4b396c44a9b04d2584b336980005ab98",
            "ca7ff3c5714b4432a02eb56e47d53131",
            "4bdd1979cbd940afa9c5be783be3a37b",
            "9e4a65cb8a334d3eb680ab7cf11fcc59",
            "732499995c294e378b9a6098dd35ae6c",
            "f160f1056317485ca8b949a60ea455f0",
            "4bfa12ac2c3e4853a388ae9a9ab484d2",
            "01cfcc9381b34b7b8483e6967d9c46e1"
          ]
        }
      },
      "outputs": [
        {
          "output_type": "display_data",
          "data": {
            "text/plain": [
              "model.safetensors:   0%|          | 0.00/660M [00:00<?, ?B/s]"
            ],
            "application/vnd.jupyter.widget-view+json": {
              "version_major": 2,
              "version_minor": 0,
              "model_id": "698326d281fe40ed9758fdaa536f69d1"
            }
          },
          "metadata": {}
        },
        {
          "output_type": "stream",
          "name": "stderr",
          "text": [
            "[INFO|modeling_utils.py:3678] 2024-10-06 06:16:03,633 >> loading weights file model.safetensors from cache at /root/.cache/huggingface/hub/models--sagorsarker--bangla-bert-base/snapshots/875aa80a42ec196c16bd931ae5d85ad949f58b16/model.safetensors\n",
            "[INFO|modeling_utils.py:4497] 2024-10-06 06:16:03,810 >> Some weights of the model checkpoint at sagorsarker/bangla-bert-base were not used when initializing BertForSequenceClassification: ['cls.predictions.bias', 'cls.predictions.transform.LayerNorm.bias', 'cls.predictions.transform.LayerNorm.weight', 'cls.predictions.transform.dense.bias', 'cls.predictions.transform.dense.weight', 'cls.seq_relationship.bias', 'cls.seq_relationship.weight']\n",
            "- This IS expected if you are initializing BertForSequenceClassification from the checkpoint of a model trained on another task or with another architecture (e.g. initializing a BertForSequenceClassification model from a BertForPreTraining model).\n",
            "- This IS NOT expected if you are initializing BertForSequenceClassification from the checkpoint of a model that you expect to be exactly identical (initializing a BertForSequenceClassification model from a BertForSequenceClassification model).\n",
            "[WARNING|modeling_utils.py:4509] 2024-10-06 06:16:03,813 >> Some weights of BertForSequenceClassification were not initialized from the model checkpoint at sagorsarker/bangla-bert-base and are newly initialized: ['classifier.bias', 'classifier.weight']\n",
            "You should probably TRAIN this model on a down-stream task to be able to use it for predictions and inference.\n"
          ]
        }
      ],
      "source": [
        "model = AutoModelForSequenceClassification.from_pretrained(\n",
        "    model_name,\n",
        "    from_tf=bool(\".ckpt\" in model_name),\n",
        "    config=config,\n",
        "    cache_dir=None,\n",
        "    revision=\"main\",\n",
        "    use_auth_token=None,\n",
        "    ignore_mismatched_sizes=False,\n",
        ")"
      ]
    },
    {
      "cell_type": "code",
      "execution_count": null,
      "id": "1c573a30",
      "metadata": {
        "execution": {
          "iopub.execute_input": "2023-09-03T08:28:14.976590Z",
          "iopub.status.busy": "2023-09-03T08:28:14.975610Z",
          "iopub.status.idle": "2023-09-03T08:28:14.981795Z",
          "shell.execute_reply": "2023-09-03T08:28:14.980740Z"
        },
        "id": "1c573a30",
        "outputId": "d18f0e55-25fe-4bee-a2dc-3856746b9f6a",
        "papermill": {
          "duration": 0.061324,
          "end_time": "2023-09-03T08:28:14.984973",
          "exception": false,
          "start_time": "2023-09-03T08:28:14.923649",
          "status": "completed"
        },
        "tags": [],
        "colab": {
          "base_uri": "https://localhost:8080/"
        }
      },
      "outputs": [
        {
          "output_type": "stream",
          "name": "stdout",
          "text": [
            "['text']\n"
          ]
        }
      ],
      "source": [
        "non_label_column_names = [name for name in raw_datasets[\"train\"].column_names if name != \"label\"]\n",
        "print(non_label_column_names)"
      ]
    },
    {
      "cell_type": "code",
      "execution_count": null,
      "id": "0909e3de",
      "metadata": {
        "execution": {
          "iopub.execute_input": "2023-09-03T08:28:15.088022Z",
          "iopub.status.busy": "2023-09-03T08:28:15.087611Z",
          "iopub.status.idle": "2023-09-03T08:28:15.093003Z",
          "shell.execute_reply": "2023-09-03T08:28:15.091967Z"
        },
        "id": "0909e3de",
        "outputId": "212c2255-4b71-45f6-938a-66b3bd6efab3",
        "papermill": {
          "duration": 0.062141,
          "end_time": "2023-09-03T08:28:15.097310",
          "exception": false,
          "start_time": "2023-09-03T08:28:15.035169",
          "status": "completed"
        },
        "tags": [],
        "colab": {
          "base_uri": "https://localhost:8080/"
        }
      },
      "outputs": [
        {
          "output_type": "stream",
          "name": "stdout",
          "text": [
            "text\n"
          ]
        }
      ],
      "source": [
        "sentence_key= non_label_column_names[0]\n",
        "print(sentence_key)"
      ]
    },
    {
      "cell_type": "code",
      "execution_count": null,
      "id": "72ebad08",
      "metadata": {
        "execution": {
          "iopub.execute_input": "2023-09-03T08:28:15.200088Z",
          "iopub.status.busy": "2023-09-03T08:28:15.199736Z",
          "iopub.status.idle": "2023-09-03T08:28:15.209749Z",
          "shell.execute_reply": "2023-09-03T08:28:15.208405Z"
        },
        "id": "72ebad08",
        "outputId": "4700fc47-ecee-428d-e558-9dcd840879a8",
        "papermill": {
          "duration": 0.064101,
          "end_time": "2023-09-03T08:28:15.211846",
          "exception": false,
          "start_time": "2023-09-03T08:28:15.147745",
          "status": "completed"
        },
        "tags": [],
        "colab": {
          "base_uri": "https://localhost:8080/"
        }
      },
      "outputs": [
        {
          "output_type": "stream",
          "name": "stdout",
          "text": [
            "128\n"
          ]
        }
      ],
      "source": [
        "padding = \"max_length\"\n",
        "label_to_id = None\n",
        "\n",
        "if (model.config.label2id != PretrainedConfig(num_labels=num_labels).label2id):\n",
        "    # Some have all caps in their config, some don't.\n",
        "    label_name_to_id = {k.lower(): v for k, v in model.config.label2id.items()}\n",
        "    if sorted(label_name_to_id.keys()) == sorted(label_list):\n",
        "        label_to_id = {i: int(label_name_to_id[label_list[i]]) for i in range(num_labels)}\n",
        "    else:\n",
        "        logger.warning(\n",
        "            \"Your model seems to have been trained with labels, but they don't match the dataset: \",\n",
        "            f\"model labels: {sorted(label_name_to_id.keys())}, dataset labels: {sorted(label_list)}.\"\n",
        "            \"\\nIgnoring the model labels as a result.\",)\n",
        "\n",
        "\n",
        "if label_to_id is not None:\n",
        "    model.config.label2id = label_to_id\n",
        "    model.config.id2label = {id: label for label, id in config.label2id.items()}\n",
        "\n",
        "\n",
        "if 128 > tokenizer.model_max_length:\n",
        "    logger.warning(\n",
        "        f\"The max_seq_length passed ({128}) is larger than the maximum length for the\"\n",
        "        f\"model ({tokenizer.model_max_length}). Using max_seq_length={tokenizer.model_max_length}.\")\n",
        "\n",
        "\n",
        "max_seq_length = min(128, tokenizer.model_max_length)\n",
        "print(max_seq_length)"
      ]
    },
    {
      "cell_type": "code",
      "execution_count": null,
      "id": "65fd9ff5",
      "metadata": {
        "execution": {
          "iopub.execute_input": "2023-09-03T08:28:15.314729Z",
          "iopub.status.busy": "2023-09-03T08:28:15.314283Z",
          "iopub.status.idle": "2023-09-03T08:28:15.320315Z",
          "shell.execute_reply": "2023-09-03T08:28:15.319351Z"
        },
        "id": "65fd9ff5",
        "papermill": {
          "duration": 0.059583,
          "end_time": "2023-09-03T08:28:15.322369",
          "exception": false,
          "start_time": "2023-09-03T08:28:15.262786",
          "status": "completed"
        },
        "tags": []
      },
      "outputs": [],
      "source": [
        "def preprocess_function(examples):\n",
        "    # Tokenize the texts\n",
        "    args = (\n",
        "        (examples[sentence_key],))\n",
        "    result = tokenizer(*args, padding=padding, max_length=max_seq_length, truncation=True)\n",
        "\n",
        "    # Map labels to IDs (not necessary for GLUE tasks)\n",
        "    if label_to_id is not None and \"label\" in examples:\n",
        "        result[\"label\"] = [(label_to_id[l] if l != -1 else -1) for l in examples[\"label\"]]\n",
        "    return result"
      ]
    },
    {
      "cell_type": "code",
      "execution_count": null,
      "id": "2116bf75",
      "metadata": {
        "execution": {
          "iopub.execute_input": "2023-09-03T08:28:15.425061Z",
          "iopub.status.busy": "2023-09-03T08:28:15.424151Z",
          "iopub.status.idle": "2023-09-03T08:28:25.130181Z",
          "shell.execute_reply": "2023-09-03T08:28:25.128229Z"
        },
        "id": "2116bf75",
        "outputId": "10c9144e-8cbf-40af-f723-e943f5ea4d58",
        "papermill": {
          "duration": 9.759778,
          "end_time": "2023-09-03T08:28:25.132391",
          "exception": false,
          "start_time": "2023-09-03T08:28:15.372613",
          "status": "completed"
        },
        "tags": [],
        "colab": {
          "base_uri": "https://localhost:8080/",
          "height": 113,
          "referenced_widgets": [
            "89819a342aed40fa840357d5a333549c",
            "ec1353a4d19246dfbb71f19495211e54",
            "f62082f3a69c40d8942d4f6706493cc3",
            "5ac114b9c8964ee7ac189cc8100f4dcf",
            "e907d2fc1f4840619b10393d2909140e",
            "e9b257dc3da3467aabbcef53573f9825",
            "6b9837a14ca64bf698b67dfb61a62392",
            "3945f9cd0ed34d9c8865188ee8ecd055",
            "6e6df7a98ab7471c8ad446d42af1d611",
            "b5659ffbe8054b388eb8f70cb27c48de",
            "8c4967e1e911446993c3be74f36c1303",
            "cb5ef3f1d80d42e0b766b4485326d79c",
            "f8f9cb2be1a748e69ed5e8d590ff2109",
            "3a64cacc8686437492e328d41b3746e9",
            "75d9c030b3574b5da59bd6ab9457f172",
            "a2efa6807e584e2594dec3d3165c38c2",
            "94faef0fb4f24bc388554ecf9ea7bcc6",
            "2d52a30d6d4f44c08376bc3bb80a0cfb",
            "4782e2042d9d4062b60e09933dae885a",
            "a045fc91d18e429b997a7186bfd0b65f",
            "71fa002af36c480f8d6112ea0762c9bf",
            "36f65b65c8a1483893288446e9651284",
            "9ae4fb82f6aa42b99e9b5f6ce2fb2edf",
            "be8937d3e5c2496aafd6ca42641bb505",
            "c40fd018b68043dfac13e4fe5e0057fc",
            "70c674fe88714af0862d2276642443dd",
            "29053bf7c09a43ac82889353fe29b299",
            "c9444a17b4624965b73ec5d6d5d71cb6",
            "01818869debf476d8e754683ec872caa",
            "c63462667cdf4e51bda0d5085c21d8d2",
            "64dc0ec5e3c84b14928a5a9aa6110e5f",
            "aebe9ea1b8404a04a9664fd6ca9b6362",
            "25aeada05ba84b1d81ded1050350eb09"
          ]
        }
      },
      "outputs": [
        {
          "output_type": "display_data",
          "data": {
            "text/plain": [
              "Running tokenizer on dataset:   0%|          | 0/1927 [00:00<?, ? examples/s]"
            ],
            "application/vnd.jupyter.widget-view+json": {
              "version_major": 2,
              "version_minor": 0,
              "model_id": "89819a342aed40fa840357d5a333549c"
            }
          },
          "metadata": {}
        },
        {
          "output_type": "display_data",
          "data": {
            "text/plain": [
              "Running tokenizer on dataset:   0%|          | 0/1000 [00:00<?, ? examples/s]"
            ],
            "application/vnd.jupyter.widget-view+json": {
              "version_major": 2,
              "version_minor": 0,
              "model_id": "cb5ef3f1d80d42e0b766b4485326d79c"
            }
          },
          "metadata": {}
        },
        {
          "output_type": "display_data",
          "data": {
            "text/plain": [
              "Running tokenizer on dataset:   0%|          | 0/1000 [00:00<?, ? examples/s]"
            ],
            "application/vnd.jupyter.widget-view+json": {
              "version_major": 2,
              "version_minor": 0,
              "model_id": "9ae4fb82f6aa42b99e9b5f6ce2fb2edf"
            }
          },
          "metadata": {}
        }
      ],
      "source": [
        "raw_datasets = raw_datasets.map(\n",
        "    preprocess_function,\n",
        "    batched=True,\n",
        "    load_from_cache_file=True,\n",
        "    desc=\"Running tokenizer on dataset\",\n",
        ")"
      ]
    },
    {
      "cell_type": "code",
      "execution_count": null,
      "id": "9bc05826",
      "metadata": {
        "execution": {
          "iopub.execute_input": "2023-09-03T08:28:25.235030Z",
          "iopub.status.busy": "2023-09-03T08:28:25.234339Z",
          "iopub.status.idle": "2023-09-03T08:28:25.240175Z",
          "shell.execute_reply": "2023-09-03T08:28:25.239200Z"
        },
        "id": "9bc05826",
        "papermill": {
          "duration": 0.059039,
          "end_time": "2023-09-03T08:28:25.242291",
          "exception": false,
          "start_time": "2023-09-03T08:28:25.183252",
          "status": "completed"
        },
        "tags": []
      },
      "outputs": [],
      "source": [
        "if \"train\" not in raw_datasets:\n",
        "    raise ValueError(\"requires a train dataset\")"
      ]
    },
    {
      "cell_type": "code",
      "execution_count": null,
      "id": "9939200a",
      "metadata": {
        "execution": {
          "iopub.execute_input": "2023-09-03T08:28:25.343951Z",
          "iopub.status.busy": "2023-09-03T08:28:25.342850Z",
          "iopub.status.idle": "2023-09-03T08:28:25.348966Z",
          "shell.execute_reply": "2023-09-03T08:28:25.347918Z"
        },
        "id": "9939200a",
        "outputId": "3ac990c7-3fc9-49eb-befa-52dd8f819fc7",
        "papermill": {
          "duration": 0.059297,
          "end_time": "2023-09-03T08:28:25.351025",
          "exception": false,
          "start_time": "2023-09-03T08:28:25.291728",
          "status": "completed"
        },
        "tags": [],
        "colab": {
          "base_uri": "https://localhost:8080/"
        }
      },
      "outputs": [
        {
          "output_type": "stream",
          "name": "stdout",
          "text": [
            "Dataset({\n",
            "    features: ['text', 'label', 'input_ids', 'token_type_ids', 'attention_mask'],\n",
            "    num_rows: 1927\n",
            "})\n"
          ]
        }
      ],
      "source": [
        "train_dataset = raw_datasets[\"train\"]\n",
        "print(train_dataset)"
      ]
    },
    {
      "cell_type": "code",
      "execution_count": null,
      "id": "1a304002",
      "metadata": {
        "execution": {
          "iopub.execute_input": "2023-09-03T08:28:25.514245Z",
          "iopub.status.busy": "2023-09-03T08:28:25.513723Z",
          "iopub.status.idle": "2023-09-03T08:28:25.518893Z",
          "shell.execute_reply": "2023-09-03T08:28:25.518031Z"
        },
        "id": "1a304002",
        "papermill": {
          "duration": 0.087474,
          "end_time": "2023-09-03T08:28:25.523177",
          "exception": false,
          "start_time": "2023-09-03T08:28:25.435703",
          "status": "completed"
        },
        "tags": []
      },
      "outputs": [],
      "source": [
        "if \"validation\" not in raw_datasets:\n",
        "    raise ValueError(\"requires a validation dataset\")"
      ]
    },
    {
      "cell_type": "code",
      "execution_count": null,
      "id": "82e2f7aa",
      "metadata": {
        "execution": {
          "iopub.execute_input": "2023-09-03T08:28:25.669769Z",
          "iopub.status.busy": "2023-09-03T08:28:25.669200Z",
          "iopub.status.idle": "2023-09-03T08:28:25.675112Z",
          "shell.execute_reply": "2023-09-03T08:28:25.674230Z"
        },
        "id": "82e2f7aa",
        "outputId": "85dc114c-a9be-4022-d9f8-594a9340e1e4",
        "papermill": {
          "duration": 0.08476,
          "end_time": "2023-09-03T08:28:25.680761",
          "exception": false,
          "start_time": "2023-09-03T08:28:25.596001",
          "status": "completed"
        },
        "tags": [],
        "colab": {
          "base_uri": "https://localhost:8080/"
        }
      },
      "outputs": [
        {
          "output_type": "stream",
          "name": "stdout",
          "text": [
            "Dataset({\n",
            "    features: ['text', 'label', 'input_ids', 'token_type_ids', 'attention_mask'],\n",
            "    num_rows: 1000\n",
            "})\n"
          ]
        }
      ],
      "source": [
        "eval_dataset = raw_datasets[\"validation\"]\n",
        "print(eval_dataset)"
      ]
    },
    {
      "cell_type": "code",
      "execution_count": null,
      "id": "5a035f50",
      "metadata": {
        "execution": {
          "iopub.execute_input": "2023-09-03T08:28:25.832074Z",
          "iopub.status.busy": "2023-09-03T08:28:25.831644Z",
          "iopub.status.idle": "2023-09-03T08:28:25.837314Z",
          "shell.execute_reply": "2023-09-03T08:28:25.836450Z"
        },
        "id": "5a035f50",
        "outputId": "cf85eeb0-c591-4735-b9d1-b4f9f22a084e",
        "papermill": {
          "duration": 0.086326,
          "end_time": "2023-09-03T08:28:25.842996",
          "exception": false,
          "start_time": "2023-09-03T08:28:25.756670",
          "status": "completed"
        },
        "tags": [],
        "colab": {
          "base_uri": "https://localhost:8080/"
        }
      },
      "outputs": [
        {
          "output_type": "stream",
          "name": "stdout",
          "text": [
            "None\n"
          ]
        }
      ],
      "source": [
        "print(max_eval_samples)"
      ]
    },
    {
      "cell_type": "code",
      "execution_count": null,
      "id": "c7b10bf0",
      "metadata": {
        "execution": {
          "iopub.execute_input": "2023-09-03T08:28:25.987635Z",
          "iopub.status.busy": "2023-09-03T08:28:25.987199Z",
          "iopub.status.idle": "2023-09-03T08:28:25.992751Z",
          "shell.execute_reply": "2023-09-03T08:28:25.991802Z"
        },
        "id": "c7b10bf0",
        "papermill": {
          "duration": 0.08001,
          "end_time": "2023-09-03T08:28:25.995045",
          "exception": false,
          "start_time": "2023-09-03T08:28:25.915035",
          "status": "completed"
        },
        "tags": []
      },
      "outputs": [],
      "source": [
        "if max_eval_samples is not None:\n",
        "    max_eval_samples_n = min(len(eval_dataset), max_eval_samples)\n",
        "    eval_dataset = eval_dataset.select(range(max_eval_samples_n))"
      ]
    },
    {
      "cell_type": "code",
      "execution_count": null,
      "id": "d81cbdc6",
      "metadata": {
        "execution": {
          "iopub.execute_input": "2023-09-03T08:28:26.147589Z",
          "iopub.status.busy": "2023-09-03T08:28:26.147044Z",
          "iopub.status.idle": "2023-09-03T08:28:26.152121Z",
          "shell.execute_reply": "2023-09-03T08:28:26.151309Z"
        },
        "id": "d81cbdc6",
        "papermill": {
          "duration": 0.082904,
          "end_time": "2023-09-03T08:28:26.156309",
          "exception": false,
          "start_time": "2023-09-03T08:28:26.073405",
          "status": "completed"
        },
        "tags": []
      },
      "outputs": [],
      "source": [
        "if \"test\" not in raw_datasets and \"test_matched\" not in raw_datasets:\n",
        "    raise ValueError(\"requires a test dataset\")"
      ]
    },
    {
      "cell_type": "code",
      "execution_count": null,
      "id": "855f0034",
      "metadata": {
        "execution": {
          "iopub.execute_input": "2023-09-03T08:28:26.303709Z",
          "iopub.status.busy": "2023-09-03T08:28:26.303283Z",
          "iopub.status.idle": "2023-09-03T08:28:26.308335Z",
          "shell.execute_reply": "2023-09-03T08:28:26.307502Z"
        },
        "id": "855f0034",
        "outputId": "be42b374-5659-4787-d1f2-6093d3728e54",
        "papermill": {
          "duration": 0.085246,
          "end_time": "2023-09-03T08:28:26.314080",
          "exception": false,
          "start_time": "2023-09-03T08:28:26.228834",
          "status": "completed"
        },
        "tags": [],
        "colab": {
          "base_uri": "https://localhost:8080/"
        }
      },
      "outputs": [
        {
          "output_type": "stream",
          "name": "stdout",
          "text": [
            "Dataset({\n",
            "    features: ['text', 'label', 'input_ids', 'token_type_ids', 'attention_mask'],\n",
            "    num_rows: 1000\n",
            "})\n"
          ]
        }
      ],
      "source": [
        "predict_dataset = raw_datasets[\"test\"]\n",
        "print(predict_dataset)"
      ]
    },
    {
      "cell_type": "code",
      "execution_count": null,
      "id": "1ada686f",
      "metadata": {
        "execution": {
          "iopub.execute_input": "2023-09-03T08:28:26.460160Z",
          "iopub.status.busy": "2023-09-03T08:28:26.459749Z",
          "iopub.status.idle": "2023-09-03T08:28:26.464772Z",
          "shell.execute_reply": "2023-09-03T08:28:26.463916Z"
        },
        "id": "1ada686f",
        "outputId": "334e2104-cef1-410f-df1a-26951eaf5c1a",
        "papermill": {
          "duration": 0.084472,
          "end_time": "2023-09-03T08:28:26.470488",
          "exception": false,
          "start_time": "2023-09-03T08:28:26.386016",
          "status": "completed"
        },
        "tags": [],
        "colab": {
          "base_uri": "https://localhost:8080/"
        }
      },
      "outputs": [
        {
          "output_type": "stream",
          "name": "stdout",
          "text": [
            "None\n"
          ]
        }
      ],
      "source": [
        "print(max_predict_samples)"
      ]
    },
    {
      "cell_type": "code",
      "execution_count": null,
      "id": "ce70ecce",
      "metadata": {
        "execution": {
          "iopub.execute_input": "2023-09-03T08:28:26.621243Z",
          "iopub.status.busy": "2023-09-03T08:28:26.620835Z",
          "iopub.status.idle": "2023-09-03T08:28:26.625936Z",
          "shell.execute_reply": "2023-09-03T08:28:26.625102Z"
        },
        "id": "ce70ecce",
        "papermill": {
          "duration": 0.083606,
          "end_time": "2023-09-03T08:28:26.630140",
          "exception": false,
          "start_time": "2023-09-03T08:28:26.546534",
          "status": "completed"
        },
        "tags": []
      },
      "outputs": [],
      "source": [
        "if max_predict_samples is not None:\n",
        "    max_predict_samples_n = min(len(predict_dataset), max_predict_samples)\n",
        "    predict_dataset = predict_dataset.select(range(max_predict_samples_n))"
      ]
    },
    {
      "cell_type": "code",
      "execution_count": null,
      "id": "bd26946d",
      "metadata": {
        "execution": {
          "iopub.execute_input": "2023-09-03T08:28:26.779541Z",
          "iopub.status.busy": "2023-09-03T08:28:26.779128Z",
          "iopub.status.idle": "2023-09-03T08:28:26.789749Z",
          "shell.execute_reply": "2023-09-03T08:28:26.788914Z"
        },
        "id": "bd26946d",
        "outputId": "e3b4af23-1876-4aaa-bba0-c502302e2439",
        "papermill": {
          "duration": 0.089661,
          "end_time": "2023-09-03T08:28:26.792672",
          "exception": false,
          "start_time": "2023-09-03T08:28:26.703011",
          "status": "completed"
        },
        "tags": [],
        "colab": {
          "base_uri": "https://localhost:8080/"
        }
      },
      "outputs": [
        {
          "output_type": "stream",
          "name": "stderr",
          "text": [
            "INFO:__main__:Sample 1309 of the training set: {'text': 'সেতুতে অটো ডিটেকক্টর লাগালেইত পারে', 'label': 1, 'input_ids': [101, 2118, 63129, 2094, 51705, 2094, 2395, 80346, 17338, 22146, 2046, 18567, 41821, 2083, 102, 0, 0, 0, 0, 0, 0, 0, 0, 0, 0, 0, 0, 0, 0, 0, 0, 0, 0, 0, 0, 0, 0, 0, 0, 0, 0, 0, 0, 0, 0, 0, 0, 0, 0, 0, 0, 0, 0, 0, 0, 0, 0, 0, 0, 0, 0, 0, 0, 0, 0, 0, 0, 0, 0, 0, 0, 0, 0, 0, 0, 0, 0, 0, 0, 0, 0, 0, 0, 0, 0, 0, 0, 0, 0, 0, 0, 0, 0, 0, 0, 0, 0, 0, 0, 0, 0, 0, 0, 0, 0, 0, 0, 0, 0, 0, 0, 0, 0, 0, 0, 0, 0, 0, 0, 0, 0, 0, 0, 0, 0, 0, 0, 0], 'token_type_ids': [0, 0, 0, 0, 0, 0, 0, 0, 0, 0, 0, 0, 0, 0, 0, 0, 0, 0, 0, 0, 0, 0, 0, 0, 0, 0, 0, 0, 0, 0, 0, 0, 0, 0, 0, 0, 0, 0, 0, 0, 0, 0, 0, 0, 0, 0, 0, 0, 0, 0, 0, 0, 0, 0, 0, 0, 0, 0, 0, 0, 0, 0, 0, 0, 0, 0, 0, 0, 0, 0, 0, 0, 0, 0, 0, 0, 0, 0, 0, 0, 0, 0, 0, 0, 0, 0, 0, 0, 0, 0, 0, 0, 0, 0, 0, 0, 0, 0, 0, 0, 0, 0, 0, 0, 0, 0, 0, 0, 0, 0, 0, 0, 0, 0, 0, 0, 0, 0, 0, 0, 0, 0, 0, 0, 0, 0, 0, 0], 'attention_mask': [1, 1, 1, 1, 1, 1, 1, 1, 1, 1, 1, 1, 1, 1, 1, 0, 0, 0, 0, 0, 0, 0, 0, 0, 0, 0, 0, 0, 0, 0, 0, 0, 0, 0, 0, 0, 0, 0, 0, 0, 0, 0, 0, 0, 0, 0, 0, 0, 0, 0, 0, 0, 0, 0, 0, 0, 0, 0, 0, 0, 0, 0, 0, 0, 0, 0, 0, 0, 0, 0, 0, 0, 0, 0, 0, 0, 0, 0, 0, 0, 0, 0, 0, 0, 0, 0, 0, 0, 0, 0, 0, 0, 0, 0, 0, 0, 0, 0, 0, 0, 0, 0, 0, 0, 0, 0, 0, 0, 0, 0, 0, 0, 0, 0, 0, 0, 0, 0, 0, 0, 0, 0, 0, 0, 0, 0, 0, 0]}.\n",
            "INFO:__main__:Sample 228 of the training set: {'text': 'ভোট চুরি করে ক্ষমতায় থাকা br>দেশের সম্পদ লোটপাট করে পাচার করা ও গুম ও খুন করে বাক স্বাধীনতা হরণ করায় এই সাফল্য ম্ল্যান ও প্রশ্নবিদ্ধ হয়েছে', 'label': 2, 'input_ids': [101, 16137, 21327, 5502, 2454, 2039, 36470, 71837, 9294, 2187, 100, 1044, 2150, 96032, 5942, 21327, 23464, 2039, 3630, 2047, 2038, 9749, 2038, 67935, 2039, 15447, 2132, 24484, 3274, 15863, 2047, 9294, 2045, 9182, 2756, 9294, 10354, 19264, 2038, 25860, 30857, 19592, 15537, 86336, 102, 0, 0, 0, 0, 0, 0, 0, 0, 0, 0, 0, 0, 0, 0, 0, 0, 0, 0, 0, 0, 0, 0, 0, 0, 0, 0, 0, 0, 0, 0, 0, 0, 0, 0, 0, 0, 0, 0, 0, 0, 0, 0, 0, 0, 0, 0, 0, 0, 0, 0, 0, 0, 0, 0, 0, 0, 0, 0, 0, 0, 0, 0, 0, 0, 0, 0, 0, 0, 0, 0, 0, 0, 0, 0, 0, 0, 0, 0, 0, 0, 0, 0, 0], 'token_type_ids': [0, 0, 0, 0, 0, 0, 0, 0, 0, 0, 0, 0, 0, 0, 0, 0, 0, 0, 0, 0, 0, 0, 0, 0, 0, 0, 0, 0, 0, 0, 0, 0, 0, 0, 0, 0, 0, 0, 0, 0, 0, 0, 0, 0, 0, 0, 0, 0, 0, 0, 0, 0, 0, 0, 0, 0, 0, 0, 0, 0, 0, 0, 0, 0, 0, 0, 0, 0, 0, 0, 0, 0, 0, 0, 0, 0, 0, 0, 0, 0, 0, 0, 0, 0, 0, 0, 0, 0, 0, 0, 0, 0, 0, 0, 0, 0, 0, 0, 0, 0, 0, 0, 0, 0, 0, 0, 0, 0, 0, 0, 0, 0, 0, 0, 0, 0, 0, 0, 0, 0, 0, 0, 0, 0, 0, 0, 0, 0], 'attention_mask': [1, 1, 1, 1, 1, 1, 1, 1, 1, 1, 1, 1, 1, 1, 1, 1, 1, 1, 1, 1, 1, 1, 1, 1, 1, 1, 1, 1, 1, 1, 1, 1, 1, 1, 1, 1, 1, 1, 1, 1, 1, 1, 1, 1, 1, 0, 0, 0, 0, 0, 0, 0, 0, 0, 0, 0, 0, 0, 0, 0, 0, 0, 0, 0, 0, 0, 0, 0, 0, 0, 0, 0, 0, 0, 0, 0, 0, 0, 0, 0, 0, 0, 0, 0, 0, 0, 0, 0, 0, 0, 0, 0, 0, 0, 0, 0, 0, 0, 0, 0, 0, 0, 0, 0, 0, 0, 0, 0, 0, 0, 0, 0, 0, 0, 0, 0, 0, 0, 0, 0, 0, 0, 0, 0, 0, 0, 0, 0]}.\n",
            "INFO:__main__:Sample 51 of the training set: {'text': 'হাইরে ষড়যন্ত্র', 'label': 1, 'input_ids': [101, 4597, 6187, 26153, 3447, 56469, 12499, 102, 0, 0, 0, 0, 0, 0, 0, 0, 0, 0, 0, 0, 0, 0, 0, 0, 0, 0, 0, 0, 0, 0, 0, 0, 0, 0, 0, 0, 0, 0, 0, 0, 0, 0, 0, 0, 0, 0, 0, 0, 0, 0, 0, 0, 0, 0, 0, 0, 0, 0, 0, 0, 0, 0, 0, 0, 0, 0, 0, 0, 0, 0, 0, 0, 0, 0, 0, 0, 0, 0, 0, 0, 0, 0, 0, 0, 0, 0, 0, 0, 0, 0, 0, 0, 0, 0, 0, 0, 0, 0, 0, 0, 0, 0, 0, 0, 0, 0, 0, 0, 0, 0, 0, 0, 0, 0, 0, 0, 0, 0, 0, 0, 0, 0, 0, 0, 0, 0, 0, 0], 'token_type_ids': [0, 0, 0, 0, 0, 0, 0, 0, 0, 0, 0, 0, 0, 0, 0, 0, 0, 0, 0, 0, 0, 0, 0, 0, 0, 0, 0, 0, 0, 0, 0, 0, 0, 0, 0, 0, 0, 0, 0, 0, 0, 0, 0, 0, 0, 0, 0, 0, 0, 0, 0, 0, 0, 0, 0, 0, 0, 0, 0, 0, 0, 0, 0, 0, 0, 0, 0, 0, 0, 0, 0, 0, 0, 0, 0, 0, 0, 0, 0, 0, 0, 0, 0, 0, 0, 0, 0, 0, 0, 0, 0, 0, 0, 0, 0, 0, 0, 0, 0, 0, 0, 0, 0, 0, 0, 0, 0, 0, 0, 0, 0, 0, 0, 0, 0, 0, 0, 0, 0, 0, 0, 0, 0, 0, 0, 0, 0, 0], 'attention_mask': [1, 1, 1, 1, 1, 1, 1, 1, 0, 0, 0, 0, 0, 0, 0, 0, 0, 0, 0, 0, 0, 0, 0, 0, 0, 0, 0, 0, 0, 0, 0, 0, 0, 0, 0, 0, 0, 0, 0, 0, 0, 0, 0, 0, 0, 0, 0, 0, 0, 0, 0, 0, 0, 0, 0, 0, 0, 0, 0, 0, 0, 0, 0, 0, 0, 0, 0, 0, 0, 0, 0, 0, 0, 0, 0, 0, 0, 0, 0, 0, 0, 0, 0, 0, 0, 0, 0, 0, 0, 0, 0, 0, 0, 0, 0, 0, 0, 0, 0, 0, 0, 0, 0, 0, 0, 0, 0, 0, 0, 0, 0, 0, 0, 0, 0, 0, 0, 0, 0, 0, 0, 0, 0, 0, 0, 0, 0, 0]}.\n"
          ]
        }
      ],
      "source": [
        "for index in random.sample(range(len(train_dataset)), 3):\n",
        "    logger.info(f\"Sample {index} of the training set: {train_dataset[index]}.\")"
      ]
    },
    {
      "cell_type": "code",
      "execution_count": null,
      "id": "e3804667",
      "metadata": {
        "execution": {
          "iopub.execute_input": "2023-09-03T08:28:26.943424Z",
          "iopub.status.busy": "2023-09-03T08:28:26.943053Z",
          "iopub.status.idle": "2023-09-03T08:28:27.653424Z",
          "shell.execute_reply": "2023-09-03T08:28:27.652467Z"
        },
        "id": "e3804667",
        "outputId": "9ac2a7e7-7e38-49cc-b733-100152b5ed32",
        "papermill": {
          "duration": 0.789336,
          "end_time": "2023-09-03T08:28:27.655751",
          "exception": false,
          "start_time": "2023-09-03T08:28:26.866415",
          "status": "completed"
        },
        "tags": [],
        "colab": {
          "base_uri": "https://localhost:8080/",
          "height": 49,
          "referenced_widgets": [
            "d4746ee43d424dd297095e3d4f5c3929",
            "eb2ad7ae0d3c405a83de5920c1522eff",
            "5600083879b541ddb3aa06c08d17a7c3",
            "80dfcbd71d134360b36b4a69f735d688",
            "c2ef9dda24294ee9875497df3475ac10",
            "f8c457a301724332b08f7ff38a9d445e",
            "e2f85932a1714672bcd13515d0f59e5d",
            "c3ed4688cb7e472ab7113ed26c190ad5",
            "4d41013b3d834284b56b11d19c6cff43",
            "005046532d774781a6e2183610c3a6ae",
            "4e494d3eae41402e923a512d23ee8a42"
          ]
        }
      },
      "outputs": [
        {
          "output_type": "display_data",
          "data": {
            "text/plain": [
              "Downloading builder script:   0%|          | 0.00/4.20k [00:00<?, ?B/s]"
            ],
            "application/vnd.jupyter.widget-view+json": {
              "version_major": 2,
              "version_minor": 0,
              "model_id": "d4746ee43d424dd297095e3d4f5c3929"
            }
          },
          "metadata": {}
        }
      ],
      "source": [
        "metric = evaluate.load(\"accuracy\")"
      ]
    },
    {
      "cell_type": "code",
      "execution_count": null,
      "id": "643e1cb2",
      "metadata": {
        "execution": {
          "iopub.execute_input": "2023-09-03T08:28:27.763000Z",
          "iopub.status.busy": "2023-09-03T08:28:27.761938Z",
          "iopub.status.idle": "2023-09-03T08:28:27.769619Z",
          "shell.execute_reply": "2023-09-03T08:28:27.768360Z"
        },
        "id": "643e1cb2",
        "papermill": {
          "duration": 0.064028,
          "end_time": "2023-09-03T08:28:27.772351",
          "exception": false,
          "start_time": "2023-09-03T08:28:27.708323",
          "status": "completed"
        },
        "tags": []
      },
      "outputs": [],
      "source": [
        "def calculate_micro_f1_score(true_positives, false_positives, false_negatives):\n",
        "    total_tp = sum(true_positives)\n",
        "    total_fp = sum(false_positives)\n",
        "    total_fn = sum(false_negatives)\n",
        "\n",
        "    micro_precision = total_tp / (total_tp + total_fp + 1e-9)\n",
        "    micro_recall = total_tp / (total_tp + total_fn + 1e-9)\n",
        "\n",
        "    micro_f1 = 2 * (micro_precision * micro_recall) / (micro_precision + micro_recall + 1e-9)\n",
        "\n",
        "    return micro_f1"
      ]
    },
    {
      "cell_type": "code",
      "execution_count": null,
      "id": "6a98afe1",
      "metadata": {
        "execution": {
          "iopub.execute_input": "2023-09-03T08:28:27.893458Z",
          "iopub.status.busy": "2023-09-03T08:28:27.893038Z",
          "iopub.status.idle": "2023-09-03T08:28:27.903704Z",
          "shell.execute_reply": "2023-09-03T08:28:27.902484Z"
        },
        "id": "6a98afe1",
        "papermill": {
          "duration": 0.074426,
          "end_time": "2023-09-03T08:28:27.906111",
          "exception": false,
          "start_time": "2023-09-03T08:28:27.831685",
          "status": "completed"
        },
        "tags": []
      },
      "outputs": [],
      "source": [
        "def compute_metrics(p: EvalPrediction):\n",
        "    preds = p.predictions[0] if isinstance(p.predictions, tuple) else p.predictions\n",
        "    preds = np.argmax(preds, axis=1)\n",
        "\n",
        "    labels = p.label_ids\n",
        "    # Initialize dictionaries to store TP, FP, and FN for each class\n",
        "    true_positives = {label: 0 for label in range(num_labels)}\n",
        "    false_positives = {label: 0 for label in range(num_labels)}\n",
        "    false_negatives = {label: 0 for label in range(num_labels)}\n",
        "\n",
        "    for label, pred in zip(labels, preds):\n",
        "        for class_id in range(num_labels):\n",
        "            if class_id == label and class_id == pred:\n",
        "                true_positives[class_id] += 1\n",
        "            elif class_id != label and class_id == pred:\n",
        "                false_positives[class_id] += 1\n",
        "            elif class_id == label and class_id != pred:\n",
        "                false_negatives[class_id] += 1\n",
        "\n",
        "    return {\n",
        "        \"micro_f1_score\": calculate_micro_f1_score(\n",
        "            list(true_positives.values()), list(false_positives.values()), list(false_negatives.values())\n",
        "        ),\n",
        "        \"accuracy\": (preds == p.label_ids).astype(np.float32).mean().item()\n",
        "    }\n"
      ]
    },
    {
      "cell_type": "code",
      "execution_count": null,
      "id": "1a8f4079",
      "metadata": {
        "execution": {
          "iopub.execute_input": "2023-09-03T08:28:28.020332Z",
          "iopub.status.busy": "2023-09-03T08:28:28.019945Z",
          "iopub.status.idle": "2023-09-03T08:28:28.024948Z",
          "shell.execute_reply": "2023-09-03T08:28:28.023859Z"
        },
        "id": "1a8f4079",
        "papermill": {
          "duration": 0.063119,
          "end_time": "2023-09-03T08:28:28.027092",
          "exception": false,
          "start_time": "2023-09-03T08:28:27.963973",
          "status": "completed"
        },
        "tags": []
      },
      "outputs": [],
      "source": [
        "data_collator = default_data_collator"
      ]
    },
    {
      "cell_type": "code",
      "execution_count": null,
      "id": "9b7adce2",
      "metadata": {
        "execution": {
          "iopub.execute_input": "2023-09-03T08:28:28.136563Z",
          "iopub.status.busy": "2023-09-03T08:28:28.135391Z",
          "iopub.status.idle": "2023-09-03T08:28:28.140534Z",
          "shell.execute_reply": "2023-09-03T08:28:28.139607Z"
        },
        "papermill": {
          "duration": 0.061693,
          "end_time": "2023-09-03T08:28:28.142774",
          "exception": false,
          "start_time": "2023-09-03T08:28:28.081081",
          "status": "completed"
        },
        "tags": [],
        "id": "9b7adce2"
      },
      "outputs": [],
      "source": [
        "import os\n",
        "os.environ[\"WANDB_DISABLED\"] = \"true\""
      ]
    },
    {
      "cell_type": "code",
      "execution_count": null,
      "id": "c7e03ccf",
      "metadata": {
        "execution": {
          "iopub.execute_input": "2023-09-03T08:28:28.249068Z",
          "iopub.status.busy": "2023-09-03T08:28:28.248703Z",
          "iopub.status.idle": "2023-09-03T08:28:53.247267Z",
          "shell.execute_reply": "2023-09-03T08:28:53.246150Z"
        },
        "id": "c7e03ccf",
        "outputId": "09034c29-a325-4828-9750-9fc7adab2c72",
        "papermill": {
          "duration": 25.054839,
          "end_time": "2023-09-03T08:28:53.249394",
          "exception": false,
          "start_time": "2023-09-03T08:28:28.194555",
          "status": "completed"
        },
        "tags": [],
        "colab": {
          "base_uri": "https://localhost:8080/",
          "height": 265
        }
      },
      "outputs": [
        {
          "output_type": "stream",
          "name": "stderr",
          "text": [
            "/usr/local/lib/python3.10/dist-packages/transformers/training_args.py:1525: FutureWarning: `evaluation_strategy` is deprecated and will be removed in version 4.46 of 🤗 Transformers. Use `eval_strategy` instead\n",
            "  warnings.warn(\n",
            "[INFO|training_args.py:1565] 2024-10-06 06:18:33,011 >> using `logging_steps` to initialize `eval_steps` to 500\n",
            "[INFO|training_args.py:2100] 2024-10-06 06:18:33,013 >> PyTorch: setting up devices\n",
            "[INFO|training_args.py:1788] 2024-10-06 06:18:33,033 >> The default value for the training argument `--report_to` will change in v5 (from all installed integrations to none). In v5, you will need to use `--report_to all` to get the same behavior as now. You should start updating your code and make this info disappear :-).\n",
            "[WARNING|integration_utils.py:100] 2024-10-06 06:18:33,036 >> Using the `WANDB_DISABLED` environment variable is deprecated and will be removed in v5. Use the --report_to flag to control the integrations used for logging result (for instance --report_to none).\n",
            "[INFO|trainer.py:811] 2024-10-06 06:18:33,615 >> The following columns in the evaluation set don't have a corresponding argument in `BertForSequenceClassification.forward` and have been ignored: text. If text are not expected by `BertForSequenceClassification.forward`,  you can safely ignore this message.\n",
            "[INFO|trainer.py:3819] 2024-10-06 06:18:33,763 >> \n",
            "***** Running Evaluation *****\n",
            "[INFO|trainer.py:3821] 2024-10-06 06:18:33,765 >>   Num examples = 1000\n",
            "[INFO|trainer.py:3824] 2024-10-06 06:18:33,768 >>   Batch size = 8\n"
          ]
        },
        {
          "output_type": "display_data",
          "data": {
            "text/plain": [
              "<IPython.core.display.HTML object>"
            ],
            "text/html": [
              "\n",
              "    <div>\n",
              "      \n",
              "      <progress value='125' max='125' style='width:300px; height:20px; vertical-align: middle;'></progress>\n",
              "      [125/125 00:06]\n",
              "    </div>\n",
              "    "
            ]
          },
          "metadata": {}
        },
        {
          "output_type": "stream",
          "name": "stdout",
          "text": [
            "{'eval_loss': 1.2068068981170654, 'eval_model_preparation_time': 0.0041, 'eval_micro_f1_score': 0.214999999499785, 'eval_accuracy': 0.2150000035762787, 'eval_runtime': 8.1159, 'eval_samples_per_second': 123.216, 'eval_steps_per_second': 15.402}\n"
          ]
        }
      ],
      "source": [
        "from transformers import BertTokenizer, BertForSequenceClassification, Trainer, TrainingArguments\n",
        "training_args = TrainingArguments(\n",
        "    output_dir=\"./output\",\n",
        "    evaluation_strategy=\"steps\",  # Changed to \"steps\"\n",
        "    logging_dir=\"./logs\",\n",
        "    per_device_train_batch_size=8,\n",
        "    per_device_eval_batch_size=8,\n",
        "    learning_rate=2e-5,\n",
        "    num_train_epochs=3,\n",
        "    weight_decay=0.01,\n",
        "    save_total_limit=3,  # Limit the number of saved checkpoints\n",
        "    load_best_model_at_end=True,\n",
        ")\n",
        "\n",
        "# Initialize the Trainer\n",
        "trainer = Trainer(\n",
        "    model=model,\n",
        "    args=training_args,\n",
        "    train_dataset=train_dataset,\n",
        "    eval_dataset=eval_dataset,\n",
        "    compute_metrics=compute_metrics,\n",
        "    tokenizer=tokenizer,\n",
        ")\n",
        "\n",
        "# Perform cross-validation\n",
        "results = trainer.evaluate()\n",
        "print(results)"
      ]
    },
    {
      "cell_type": "code",
      "execution_count": null,
      "id": "f3f95361",
      "metadata": {
        "execution": {
          "iopub.execute_input": "2023-09-03T08:28:53.354093Z",
          "iopub.status.busy": "2023-09-03T08:28:53.353731Z",
          "iopub.status.idle": "2023-09-03T09:09:15.870116Z",
          "shell.execute_reply": "2023-09-03T09:09:15.866631Z"
        },
        "id": "f3f95361",
        "outputId": "8d102905-cb71-4c95-fe49-79b0af45946a",
        "papermill": {
          "duration": 2422.573629,
          "end_time": "2023-09-03T09:09:15.874667",
          "exception": false,
          "start_time": "2023-09-03T08:28:53.301038",
          "status": "completed"
        },
        "tags": [],
        "colab": {
          "base_uri": "https://localhost:8080/",
          "height": 667
        }
      },
      "outputs": [
        {
          "output_type": "stream",
          "name": "stderr",
          "text": [
            "[INFO|trainer.py:811] 2024-10-06 06:18:49,289 >> The following columns in the training set don't have a corresponding argument in `BertForSequenceClassification.forward` and have been ignored: text. If text are not expected by `BertForSequenceClassification.forward`,  you can safely ignore this message.\n",
            "[INFO|trainer.py:2134] 2024-10-06 06:18:49,304 >> ***** Running training *****\n",
            "[INFO|trainer.py:2135] 2024-10-06 06:18:49,305 >>   Num examples = 1,927\n",
            "[INFO|trainer.py:2136] 2024-10-06 06:18:49,307 >>   Num Epochs = 3\n",
            "[INFO|trainer.py:2137] 2024-10-06 06:18:49,310 >>   Instantaneous batch size per device = 8\n",
            "[INFO|trainer.py:2140] 2024-10-06 06:18:49,311 >>   Total train batch size (w. parallel, distributed & accumulation) = 8\n",
            "[INFO|trainer.py:2141] 2024-10-06 06:18:49,313 >>   Gradient Accumulation steps = 1\n",
            "[INFO|trainer.py:2142] 2024-10-06 06:18:49,313 >>   Total optimization steps = 723\n",
            "[INFO|trainer.py:2143] 2024-10-06 06:18:49,315 >>   Number of trainable parameters = 164,398,851\n"
          ]
        },
        {
          "output_type": "display_data",
          "data": {
            "text/plain": [
              "<IPython.core.display.HTML object>"
            ],
            "text/html": [
              "\n",
              "    <div>\n",
              "      \n",
              "      <progress value='723' max='723' style='width:300px; height:20px; vertical-align: middle;'></progress>\n",
              "      [723/723 03:23, Epoch 3/3]\n",
              "    </div>\n",
              "    <table border=\"1\" class=\"dataframe\">\n",
              "  <thead>\n",
              " <tr style=\"text-align: left;\">\n",
              "      <th>Step</th>\n",
              "      <th>Training Loss</th>\n",
              "      <th>Validation Loss</th>\n",
              "      <th>Model Preparation Time</th>\n",
              "      <th>Micro F1 Score</th>\n",
              "      <th>Accuracy</th>\n",
              "    </tr>\n",
              "  </thead>\n",
              "  <tbody>\n",
              "    <tr>\n",
              "      <td>500</td>\n",
              "      <td>0.830000</td>\n",
              "      <td>0.577453</td>\n",
              "      <td>0.004100</td>\n",
              "      <td>0.734000</td>\n",
              "      <td>0.734000</td>\n",
              "    </tr>\n",
              "  </tbody>\n",
              "</table><p>"
            ]
          },
          "metadata": {}
        },
        {
          "output_type": "stream",
          "name": "stderr",
          "text": [
            "[INFO|trainer.py:811] 2024-10-06 06:20:39,194 >> The following columns in the evaluation set don't have a corresponding argument in `BertForSequenceClassification.forward` and have been ignored: text. If text are not expected by `BertForSequenceClassification.forward`,  you can safely ignore this message.\n",
            "[INFO|trainer.py:3819] 2024-10-06 06:20:39,199 >> \n",
            "***** Running Evaluation *****\n",
            "[INFO|trainer.py:3821] 2024-10-06 06:20:39,200 >>   Num examples = 1000\n",
            "[INFO|trainer.py:3824] 2024-10-06 06:20:39,203 >>   Batch size = 8\n"
          ]
        },
        {
          "output_type": "display_data",
          "data": {
            "text/plain": [
              "<IPython.core.display.HTML object>"
            ],
            "text/html": [
              "\n",
              "    <div>\n",
              "      \n",
              "      <progress value='250' max='125' style='width:300px; height:20px; vertical-align: middle;'></progress>\n",
              "      [125/125 02:11]\n",
              "    </div>\n",
              "    "
            ]
          },
          "metadata": {}
        },
        {
          "output_type": "stream",
          "name": "stderr",
          "text": [
            "[INFO|trainer.py:3503] 2024-10-06 06:20:46,808 >> Saving model checkpoint to ./output/checkpoint-500\n",
            "[INFO|configuration_utils.py:472] 2024-10-06 06:20:46,812 >> Configuration saved in ./output/checkpoint-500/config.json\n",
            "[INFO|modeling_utils.py:2799] 2024-10-06 06:20:51,353 >> Model weights saved in ./output/checkpoint-500/model.safetensors\n",
            "[INFO|tokenization_utils_base.py:2684] 2024-10-06 06:20:51,359 >> tokenizer config file saved in ./output/checkpoint-500/tokenizer_config.json\n",
            "[INFO|tokenization_utils_base.py:2693] 2024-10-06 06:20:51,361 >> Special tokens file saved in ./output/checkpoint-500/special_tokens_map.json\n",
            "[INFO|trainer.py:3503] 2024-10-06 06:21:52,343 >> Saving model checkpoint to ./output/checkpoint-723\n",
            "[INFO|configuration_utils.py:472] 2024-10-06 06:21:52,347 >> Configuration saved in ./output/checkpoint-723/config.json\n",
            "[INFO|modeling_utils.py:2799] 2024-10-06 06:22:00,042 >> Model weights saved in ./output/checkpoint-723/model.safetensors\n",
            "[INFO|tokenization_utils_base.py:2684] 2024-10-06 06:22:00,047 >> tokenizer config file saved in ./output/checkpoint-723/tokenizer_config.json\n",
            "[INFO|tokenization_utils_base.py:2693] 2024-10-06 06:22:00,048 >> Special tokens file saved in ./output/checkpoint-723/special_tokens_map.json\n",
            "[INFO|trainer.py:2394] 2024-10-06 06:22:09,959 >> \n",
            "\n",
            "Training completed. Do not forget to share your model on huggingface.co/models =)\n",
            "\n",
            "\n",
            "[INFO|trainer.py:2632] 2024-10-06 06:22:09,960 >> Loading best model from ./output/checkpoint-500 (score: 0.5774528980255127).\n"
          ]
        }
      ],
      "source": [
        "train_result = trainer.train()"
      ]
    },
    {
      "cell_type": "code",
      "execution_count": null,
      "id": "912fcb5d",
      "metadata": {
        "papermill": {
          "duration": 0.111845,
          "end_time": "2023-09-03T09:09:16.098684",
          "exception": false,
          "start_time": "2023-09-03T09:09:15.986839",
          "status": "completed"
        },
        "tags": [],
        "id": "912fcb5d"
      },
      "outputs": [],
      "source": []
    },
    {
      "cell_type": "code",
      "execution_count": null,
      "id": "f4a1e4cb",
      "metadata": {
        "execution": {
          "iopub.execute_input": "2023-09-03T09:09:16.328846Z",
          "iopub.status.busy": "2023-09-03T09:09:16.328287Z",
          "iopub.status.idle": "2023-09-03T09:09:16.334285Z",
          "shell.execute_reply": "2023-09-03T09:09:16.333453Z"
        },
        "id": "f4a1e4cb",
        "papermill": {
          "duration": 0.126829,
          "end_time": "2023-09-03T09:09:16.338435",
          "exception": false,
          "start_time": "2023-09-03T09:09:16.211606",
          "status": "completed"
        },
        "tags": []
      },
      "outputs": [],
      "source": [
        "metrics = train_result.metrics\n",
        "max_train_samples = (\n",
        "    max_train_samples if max_train_samples is not None else len(train_dataset)\n",
        ")\n",
        "metrics[\"train_samples\"] = min(max_train_samples, len(train_dataset))"
      ]
    },
    {
      "cell_type": "code",
      "execution_count": null,
      "id": "62f0dc99",
      "metadata": {
        "execution": {
          "iopub.execute_input": "2023-09-03T09:09:16.582600Z",
          "iopub.status.busy": "2023-09-03T09:09:16.582067Z",
          "iopub.status.idle": "2023-09-03T09:09:18.199588Z",
          "shell.execute_reply": "2023-09-03T09:09:18.197785Z"
        },
        "id": "62f0dc99",
        "outputId": "f8c55b89-f72f-46dd-e762-3be833c0ad20",
        "papermill": {
          "duration": 1.741237,
          "end_time": "2023-09-03T09:09:18.203093",
          "exception": false,
          "start_time": "2023-09-03T09:09:16.461856",
          "status": "completed"
        },
        "tags": [],
        "colab": {
          "base_uri": "https://localhost:8080/"
        }
      },
      "outputs": [
        {
          "output_type": "stream",
          "name": "stderr",
          "text": [
            "[INFO|trainer.py:3503] 2024-10-06 06:22:28,582 >> Saving model checkpoint to ./output\n",
            "[INFO|configuration_utils.py:472] 2024-10-06 06:22:28,586 >> Configuration saved in ./output/config.json\n",
            "[INFO|modeling_utils.py:2799] 2024-10-06 06:22:31,917 >> Model weights saved in ./output/model.safetensors\n",
            "[INFO|tokenization_utils_base.py:2684] 2024-10-06 06:22:31,924 >> tokenizer config file saved in ./output/tokenizer_config.json\n",
            "[INFO|tokenization_utils_base.py:2693] 2024-10-06 06:22:31,927 >> Special tokens file saved in ./output/special_tokens_map.json\n"
          ]
        },
        {
          "output_type": "stream",
          "name": "stdout",
          "text": [
            "***** train metrics *****\n",
            "  epoch                    =        3.0\n",
            "  total_flos               =   354149GF\n",
            "  train_loss               =      0.755\n",
            "  train_runtime            = 0:03:23.82\n",
            "  train_samples            =       1927\n",
            "  train_samples_per_second =     28.362\n",
            "  train_steps_per_second   =      3.547\n"
          ]
        }
      ],
      "source": [
        "trainer.save_model()\n",
        "trainer.log_metrics(\"train\", metrics)\n",
        "trainer.save_metrics(\"train\", metrics)\n",
        "trainer.save_state()"
      ]
    },
    {
      "cell_type": "code",
      "execution_count": null,
      "id": "72794b35",
      "metadata": {
        "execution": {
          "iopub.execute_input": "2023-09-03T09:09:18.361895Z",
          "iopub.status.busy": "2023-09-03T09:09:18.361499Z",
          "iopub.status.idle": "2023-09-03T09:09:36.650230Z",
          "shell.execute_reply": "2023-09-03T09:09:36.648979Z"
        },
        "id": "72794b35",
        "outputId": "6e223c44-701c-44d9-9d35-21e8ade36664",
        "papermill": {
          "duration": 18.369224,
          "end_time": "2023-09-03T09:09:36.652419",
          "exception": false,
          "start_time": "2023-09-03T09:09:18.283195",
          "status": "completed"
        },
        "tags": [],
        "colab": {
          "base_uri": "https://localhost:8080/",
          "height": 335
        }
      },
      "outputs": [
        {
          "output_type": "stream",
          "name": "stderr",
          "text": [
            "INFO:__main__:*** Evaluate ***\n",
            "[INFO|trainer.py:811] 2024-10-06 06:22:42,115 >> The following columns in the evaluation set don't have a corresponding argument in `BertForSequenceClassification.forward` and have been ignored: text. If text are not expected by `BertForSequenceClassification.forward`,  you can safely ignore this message.\n",
            "[INFO|trainer.py:3819] 2024-10-06 06:22:42,129 >> \n",
            "***** Running Evaluation *****\n",
            "[INFO|trainer.py:3821] 2024-10-06 06:22:42,130 >>   Num examples = 1000\n",
            "[INFO|trainer.py:3824] 2024-10-06 06:22:42,132 >>   Batch size = 8\n"
          ]
        },
        {
          "output_type": "display_data",
          "data": {
            "text/plain": [
              "<IPython.core.display.HTML object>"
            ],
            "text/html": [
              "\n",
              "    <div>\n",
              "      \n",
              "      <progress value='125' max='125' style='width:300px; height:20px; vertical-align: middle;'></progress>\n",
              "      [125/125 00:07]\n",
              "    </div>\n",
              "    "
            ]
          },
          "metadata": {}
        },
        {
          "output_type": "stream",
          "name": "stdout",
          "text": [
            "***** eval metrics *****\n",
            "  epoch                       =        3.0\n",
            "  eval_accuracy               =      0.734\n",
            "  eval_loss                   =     0.5775\n",
            "  eval_micro_f1_score         =      0.734\n",
            "  eval_model_preparation_time =     0.0041\n",
            "  eval_runtime                = 0:00:07.22\n",
            "  eval_samples                =       1000\n",
            "  eval_samples_per_second     =    138.337\n",
            "  eval_steps_per_second       =     17.292\n"
          ]
        }
      ],
      "source": [
        "logger.info(\"*** Evaluate ***\")\n",
        "\n",
        "metrics = trainer.evaluate(eval_dataset=eval_dataset)\n",
        "\n",
        "max_eval_samples = (\n",
        "    max_eval_samples if max_eval_samples is not None else len(eval_dataset)\n",
        ")\n",
        "metrics[\"eval_samples\"] = min(max_eval_samples, len(eval_dataset))\n",
        "\n",
        "trainer.log_metrics(\"eval\", metrics)\n",
        "trainer.save_metrics(\"eval\", metrics)"
      ]
    },
    {
      "cell_type": "code",
      "execution_count": null,
      "id": "9808cce0",
      "metadata": {
        "execution": {
          "iopub.execute_input": "2023-09-03T09:09:36.812448Z",
          "iopub.status.busy": "2023-09-03T09:09:36.812083Z",
          "iopub.status.idle": "2023-09-03T09:10:09.486122Z",
          "shell.execute_reply": "2023-09-03T09:10:09.484730Z"
        },
        "id": "9808cce0",
        "papermill": {
          "duration": 32.755431,
          "end_time": "2023-09-03T09:10:09.488195",
          "exception": false,
          "start_time": "2023-09-03T09:09:36.732764",
          "status": "completed"
        },
        "tags": [],
        "colab": {
          "base_uri": "https://localhost:8080/",
          "height": 141
        },
        "outputId": "65e6527b-0ba4-41b9-fc5c-b57b5b078b69"
      },
      "outputs": [
        {
          "output_type": "stream",
          "name": "stderr",
          "text": [
            "[INFO|trainer.py:811] 2024-10-06 06:23:05,907 >> The following columns in the test set don't have a corresponding argument in `BertForSequenceClassification.forward` and have been ignored: text. If text are not expected by `BertForSequenceClassification.forward`,  you can safely ignore this message.\n",
            "[INFO|trainer.py:3819] 2024-10-06 06:23:05,913 >> \n",
            "***** Running Prediction *****\n",
            "[INFO|trainer.py:3821] 2024-10-06 06:23:05,915 >>   Num examples = 1000\n",
            "[INFO|trainer.py:3824] 2024-10-06 06:23:05,917 >>   Batch size = 8\n"
          ]
        },
        {
          "output_type": "display_data",
          "data": {
            "text/plain": [
              "<IPython.core.display.HTML object>"
            ],
            "text/html": []
          },
          "metadata": {}
        },
        {
          "output_type": "stream",
          "name": "stdout",
          "text": [
            "Test Accuracy: 0.734\n"
          ]
        }
      ],
      "source": [
        "from sklearn.metrics import accuracy_score\n",
        "predictions = trainer.predict(predict_dataset).predictions\n",
        "predicted_labels = predictions.argmax(axis=1)\n",
        "actual_labels = predict_dataset['label']\n",
        "accuracy = accuracy_score(actual_labels, predicted_labels)\n",
        "print(\"Test Accuracy:\", accuracy)"
      ]
    },
    {
      "cell_type": "code",
      "execution_count": null,
      "id": "ae26ee07",
      "metadata": {
        "execution": {
          "iopub.execute_input": "2023-09-03T09:10:09.645362Z",
          "iopub.status.busy": "2023-09-03T09:10:09.644932Z",
          "iopub.status.idle": "2023-09-03T09:10:09.721094Z",
          "shell.execute_reply": "2023-09-03T09:10:09.719994Z"
        },
        "id": "ae26ee07",
        "papermill": {
          "duration": 0.158093,
          "end_time": "2023-09-03T09:10:09.723815",
          "exception": false,
          "start_time": "2023-09-03T09:10:09.565722",
          "status": "completed"
        },
        "tags": [],
        "colab": {
          "base_uri": "https://localhost:8080/"
        },
        "outputId": "20518e07-96bd-4552-e4e9-ac582f82013d"
      },
      "outputs": [
        {
          "output_type": "stream",
          "name": "stdout",
          "text": [
            "Classification Report:\n",
            "               precision    recall  f1-score   support\n",
            "\n",
            "     Class 0       0.90      0.49      0.63       141\n",
            "     Class 1       0.66      0.86      0.75       378\n",
            "     Class 2       0.79      0.70      0.75       481\n",
            "\n",
            "    accuracy                           0.73      1000\n",
            "   macro avg       0.78      0.69      0.71      1000\n",
            "weighted avg       0.76      0.73      0.73      1000\n",
            "\n",
            "Macro F1 Score: 0.7085729938396773\n",
            "Micro F1 Score: 0.734\n",
            "Precision: 0.7566653921171372\n",
            "Recall: 0.734\n"
          ]
        }
      ],
      "source": [
        "import numpy as np\n",
        "from sklearn.metrics import classification_report, f1_score, precision_score, recall_score\n",
        "\n",
        "\n",
        "true_labels = predict_dataset[\"label\"]\n",
        "\n",
        "\n",
        "classification_rep = classification_report(true_labels, predicted_labels, target_names=[\"Class 0\", \"Class 1\", \"Class 2\"])\n",
        "print(\"Classification Report:\\n\", classification_rep)\n",
        "\n",
        "macro_f1 = f1_score(true_labels, predicted_labels, average=\"macro\")\n",
        "micro_f1 = f1_score(true_labels, predicted_labels, average=\"micro\")\n",
        "print(f\"Macro F1 Score: {macro_f1}\")\n",
        "print(f\"Micro F1 Score: {micro_f1}\")\n",
        "\n",
        "precision = precision_score(true_labels, predicted_labels, average=\"weighted\")  # For binary classification\n",
        "recall = recall_score(true_labels, predicted_labels, average=\"weighted\")  # For binary classification\n",
        "print(f\"Precision: {precision}\")\n",
        "print(f\"Recall: {recall}\")"
      ]
    },
    {
      "cell_type": "code",
      "execution_count": null,
      "id": "038c8801",
      "metadata": {
        "execution": {
          "iopub.execute_input": "2023-09-03T09:10:09.886212Z",
          "iopub.status.busy": "2023-09-03T09:10:09.884349Z",
          "iopub.status.idle": "2023-09-03T09:10:10.595056Z",
          "shell.execute_reply": "2023-09-03T09:10:10.594104Z"
        },
        "id": "038c8801",
        "papermill": {
          "duration": 0.79182,
          "end_time": "2023-09-03T09:10:10.597223",
          "exception": false,
          "start_time": "2023-09-03T09:10:09.805403",
          "status": "completed"
        },
        "tags": [],
        "colab": {
          "base_uri": "https://localhost:8080/",
          "height": 564
        },
        "outputId": "20150d0c-eaef-44ce-c8d5-6ac6adeab6f8"
      },
      "outputs": [
        {
          "output_type": "display_data",
          "data": {
            "text/plain": [
              "<Figure size 800x600 with 2 Axes>"
            ],
            "image/png": "[encoded data removed]"
          },
          "metadata": {}
        }
      ],
      "source": [
        "from sklearn.metrics import confusion_matrix\n",
        "import seaborn as sns\n",
        "import matplotlib.pyplot as plt\n",
        "\n",
        "confusion = confusion_matrix(actual_labels, predicted_labels)\n",
        "\n",
        "plt.figure(figsize=(8, 6))\n",
        "sns.heatmap(confusion, annot=True, fmt='d', cmap='Blues', xticklabels=True, yticklabels=True)\n",
        "plt.xlabel('Predicted')\n",
        "plt.ylabel('Actual')\n",
        "plt.title('Confusion Matrix')\n",
        "plt.show()"
      ]
    }
  ],
  "metadata": {
    "accelerator": "GPU",
    "colab": {
      "gpuType": "T4",
      "provenance": [],
      "include_colab_link": true
    },
    "kernelspec": {
      "display_name": "Python 3",
      "language": "python",
      "name": "python3"
    },
    "language_info": {
      "codemirror_mode": {
        "name": "ipython",
        "version": 3
      },
      "file_extension": ".py",
      "mimetype": "text/x-python",
      "name": "python",
      "nbconvert_exporter": "python",
      "pygments_lexer": "ipython3",
      "version": "3.10.12"
    },
    "papermill": {
      "default_parameters": {},
      "duration": 2608.904113,
      "end_time": "2023-09-03T09:10:14.114520",
      "environment_variables": {},
      "exception": null,
      "input_path": "__notebook__.ipynb",
      "output_path": "__notebook__.ipynb",
      "parameters": {},
      "start_time": "2023-09-03T08:26:45.210407",
      "version": "2.4.0"
    },
    "widgets": {
      "application/vnd.jupyter.widget-state+json": {
        "22a2109a9913453997d210252425ef2f": {
          "model_module": "@jupyter-widgets/controls",
          "model_name": "HBoxModel",
          "model_module_version": "1.5.0",
          "state": {
            "_dom_classes": [],
            "_model_module": "@jupyter-widgets/controls",
            "_model_module_version": "1.5.0",
            "_model_name": "HBoxModel",
            "_view_count": null,
            "_view_module": "@jupyter-widgets/controls",
            "_view_module_version": "1.5.0",
            "_view_name": "HBoxView",
            "box_style": "",
            "children": [
              "IPY_MODEL_dacd428c674a4c91a7cdae7fba484436",
              "IPY_MODEL_565ba2b3768c44fbb057a6fdede5c71b",
              "IPY_MODEL_5ead94626df2424c99dd1591a7d5e414"
            ],
            "layout": "IPY_MODEL_6a1012ff6db34a5bbceb90eb41f88689"
          }
        },
        "dacd428c674a4c91a7cdae7fba484436": {
          "model_module": "@jupyter-widgets/controls",
          "model_name": "HTMLModel",
          "model_module_version": "1.5.0",
          "state": {
            "_dom_classes": [],
            "_model_module": "@jupyter-widgets/controls",
            "_model_module_version": "1.5.0",
            "_model_name": "HTMLModel",
            "_view_count": null,
            "_view_module": "@jupyter-widgets/controls",
            "_view_module_version": "1.5.0",
            "_view_name": "HTMLView",
            "description": "",
            "description_tooltip": null,
            "layout": "IPY_MODEL_62dcc53a9b374d098f00e2de43d286f0",
            "placeholder": "​",
            "style": "IPY_MODEL_8b720d1d7d1e486bb64e292de63cddc8",
            "value": "config.json: 100%"
          }
        },
        "565ba2b3768c44fbb057a6fdede5c71b": {
          "model_module": "@jupyter-widgets/controls",
          "model_name": "FloatProgressModel",
          "model_module_version": "1.5.0",
          "state": {
            "_dom_classes": [],
            "_model_module": "@jupyter-widgets/controls",
            "_model_module_version": "1.5.0",
            "_model_name": "FloatProgressModel",
            "_view_count": null,
            "_view_module": "@jupyter-widgets/controls",
            "_view_module_version": "1.5.0",
            "_view_name": "ProgressView",
            "bar_style": "success",
            "description": "",
            "description_tooltip": null,
            "layout": "IPY_MODEL_29f9331e987f404084af321c266308de",
            "max": 491,
            "min": 0,
            "orientation": "horizontal",
            "style": "IPY_MODEL_00fbbf41b91f455ca69df6485c2f18ea",
            "value": 491
          }
        },
        "5ead94626df2424c99dd1591a7d5e414": {
          "model_module": "@jupyter-widgets/controls",
          "model_name": "HTMLModel",
          "model_module_version": "1.5.0",
          "state": {
            "_dom_classes": [],
            "_model_module": "@jupyter-widgets/controls",
            "_model_module_version": "1.5.0",
            "_model_name": "HTMLModel",
            "_view_count": null,
            "_view_module": "@jupyter-widgets/controls",
            "_view_module_version": "1.5.0",
            "_view_name": "HTMLView",
            "description": "",
            "description_tooltip": null,
            "layout": "IPY_MODEL_ebd78df6f88e4b2ba87cb21fc4d6f050",
            "placeholder": "​",
            "style": "IPY_MODEL_ad115f2da9b843bcb58f26fbd4c92a0a",
            "value": " 491/491 [00:00&lt;00:00, 34.0kB/s]"
          }
        },
        "6a1012ff6db34a5bbceb90eb41f88689": {
          "model_module": "@jupyter-widgets/base",
          "model_name": "LayoutModel",
          "model_module_version": "1.2.0",
          "state": {
            "_model_module": "@jupyter-widgets/base",
            "_model_module_version": "1.2.0",
            "_model_name": "LayoutModel",
            "_view_count": null,
            "_view_module": "@jupyter-widgets/base",
            "_view_module_version": "1.2.0",
            "_view_name": "LayoutView",
            "align_content": null,
            "align_items": null,
            "align_self": null,
            "border": null,
            "bottom": null,
            "display": null,
            "flex": null,
            "flex_flow": null,
            "grid_area": null,
            "grid_auto_columns": null,
            "grid_auto_flow": null,
            "grid_auto_rows": null,
            "grid_column": null,
            "grid_gap": null,
            "grid_row": null,
            "grid_template_areas": null,
            "grid_template_columns": null,
            "grid_template_rows": null,
            "height": null,
            "justify_content": null,
            "justify_items": null,
            "left": null,
            "margin": null,
            "max_height": null,
            "max_width": null,
            "min_height": null,
            "min_width": null,
            "object_fit": null,
            "object_position": null,
            "order": null,
            "overflow": null,
            "overflow_x": null,
            "overflow_y": null,
            "padding": null,
            "right": null,
            "top": null,
            "visibility": null,
            "width": null
          }
        },
        "62dcc53a9b374d098f00e2de43d286f0": {
          "model_module": "@jupyter-widgets/base",
          "model_name": "LayoutModel",
          "model_module_version": "1.2.0",
          "state": {
            "_model_module": "@jupyter-widgets/base",
            "_model_module_version": "1.2.0",
            "_model_name": "LayoutModel",
            "_view_count": null,
            "_view_module": "@jupyter-widgets/base",
            "_view_module_version": "1.2.0",
            "_view_name": "LayoutView",
            "align_content": null,
            "align_items": null,
            "align_self": null,
            "border": null,
            "bottom": null,
            "display": null,
            "flex": null,
            "flex_flow": null,
            "grid_area": null,
            "grid_auto_columns": null,
            "grid_auto_flow": null,
            "grid_auto_rows": null,
            "grid_column": null,
            "grid_gap": null,
            "grid_row": null,
            "grid_template_areas": null,
            "grid_template_columns": null,
            "grid_template_rows": null,
            "height": null,
            "justify_content": null,
            "justify_items": null,
            "left": null,
            "margin": null,
            "max_height": null,
            "max_width": null,
            "min_height": null,
            "min_width": null,
            "object_fit": null,
            "object_position": null,
            "order": null,
            "overflow": null,
            "overflow_x": null,
            "overflow_y": null,
            "padding": null,
            "right": null,
            "top": null,
            "visibility": null,
            "width": null
          }
        },
        "8b720d1d7d1e486bb64e292de63cddc8": {
          "model_module": "@jupyter-widgets/controls",
          "model_name": "DescriptionStyleModel",
          "model_module_version": "1.5.0",
          "state": {
            "_model_module": "@jupyter-widgets/controls",
            "_model_module_version": "1.5.0",
            "_model_name": "DescriptionStyleModel",
            "_view_count": null,
            "_view_module": "@jupyter-widgets/base",
            "_view_module_version": "1.2.0",
            "_view_name": "StyleView",
            "description_width": ""
          }
        },
        "29f9331e987f404084af321c266308de": {
          "model_module": "@jupyter-widgets/base",
          "model_name": "LayoutModel",
          "model_module_version": "1.2.0",
          "state": {
            "_model_module": "@jupyter-widgets/base",
            "_model_module_version": "1.2.0",
            "_model_name": "LayoutModel",
            "_view_count": null,
            "_view_module": "@jupyter-widgets/base",
            "_view_module_version": "1.2.0",
            "_view_name": "LayoutView",
            "align_content": null,
            "align_items": null,
            "align_self": null,
            "border": null,
            "bottom": null,
            "display": null,
            "flex": null,
            "flex_flow": null,
            "grid_area": null,
            "grid_auto_columns": null,
            "grid_auto_flow": null,
            "grid_auto_rows": null,
            "grid_column": null,
            "grid_gap": null,
            "grid_row": null,
            "grid_template_areas": null,
            "grid_template_columns": null,
            "grid_template_rows": null,
            "height": null,
            "justify_content": null,
            "justify_items": null,
            "left": null,
            "margin": null,
            "max_height": null,
            "max_width": null,
            "min_height": null,
            "min_width": null,
            "object_fit": null,
            "object_position": null,
            "order": null,
            "overflow": null,
            "overflow_x": null,
            "overflow_y": null,
            "padding": null,
            "right": null,
            "top": null,
            "visibility": null,
            "width": null
          }
        },
        "00fbbf41b91f455ca69df6485c2f18ea": {
          "model_module": "@jupyter-widgets/controls",
          "model_name": "ProgressStyleModel",
          "model_module_version": "1.5.0",
          "state": {
            "_model_module": "@jupyter-widgets/controls",
            "_model_module_version": "1.5.0",
            "_model_name": "ProgressStyleModel",
            "_view_count": null,
            "_view_module": "@jupyter-widgets/base",
            "_view_module_version": "1.2.0",
            "_view_name": "StyleView",
            "bar_color": null,
            "description_width": ""
          }
        },
        "ebd78df6f88e4b2ba87cb21fc4d6f050": {
          "model_module": "@jupyter-widgets/base",
          "model_name": "LayoutModel",
          "model_module_version": "1.2.0",
          "state": {
            "_model_module": "@jupyter-widgets/base",
            "_model_module_version": "1.2.0",
            "_model_name": "LayoutModel",
            "_view_count": null,
            "_view_module": "@jupyter-widgets/base",
            "_view_module_version": "1.2.0",
            "_view_name": "LayoutView",
            "align_content": null,
            "align_items": null,
            "align_self": null,
            "border": null,
            "bottom": null,
            "display": null,
            "flex": null,
            "flex_flow": null,
            "grid_area": null,
            "grid_auto_columns": null,
            "grid_auto_flow": null,
            "grid_auto_rows": null,
            "grid_column": null,
            "grid_gap": null,
            "grid_row": null,
            "grid_template_areas": null,
            "grid_template_columns": null,
            "grid_template_rows": null,
            "height": null,
            "justify_content": null,
            "justify_items": null,
            "left": null,
            "margin": null,
            "max_height": null,
            "max_width": null,
            "min_height": null,
            "min_width": null,
            "object_fit": null,
            "object_position": null,
            "order": null,
            "overflow": null,
            "overflow_x": null,
            "overflow_y": null,
            "padding": null,
            "right": null,
            "top": null,
            "visibility": null,
            "width": null
          }
        },
        "ad115f2da9b843bcb58f26fbd4c92a0a": {
          "model_module": "@jupyter-widgets/controls",
          "model_name": "DescriptionStyleModel",
          "model_module_version": "1.5.0",
          "state": {
            "_model_module": "@jupyter-widgets/controls",
            "_model_module_version": "1.5.0",
            "_model_name": "DescriptionStyleModel",
            "_view_count": null,
            "_view_module": "@jupyter-widgets/base",
            "_view_module_version": "1.2.0",
            "_view_name": "StyleView",
            "description_width": ""
          }
        },
        "996e11e53e0e493d8a09561dc283cc8d": {
          "model_module": "@jupyter-widgets/controls",
          "model_name": "HBoxModel",
          "model_module_version": "1.5.0",
          "state": {
            "_dom_classes": [],
            "_model_module": "@jupyter-widgets/controls",
            "_model_module_version": "1.5.0",
            "_model_name": "HBoxModel",
            "_view_count": null,
            "_view_module": "@jupyter-widgets/controls",
            "_view_module_version": "1.5.0",
            "_view_name": "HBoxView",
            "box_style": "",
            "children": [
              "IPY_MODEL_232d9acb31464ba6b4b6f0b84d51155b",
              "IPY_MODEL_f8fc979d999d4a21b48819b031222e3f",
              "IPY_MODEL_d1171b4692ef4ecfae1c696344b3009b"
            ],
            "layout": "IPY_MODEL_9399ac1dc8b041b493b1aa3b0f866450"
          }
        },
        "232d9acb31464ba6b4b6f0b84d51155b": {
          "model_module": "@jupyter-widgets/controls",
          "model_name": "HTMLModel",
          "model_module_version": "1.5.0",
          "state": {
            "_dom_classes": [],
            "_model_module": "@jupyter-widgets/controls",
            "_model_module_version": "1.5.0",
            "_model_name": "HTMLModel",
            "_view_count": null,
            "_view_module": "@jupyter-widgets/controls",
            "_view_module_version": "1.5.0",
            "_view_name": "HTMLView",
            "description": "",
            "description_tooltip": null,
            "layout": "IPY_MODEL_24f6ceacd46b42ac937edeb9f52678e2",
            "placeholder": "​",
            "style": "IPY_MODEL_49606e605a1648e0929d496908cf5cc0",
            "value": "vocab.txt: 100%"
          }
        },
        "f8fc979d999d4a21b48819b031222e3f": {
          "model_module": "@jupyter-widgets/controls",
          "model_name": "FloatProgressModel",
          "model_module_version": "1.5.0",
          "state": {
            "_dom_classes": [],
            "_model_module": "@jupyter-widgets/controls",
            "_model_module_version": "1.5.0",
            "_model_name": "FloatProgressModel",
            "_view_count": null,
            "_view_module": "@jupyter-widgets/controls",
            "_view_module_version": "1.5.0",
            "_view_name": "ProgressView",
            "bar_style": "success",
            "description": "",
            "description_tooltip": null,
            "layout": "IPY_MODEL_b8c15eec8a31429b9a0dfe699d5133dc",
            "max": 2237676,
            "min": 0,
            "orientation": "horizontal",
            "style": "IPY_MODEL_20c84e1b5607477994c204917297bf38",
            "value": 2237676
          }
        },
        "d1171b4692ef4ecfae1c696344b3009b": {
          "model_module": "@jupyter-widgets/controls",
          "model_name": "HTMLModel",
          "model_module_version": "1.5.0",
          "state": {
            "_dom_classes": [],
            "_model_module": "@jupyter-widgets/controls",
            "_model_module_version": "1.5.0",
            "_model_name": "HTMLModel",
            "_view_count": null,
            "_view_module": "@jupyter-widgets/controls",
            "_view_module_version": "1.5.0",
            "_view_name": "HTMLView",
            "description": "",
            "description_tooltip": null,
            "layout": "IPY_MODEL_d19eb89013fc43fb960534c2e9ead3f7",
            "placeholder": "​",
            "style": "IPY_MODEL_7f6ba75712ff4196b759bec664a60f8e",
            "value": " 2.24M/2.24M [00:00&lt;00:00, 17.7MB/s]"
          }
        },
        "9399ac1dc8b041b493b1aa3b0f866450": {
          "model_module": "@jupyter-widgets/base",
          "model_name": "LayoutModel",
          "model_module_version": "1.2.0",
          "state": {
            "_model_module": "@jupyter-widgets/base",
            "_model_module_version": "1.2.0",
            "_model_name": "LayoutModel",
            "_view_count": null,
            "_view_module": "@jupyter-widgets/base",
            "_view_module_version": "1.2.0",
            "_view_name": "LayoutView",
            "align_content": null,
            "align_items": null,
            "align_self": null,
            "border": null,
            "bottom": null,
            "display": null,
            "flex": null,
            "flex_flow": null,
            "grid_area": null,
            "grid_auto_columns": null,
            "grid_auto_flow": null,
            "grid_auto_rows": null,
            "grid_column": null,
            "grid_gap": null,
            "grid_row": null,
            "grid_template_areas": null,
            "grid_template_columns": null,
            "grid_template_rows": null,
            "height": null,
            "justify_content": null,
            "justify_items": null,
            "left": null,
            "margin": null,
            "max_height": null,
            "max_width": null,
            "min_height": null,
            "min_width": null,
            "object_fit": null,
            "object_position": null,
            "order": null,
            "overflow": null,
            "overflow_x": null,
            "overflow_y": null,
            "padding": null,
            "right": null,
            "top": null,
            "visibility": null,
            "width": null
          }
        },
        "24f6ceacd46b42ac937edeb9f52678e2": {
          "model_module": "@jupyter-widgets/base",
          "model_name": "LayoutModel",
          "model_module_version": "1.2.0",
          "state": {
            "_model_module": "@jupyter-widgets/base",
            "_model_module_version": "1.2.0",
            "_model_name": "LayoutModel",
            "_view_count": null,
            "_view_module": "@jupyter-widgets/base",
            "_view_module_version": "1.2.0",
            "_view_name": "LayoutView",
            "align_content": null,
            "align_items": null,
            "align_self": null,
            "border": null,
            "bottom": null,
            "display": null,
            "flex": null,
            "flex_flow": null,
            "grid_area": null,
            "grid_auto_columns": null,
            "grid_auto_flow": null,
            "grid_auto_rows": null,
            "grid_column": null,
            "grid_gap": null,
            "grid_row": null,
            "grid_template_areas": null,
            "grid_template_columns": null,
            "grid_template_rows": null,
            "height": null,
            "justify_content": null,
            "justify_items": null,
            "left": null,
            "margin": null,
            "max_height": null,
            "max_width": null,
            "min_height": null,
            "min_width": null,
            "object_fit": null,
            "object_position": null,
            "order": null,
            "overflow": null,
            "overflow_x": null,
            "overflow_y": null,
            "padding": null,
            "right": null,
            "top": null,
            "visibility": null,
            "width": null
          }
        },
        "49606e605a1648e0929d496908cf5cc0": {
          "model_module": "@jupyter-widgets/controls",
          "model_name": "DescriptionStyleModel",
          "model_module_version": "1.5.0",
          "state": {
            "_model_module": "@jupyter-widgets/controls",
            "_model_module_version": "1.5.0",
            "_model_name": "DescriptionStyleModel",
            "_view_count": null,
            "_view_module": "@jupyter-widgets/base",
            "_view_module_version": "1.2.0",
            "_view_name": "StyleView",
            "description_width": ""
          }
        },
        "b8c15eec8a31429b9a0dfe699d5133dc": {
          "model_module": "@jupyter-widgets/base",
          "model_name": "LayoutModel",
          "model_module_version": "1.2.0",
          "state": {
            "_model_module": "@jupyter-widgets/base",
            "_model_module_version": "1.2.0",
            "_model_name": "LayoutModel",
            "_view_count": null,
            "_view_module": "@jupyter-widgets/base",
            "_view_module_version": "1.2.0",
            "_view_name": "LayoutView",
            "align_content": null,
            "align_items": null,
            "align_self": null,
            "border": null,
            "bottom": null,
            "display": null,
            "flex": null,
            "flex_flow": null,
            "grid_area": null,
            "grid_auto_columns": null,
            "grid_auto_flow": null,
            "grid_auto_rows": null,
            "grid_column": null,
            "grid_gap": null,
            "grid_row": null,
            "grid_template_areas": null,
            "grid_template_columns": null,
            "grid_template_rows": null,
            "height": null,
            "justify_content": null,
            "justify_items": null,
            "left": null,
            "margin": null,
            "max_height": null,
            "max_width": null,
            "min_height": null,
            "min_width": null,
            "object_fit": null,
            "object_position": null,
            "order": null,
            "overflow": null,
            "overflow_x": null,
            "overflow_y": null,
            "padding": null,
            "right": null,
            "top": null,
            "visibility": null,
            "width": null
          }
        },
        "20c84e1b5607477994c204917297bf38": {
          "model_module": "@jupyter-widgets/controls",
          "model_name": "ProgressStyleModel",
          "model_module_version": "1.5.0",
          "state": {
            "_model_module": "@jupyter-widgets/controls",
            "_model_module_version": "1.5.0",
            "_model_name": "ProgressStyleModel",
            "_view_count": null,
            "_view_module": "@jupyter-widgets/base",
            "_view_module_version": "1.2.0",
            "_view_name": "StyleView",
            "bar_color": null,
            "description_width": ""
          }
        },
        "d19eb89013fc43fb960534c2e9ead3f7": {
          "model_module": "@jupyter-widgets/base",
          "model_name": "LayoutModel",
          "model_module_version": "1.2.0",
          "state": {
            "_model_module": "@jupyter-widgets/base",
            "_model_module_version": "1.2.0",
            "_model_name": "LayoutModel",
            "_view_count": null,
            "_view_module": "@jupyter-widgets/base",
            "_view_module_version": "1.2.0",
            "_view_name": "LayoutView",
            "align_content": null,
            "align_items": null,
            "align_self": null,
            "border": null,
            "bottom": null,
            "display": null,
            "flex": null,
            "flex_flow": null,
            "grid_area": null,
            "grid_auto_columns": null,
            "grid_auto_flow": null,
            "grid_auto_rows": null,
            "grid_column": null,
            "grid_gap": null,
            "grid_row": null,
            "grid_template_areas": null,
            "grid_template_columns": null,
            "grid_template_rows": null,
            "height": null,
            "justify_content": null,
            "justify_items": null,
            "left": null,
            "margin": null,
            "max_height": null,
            "max_width": null,
            "min_height": null,
            "min_width": null,
            "object_fit": null,
            "object_position": null,
            "order": null,
            "overflow": null,
            "overflow_x": null,
            "overflow_y": null,
            "padding": null,
            "right": null,
            "top": null,
            "visibility": null,
            "width": null
          }
        },
        "7f6ba75712ff4196b759bec664a60f8e": {
          "model_module": "@jupyter-widgets/controls",
          "model_name": "DescriptionStyleModel",
          "model_module_version": "1.5.0",
          "state": {
            "_model_module": "@jupyter-widgets/controls",
            "_model_module_version": "1.5.0",
            "_model_name": "DescriptionStyleModel",
            "_view_count": null,
            "_view_module": "@jupyter-widgets/base",
            "_view_module_version": "1.2.0",
            "_view_name": "StyleView",
            "description_width": ""
          }
        },
        "698326d281fe40ed9758fdaa536f69d1": {
          "model_module": "@jupyter-widgets/controls",
          "model_name": "HBoxModel",
          "model_module_version": "1.5.0",
          "state": {
            "_dom_classes": [],
            "_model_module": "@jupyter-widgets/controls",
            "_model_module_version": "1.5.0",
            "_model_name": "HBoxModel",
            "_view_count": null,
            "_view_module": "@jupyter-widgets/controls",
            "_view_module_version": "1.5.0",
            "_view_name": "HBoxView",
            "box_style": "",
            "children": [
              "IPY_MODEL_9dc775f605724748bb2147980f7e649b",
              "IPY_MODEL_3d8d6e0101cf4b6590818506ed741725",
              "IPY_MODEL_4b396c44a9b04d2584b336980005ab98"
            ],
            "layout": "IPY_MODEL_ca7ff3c5714b4432a02eb56e47d53131"
          }
        },
        "9dc775f605724748bb2147980f7e649b": {
          "model_module": "@jupyter-widgets/controls",
          "model_name": "HTMLModel",
          "model_module_version": "1.5.0",
          "state": {
            "_dom_classes": [],
            "_model_module": "@jupyter-widgets/controls",
            "_model_module_version": "1.5.0",
            "_model_name": "HTMLModel",
            "_view_count": null,
            "_view_module": "@jupyter-widgets/controls",
            "_view_module_version": "1.5.0",
            "_view_name": "HTMLView",
            "description": "",
            "description_tooltip": null,
            "layout": "IPY_MODEL_4bdd1979cbd940afa9c5be783be3a37b",
            "placeholder": "​",
            "style": "IPY_MODEL_9e4a65cb8a334d3eb680ab7cf11fcc59",
            "value": "model.safetensors: 100%"
          }
        },
        "3d8d6e0101cf4b6590818506ed741725": {
          "model_module": "@jupyter-widgets/controls",
          "model_name": "FloatProgressModel",
          "model_module_version": "1.5.0",
          "state": {
            "_dom_classes": [],
            "_model_module": "@jupyter-widgets/controls",
            "_model_module_version": "1.5.0",
            "_model_name": "FloatProgressModel",
            "_view_count": null,
            "_view_module": "@jupyter-widgets/controls",
            "_view_module_version": "1.5.0",
            "_view_name": "ProgressView",
            "bar_style": "success",
            "description": "",
            "description_tooltip": null,
            "layout": "IPY_MODEL_732499995c294e378b9a6098dd35ae6c",
            "max": 660393036,
            "min": 0,
            "orientation": "horizontal",
            "style": "IPY_MODEL_f160f1056317485ca8b949a60ea455f0",
            "value": 660393036
          }
        },
        "4b396c44a9b04d2584b336980005ab98": {
          "model_module": "@jupyter-widgets/controls",
          "model_name": "HTMLModel",
          "model_module_version": "1.5.0",
          "state": {
            "_dom_classes": [],
            "_model_module": "@jupyter-widgets/controls",
            "_model_module_version": "1.5.0",
            "_model_name": "HTMLModel",
            "_view_count": null,
            "_view_module": "@jupyter-widgets/controls",
            "_view_module_version": "1.5.0",
            "_view_name": "HTMLView",
            "description": "",
            "description_tooltip": null,
            "layout": "IPY_MODEL_4bfa12ac2c3e4853a388ae9a9ab484d2",
            "placeholder": "​",
            "style": "IPY_MODEL_01cfcc9381b34b7b8483e6967d9c46e1",
            "value": " 660M/660M [00:08&lt;00:00, 158MB/s]"
          }
        },
        "ca7ff3c5714b4432a02eb56e47d53131": {
          "model_module": "@jupyter-widgets/base",
          "model_name": "LayoutModel",
          "model_module_version": "1.2.0",
          "state": {
            "_model_module": "@jupyter-widgets/base",
            "_model_module_version": "1.2.0",
            "_model_name": "LayoutModel",
            "_view_count": null,
            "_view_module": "@jupyter-widgets/base",
            "_view_module_version": "1.2.0",
            "_view_name": "LayoutView",
            "align_content": null,
            "align_items": null,
            "align_self": null,
            "border": null,
            "bottom": null,
            "display": null,
            "flex": null,
            "flex_flow": null,
            "grid_area": null,
            "grid_auto_columns": null,
            "grid_auto_flow": null,
            "grid_auto_rows": null,
            "grid_column": null,
            "grid_gap": null,
            "grid_row": null,
            "grid_template_areas": null,
            "grid_template_columns": null,
            "grid_template_rows": null,
            "height": null,
            "justify_content": null,
            "justify_items": null,
            "left": null,
            "margin": null,
            "max_height": null,
            "max_width": null,
            "min_height": null,
            "min_width": null,
            "object_fit": null,
            "object_position": null,
            "order": null,
            "overflow": null,
            "overflow_x": null,
            "overflow_y": null,
            "padding": null,
            "right": null,
            "top": null,
            "visibility": null,
            "width": null
          }
        },
        "4bdd1979cbd940afa9c5be783be3a37b": {
          "model_module": "@jupyter-widgets/base",
          "model_name": "LayoutModel",
          "model_module_version": "1.2.0",
          "state": {
            "_model_module": "@jupyter-widgets/base",
            "_model_module_version": "1.2.0",
            "_model_name": "LayoutModel",
            "_view_count": null,
            "_view_module": "@jupyter-widgets/base",
            "_view_module_version": "1.2.0",
            "_view_name": "LayoutView",
            "align_content": null,
            "align_items": null,
            "align_self": null,
            "border": null,
            "bottom": null,
            "display": null,
            "flex": null,
            "flex_flow": null,
            "grid_area": null,
            "grid_auto_columns": null,
            "grid_auto_flow": null,
            "grid_auto_rows": null,
            "grid_column": null,
            "grid_gap": null,
            "grid_row": null,
            "grid_template_areas": null,
            "grid_template_columns": null,
            "grid_template_rows": null,
            "height": null,
            "justify_content": null,
            "justify_items": null,
            "left": null,
            "margin": null,
            "max_height": null,
            "max_width": null,
            "min_height": null,
            "min_width": null,
            "object_fit": null,
            "object_position": null,
            "order": null,
            "overflow": null,
            "overflow_x": null,
            "overflow_y": null,
            "padding": null,
            "right": null,
            "top": null,
            "visibility": null,
            "width": null
          }
        },
        "9e4a65cb8a334d3eb680ab7cf11fcc59": {
          "model_module": "@jupyter-widgets/controls",
          "model_name": "DescriptionStyleModel",
          "model_module_version": "1.5.0",
          "state": {
            "_model_module": "@jupyter-widgets/controls",
            "_model_module_version": "1.5.0",
            "_model_name": "DescriptionStyleModel",
            "_view_count": null,
            "_view_module": "@jupyter-widgets/base",
            "_view_module_version": "1.2.0",
            "_view_name": "StyleView",
            "description_width": ""
          }
        },
        "732499995c294e378b9a6098dd35ae6c": {
          "model_module": "@jupyter-widgets/base",
          "model_name": "LayoutModel",
          "model_module_version": "1.2.0",
          "state": {
            "_model_module": "@jupyter-widgets/base",
            "_model_module_version": "1.2.0",
            "_model_name": "LayoutModel",
            "_view_count": null,
            "_view_module": "@jupyter-widgets/base",
            "_view_module_version": "1.2.0",
            "_view_name": "LayoutView",
            "align_content": null,
            "align_items": null,
            "align_self": null,
            "border": null,
            "bottom": null,
            "display": null,
            "flex": null,
            "flex_flow": null,
            "grid_area": null,
            "grid_auto_columns": null,
            "grid_auto_flow": null,
            "grid_auto_rows": null,
            "grid_column": null,
            "grid_gap": null,
            "grid_row": null,
            "grid_template_areas": null,
            "grid_template_columns": null,
            "grid_template_rows": null,
            "height": null,
            "justify_content": null,
            "justify_items": null,
            "left": null,
            "margin": null,
            "max_height": null,
            "max_width": null,
            "min_height": null,
            "min_width": null,
            "object_fit": null,
            "object_position": null,
            "order": null,
            "overflow": null,
            "overflow_x": null,
            "overflow_y": null,
            "padding": null,
            "right": null,
            "top": null,
            "visibility": null,
            "width": null
          }
        },
        "f160f1056317485ca8b949a60ea455f0": {
          "model_module": "@jupyter-widgets/controls",
          "model_name": "ProgressStyleModel",
          "model_module_version": "1.5.0",
          "state": {
            "_model_module": "@jupyter-widgets/controls",
            "_model_module_version": "1.5.0",
            "_model_name": "ProgressStyleModel",
            "_view_count": null,
            "_view_module": "@jupyter-widgets/base",
            "_view_module_version": "1.2.0",
            "_view_name": "StyleView",
            "bar_color": null,
            "description_width": ""
          }
        },
        "4bfa12ac2c3e4853a388ae9a9ab484d2": {
          "model_module": "@jupyter-widgets/base",
          "model_name": "LayoutModel",
          "model_module_version": "1.2.0",
          "state": {
            "_model_module": "@jupyter-widgets/base",
            "_model_module_version": "1.2.0",
            "_model_name": "LayoutModel",
            "_view_count": null,
            "_view_module": "@jupyter-widgets/base",
            "_view_module_version": "1.2.0",
            "_view_name": "LayoutView",
            "align_content": null,
            "align_items": null,
            "align_self": null,
            "border": null,
            "bottom": null,
            "display": null,
            "flex": null,
            "flex_flow": null,
            "grid_area": null,
            "grid_auto_columns": null,
            "grid_auto_flow": null,
            "grid_auto_rows": null,
            "grid_column": null,
            "grid_gap": null,
            "grid_row": null,
            "grid_template_areas": null,
            "grid_template_columns": null,
            "grid_template_rows": null,
            "height": null,
            "justify_content": null,
            "justify_items": null,
            "left": null,
            "margin": null,
            "max_height": null,
            "max_width": null,
            "min_height": null,
            "min_width": null,
            "object_fit": null,
            "object_position": null,
            "order": null,
            "overflow": null,
            "overflow_x": null,
            "overflow_y": null,
            "padding": null,
            "right": null,
            "top": null,
            "visibility": null,
            "width": null
          }
        },
        "01cfcc9381b34b7b8483e6967d9c46e1": {
          "model_module": "@jupyter-widgets/controls",
          "model_name": "DescriptionStyleModel",
          "model_module_version": "1.5.0",
          "state": {
            "_model_module": "@jupyter-widgets/controls",
            "_model_module_version": "1.5.0",
            "_model_name": "DescriptionStyleModel",
            "_view_count": null,
            "_view_module": "@jupyter-widgets/base",
            "_view_module_version": "1.2.0",
            "_view_name": "StyleView",
            "description_width": ""
          }
        },
        "89819a342aed40fa840357d5a333549c": {
          "model_module": "@jupyter-widgets/controls",
          "model_name": "HBoxModel",
          "model_module_version": "1.5.0",
          "state": {
            "_dom_classes": [],
            "_model_module": "@jupyter-widgets/controls",
            "_model_module_version": "1.5.0",
            "_model_name": "HBoxModel",
            "_view_count": null,
            "_view_module": "@jupyter-widgets/controls",
            "_view_module_version": "1.5.0",
            "_view_name": "HBoxView",
            "box_style": "",
            "children": [
              "IPY_MODEL_ec1353a4d19246dfbb71f19495211e54",
              "IPY_MODEL_f62082f3a69c40d8942d4f6706493cc3",
              "IPY_MODEL_5ac114b9c8964ee7ac189cc8100f4dcf"
            ],
            "layout": "IPY_MODEL_e907d2fc1f4840619b10393d2909140e"
          }
        },
        "ec1353a4d19246dfbb71f19495211e54": {
          "model_module": "@jupyter-widgets/controls",
          "model_name": "HTMLModel",
          "model_module_version": "1.5.0",
          "state": {
            "_dom_classes": [],
            "_model_module": "@jupyter-widgets/controls",
            "_model_module_version": "1.5.0",
            "_model_name": "HTMLModel",
            "_view_count": null,
            "_view_module": "@jupyter-widgets/controls",
            "_view_module_version": "1.5.0",
            "_view_name": "HTMLView",
            "description": "",
            "description_tooltip": null,
            "layout": "IPY_MODEL_e9b257dc3da3467aabbcef53573f9825",
            "placeholder": "​",
            "style": "IPY_MODEL_6b9837a14ca64bf698b67dfb61a62392",
            "value": "Running tokenizer on dataset: 100%"
          }
        },
        "f62082f3a69c40d8942d4f6706493cc3": {
          "model_module": "@jupyter-widgets/controls",
          "model_name": "FloatProgressModel",
          "model_module_version": "1.5.0",
          "state": {
            "_dom_classes": [],
            "_model_module": "@jupyter-widgets/controls",
            "_model_module_version": "1.5.0",
            "_model_name": "FloatProgressModel",
            "_view_count": null,
            "_view_module": "@jupyter-widgets/controls",
            "_view_module_version": "1.5.0",
            "_view_name": "ProgressView",
            "bar_style": "success",
            "description": "",
            "description_tooltip": null,
            "layout": "IPY_MODEL_3945f9cd0ed34d9c8865188ee8ecd055",
            "max": 1927,
            "min": 0,
            "orientation": "horizontal",
            "style": "IPY_MODEL_6e6df7a98ab7471c8ad446d42af1d611",
            "value": 1927
          }
        },
        "5ac114b9c8964ee7ac189cc8100f4dcf": {
          "model_module": "@jupyter-widgets/controls",
          "model_name": "HTMLModel",
          "model_module_version": "1.5.0",
          "state": {
            "_dom_classes": [],
            "_model_module": "@jupyter-widgets/controls",
            "_model_module_version": "1.5.0",
            "_model_name": "HTMLModel",
            "_view_count": null,
            "_view_module": "@jupyter-widgets/controls",
            "_view_module_version": "1.5.0",
            "_view_name": "HTMLView",
            "description": "",
            "description_tooltip": null,
            "layout": "IPY_MODEL_b5659ffbe8054b388eb8f70cb27c48de",
            "placeholder": "​",
            "style": "IPY_MODEL_8c4967e1e911446993c3be74f36c1303",
            "value": " 1927/1927 [00:00&lt;00:00, 6248.77 examples/s]"
          }
        },
        "e907d2fc1f4840619b10393d2909140e": {
          "model_module": "@jupyter-widgets/base",
          "model_name": "LayoutModel",
          "model_module_version": "1.2.0",
          "state": {
            "_model_module": "@jupyter-widgets/base",
            "_model_module_version": "1.2.0",
            "_model_name": "LayoutModel",
            "_view_count": null,
            "_view_module": "@jupyter-widgets/base",
            "_view_module_version": "1.2.0",
            "_view_name": "LayoutView",
            "align_content": null,
            "align_items": null,
            "align_self": null,
            "border": null,
            "bottom": null,
            "display": null,
            "flex": null,
            "flex_flow": null,
            "grid_area": null,
            "grid_auto_columns": null,
            "grid_auto_flow": null,
            "grid_auto_rows": null,
            "grid_column": null,
            "grid_gap": null,
            "grid_row": null,
            "grid_template_areas": null,
            "grid_template_columns": null,
            "grid_template_rows": null,
            "height": null,
            "justify_content": null,
            "justify_items": null,
            "left": null,
            "margin": null,
            "max_height": null,
            "max_width": null,
            "min_height": null,
            "min_width": null,
            "object_fit": null,
            "object_position": null,
            "order": null,
            "overflow": null,
            "overflow_x": null,
            "overflow_y": null,
            "padding": null,
            "right": null,
            "top": null,
            "visibility": null,
            "width": null
          }
        },
        "e9b257dc3da3467aabbcef53573f9825": {
          "model_module": "@jupyter-widgets/base",
          "model_name": "LayoutModel",
          "model_module_version": "1.2.0",
          "state": {
            "_model_module": "@jupyter-widgets/base",
            "_model_module_version": "1.2.0",
            "_model_name": "LayoutModel",
            "_view_count": null,
            "_view_module": "@jupyter-widgets/base",
            "_view_module_version": "1.2.0",
            "_view_name": "LayoutView",
            "align_content": null,
            "align_items": null,
            "align_self": null,
            "border": null,
            "bottom": null,
            "display": null,
            "flex": null,
            "flex_flow": null,
            "grid_area": null,
            "grid_auto_columns": null,
            "grid_auto_flow": null,
            "grid_auto_rows": null,
            "grid_column": null,
            "grid_gap": null,
            "grid_row": null,
            "grid_template_areas": null,
            "grid_template_columns": null,
            "grid_template_rows": null,
            "height": null,
            "justify_content": null,
            "justify_items": null,
            "left": null,
            "margin": null,
            "max_height": null,
            "max_width": null,
            "min_height": null,
            "min_width": null,
            "object_fit": null,
            "object_position": null,
            "order": null,
            "overflow": null,
            "overflow_x": null,
            "overflow_y": null,
            "padding": null,
            "right": null,
            "top": null,
            "visibility": null,
            "width": null
          }
        },
        "6b9837a14ca64bf698b67dfb61a62392": {
          "model_module": "@jupyter-widgets/controls",
          "model_name": "DescriptionStyleModel",
          "model_module_version": "1.5.0",
          "state": {
            "_model_module": "@jupyter-widgets/controls",
            "_model_module_version": "1.5.0",
            "_model_name": "DescriptionStyleModel",
            "_view_count": null,
            "_view_module": "@jupyter-widgets/base",
            "_view_module_version": "1.2.0",
            "_view_name": "StyleView",
            "description_width": ""
          }
        },
        "3945f9cd0ed34d9c8865188ee8ecd055": {
          "model_module": "@jupyter-widgets/base",
          "model_name": "LayoutModel",
          "model_module_version": "1.2.0",
          "state": {
            "_model_module": "@jupyter-widgets/base",
            "_model_module_version": "1.2.0",
            "_model_name": "LayoutModel",
            "_view_count": null,
            "_view_module": "@jupyter-widgets/base",
            "_view_module_version": "1.2.0",
            "_view_name": "LayoutView",
            "align_content": null,
            "align_items": null,
            "align_self": null,
            "border": null,
            "bottom": null,
            "display": null,
            "flex": null,
            "flex_flow": null,
            "grid_area": null,
            "grid_auto_columns": null,
            "grid_auto_flow": null,
            "grid_auto_rows": null,
            "grid_column": null,
            "grid_gap": null,
            "grid_row": null,
            "grid_template_areas": null,
            "grid_template_columns": null,
            "grid_template_rows": null,
            "height": null,
            "justify_content": null,
            "justify_items": null,
            "left": null,
            "margin": null,
            "max_height": null,
            "max_width": null,
            "min_height": null,
            "min_width": null,
            "object_fit": null,
            "object_position": null,
            "order": null,
            "overflow": null,
            "overflow_x": null,
            "overflow_y": null,
            "padding": null,
            "right": null,
            "top": null,
            "visibility": null,
            "width": null
          }
        },
        "6e6df7a98ab7471c8ad446d42af1d611": {
          "model_module": "@jupyter-widgets/controls",
          "model_name": "ProgressStyleModel",
          "model_module_version": "1.5.0",
          "state": {
            "_model_module": "@jupyter-widgets/controls",
            "_model_module_version": "1.5.0",
            "_model_name": "ProgressStyleModel",
            "_view_count": null,
            "_view_module": "@jupyter-widgets/base",
            "_view_module_version": "1.2.0",
            "_view_name": "StyleView",
            "bar_color": null,
            "description_width": ""
          }
        },
        "b5659ffbe8054b388eb8f70cb27c48de": {
          "model_module": "@jupyter-widgets/base",
          "model_name": "LayoutModel",
          "model_module_version": "1.2.0",
          "state": {
            "_model_module": "@jupyter-widgets/base",
            "_model_module_version": "1.2.0",
            "_model_name": "LayoutModel",
            "_view_count": null,
            "_view_module": "@jupyter-widgets/base",
            "_view_module_version": "1.2.0",
            "_view_name": "LayoutView",
            "align_content": null,
            "align_items": null,
            "align_self": null,
            "border": null,
            "bottom": null,
            "display": null,
            "flex": null,
            "flex_flow": null,
            "grid_area": null,
            "grid_auto_columns": null,
            "grid_auto_flow": null,
            "grid_auto_rows": null,
            "grid_column": null,
            "grid_gap": null,
            "grid_row": null,
            "grid_template_areas": null,
            "grid_template_columns": null,
            "grid_template_rows": null,
            "height": null,
            "justify_content": null,
            "justify_items": null,
            "left": null,
            "margin": null,
            "max_height": null,
            "max_width": null,
            "min_height": null,
            "min_width": null,
            "object_fit": null,
            "object_position": null,
            "order": null,
            "overflow": null,
            "overflow_x": null,
            "overflow_y": null,
            "padding": null,
            "right": null,
            "top": null,
            "visibility": null,
            "width": null
          }
        },
        "8c4967e1e911446993c3be74f36c1303": {
          "model_module": "@jupyter-widgets/controls",
          "model_name": "DescriptionStyleModel",
          "model_module_version": "1.5.0",
          "state": {
            "_model_module": "@jupyter-widgets/controls",
            "_model_module_version": "1.5.0",
            "_model_name": "DescriptionStyleModel",
            "_view_count": null,
            "_view_module": "@jupyter-widgets/base",
            "_view_module_version": "1.2.0",
            "_view_name": "StyleView",
            "description_width": ""
          }
        },
        "cb5ef3f1d80d42e0b766b4485326d79c": {
          "model_module": "@jupyter-widgets/controls",
          "model_name": "HBoxModel",
          "model_module_version": "1.5.0",
          "state": {
            "_dom_classes": [],
            "_model_module": "@jupyter-widgets/controls",
            "_model_module_version": "1.5.0",
            "_model_name": "HBoxModel",
            "_view_count": null,
            "_view_module": "@jupyter-widgets/controls",
            "_view_module_version": "1.5.0",
            "_view_name": "HBoxView",
            "box_style": "",
            "children": [
              "IPY_MODEL_f8f9cb2be1a748e69ed5e8d590ff2109",
              "IPY_MODEL_3a64cacc8686437492e328d41b3746e9",
              "IPY_MODEL_75d9c030b3574b5da59bd6ab9457f172"
            ],
            "layout": "IPY_MODEL_a2efa6807e584e2594dec3d3165c38c2"
          }
        },
        "f8f9cb2be1a748e69ed5e8d590ff2109": {
          "model_module": "@jupyter-widgets/controls",
          "model_name": "HTMLModel",
          "model_module_version": "1.5.0",
          "state": {
            "_dom_classes": [],
            "_model_module": "@jupyter-widgets/controls",
            "_model_module_version": "1.5.0",
            "_model_name": "HTMLModel",
            "_view_count": null,
            "_view_module": "@jupyter-widgets/controls",
            "_view_module_version": "1.5.0",
            "_view_name": "HTMLView",
            "description": "",
            "description_tooltip": null,
            "layout": "IPY_MODEL_94faef0fb4f24bc388554ecf9ea7bcc6",
            "placeholder": "​",
            "style": "IPY_MODEL_2d52a30d6d4f44c08376bc3bb80a0cfb",
            "value": "Running tokenizer on dataset: 100%"
          }
        },
        "3a64cacc8686437492e328d41b3746e9": {
          "model_module": "@jupyter-widgets/controls",
          "model_name": "FloatProgressModel",
          "model_module_version": "1.5.0",
          "state": {
            "_dom_classes": [],
            "_model_module": "@jupyter-widgets/controls",
            "_model_module_version": "1.5.0",
            "_model_name": "FloatProgressModel",
            "_view_count": null,
            "_view_module": "@jupyter-widgets/controls",
            "_view_module_version": "1.5.0",
            "_view_name": "ProgressView",
            "bar_style": "success",
            "description": "",
            "description_tooltip": null,
            "layout": "IPY_MODEL_4782e2042d9d4062b60e09933dae885a",
            "max": 1000,
            "min": 0,
            "orientation": "horizontal",
            "style": "IPY_MODEL_a045fc91d18e429b997a7186bfd0b65f",
            "value": 1000
          }
        },
        "75d9c030b3574b5da59bd6ab9457f172": {
          "model_module": "@jupyter-widgets/controls",
          "model_name": "HTMLModel",
          "model_module_version": "1.5.0",
          "state": {
            "_dom_classes": [],
            "_model_module": "@jupyter-widgets/controls",
            "_model_module_version": "1.5.0",
            "_model_name": "HTMLModel",
            "_view_count": null,
            "_view_module": "@jupyter-widgets/controls",
            "_view_module_version": "1.5.0",
            "_view_name": "HTMLView",
            "description": "",
            "description_tooltip": null,
            "layout": "IPY_MODEL_71fa002af36c480f8d6112ea0762c9bf",
            "placeholder": "​",
            "style": "IPY_MODEL_36f65b65c8a1483893288446e9651284",
            "value": " 1000/1000 [00:00&lt;00:00, 4965.24 examples/s]"
          }
        },
        "a2efa6807e584e2594dec3d3165c38c2": {
          "model_module": "@jupyter-widgets/base",
          "model_name": "LayoutModel",
          "model_module_version": "1.2.0",
          "state": {
            "_model_module": "@jupyter-widgets/base",
            "_model_module_version": "1.2.0",
            "_model_name": "LayoutModel",
            "_view_count": null,
            "_view_module": "@jupyter-widgets/base",
            "_view_module_version": "1.2.0",
            "_view_name": "LayoutView",
            "align_content": null,
            "align_items": null,
            "align_self": null,
            "border": null,
            "bottom": null,
            "display": null,
            "flex": null,
            "flex_flow": null,
            "grid_area": null,
            "grid_auto_columns": null,
            "grid_auto_flow": null,
            "grid_auto_rows": null,
            "grid_column": null,
            "grid_gap": null,
            "grid_row": null,
            "grid_template_areas": null,
            "grid_template_columns": null,
            "grid_template_rows": null,
            "height": null,
            "justify_content": null,
            "justify_items": null,
            "left": null,
            "margin": null,
            "max_height": null,
            "max_width": null,
            "min_height": null,
            "min_width": null,
            "object_fit": null,
            "object_position": null,
            "order": null,
            "overflow": null,
            "overflow_x": null,
            "overflow_y": null,
            "padding": null,
            "right": null,
            "top": null,
            "visibility": null,
            "width": null
          }
        },
        "94faef0fb4f24bc388554ecf9ea7bcc6": {
          "model_module": "@jupyter-widgets/base",
          "model_name": "LayoutModel",
          "model_module_version": "1.2.0",
          "state": {
            "_model_module": "@jupyter-widgets/base",
            "_model_module_version": "1.2.0",
            "_model_name": "LayoutModel",
            "_view_count": null,
            "_view_module": "@jupyter-widgets/base",
            "_view_module_version": "1.2.0",
            "_view_name": "LayoutView",
            "align_content": null,
            "align_items": null,
            "align_self": null,
            "border": null,
            "bottom": null,
            "display": null,
            "flex": null,
            "flex_flow": null,
            "grid_area": null,
            "grid_auto_columns": null,
            "grid_auto_flow": null,
            "grid_auto_rows": null,
            "grid_column": null,
            "grid_gap": null,
            "grid_row": null,
            "grid_template_areas": null,
            "grid_template_columns": null,
            "grid_template_rows": null,
            "height": null,
            "justify_content": null,
            "justify_items": null,
            "left": null,
            "margin": null,
            "max_height": null,
            "max_width": null,
            "min_height": null,
            "min_width": null,
            "object_fit": null,
            "object_position": null,
            "order": null,
            "overflow": null,
            "overflow_x": null,
            "overflow_y": null,
            "padding": null,
            "right": null,
            "top": null,
            "visibility": null,
            "width": null
          }
        },
        "2d52a30d6d4f44c08376bc3bb80a0cfb": {
          "model_module": "@jupyter-widgets/controls",
          "model_name": "DescriptionStyleModel",
          "model_module_version": "1.5.0",
          "state": {
            "_model_module": "@jupyter-widgets/controls",
            "_model_module_version": "1.5.0",
            "_model_name": "DescriptionStyleModel",
            "_view_count": null,
            "_view_module": "@jupyter-widgets/base",
            "_view_module_version": "1.2.0",
            "_view_name": "StyleView",
            "description_width": ""
          }
        },
        "4782e2042d9d4062b60e09933dae885a": {
          "model_module": "@jupyter-widgets/base",
          "model_name": "LayoutModel",
          "model_module_version": "1.2.0",
          "state": {
            "_model_module": "@jupyter-widgets/base",
            "_model_module_version": "1.2.0",
            "_model_name": "LayoutModel",
            "_view_count": null,
            "_view_module": "@jupyter-widgets/base",
            "_view_module_version": "1.2.0",
            "_view_name": "LayoutView",
            "align_content": null,
            "align_items": null,
            "align_self": null,
            "border": null,
            "bottom": null,
            "display": null,
            "flex": null,
            "flex_flow": null,
            "grid_area": null,
            "grid_auto_columns": null,
            "grid_auto_flow": null,
            "grid_auto_rows": null,
            "grid_column": null,
            "grid_gap": null,
            "grid_row": null,
            "grid_template_areas": null,
            "grid_template_columns": null,
            "grid_template_rows": null,
            "height": null,
            "justify_content": null,
            "justify_items": null,
            "left": null,
            "margin": null,
            "max_height": null,
            "max_width": null,
            "min_height": null,
            "min_width": null,
            "object_fit": null,
            "object_position": null,
            "order": null,
            "overflow": null,
            "overflow_x": null,
            "overflow_y": null,
            "padding": null,
            "right": null,
            "top": null,
            "visibility": null,
            "width": null
          }
        },
        "a045fc91d18e429b997a7186bfd0b65f": {
          "model_module": "@jupyter-widgets/controls",
          "model_name": "ProgressStyleModel",
          "model_module_version": "1.5.0",
          "state": {
            "_model_module": "@jupyter-widgets/controls",
            "_model_module_version": "1.5.0",
            "_model_name": "ProgressStyleModel",
            "_view_count": null,
            "_view_module": "@jupyter-widgets/base",
            "_view_module_version": "1.2.0",
            "_view_name": "StyleView",
            "bar_color": null,
            "description_width": ""
          }
        },
        "71fa002af36c480f8d6112ea0762c9bf": {
          "model_module": "@jupyter-widgets/base",
          "model_name": "LayoutModel",
          "model_module_version": "1.2.0",
          "state": {
            "_model_module": "@jupyter-widgets/base",
            "_model_module_version": "1.2.0",
            "_model_name": "LayoutModel",
            "_view_count": null,
            "_view_module": "@jupyter-widgets/base",
            "_view_module_version": "1.2.0",
            "_view_name": "LayoutView",
            "align_content": null,
            "align_items": null,
            "align_self": null,
            "border": null,
            "bottom": null,
            "display": null,
            "flex": null,
            "flex_flow": null,
            "grid_area": null,
            "grid_auto_columns": null,
            "grid_auto_flow": null,
            "grid_auto_rows": null,
            "grid_column": null,
            "grid_gap": null,
            "grid_row": null,
            "grid_template_areas": null,
            "grid_template_columns": null,
            "grid_template_rows": null,
            "height": null,
            "justify_content": null,
            "justify_items": null,
            "left": null,
            "margin": null,
            "max_height": null,
            "max_width": null,
            "min_height": null,
            "min_width": null,
            "object_fit": null,
            "object_position": null,
            "order": null,
            "overflow": null,
            "overflow_x": null,
            "overflow_y": null,
            "padding": null,
            "right": null,
            "top": null,
            "visibility": null,
            "width": null
          }
        },
        "36f65b65c8a1483893288446e9651284": {
          "model_module": "@jupyter-widgets/controls",
          "model_name": "DescriptionStyleModel",
          "model_module_version": "1.5.0",
          "state": {
            "_model_module": "@jupyter-widgets/controls",
            "_model_module_version": "1.5.0",
            "_model_name": "DescriptionStyleModel",
            "_view_count": null,
            "_view_module": "@jupyter-widgets/base",
            "_view_module_version": "1.2.0",
            "_view_name": "StyleView",
            "description_width": ""
          }
        },
        "9ae4fb82f6aa42b99e9b5f6ce2fb2edf": {
          "model_module": "@jupyter-widgets/controls",
          "model_name": "HBoxModel",
          "model_module_version": "1.5.0",
          "state": {
            "_dom_classes": [],
            "_model_module": "@jupyter-widgets/controls",
            "_model_module_version": "1.5.0",
            "_model_name": "HBoxModel",
            "_view_count": null,
            "_view_module": "@jupyter-widgets/controls",
            "_view_module_version": "1.5.0",
            "_view_name": "HBoxView",
            "box_style": "",
            "children": [
              "IPY_MODEL_be8937d3e5c2496aafd6ca42641bb505",
              "IPY_MODEL_c40fd018b68043dfac13e4fe5e0057fc",
              "IPY_MODEL_70c674fe88714af0862d2276642443dd"
            ],
            "layout": "IPY_MODEL_29053bf7c09a43ac82889353fe29b299"
          }
        },
        "be8937d3e5c2496aafd6ca42641bb505": {
          "model_module": "@jupyter-widgets/controls",
          "model_name": "HTMLModel",
          "model_module_version": "1.5.0",
          "state": {
            "_dom_classes": [],
            "_model_module": "@jupyter-widgets/controls",
            "_model_module_version": "1.5.0",
            "_model_name": "HTMLModel",
            "_view_count": null,
            "_view_module": "@jupyter-widgets/controls",
            "_view_module_version": "1.5.0",
            "_view_name": "HTMLView",
            "description": "",
            "description_tooltip": null,
            "layout": "IPY_MODEL_c9444a17b4624965b73ec5d6d5d71cb6",
            "placeholder": "​",
            "style": "IPY_MODEL_01818869debf476d8e754683ec872caa",
            "value": "Running tokenizer on dataset: 100%"
          }
        },
        "c40fd018b68043dfac13e4fe5e0057fc": {
          "model_module": "@jupyter-widgets/controls",
          "model_name": "FloatProgressModel",
          "model_module_version": "1.5.0",
          "state": {
            "_dom_classes": [],
            "_model_module": "@jupyter-widgets/controls",
            "_model_module_version": "1.5.0",
            "_model_name": "FloatProgressModel",
            "_view_count": null,
            "_view_module": "@jupyter-widgets/controls",
            "_view_module_version": "1.5.0",
            "_view_name": "ProgressView",
            "bar_style": "success",
            "description": "",
            "description_tooltip": null,
            "layout": "IPY_MODEL_c63462667cdf4e51bda0d5085c21d8d2",
            "max": 1000,
            "min": 0,
            "orientation": "horizontal",
            "style": "IPY_MODEL_64dc0ec5e3c84b14928a5a9aa6110e5f",
            "value": 1000
          }
        },
        "70c674fe88714af0862d2276642443dd": {
          "model_module": "@jupyter-widgets/controls",
          "model_name": "HTMLModel",
          "model_module_version": "1.5.0",
          "state": {
            "_dom_classes": [],
            "_model_module": "@jupyter-widgets/controls",
            "_model_module_version": "1.5.0",
            "_model_name": "HTMLModel",
            "_view_count": null,
            "_view_module": "@jupyter-widgets/controls",
            "_view_module_version": "1.5.0",
            "_view_name": "HTMLView",
            "description": "",
            "description_tooltip": null,
            "layout": "IPY_MODEL_aebe9ea1b8404a04a9664fd6ca9b6362",
            "placeholder": "​",
            "style": "IPY_MODEL_25aeada05ba84b1d81ded1050350eb09",
            "value": " 1000/1000 [00:00&lt;00:00, 4452.32 examples/s]"
          }
        },
        "29053bf7c09a43ac82889353fe29b299": {
          "model_module": "@jupyter-widgets/base",
          "model_name": "LayoutModel",
          "model_module_version": "1.2.0",
          "state": {
            "_model_module": "@jupyter-widgets/base",
            "_model_module_version": "1.2.0",
            "_model_name": "LayoutModel",
            "_view_count": null,
            "_view_module": "@jupyter-widgets/base",
            "_view_module_version": "1.2.0",
            "_view_name": "LayoutView",
            "align_content": null,
            "align_items": null,
            "align_self": null,
            "border": null,
            "bottom": null,
            "display": null,
            "flex": null,
            "flex_flow": null,
            "grid_area": null,
            "grid_auto_columns": null,
            "grid_auto_flow": null,
            "grid_auto_rows": null,
            "grid_column": null,
            "grid_gap": null,
            "grid_row": null,
            "grid_template_areas": null,
            "grid_template_columns": null,
            "grid_template_rows": null,
            "height": null,
            "justify_content": null,
            "justify_items": null,
            "left": null,
            "margin": null,
            "max_height": null,
            "max_width": null,
            "min_height": null,
            "min_width": null,
            "object_fit": null,
            "object_position": null,
            "order": null,
            "overflow": null,
            "overflow_x": null,
            "overflow_y": null,
            "padding": null,
            "right": null,
            "top": null,
            "visibility": null,
            "width": null
          }
        },
        "c9444a17b4624965b73ec5d6d5d71cb6": {
          "model_module": "@jupyter-widgets/base",
          "model_name": "LayoutModel",
          "model_module_version": "1.2.0",
          "state": {
            "_model_module": "@jupyter-widgets/base",
            "_model_module_version": "1.2.0",
            "_model_name": "LayoutModel",
            "_view_count": null,
            "_view_module": "@jupyter-widgets/base",
            "_view_module_version": "1.2.0",
            "_view_name": "LayoutView",
            "align_content": null,
            "align_items": null,
            "align_self": null,
            "border": null,
            "bottom": null,
            "display": null,
            "flex": null,
            "flex_flow": null,
            "grid_area": null,
            "grid_auto_columns": null,
            "grid_auto_flow": null,
            "grid_auto_rows": null,
            "grid_column": null,
            "grid_gap": null,
            "grid_row": null,
            "grid_template_areas": null,
            "grid_template_columns": null,
            "grid_template_rows": null,
            "height": null,
            "justify_content": null,
            "justify_items": null,
            "left": null,
            "margin": null,
            "max_height": null,
            "max_width": null,
            "min_height": null,
            "min_width": null,
            "object_fit": null,
            "object_position": null,
            "order": null,
            "overflow": null,
            "overflow_x": null,
            "overflow_y": null,
            "padding": null,
            "right": null,
            "top": null,
            "visibility": null,
            "width": null
          }
        },
        "01818869debf476d8e754683ec872caa": {
          "model_module": "@jupyter-widgets/controls",
          "model_name": "DescriptionStyleModel",
          "model_module_version": "1.5.0",
          "state": {
            "_model_module": "@jupyter-widgets/controls",
            "_model_module_version": "1.5.0",
            "_model_name": "DescriptionStyleModel",
            "_view_count": null,
            "_view_module": "@jupyter-widgets/base",
            "_view_module_version": "1.2.0",
            "_view_name": "StyleView",
            "description_width": ""
          }
        },
        "c63462667cdf4e51bda0d5085c21d8d2": {
          "model_module": "@jupyter-widgets/base",
          "model_name": "LayoutModel",
          "model_module_version": "1.2.0",
          "state": {
            "_model_module": "@jupyter-widgets/base",
            "_model_module_version": "1.2.0",
            "_model_name": "LayoutModel",
            "_view_count": null,
            "_view_module": "@jupyter-widgets/base",
            "_view_module_version": "1.2.0",
            "_view_name": "LayoutView",
            "align_content": null,
            "align_items": null,
            "align_self": null,
            "border": null,
            "bottom": null,
            "display": null,
            "flex": null,
            "flex_flow": null,
            "grid_area": null,
            "grid_auto_columns": null,
            "grid_auto_flow": null,
            "grid_auto_rows": null,
            "grid_column": null,
            "grid_gap": null,
            "grid_row": null,
            "grid_template_areas": null,
            "grid_template_columns": null,
            "grid_template_rows": null,
            "height": null,
            "justify_content": null,
            "justify_items": null,
            "left": null,
            "margin": null,
            "max_height": null,
            "max_width": null,
            "min_height": null,
            "min_width": null,
            "object_fit": null,
            "object_position": null,
            "order": null,
            "overflow": null,
            "overflow_x": null,
            "overflow_y": null,
            "padding": null,
            "right": null,
            "top": null,
            "visibility": null,
            "width": null
          }
        },
        "64dc0ec5e3c84b14928a5a9aa6110e5f": {
          "model_module": "@jupyter-widgets/controls",
          "model_name": "ProgressStyleModel",
          "model_module_version": "1.5.0",
          "state": {
            "_model_module": "@jupyter-widgets/controls",
            "_model_module_version": "1.5.0",
            "_model_name": "ProgressStyleModel",
            "_view_count": null,
            "_view_module": "@jupyter-widgets/base",
            "_view_module_version": "1.2.0",
            "_view_name": "StyleView",
            "bar_color": null,
            "description_width": ""
          }
        },
        "aebe9ea1b8404a04a9664fd6ca9b6362": {
          "model_module": "@jupyter-widgets/base",
          "model_name": "LayoutModel",
          "model_module_version": "1.2.0",
          "state": {
            "_model_module": "@jupyter-widgets/base",
            "_model_module_version": "1.2.0",
            "_model_name": "LayoutModel",
            "_view_count": null,
            "_view_module": "@jupyter-widgets/base",
            "_view_module_version": "1.2.0",
            "_view_name": "LayoutView",
            "align_content": null,
            "align_items": null,
            "align_self": null,
            "border": null,
            "bottom": null,
            "display": null,
            "flex": null,
            "flex_flow": null,
            "grid_area": null,
            "grid_auto_columns": null,
            "grid_auto_flow": null,
            "grid_auto_rows": null,
            "grid_column": null,
            "grid_gap": null,
            "grid_row": null,
            "grid_template_areas": null,
            "grid_template_columns": null,
            "grid_template_rows": null,
            "height": null,
            "justify_content": null,
            "justify_items": null,
            "left": null,
            "margin": null,
            "max_height": null,
            "max_width": null,
            "min_height": null,
            "min_width": null,
            "object_fit": null,
            "object_position": null,
            "order": null,
            "overflow": null,
            "overflow_x": null,
            "overflow_y": null,
            "padding": null,
            "right": null,
            "top": null,
            "visibility": null,
            "width": null
          }
        },
        "25aeada05ba84b1d81ded1050350eb09": {
          "model_module": "@jupyter-widgets/controls",
          "model_name": "DescriptionStyleModel",
          "model_module_version": "1.5.0",
          "state": {
            "_model_module": "@jupyter-widgets/controls",
            "_model_module_version": "1.5.0",
            "_model_name": "DescriptionStyleModel",
            "_view_count": null,
            "_view_module": "@jupyter-widgets/base",
            "_view_module_version": "1.2.0",
            "_view_name": "StyleView",
            "description_width": ""
          }
        },
        "d4746ee43d424dd297095e3d4f5c3929": {
          "model_module": "@jupyter-widgets/controls",
          "model_name": "HBoxModel",
          "model_module_version": "1.5.0",
          "state": {
            "_dom_classes": [],
            "_model_module": "@jupyter-widgets/controls",
            "_model_module_version": "1.5.0",
            "_model_name": "HBoxModel",
            "_view_count": null,
            "_view_module": "@jupyter-widgets/controls",
            "_view_module_version": "1.5.0",
            "_view_name": "HBoxView",
            "box_style": "",
            "children": [
              "IPY_MODEL_eb2ad7ae0d3c405a83de5920c1522eff",
              "IPY_MODEL_5600083879b541ddb3aa06c08d17a7c3",
              "IPY_MODEL_80dfcbd71d134360b36b4a69f735d688"
            ],
            "layout": "IPY_MODEL_c2ef9dda24294ee9875497df3475ac10"
          }
        },
        "eb2ad7ae0d3c405a83de5920c1522eff": {
          "model_module": "@jupyter-widgets/controls",
          "model_name": "HTMLModel",
          "model_module_version": "1.5.0",
          "state": {
            "_dom_classes": [],
            "_model_module": "@jupyter-widgets/controls",
            "_model_module_version": "1.5.0",
            "_model_name": "HTMLModel",
            "_view_count": null,
            "_view_module": "@jupyter-widgets/controls",
            "_view_module_version": "1.5.0",
            "_view_name": "HTMLView",
            "description": "",
            "description_tooltip": null,
            "layout": "IPY_MODEL_f8c457a301724332b08f7ff38a9d445e",
            "placeholder": "​",
            "style": "IPY_MODEL_e2f85932a1714672bcd13515d0f59e5d",
            "value": "Downloading builder script: 100%"
          }
        },
        "5600083879b541ddb3aa06c08d17a7c3": {
          "model_module": "@jupyter-widgets/controls",
          "model_name": "FloatProgressModel",
          "model_module_version": "1.5.0",
          "state": {
            "_dom_classes": [],
            "_model_module": "@jupyter-widgets/controls",
            "_model_module_version": "1.5.0",
            "_model_name": "FloatProgressModel",
            "_view_count": null,
            "_view_module": "@jupyter-widgets/controls",
            "_view_module_version": "1.5.0",
            "_view_name": "ProgressView",
            "bar_style": "success",
            "description": "",
            "description_tooltip": null,
            "layout": "IPY_MODEL_c3ed4688cb7e472ab7113ed26c190ad5",
            "max": 4203,
            "min": 0,
            "orientation": "horizontal",
            "style": "IPY_MODEL_4d41013b3d834284b56b11d19c6cff43",
            "value": 4203
          }
        },
        "80dfcbd71d134360b36b4a69f735d688": {
          "model_module": "@jupyter-widgets/controls",
          "model_name": "HTMLModel",
          "model_module_version": "1.5.0",
          "state": {
            "_dom_classes": [],
            "_model_module": "@jupyter-widgets/controls",
            "_model_module_version": "1.5.0",
            "_model_name": "HTMLModel",
            "_view_count": null,
            "_view_module": "@jupyter-widgets/controls",
            "_view_module_version": "1.5.0",
            "_view_name": "HTMLView",
            "description": "",
            "description_tooltip": null,
            "layout": "IPY_MODEL_005046532d774781a6e2183610c3a6ae",
            "placeholder": "​",
            "style": "IPY_MODEL_4e494d3eae41402e923a512d23ee8a42",
            "value": " 4.20k/4.20k [00:00&lt;00:00, 294kB/s]"
          }
        },
        "c2ef9dda24294ee9875497df3475ac10": {
          "model_module": "@jupyter-widgets/base",
          "model_name": "LayoutModel",
          "model_module_version": "1.2.0",
          "state": {
            "_model_module": "@jupyter-widgets/base",
            "_model_module_version": "1.2.0",
            "_model_name": "LayoutModel",
            "_view_count": null,
            "_view_module": "@jupyter-widgets/base",
            "_view_module_version": "1.2.0",
            "_view_name": "LayoutView",
            "align_content": null,
            "align_items": null,
            "align_self": null,
            "border": null,
            "bottom": null,
            "display": null,
            "flex": null,
            "flex_flow": null,
            "grid_area": null,
            "grid_auto_columns": null,
            "grid_auto_flow": null,
            "grid_auto_rows": null,
            "grid_column": null,
            "grid_gap": null,
            "grid_row": null,
            "grid_template_areas": null,
            "grid_template_columns": null,
            "grid_template_rows": null,
            "height": null,
            "justify_content": null,
            "justify_items": null,
            "left": null,
            "margin": null,
            "max_height": null,
            "max_width": null,
            "min_height": null,
            "min_width": null,
            "object_fit": null,
            "object_position": null,
            "order": null,
            "overflow": null,
            "overflow_x": null,
            "overflow_y": null,
            "padding": null,
            "right": null,
            "top": null,
            "visibility": null,
            "width": null
          }
        },
        "f8c457a301724332b08f7ff38a9d445e": {
          "model_module": "@jupyter-widgets/base",
          "model_name": "LayoutModel",
          "model_module_version": "1.2.0",
          "state": {
            "_model_module": "@jupyter-widgets/base",
            "_model_module_version": "1.2.0",
            "_model_name": "LayoutModel",
            "_view_count": null,
            "_view_module": "@jupyter-widgets/base",
            "_view_module_version": "1.2.0",
            "_view_name": "LayoutView",
            "align_content": null,
            "align_items": null,
            "align_self": null,
            "border": null,
            "bottom": null,
            "display": null,
            "flex": null,
            "flex_flow": null,
            "grid_area": null,
            "grid_auto_columns": null,
            "grid_auto_flow": null,
            "grid_auto_rows": null,
            "grid_column": null,
            "grid_gap": null,
            "grid_row": null,
            "grid_template_areas": null,
            "grid_template_columns": null,
            "grid_template_rows": null,
            "height": null,
            "justify_content": null,
            "justify_items": null,
            "left": null,
            "margin": null,
            "max_height": null,
            "max_width": null,
            "min_height": null,
            "min_width": null,
            "object_fit": null,
            "object_position": null,
            "order": null,
            "overflow": null,
            "overflow_x": null,
            "overflow_y": null,
            "padding": null,
            "right": null,
            "top": null,
            "visibility": null,
            "width": null
          }
        },
        "e2f85932a1714672bcd13515d0f59e5d": {
          "model_module": "@jupyter-widgets/controls",
          "model_name": "DescriptionStyleModel",
          "model_module_version": "1.5.0",
          "state": {
            "_model_module": "@jupyter-widgets/controls",
            "_model_module_version": "1.5.0",
            "_model_name": "DescriptionStyleModel",
            "_view_count": null,
            "_view_module": "@jupyter-widgets/base",
            "_view_module_version": "1.2.0",
            "_view_name": "StyleView",
            "description_width": ""
          }
        },
        "c3ed4688cb7e472ab7113ed26c190ad5": {
          "model_module": "@jupyter-widgets/base",
          "model_name": "LayoutModel",
          "model_module_version": "1.2.0",
          "state": {
            "_model_module": "@jupyter-widgets/base",
            "_model_module_version": "1.2.0",
            "_model_name": "LayoutModel",
            "_view_count": null,
            "_view_module": "@jupyter-widgets/base",
            "_view_module_version": "1.2.0",
            "_view_name": "LayoutView",
            "align_content": null,
            "align_items": null,
            "align_self": null,
            "border": null,
            "bottom": null,
            "display": null,
            "flex": null,
            "flex_flow": null,
            "grid_area": null,
            "grid_auto_columns": null,
            "grid_auto_flow": null,
            "grid_auto_rows": null,
            "grid_column": null,
            "grid_gap": null,
            "grid_row": null,
            "grid_template_areas": null,
            "grid_template_columns": null,
            "grid_template_rows": null,
            "height": null,
            "justify_content": null,
            "justify_items": null,
            "left": null,
            "margin": null,
            "max_height": null,
            "max_width": null,
            "min_height": null,
            "min_width": null,
            "object_fit": null,
            "object_position": null,
            "order": null,
            "overflow": null,
            "overflow_x": null,
            "overflow_y": null,
            "padding": null,
            "right": null,
            "top": null,
            "visibility": null,
            "width": null
          }
        },
        "4d41013b3d834284b56b11d19c6cff43": {
          "model_module": "@jupyter-widgets/controls",
          "model_name": "ProgressStyleModel",
          "model_module_version": "1.5.0",
          "state": {
            "_model_module": "@jupyter-widgets/controls",
            "_model_module_version": "1.5.0",
            "_model_name": "ProgressStyleModel",
            "_view_count": null,
            "_view_module": "@jupyter-widgets/base",
            "_view_module_version": "1.2.0",
            "_view_name": "StyleView",
            "bar_color": null,
            "description_width": ""
          }
        },
        "005046532d774781a6e2183610c3a6ae": {
          "model_module": "@jupyter-widgets/base",
          "model_name": "LayoutModel",
          "model_module_version": "1.2.0",
          "state": {
            "_model_module": "@jupyter-widgets/base",
            "_model_module_version": "1.2.0",
            "_model_name": "LayoutModel",
            "_view_count": null,
            "_view_module": "@jupyter-widgets/base",
            "_view_module_version": "1.2.0",
            "_view_name": "LayoutView",
            "align_content": null,
            "align_items": null,
            "align_self": null,
            "border": null,
            "bottom": null,
            "display": null,
            "flex": null,
            "flex_flow": null,
            "grid_area": null,
            "grid_auto_columns": null,
            "grid_auto_flow": null,
            "grid_auto_rows": null,
            "grid_column": null,
            "grid_gap": null,
            "grid_row": null,
            "grid_template_areas": null,
            "grid_template_columns": null,
            "grid_template_rows": null,
            "height": null,
            "justify_content": null,
            "justify_items": null,
            "left": null,
            "margin": null,
            "max_height": null,
            "max_width": null,
            "min_height": null,
            "min_width": null,
            "object_fit": null,
            "object_position": null,
            "order": null,
            "overflow": null,
            "overflow_x": null,
            "overflow_y": null,
            "padding": null,
            "right": null,
            "top": null,
            "visibility": null,
            "width": null
          }
        },
        "4e494d3eae41402e923a512d23ee8a42": {
          "model_module": "@jupyter-widgets/controls",
          "model_name": "DescriptionStyleModel",
          "model_module_version": "1.5.0",
          "state": {
            "_model_module": "@jupyter-widgets/controls",
            "_model_module_version": "1.5.0",
            "_model_name": "DescriptionStyleModel",
            "_view_count": null,
            "_view_module": "@jupyter-widgets/base",
            "_view_module_version": "1.2.0",
            "_view_name": "StyleView",
            "description_width": ""
          }
        }
      }
    }
  },
  "nbformat": 4,
  "nbformat_minor": 5
}