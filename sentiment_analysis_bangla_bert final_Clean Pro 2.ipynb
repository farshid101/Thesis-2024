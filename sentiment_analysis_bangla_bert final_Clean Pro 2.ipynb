{
  "cells": [
    {
      "cell_type": "markdown",
      "metadata": {
        "id": "view-in-github",
        "colab_type": "text"
      },
      "source": [
        "<a href=\"https://colab.research.google.com/github/farshid101/Thesis-2024/blob/main/sentiment_analysis_bangla_bert%20final_Clean%20Pro%202.ipynb\" target=\"_parent\"><img src=\"https://colab.research.google.com/assets/colab-badge.svg\" alt=\"Open In Colab\"/></a>"
      ]
    },
    {
      "cell_type": "code",
      "execution_count": 2,
      "id": "a9f45b8e",
      "metadata": {
        "execution": {
          "iopub.execute_input": "2023-09-03T08:26:48.707309Z",
          "iopub.status.busy": "2023-09-03T08:26:48.706838Z",
          "iopub.status.idle": "2023-09-03T08:26:49.463337Z",
          "shell.execute_reply": "2023-09-03T08:26:49.462406Z"
        },
        "papermill": {
          "duration": 0.805255,
          "end_time": "2023-09-03T08:26:49.465878",
          "exception": false,
          "start_time": "2023-09-03T08:26:48.660623",
          "status": "completed"
        },
        "tags": [],
        "id": "a9f45b8e"
      },
      "outputs": [],
      "source": [
        "# This Python 3 environment comes with many helpful analytics libraries installed\n",
        "# It is defined by the kaggle/python Docker image: https://github.com/kaggle/docker-python\n",
        "# For example, here's several helpful packages to load\n",
        "\n",
        "import numpy as np # linear algebra\n",
        "import pandas as pd # data processing, CSV file I/O (e.g. pd.read_csv)\n",
        "\n",
        "# Input data files are available in the read-only \"../input/\" directory\n",
        "# For example, running this (by clicking run or pressing Shift+Enter) will list all files under the input directory\n",
        "\n",
        "import os\n",
        "# for dirname, _, filenames in os.walk('/kaggle/input'):\n",
        "#     for filename in filenames:\n",
        "#         print(os.path.join(dirname, filename))\n",
        "\n",
        "# You can write up to 20GB to the current directory (/kaggle/working/) that gets preserved as output when you create a version using \"Save & Run All\"\n",
        "# You can also write temporary files to /kaggle/temp/, but they won't be saved outside of the current"
      ]
    },
    {
      "cell_type": "code",
      "execution_count": 23,
      "id": "f7dbb827",
      "metadata": {
        "execution": {
          "iopub.execute_input": "2023-09-03T08:26:49.556657Z",
          "iopub.status.busy": "2023-09-03T08:26:49.555572Z",
          "iopub.status.idle": "2023-09-03T08:26:51.065425Z",
          "shell.execute_reply": "2023-09-03T08:26:51.064231Z"
        },
        "papermill": {
          "duration": 1.558964,
          "end_time": "2023-09-03T08:26:51.069024",
          "exception": false,
          "start_time": "2023-09-03T08:26:49.510060",
          "status": "completed"
        },
        "tags": [],
        "colab": {
          "base_uri": "https://localhost:8080/"
        },
        "id": "f7dbb827",
        "outputId": "cbcffafd-d7c2-468e-80d3-c9b0ba460a48"
      },
      "outputs": [
        {
          "output_type": "stream",
          "name": "stdout",
          "text": [
            "--2024-10-16 10:22:12--  https://github.com/farshid101/Thesis-2024/blob/main/Final_clean%20pro%202.xlsx\n",
            "Resolving github.com (github.com)... 20.205.243.166\n",
            "Connecting to github.com (github.com)|20.205.243.166|:443... connected.\n",
            "HTTP request sent, awaiting response... 200 OK\n",
            "Length: unspecified [text/html]\n",
            "Saving to: ‘Final_clean pro 2.xlsx’\n",
            "\n",
            "Final_clean pro 2.x     [ <=>                ] 288.46K  --.-KB/s    in 0.02s   \n",
            "\n",
            "2024-10-16 10:22:13 (18.1 MB/s) - ‘Final_clean pro 2.xlsx’ saved [295383]\n",
            "\n"
          ]
        }
      ],
      "source": [
        "#Dataset\n",
        "#https://github.com/farshid101/Thesis-2024/blob/main/Final_clean%20pro%202.csv\n",
        "#!wget \"https://raw.githubusercontent.com/DeepProgram/random/main/blp23_sentiment_test_with_label.tsv\"\n",
        "\n",
        "\n",
        "!wget \"https://github.com/farshid101/Thesis-2024/blob/main/Final_clean%20pro%202.xlsx\""
      ]
    },
    {
      "cell_type": "code",
      "execution_count": 24,
      "id": "891a9e7a",
      "metadata": {
        "execution": {
          "iopub.execute_input": "2023-09-03T08:26:51.203832Z",
          "iopub.status.busy": "2023-09-03T08:26:51.203358Z",
          "iopub.status.idle": "2023-09-03T08:27:40.908923Z",
          "shell.execute_reply": "2023-09-03T08:27:40.907633Z"
        },
        "id": "891a9e7a",
        "outputId": "f5f300ba-a553-4b37-a60a-4cdc250b59d9",
        "papermill": {
          "duration": 49.776895,
          "end_time": "2023-09-03T08:27:40.911640",
          "exception": false,
          "start_time": "2023-09-03T08:26:51.134745",
          "status": "completed"
        },
        "tags": [],
        "colab": {
          "base_uri": "https://localhost:8080/"
        }
      },
      "outputs": [
        {
          "output_type": "stream",
          "name": "stdout",
          "text": [
            "Requirement already satisfied: transformers in /usr/local/lib/python3.10/dist-packages (4.44.2)\n",
            "Requirement already satisfied: filelock in /usr/local/lib/python3.10/dist-packages (from transformers) (3.16.1)\n",
            "Requirement already satisfied: huggingface-hub<1.0,>=0.23.2 in /usr/local/lib/python3.10/dist-packages (from transformers) (0.24.7)\n",
            "Requirement already satisfied: numpy>=1.17 in /usr/local/lib/python3.10/dist-packages (from transformers) (1.26.4)\n",
            "Requirement already satisfied: packaging>=20.0 in /usr/local/lib/python3.10/dist-packages (from transformers) (24.1)\n",
            "Requirement already satisfied: pyyaml>=5.1 in /usr/local/lib/python3.10/dist-packages (from transformers) (6.0.2)\n",
            "Requirement already satisfied: regex!=2019.12.17 in /usr/local/lib/python3.10/dist-packages (from transformers) (2024.9.11)\n",
            "Requirement already satisfied: requests in /usr/local/lib/python3.10/dist-packages (from transformers) (2.32.3)\n",
            "Requirement already satisfied: safetensors>=0.4.1 in /usr/local/lib/python3.10/dist-packages (from transformers) (0.4.5)\n",
            "Requirement already satisfied: tokenizers<0.20,>=0.19 in /usr/local/lib/python3.10/dist-packages (from transformers) (0.19.1)\n",
            "Requirement already satisfied: tqdm>=4.27 in /usr/local/lib/python3.10/dist-packages (from transformers) (4.66.5)\n",
            "Requirement already satisfied: fsspec>=2023.5.0 in /usr/local/lib/python3.10/dist-packages (from huggingface-hub<1.0,>=0.23.2->transformers) (2024.6.1)\n",
            "Requirement already satisfied: typing-extensions>=3.7.4.3 in /usr/local/lib/python3.10/dist-packages (from huggingface-hub<1.0,>=0.23.2->transformers) (4.12.2)\n",
            "Requirement already satisfied: charset-normalizer<4,>=2 in /usr/local/lib/python3.10/dist-packages (from requests->transformers) (3.4.0)\n",
            "Requirement already satisfied: idna<4,>=2.5 in /usr/local/lib/python3.10/dist-packages (from requests->transformers) (3.10)\n",
            "Requirement already satisfied: urllib3<3,>=1.21.1 in /usr/local/lib/python3.10/dist-packages (from requests->transformers) (2.2.3)\n",
            "Requirement already satisfied: certifi>=2017.4.17 in /usr/local/lib/python3.10/dist-packages (from requests->transformers) (2024.8.30)\n",
            "Requirement already satisfied: datasets in /usr/local/lib/python3.10/dist-packages (3.0.1)\n",
            "Requirement already satisfied: filelock in /usr/local/lib/python3.10/dist-packages (from datasets) (3.16.1)\n",
            "Requirement already satisfied: numpy>=1.17 in /usr/local/lib/python3.10/dist-packages (from datasets) (1.26.4)\n",
            "Requirement already satisfied: pyarrow>=15.0.0 in /usr/local/lib/python3.10/dist-packages (from datasets) (16.1.0)\n",
            "Requirement already satisfied: dill<0.3.9,>=0.3.0 in /usr/local/lib/python3.10/dist-packages (from datasets) (0.3.8)\n",
            "Requirement already satisfied: pandas in /usr/local/lib/python3.10/dist-packages (from datasets) (2.2.2)\n",
            "Requirement already satisfied: requests>=2.32.2 in /usr/local/lib/python3.10/dist-packages (from datasets) (2.32.3)\n",
            "Requirement already satisfied: tqdm>=4.66.3 in /usr/local/lib/python3.10/dist-packages (from datasets) (4.66.5)\n",
            "Requirement already satisfied: xxhash in /usr/local/lib/python3.10/dist-packages (from datasets) (3.5.0)\n",
            "Requirement already satisfied: multiprocess in /usr/local/lib/python3.10/dist-packages (from datasets) (0.70.16)\n",
            "Requirement already satisfied: fsspec<=2024.6.1,>=2023.1.0 in /usr/local/lib/python3.10/dist-packages (from fsspec[http]<=2024.6.1,>=2023.1.0->datasets) (2024.6.1)\n",
            "Requirement already satisfied: aiohttp in /usr/local/lib/python3.10/dist-packages (from datasets) (3.10.10)\n",
            "Requirement already satisfied: huggingface-hub>=0.22.0 in /usr/local/lib/python3.10/dist-packages (from datasets) (0.24.7)\n",
            "Requirement already satisfied: packaging in /usr/local/lib/python3.10/dist-packages (from datasets) (24.1)\n",
            "Requirement already satisfied: pyyaml>=5.1 in /usr/local/lib/python3.10/dist-packages (from datasets) (6.0.2)\n",
            "Requirement already satisfied: aiohappyeyeballs>=2.3.0 in /usr/local/lib/python3.10/dist-packages (from aiohttp->datasets) (2.4.3)\n",
            "Requirement already satisfied: aiosignal>=1.1.2 in /usr/local/lib/python3.10/dist-packages (from aiohttp->datasets) (1.3.1)\n",
            "Requirement already satisfied: attrs>=17.3.0 in /usr/local/lib/python3.10/dist-packages (from aiohttp->datasets) (24.2.0)\n",
            "Requirement already satisfied: frozenlist>=1.1.1 in /usr/local/lib/python3.10/dist-packages (from aiohttp->datasets) (1.4.1)\n",
            "Requirement already satisfied: multidict<7.0,>=4.5 in /usr/local/lib/python3.10/dist-packages (from aiohttp->datasets) (6.1.0)\n",
            "Requirement already satisfied: yarl<2.0,>=1.12.0 in /usr/local/lib/python3.10/dist-packages (from aiohttp->datasets) (1.14.0)\n",
            "Requirement already satisfied: async-timeout<5.0,>=4.0 in /usr/local/lib/python3.10/dist-packages (from aiohttp->datasets) (4.0.3)\n",
            "Requirement already satisfied: typing-extensions>=3.7.4.3 in /usr/local/lib/python3.10/dist-packages (from huggingface-hub>=0.22.0->datasets) (4.12.2)\n",
            "Requirement already satisfied: charset-normalizer<4,>=2 in /usr/local/lib/python3.10/dist-packages (from requests>=2.32.2->datasets) (3.4.0)\n",
            "Requirement already satisfied: idna<4,>=2.5 in /usr/local/lib/python3.10/dist-packages (from requests>=2.32.2->datasets) (3.10)\n",
            "Requirement already satisfied: urllib3<3,>=1.21.1 in /usr/local/lib/python3.10/dist-packages (from requests>=2.32.2->datasets) (2.2.3)\n",
            "Requirement already satisfied: certifi>=2017.4.17 in /usr/local/lib/python3.10/dist-packages (from requests>=2.32.2->datasets) (2024.8.30)\n",
            "Requirement already satisfied: python-dateutil>=2.8.2 in /usr/local/lib/python3.10/dist-packages (from pandas->datasets) (2.8.2)\n",
            "Requirement already satisfied: pytz>=2020.1 in /usr/local/lib/python3.10/dist-packages (from pandas->datasets) (2024.2)\n",
            "Requirement already satisfied: tzdata>=2022.7 in /usr/local/lib/python3.10/dist-packages (from pandas->datasets) (2024.2)\n",
            "Requirement already satisfied: six>=1.5 in /usr/local/lib/python3.10/dist-packages (from python-dateutil>=2.8.2->pandas->datasets) (1.16.0)\n",
            "Requirement already satisfied: propcache>=0.2.0 in /usr/local/lib/python3.10/dist-packages (from yarl<2.0,>=1.12.0->aiohttp->datasets) (0.2.0)\n",
            "Requirement already satisfied: evaluate in /usr/local/lib/python3.10/dist-packages (0.4.3)\n",
            "Requirement already satisfied: datasets>=2.0.0 in /usr/local/lib/python3.10/dist-packages (from evaluate) (3.0.1)\n",
            "Requirement already satisfied: numpy>=1.17 in /usr/local/lib/python3.10/dist-packages (from evaluate) (1.26.4)\n",
            "Requirement already satisfied: dill in /usr/local/lib/python3.10/dist-packages (from evaluate) (0.3.8)\n",
            "Requirement already satisfied: pandas in /usr/local/lib/python3.10/dist-packages (from evaluate) (2.2.2)\n",
            "Requirement already satisfied: requests>=2.19.0 in /usr/local/lib/python3.10/dist-packages (from evaluate) (2.32.3)\n",
            "Requirement already satisfied: tqdm>=4.62.1 in /usr/local/lib/python3.10/dist-packages (from evaluate) (4.66.5)\n",
            "Requirement already satisfied: xxhash in /usr/local/lib/python3.10/dist-packages (from evaluate) (3.5.0)\n",
            "Requirement already satisfied: multiprocess in /usr/local/lib/python3.10/dist-packages (from evaluate) (0.70.16)\n",
            "Requirement already satisfied: fsspec>=2021.05.0 in /usr/local/lib/python3.10/dist-packages (from fsspec[http]>=2021.05.0->evaluate) (2024.6.1)\n",
            "Requirement already satisfied: huggingface-hub>=0.7.0 in /usr/local/lib/python3.10/dist-packages (from evaluate) (0.24.7)\n",
            "Requirement already satisfied: packaging in /usr/local/lib/python3.10/dist-packages (from evaluate) (24.1)\n",
            "Requirement already satisfied: filelock in /usr/local/lib/python3.10/dist-packages (from datasets>=2.0.0->evaluate) (3.16.1)\n",
            "Requirement already satisfied: pyarrow>=15.0.0 in /usr/local/lib/python3.10/dist-packages (from datasets>=2.0.0->evaluate) (16.1.0)\n",
            "Requirement already satisfied: aiohttp in /usr/local/lib/python3.10/dist-packages (from datasets>=2.0.0->evaluate) (3.10.10)\n",
            "Requirement already satisfied: pyyaml>=5.1 in /usr/local/lib/python3.10/dist-packages (from datasets>=2.0.0->evaluate) (6.0.2)\n",
            "Requirement already satisfied: typing-extensions>=3.7.4.3 in /usr/local/lib/python3.10/dist-packages (from huggingface-hub>=0.7.0->evaluate) (4.12.2)\n",
            "Requirement already satisfied: charset-normalizer<4,>=2 in /usr/local/lib/python3.10/dist-packages (from requests>=2.19.0->evaluate) (3.4.0)\n",
            "Requirement already satisfied: idna<4,>=2.5 in /usr/local/lib/python3.10/dist-packages (from requests>=2.19.0->evaluate) (3.10)\n",
            "Requirement already satisfied: urllib3<3,>=1.21.1 in /usr/local/lib/python3.10/dist-packages (from requests>=2.19.0->evaluate) (2.2.3)\n",
            "Requirement already satisfied: certifi>=2017.4.17 in /usr/local/lib/python3.10/dist-packages (from requests>=2.19.0->evaluate) (2024.8.30)\n",
            "Requirement already satisfied: python-dateutil>=2.8.2 in /usr/local/lib/python3.10/dist-packages (from pandas->evaluate) (2.8.2)\n",
            "Requirement already satisfied: pytz>=2020.1 in /usr/local/lib/python3.10/dist-packages (from pandas->evaluate) (2024.2)\n",
            "Requirement already satisfied: tzdata>=2022.7 in /usr/local/lib/python3.10/dist-packages (from pandas->evaluate) (2024.2)\n",
            "Requirement already satisfied: aiohappyeyeballs>=2.3.0 in /usr/local/lib/python3.10/dist-packages (from aiohttp->datasets>=2.0.0->evaluate) (2.4.3)\n",
            "Requirement already satisfied: aiosignal>=1.1.2 in /usr/local/lib/python3.10/dist-packages (from aiohttp->datasets>=2.0.0->evaluate) (1.3.1)\n",
            "Requirement already satisfied: attrs>=17.3.0 in /usr/local/lib/python3.10/dist-packages (from aiohttp->datasets>=2.0.0->evaluate) (24.2.0)\n",
            "Requirement already satisfied: frozenlist>=1.1.1 in /usr/local/lib/python3.10/dist-packages (from aiohttp->datasets>=2.0.0->evaluate) (1.4.1)\n",
            "Requirement already satisfied: multidict<7.0,>=4.5 in /usr/local/lib/python3.10/dist-packages (from aiohttp->datasets>=2.0.0->evaluate) (6.1.0)\n",
            "Requirement already satisfied: yarl<2.0,>=1.12.0 in /usr/local/lib/python3.10/dist-packages (from aiohttp->datasets>=2.0.0->evaluate) (1.14.0)\n",
            "Requirement already satisfied: async-timeout<5.0,>=4.0 in /usr/local/lib/python3.10/dist-packages (from aiohttp->datasets>=2.0.0->evaluate) (4.0.3)\n",
            "Requirement already satisfied: six>=1.5 in /usr/local/lib/python3.10/dist-packages (from python-dateutil>=2.8.2->pandas->evaluate) (1.16.0)\n",
            "Requirement already satisfied: propcache>=0.2.0 in /usr/local/lib/python3.10/dist-packages (from yarl<2.0,>=1.12.0->aiohttp->datasets>=2.0.0->evaluate) (0.2.0)\n",
            "Requirement already satisfied: accelerate in /usr/local/lib/python3.10/dist-packages (1.0.1)\n",
            "Requirement already satisfied: numpy<3.0.0,>=1.17 in /usr/local/lib/python3.10/dist-packages (from accelerate) (1.26.4)\n",
            "Requirement already satisfied: packaging>=20.0 in /usr/local/lib/python3.10/dist-packages (from accelerate) (24.1)\n",
            "Requirement already satisfied: psutil in /usr/local/lib/python3.10/dist-packages (from accelerate) (5.9.5)\n",
            "Requirement already satisfied: pyyaml in /usr/local/lib/python3.10/dist-packages (from accelerate) (6.0.2)\n",
            "Requirement already satisfied: torch>=1.10.0 in /usr/local/lib/python3.10/dist-packages (from accelerate) (2.4.1+cu121)\n",
            "Requirement already satisfied: huggingface-hub>=0.21.0 in /usr/local/lib/python3.10/dist-packages (from accelerate) (0.24.7)\n",
            "Requirement already satisfied: safetensors>=0.4.3 in /usr/local/lib/python3.10/dist-packages (from accelerate) (0.4.5)\n",
            "Requirement already satisfied: filelock in /usr/local/lib/python3.10/dist-packages (from huggingface-hub>=0.21.0->accelerate) (3.16.1)\n",
            "Requirement already satisfied: fsspec>=2023.5.0 in /usr/local/lib/python3.10/dist-packages (from huggingface-hub>=0.21.0->accelerate) (2024.6.1)\n",
            "Requirement already satisfied: requests in /usr/local/lib/python3.10/dist-packages (from huggingface-hub>=0.21.0->accelerate) (2.32.3)\n",
            "Requirement already satisfied: tqdm>=4.42.1 in /usr/local/lib/python3.10/dist-packages (from huggingface-hub>=0.21.0->accelerate) (4.66.5)\n",
            "Requirement already satisfied: typing-extensions>=3.7.4.3 in /usr/local/lib/python3.10/dist-packages (from huggingface-hub>=0.21.0->accelerate) (4.12.2)\n",
            "Requirement already satisfied: sympy in /usr/local/lib/python3.10/dist-packages (from torch>=1.10.0->accelerate) (1.13.3)\n",
            "Requirement already satisfied: networkx in /usr/local/lib/python3.10/dist-packages (from torch>=1.10.0->accelerate) (3.4)\n",
            "Requirement already satisfied: jinja2 in /usr/local/lib/python3.10/dist-packages (from torch>=1.10.0->accelerate) (3.1.4)\n",
            "Requirement already satisfied: MarkupSafe>=2.0 in /usr/local/lib/python3.10/dist-packages (from jinja2->torch>=1.10.0->accelerate) (3.0.1)\n",
            "Requirement already satisfied: charset-normalizer<4,>=2 in /usr/local/lib/python3.10/dist-packages (from requests->huggingface-hub>=0.21.0->accelerate) (3.4.0)\n",
            "Requirement already satisfied: idna<4,>=2.5 in /usr/local/lib/python3.10/dist-packages (from requests->huggingface-hub>=0.21.0->accelerate) (3.10)\n",
            "Requirement already satisfied: urllib3<3,>=1.21.1 in /usr/local/lib/python3.10/dist-packages (from requests->huggingface-hub>=0.21.0->accelerate) (2.2.3)\n",
            "Requirement already satisfied: certifi>=2017.4.17 in /usr/local/lib/python3.10/dist-packages (from requests->huggingface-hub>=0.21.0->accelerate) (2024.8.30)\n",
            "Requirement already satisfied: mpmath<1.4,>=1.1.0 in /usr/local/lib/python3.10/dist-packages (from sympy->torch>=1.10.0->accelerate) (1.3.0)\n"
          ]
        }
      ],
      "source": [
        "!pip install transformers\n",
        "!pip install datasets\n",
        "!pip install evaluate\n",
        "!pip install --upgrade accelerate"
      ]
    },
    {
      "cell_type": "code",
      "execution_count": 25,
      "id": "a9d61744",
      "metadata": {
        "execution": {
          "iopub.execute_input": "2023-09-03T08:27:41.009712Z",
          "iopub.status.busy": "2023-09-03T08:27:41.008751Z",
          "iopub.status.idle": "2023-09-03T08:27:57.058065Z",
          "shell.execute_reply": "2023-09-03T08:27:57.057087Z"
        },
        "id": "a9d61744",
        "papermill": {
          "duration": 16.10001,
          "end_time": "2023-09-03T08:27:57.060827",
          "exception": false,
          "start_time": "2023-09-03T08:27:40.960817",
          "status": "completed"
        },
        "tags": []
      },
      "outputs": [],
      "source": [
        "import logging\n",
        "import os\n",
        "import random\n",
        "import sys\n",
        "from dataclasses import dataclass, field\n",
        "from typing import Optional\n",
        "import pandas as pd\n",
        "import datasets\n",
        "import evaluate\n",
        "import numpy as np\n",
        "from datasets import load_dataset, Dataset, DatasetDict\n",
        "import torch\n",
        "\n",
        "import transformers\n",
        "from transformers import (\n",
        "    AutoConfig,\n",
        "    AutoModelForSequenceClassification,\n",
        "    AutoTokenizer,\n",
        "    DataCollatorWithPadding,\n",
        "    EvalPrediction,\n",
        "    HfArgumentParser,\n",
        "    PretrainedConfig,\n",
        "    Trainer,\n",
        "    TrainingArguments,\n",
        "    default_data_collator,\n",
        "    set_seed,\n",
        ")\n",
        "from transformers.trainer_utils import get_last_checkpoint\n",
        "from transformers.utils import check_min_version, send_example_telemetry\n",
        "from transformers.utils.versions import require_version\n",
        "\n",
        "\n",
        "logger = logging.getLogger(__name__)\n",
        "\n",
        "logging.basicConfig(\n",
        "    format=\"%(asctime)s - %(levelname)s - %(name)s - %(message)s\",\n",
        "    datefmt=\"%m/%d/%Y %H:%M:%S\",\n",
        "    handlers=[logging.StreamHandler(sys.stdout)],\n",
        ")"
      ]
    },
    {
      "cell_type": "code",
      "execution_count": 26,
      "id": "8e7a6506",
      "metadata": {
        "execution": {
          "iopub.execute_input": "2023-09-03T08:27:57.208696Z",
          "iopub.status.busy": "2023-09-03T08:27:57.208253Z",
          "iopub.status.idle": "2023-09-03T08:27:58.511137Z",
          "shell.execute_reply": "2023-09-03T08:27:58.509895Z"
        },
        "id": "8e7a6506",
        "papermill": {
          "duration": 1.40572,
          "end_time": "2023-09-03T08:27:58.514172",
          "exception": false,
          "start_time": "2023-09-03T08:27:57.108452",
          "status": "completed"
        },
        "tags": []
      },
      "outputs": [],
      "source": [
        "#!wget \"https://raw.githubusercontent.com/DeepProgram/random/main/sentiment_analysis_data.zip\""
      ]
    },
    {
      "cell_type": "code",
      "execution_count": 27,
      "id": "0cf08c64",
      "metadata": {
        "execution": {
          "iopub.execute_input": "2023-09-03T08:27:58.611909Z",
          "iopub.status.busy": "2023-09-03T08:27:58.611488Z",
          "iopub.status.idle": "2023-09-03T08:27:59.646298Z",
          "shell.execute_reply": "2023-09-03T08:27:59.645048Z"
        },
        "id": "0cf08c64",
        "papermill": {
          "duration": 1.087056,
          "end_time": "2023-09-03T08:27:59.649022",
          "exception": false,
          "start_time": "2023-09-03T08:27:58.561966",
          "status": "completed"
        },
        "tags": []
      },
      "outputs": [],
      "source": [
        "#!unzip -o /kaggle/working/sentiment_analysis_data.zip"
      ]
    },
    {
      "cell_type": "code",
      "source": [
        "import pandas as pd\n",
        "df = pd.read_excel(\"/content/Final_clean pro 2.xlsx\")\n",
        "df.head()"
      ],
      "metadata": {
        "colab": {
          "base_uri": "https://localhost:8080/",
          "height": 206
        },
        "id": "lrl2lFFS5KEk",
        "outputId": "94d5f7f6-23fb-4823-9bd4-7f57abf488d5"
      },
      "id": "lrl2lFFS5KEk",
      "execution_count": 47,
      "outputs": [
        {
          "output_type": "execute_result",
          "data": {
            "text/plain": [
              "                                            Comments     Label\n",
              "0  তোমরা সবাই এই ভাই তাকে একটু  কোরোভিডিও গুলো দে...  positive\n",
              "1  🎯 ব্রহ্মপুত্র নদের ওপর নির্মিত ৯.১৫ কিলোমিটারে...  positive\n",
              "2         😊 ধন্যবাদ মাননীয় প্রধানমন্ত্রী শেখ হাসিনা  positive\n",
              "3                                2022 এর 25 এ জুন 🥰🥰   neutral\n",
              "4  অনুভূতিটা এত সুন্দর ভাষায় প্রকাশ করতে পারতেছি...  positive"
            ],
            "text/html": [
              "\n",
              "  <div id=\"df-817b840c-09c2-4f4a-993b-3bac8943c98f\" class=\"colab-df-container\">\n",
              "    <div>\n",
              "<style scoped>\n",
              "    .dataframe tbody tr th:only-of-type {\n",
              "        vertical-align: middle;\n",
              "    }\n",
              "\n",
              "    .dataframe tbody tr th {\n",
              "        vertical-align: top;\n",
              "    }\n",
              "\n",
              "    .dataframe thead th {\n",
              "        text-align: right;\n",
              "    }\n",
              "</style>\n",
              "<table border=\"1\" class=\"dataframe\">\n",
              "  <thead>\n",
              "    <tr style=\"text-align: right;\">\n",
              "      <th></th>\n",
              "      <th>Comments</th>\n",
              "      <th>Label</th>\n",
              "    </tr>\n",
              "  </thead>\n",
              "  <tbody>\n",
              "    <tr>\n",
              "      <th>0</th>\n",
              "      <td>তোমরা সবাই এই ভাই তাকে একটু  কোরোভিডিও গুলো দে...</td>\n",
              "      <td>positive</td>\n",
              "    </tr>\n",
              "    <tr>\n",
              "      <th>1</th>\n",
              "      <td>🎯 ব্রহ্মপুত্র নদের ওপর নির্মিত ৯.১৫ কিলোমিটারে...</td>\n",
              "      <td>positive</td>\n",
              "    </tr>\n",
              "    <tr>\n",
              "      <th>2</th>\n",
              "      <td>😊 ধন্যবাদ মাননীয় প্রধানমন্ত্রী শেখ হাসিনা</td>\n",
              "      <td>positive</td>\n",
              "    </tr>\n",
              "    <tr>\n",
              "      <th>3</th>\n",
              "      <td>2022 এর 25 এ জুন 🥰🥰</td>\n",
              "      <td>neutral</td>\n",
              "    </tr>\n",
              "    <tr>\n",
              "      <th>4</th>\n",
              "      <td>অনুভূতিটা এত সুন্দর ভাষায় প্রকাশ করতে পারতেছি...</td>\n",
              "      <td>positive</td>\n",
              "    </tr>\n",
              "  </tbody>\n",
              "</table>\n",
              "</div>\n",
              "    <div class=\"colab-df-buttons\">\n",
              "\n",
              "  <div class=\"colab-df-container\">\n",
              "    <button class=\"colab-df-convert\" onclick=\"convertToInteractive('df-817b840c-09c2-4f4a-993b-3bac8943c98f')\"\n",
              "            title=\"Convert this dataframe to an interactive table.\"\n",
              "            style=\"display:none;\">\n",
              "\n",
              "  <svg xmlns=\"http://www.w3.org/2000/svg\" height=\"24px\" viewBox=\"0 -960 960 960\">\n",
              "    <path d=\"M120-120v-720h720v720H120Zm60-500h600v-160H180v160Zm220 220h160v-160H400v160Zm0 220h160v-160H400v160ZM180-400h160v-160H180v160Zm440 0h160v-160H620v160ZM180-180h160v-160H180v160Zm440 0h160v-160H620v160Z\"/>\n",
              "  </svg>\n",
              "    </button>\n",
              "\n",
              "  <style>\n",
              "    .colab-df-container {\n",
              "      display:flex;\n",
              "      gap: 12px;\n",
              "    }\n",
              "\n",
              "    .colab-df-convert {\n",
              "      background-color: #E8F0FE;\n",
              "      border: none;\n",
              "      border-radius: 50%;\n",
              "      cursor: pointer;\n",
              "      display: none;\n",
              "      fill: #1967D2;\n",
              "      height: 32px;\n",
              "      padding: 0 0 0 0;\n",
              "      width: 32px;\n",
              "    }\n",
              "\n",
              "    .colab-df-convert:hover {\n",
              "      background-color: #E2EBFA;\n",
              "      box-shadow: 0px 1px 2px rgba(60, 64, 67, 0.3), 0px 1px 3px 1px rgba(60, 64, 67, 0.15);\n",
              "      fill: #174EA6;\n",
              "    }\n",
              "\n",
              "    .colab-df-buttons div {\n",
              "      margin-bottom: 4px;\n",
              "    }\n",
              "\n",
              "    [theme=dark] .colab-df-convert {\n",
              "      background-color: #3B4455;\n",
              "      fill: #D2E3FC;\n",
              "    }\n",
              "\n",
              "    [theme=dark] .colab-df-convert:hover {\n",
              "      background-color: #434B5C;\n",
              "      box-shadow: 0px 1px 3px 1px rgba(0, 0, 0, 0.15);\n",
              "      filter: drop-shadow(0px 1px 2px rgba(0, 0, 0, 0.3));\n",
              "      fill: #FFFFFF;\n",
              "    }\n",
              "  </style>\n",
              "\n",
              "    <script>\n",
              "      const buttonEl =\n",
              "        document.querySelector('#df-817b840c-09c2-4f4a-993b-3bac8943c98f button.colab-df-convert');\n",
              "      buttonEl.style.display =\n",
              "        google.colab.kernel.accessAllowed ? 'block' : 'none';\n",
              "\n",
              "      async function convertToInteractive(key) {\n",
              "        const element = document.querySelector('#df-817b840c-09c2-4f4a-993b-3bac8943c98f');\n",
              "        const dataTable =\n",
              "          await google.colab.kernel.invokeFunction('convertToInteractive',\n",
              "                                                    [key], {});\n",
              "        if (!dataTable) return;\n",
              "\n",
              "        const docLinkHtml = 'Like what you see? Visit the ' +\n",
              "          '<a target=\"_blank\" href=https://colab.research.google.com/notebooks/data_table.ipynb>data table notebook</a>'\n",
              "          + ' to learn more about interactive tables.';\n",
              "        element.innerHTML = '';\n",
              "        dataTable['output_type'] = 'display_data';\n",
              "        await google.colab.output.renderOutput(dataTable, element);\n",
              "        const docLink = document.createElement('div');\n",
              "        docLink.innerHTML = docLinkHtml;\n",
              "        element.appendChild(docLink);\n",
              "      }\n",
              "    </script>\n",
              "  </div>\n",
              "\n",
              "\n",
              "<div id=\"df-da82c8c5-78e4-4d8b-bcfd-3425df296b02\">\n",
              "  <button class=\"colab-df-quickchart\" onclick=\"quickchart('df-da82c8c5-78e4-4d8b-bcfd-3425df296b02')\"\n",
              "            title=\"Suggest charts\"\n",
              "            style=\"display:none;\">\n",
              "\n",
              "<svg xmlns=\"http://www.w3.org/2000/svg\" height=\"24px\"viewBox=\"0 0 24 24\"\n",
              "     width=\"24px\">\n",
              "    <g>\n",
              "        <path d=\"M19 3H5c-1.1 0-2 .9-2 2v14c0 1.1.9 2 2 2h14c1.1 0 2-.9 2-2V5c0-1.1-.9-2-2-2zM9 17H7v-7h2v7zm4 0h-2V7h2v10zm4 0h-2v-4h2v4z\"/>\n",
              "    </g>\n",
              "</svg>\n",
              "  </button>\n",
              "\n",
              "<style>\n",
              "  .colab-df-quickchart {\n",
              "      --bg-color: #E8F0FE;\n",
              "      --fill-color: #1967D2;\n",
              "      --hover-bg-color: #E2EBFA;\n",
              "      --hover-fill-color: #174EA6;\n",
              "      --disabled-fill-color: #AAA;\n",
              "      --disabled-bg-color: #DDD;\n",
              "  }\n",
              "\n",
              "  [theme=dark] .colab-df-quickchart {\n",
              "      --bg-color: #3B4455;\n",
              "      --fill-color: #D2E3FC;\n",
              "      --hover-bg-color: #434B5C;\n",
              "      --hover-fill-color: #FFFFFF;\n",
              "      --disabled-bg-color: #3B4455;\n",
              "      --disabled-fill-color: #666;\n",
              "  }\n",
              "\n",
              "  .colab-df-quickchart {\n",
              "    background-color: var(--bg-color);\n",
              "    border: none;\n",
              "    border-radius: 50%;\n",
              "    cursor: pointer;\n",
              "    display: none;\n",
              "    fill: var(--fill-color);\n",
              "    height: 32px;\n",
              "    padding: 0;\n",
              "    width: 32px;\n",
              "  }\n",
              "\n",
              "  .colab-df-quickchart:hover {\n",
              "    background-color: var(--hover-bg-color);\n",
              "    box-shadow: 0 1px 2px rgba(60, 64, 67, 0.3), 0 1px 3px 1px rgba(60, 64, 67, 0.15);\n",
              "    fill: var(--button-hover-fill-color);\n",
              "  }\n",
              "\n",
              "  .colab-df-quickchart-complete:disabled,\n",
              "  .colab-df-quickchart-complete:disabled:hover {\n",
              "    background-color: var(--disabled-bg-color);\n",
              "    fill: var(--disabled-fill-color);\n",
              "    box-shadow: none;\n",
              "  }\n",
              "\n",
              "  .colab-df-spinner {\n",
              "    border: 2px solid var(--fill-color);\n",
              "    border-color: transparent;\n",
              "    border-bottom-color: var(--fill-color);\n",
              "    animation:\n",
              "      spin 1s steps(1) infinite;\n",
              "  }\n",
              "\n",
              "  @keyframes spin {\n",
              "    0% {\n",
              "      border-color: transparent;\n",
              "      border-bottom-color: var(--fill-color);\n",
              "      border-left-color: var(--fill-color);\n",
              "    }\n",
              "    20% {\n",
              "      border-color: transparent;\n",
              "      border-left-color: var(--fill-color);\n",
              "      border-top-color: var(--fill-color);\n",
              "    }\n",
              "    30% {\n",
              "      border-color: transparent;\n",
              "      border-left-color: var(--fill-color);\n",
              "      border-top-color: var(--fill-color);\n",
              "      border-right-color: var(--fill-color);\n",
              "    }\n",
              "    40% {\n",
              "      border-color: transparent;\n",
              "      border-right-color: var(--fill-color);\n",
              "      border-top-color: var(--fill-color);\n",
              "    }\n",
              "    60% {\n",
              "      border-color: transparent;\n",
              "      border-right-color: var(--fill-color);\n",
              "    }\n",
              "    80% {\n",
              "      border-color: transparent;\n",
              "      border-right-color: var(--fill-color);\n",
              "      border-bottom-color: var(--fill-color);\n",
              "    }\n",
              "    90% {\n",
              "      border-color: transparent;\n",
              "      border-bottom-color: var(--fill-color);\n",
              "    }\n",
              "  }\n",
              "</style>\n",
              "\n",
              "  <script>\n",
              "    async function quickchart(key) {\n",
              "      const quickchartButtonEl =\n",
              "        document.querySelector('#' + key + ' button');\n",
              "      quickchartButtonEl.disabled = true;  // To prevent multiple clicks.\n",
              "      quickchartButtonEl.classList.add('colab-df-spinner');\n",
              "      try {\n",
              "        const charts = await google.colab.kernel.invokeFunction(\n",
              "            'suggestCharts', [key], {});\n",
              "      } catch (error) {\n",
              "        console.error('Error during call to suggestCharts:', error);\n",
              "      }\n",
              "      quickchartButtonEl.classList.remove('colab-df-spinner');\n",
              "      quickchartButtonEl.classList.add('colab-df-quickchart-complete');\n",
              "    }\n",
              "    (() => {\n",
              "      let quickchartButtonEl =\n",
              "        document.querySelector('#df-da82c8c5-78e4-4d8b-bcfd-3425df296b02 button');\n",
              "      quickchartButtonEl.style.display =\n",
              "        google.colab.kernel.accessAllowed ? 'block' : 'none';\n",
              "    })();\n",
              "  </script>\n",
              "</div>\n",
              "\n",
              "    </div>\n",
              "  </div>\n"
            ],
            "application/vnd.google.colaboratory.intrinsic+json": {
              "type": "dataframe",
              "variable_name": "df",
              "summary": "{\n  \"name\": \"df\",\n  \"rows\": 6375,\n  \"fields\": [\n    {\n      \"column\": \"Comments\",\n      \"properties\": {\n        \"dtype\": \"string\",\n        \"num_unique_values\": 6375,\n        \"samples\": [\n          \"\\u0986\\u0993\\u09df\\u09be\\u09ae\\u09c0\\u09b2\\u09c0\\u0997\\u09c7\\u09b0 \\u0986\\u09b0\\u09c7\\u0995 \\u09a8\\u09be\\u09ae \\u09b6\\u09c7\\u0996 \\u09b9\\u09be\\u09b8\\u09bf\\u09a8\\u09be\\u09b0 \\u0989\\u09a8\\u09cd\\u09a8\\u09af\\u09bc\\u09a8\\u0964 \\u0986\\u09aa\\u09be, \\u0986\\u09aa\\u09be, \\u0986\\u09aa\\u09be \\u0995\\u09bf \\u0995\\u09b0\\u09c7 \\u0997\\u09c7\\u099b\\u09c7\\u09a8 \\u09b8\\u09ac\\u09be\\u0987 \\u099c\\u09be\\u09a8\\u09c7 \\u0997\\u09c7\\u099b\\u09c7\\u0964\",\n          \"\\u0986\\u09b2\\u09cd\\u09b2\\u09be\\u09b9 \\u0986\\u09aa\\u09a8\\u09bf \\u09b8\\u09ac\\u09be\\u0987\\u0995\\u09c7 \\u09b9\\u09c7\\u09ab\\u09be\\u099c\\u09a4 \\u0995\\u09b0\\u09c7\\u09a8 \\u0986\\u09b2\\u09cd\\u09b2\\u09be\\u09b9\\u09c1\\u09ae\\u09cd\\u09ae\\u09be \\u0986\\u09ae\\u09bf\\u09a8\",\n          \"\\u09a6\\u09c1\\u09b0\\u09cd\\u0998\\u099f\\u09a8\\u09be \\u09a4\\u09cb \\u0998\\u099f\\u09ac\\u09c7\\u0987... \\u0986\\u09b2\\u09cd\\u09b2\\u09be\\u09b9 \\u09a8\\u09be\\u09b0\\u09be\\u099c \\u09b8\\u09ac\\u09be\\u09b0 \\u0989\\u09aa\\u09b0\\u09c7\\u0964 \\u09af\\u09c7 \\u09a6\\u09c7\\u09b6\\u09c7 \\u098f\\u09ae\\u09a8 \\u09b0\\u09be\\u0995\\u09cd\\u09b7\\u09b8\\u09c0 \\u09ae\\u09a8\\u09cd\\u09a4\\u09cd\\u09b0\\u09c0 \\u09a5\\u09be\\u0995\\u09c7 \\u09af\\u09c7 \\u09a6\\u09c7\\u09b6\\u09c7 \\u0997\\u09b0\\u09c0\\u09ac \\u09ae\\u09be\\u09a8\\u09c1\\u09b7\\u09c7\\u09b0 \\u09b9\\u0995 \\u09a0\\u0995\\u09be\\u09df \\u0985\\u09b8\\u09b9\\u09be\\u09df \\u09ae\\u09be\\u09a8\\u09c1\\u09b7\\u09c7\\u09b0 \\u0989\\u09aa\\u09b0 \\u099c\\u09c1\\u09b2\\u09c1\\u09ae \\u0995\\u09b0\\u09c7 \\u09a8\\u09bf\\u099c\\u09c7\\u09a6\\u09c7\\u09b0 \\u099c\\u09a8\\u09cd\\u09af \\u099f\\u09be\\u0995\\u09be\\u09b0 \\u09aa\\u09be\\u09b9\\u09be\\u09dc \\u09ac\\u09be\\u09a8\\u09be\\u09df \\u09b8\\u09c7 \\u09a6\\u09c7\\u09b6\\u09c7 \\u09a4\\u09cb \\u0986\\u09b2\\u09cd\\u09b2\\u09be\\u09b9\\u09b0 \\u09b0\\u09b9\\u09ae\\u09a4 \\u09a5\\u09be\\u0995\\u09c7 \\u09a8\\u09be\\u0964 \\u0986\\u09b2\\u09cd\\u09b2\\u09be\\u09b9 \\u099b\\u09be\\u09dc \\u09a6\\u09bf\\u099a\\u09cd\\u099b\\u09c7\\u09a8 \\u0995\\u09bf\\u09a8\\u09cd\\u09a4\\u09c1 \\u099b\\u09c7\\u09dc\\u09c7 \\u09a6\\u09c7\\u09ac\\u09c7 \\u09a8\\u09be\\u0964\"\n        ],\n        \"semantic_type\": \"\",\n        \"description\": \"\"\n      }\n    },\n    {\n      \"column\": \"Label\",\n      \"properties\": {\n        \"dtype\": \"category\",\n        \"num_unique_values\": 3,\n        \"samples\": [\n          \"positive\",\n          \"neutral\",\n          \"negative\"\n        ],\n        \"semantic_type\": \"\",\n        \"description\": \"\"\n      }\n    }\n  ]\n}"
            }
          },
          "metadata": {},
          "execution_count": 47
        }
      ]
    },
    {
      "cell_type": "code",
      "source": [
        "import pandas as pd\n",
        "\n",
        "# Function to rename a single column\n",
        "def change_column_name(df, old_name, new_name):\n",
        "    df = df.rename(columns={old_name: new_name})\n",
        "    return df\n",
        "\n",
        "# Assuming df is your DataFrame\n",
        "df = change_column_name(df, old_name=\"Label\", new_name=\"label\")\n",
        "df = change_column_name(df, old_name=\"Comments\", new_name=\"text\")\n",
        "print(df.head())  # Display the first few rows of the DataFrame\n",
        "#text"
      ],
      "metadata": {
        "colab": {
          "base_uri": "https://localhost:8080/"
        },
        "id": "RTAOsFLN5JQt",
        "outputId": "6c0dd73e-12fe-4ec9-cc3b-769d80bda4cd"
      },
      "id": "RTAOsFLN5JQt",
      "execution_count": 48,
      "outputs": [
        {
          "output_type": "stream",
          "name": "stdout",
          "text": [
            "                                                text     label\n",
            "0  তোমরা সবাই এই ভাই তাকে একটু  কোরোভিডিও গুলো দে...  positive\n",
            "1  🎯 ব্রহ্মপুত্র নদের ওপর নির্মিত ৯.১৫ কিলোমিটারে...  positive\n",
            "2         😊 ধন্যবাদ মাননীয় প্রধানমন্ত্রী শেখ হাসিনা  positive\n",
            "3                                2022 এর 25 এ জুন 🥰🥰   neutral\n",
            "4  অনুভূতিটা এত সুন্দর ভাষায় প্রকাশ করতে পারতেছি...  positive\n"
          ]
        }
      ]
    },
    {
      "cell_type": "code",
      "source": [
        "def random_split(df, train_frac, validation_frac):\n",
        "    # Shuffle the entire DataFrame\n",
        "    df = df.sample(frac=1, random_state=123).reset_index(drop=True)\n",
        "\n",
        "    # Calculate split indices\n",
        "    train_end = int(len(df) * train_frac)\n",
        "    validation_end = train_end + int(len(df) * validation_frac)\n",
        "\n",
        "    # Split the DataFrame\n",
        "    train_df = df[:train_end]\n",
        "    validation_df = df[train_end:validation_end]\n",
        "    test_df = df[validation_end:]\n",
        "\n",
        "    return train_df, validation_df, test_df\n",
        "\n",
        "train_df, validation_df, test_df = random_split(df, 0.7, 0.1)\n",
        "# Test size is implied to be 0.2 as the remainder\n",
        "\n",
        "train_df.to_csv(\"train.csv\", index=None)\n",
        "validation_df.to_csv(\"validation.csv\", index=None)\n",
        "test_df.to_csv(\"test.csv\", index=None)"
      ],
      "metadata": {
        "id": "ASsraDlm48Zs"
      },
      "id": "ASsraDlm48Zs",
      "execution_count": 50,
      "outputs": []
    },
    {
      "cell_type": "code",
      "execution_count": 51,
      "id": "20286660",
      "metadata": {
        "execution": {
          "iopub.execute_input": "2023-09-03T08:27:59.745220Z",
          "iopub.status.busy": "2023-09-03T08:27:59.744807Z",
          "iopub.status.idle": "2023-09-03T08:27:59.750278Z",
          "shell.execute_reply": "2023-09-03T08:27:59.749297Z"
        },
        "id": "20286660",
        "papermill": {
          "duration": 0.056505,
          "end_time": "2023-09-03T08:27:59.752418",
          "exception": false,
          "start_time": "2023-09-03T08:27:59.695913",
          "status": "completed"
        },
        "tags": []
      },
      "outputs": [],
      "source": [
        "train_file = '/content/train.csv'\n",
        "validation_file = '/content/validation.csv'\n",
        "test_file = '/content/test.csv'"
      ]
    },
    {
      "cell_type": "code",
      "execution_count": 52,
      "id": "720cc115",
      "metadata": {
        "execution": {
          "iopub.execute_input": "2023-09-03T08:27:59.849559Z",
          "iopub.status.busy": "2023-09-03T08:27:59.849154Z",
          "iopub.status.idle": "2023-09-03T08:27:59.924789Z",
          "shell.execute_reply": "2023-09-03T08:27:59.923784Z"
        },
        "id": "720cc115",
        "papermill": {
          "duration": 0.126837,
          "end_time": "2023-09-03T08:27:59.927923",
          "exception": false,
          "start_time": "2023-09-03T08:27:59.801086",
          "status": "completed"
        },
        "tags": [],
        "colab": {
          "base_uri": "https://localhost:8080/"
        },
        "outputId": "2348bccc-5626-499a-f548-1f9463597801"
      },
      "outputs": [
        {
          "output_type": "stream",
          "name": "stderr",
          "text": [
            "[INFO|training_args.py:2100] 2024-10-16 10:37:44,946 >> PyTorch: setting up devices\n",
            "[INFO|training_args.py:1788] 2024-10-16 10:37:44,978 >> The default value for the training argument `--report_to` will change in v5 (from all installed integrations to none). In v5, you will need to use `--report_to all` to get the same behavior as now. You should start updating your code and make this info disappear :-).\n"
          ]
        }
      ],
      "source": [
        "training_args = TrainingArguments(\n",
        "    learning_rate=2e-5,\n",
        "    num_train_epochs=1,\n",
        "    per_device_train_batch_size=16,\n",
        "    per_device_eval_batch_size=16,\n",
        "    output_dir=\"./bertBaseMultilingualNew/\",\n",
        "    overwrite_output_dir=True,\n",
        "    remove_unused_columns=False,\n",
        "    local_rank= 1,\n",
        "    load_best_model_at_end=True,\n",
        "    save_total_limit=2,\n",
        "    save_strategy=\"no\"\n",
        ")\n",
        "\n",
        "max_train_samples = None\n",
        "max_eval_samples=None\n",
        "max_predict_samples=None\n",
        "max_seq_length = 512\n",
        "batch_size = 16"
      ]
    },
    {
      "cell_type": "code",
      "execution_count": 53,
      "id": "3ce5bb42",
      "metadata": {
        "execution": {
          "iopub.execute_input": "2023-09-03T08:28:00.025200Z",
          "iopub.status.busy": "2023-09-03T08:28:00.023992Z",
          "iopub.status.idle": "2023-09-03T08:28:00.033946Z",
          "shell.execute_reply": "2023-09-03T08:28:00.033046Z"
        },
        "id": "3ce5bb42",
        "outputId": "3c2b36c9-a446-45cd-d077-516fb995fed5",
        "papermill": {
          "duration": 0.060718,
          "end_time": "2023-09-03T08:28:00.036001",
          "exception": false,
          "start_time": "2023-09-03T08:27:59.975283",
          "status": "completed"
        },
        "tags": [],
        "colab": {
          "base_uri": "https://localhost:8080/"
        }
      },
      "outputs": [
        {
          "output_type": "stream",
          "name": "stderr",
          "text": [
            "WARNING:__main__:Process rank: 0, device: cuda:0, n_gpu: 1 distributed training: True, 16-bits training: False\n",
            "INFO:__main__:Training/evaluation parameters TrainingArguments(\n",
            "_n_gpu=1,\n",
            "accelerator_config={'split_batches': False, 'dispatch_batches': None, 'even_batches': True, 'use_seedable_sampler': True, 'non_blocking': False, 'gradient_accumulation_kwargs': None, 'use_configured_state': False},\n",
            "adafactor=False,\n",
            "adam_beta1=0.9,\n",
            "adam_beta2=0.999,\n",
            "adam_epsilon=1e-08,\n",
            "auto_find_batch_size=False,\n",
            "batch_eval_metrics=False,\n",
            "bf16=False,\n",
            "bf16_full_eval=False,\n",
            "data_seed=None,\n",
            "dataloader_drop_last=False,\n",
            "dataloader_num_workers=0,\n",
            "dataloader_persistent_workers=False,\n",
            "dataloader_pin_memory=True,\n",
            "dataloader_prefetch_factor=None,\n",
            "ddp_backend=None,\n",
            "ddp_broadcast_buffers=None,\n",
            "ddp_bucket_cap_mb=None,\n",
            "ddp_find_unused_parameters=None,\n",
            "ddp_timeout=1800,\n",
            "debug=[],\n",
            "deepspeed=None,\n",
            "disable_tqdm=False,\n",
            "dispatch_batches=None,\n",
            "do_eval=False,\n",
            "do_predict=False,\n",
            "do_train=False,\n",
            "eval_accumulation_steps=None,\n",
            "eval_delay=0,\n",
            "eval_do_concat_batches=True,\n",
            "eval_on_start=False,\n",
            "eval_steps=None,\n",
            "eval_strategy=no,\n",
            "eval_use_gather_object=False,\n",
            "evaluation_strategy=None,\n",
            "fp16=False,\n",
            "fp16_backend=auto,\n",
            "fp16_full_eval=False,\n",
            "fp16_opt_level=O1,\n",
            "fsdp=[],\n",
            "fsdp_config={'min_num_params': 0, 'xla': False, 'xla_fsdp_v2': False, 'xla_fsdp_grad_ckpt': False},\n",
            "fsdp_min_num_params=0,\n",
            "fsdp_transformer_layer_cls_to_wrap=None,\n",
            "full_determinism=False,\n",
            "gradient_accumulation_steps=1,\n",
            "gradient_checkpointing=False,\n",
            "gradient_checkpointing_kwargs=None,\n",
            "greater_is_better=False,\n",
            "group_by_length=False,\n",
            "half_precision_backend=auto,\n",
            "hub_always_push=False,\n",
            "hub_model_id=None,\n",
            "hub_private_repo=False,\n",
            "hub_strategy=every_save,\n",
            "hub_token=<HUB_TOKEN>,\n",
            "ignore_data_skip=False,\n",
            "include_inputs_for_metrics=False,\n",
            "include_num_input_tokens_seen=False,\n",
            "include_tokens_per_second=False,\n",
            "jit_mode_eval=False,\n",
            "label_names=None,\n",
            "label_smoothing_factor=0.0,\n",
            "learning_rate=2e-05,\n",
            "length_column_name=length,\n",
            "load_best_model_at_end=True,\n",
            "local_rank=0,\n",
            "log_level=passive,\n",
            "log_level_replica=warning,\n",
            "log_on_each_node=True,\n",
            "logging_dir=./bertBaseMultilingualNew/runs/Oct16_10-37-44_224a09f9fe0b,\n",
            "logging_first_step=False,\n",
            "logging_nan_inf_filter=True,\n",
            "logging_steps=500,\n",
            "logging_strategy=steps,\n",
            "lr_scheduler_kwargs={},\n",
            "lr_scheduler_type=linear,\n",
            "max_grad_norm=1.0,\n",
            "max_steps=-1,\n",
            "metric_for_best_model=loss,\n",
            "mp_parameters=,\n",
            "neftune_noise_alpha=None,\n",
            "no_cuda=False,\n",
            "num_train_epochs=1,\n",
            "optim=adamw_torch,\n",
            "optim_args=None,\n",
            "optim_target_modules=None,\n",
            "output_dir=./bertBaseMultilingualNew/,\n",
            "overwrite_output_dir=True,\n",
            "past_index=-1,\n",
            "per_device_eval_batch_size=16,\n",
            "per_device_train_batch_size=16,\n",
            "prediction_loss_only=False,\n",
            "push_to_hub=False,\n",
            "push_to_hub_model_id=None,\n",
            "push_to_hub_organization=None,\n",
            "push_to_hub_token=<PUSH_TO_HUB_TOKEN>,\n",
            "ray_scope=last,\n",
            "remove_unused_columns=False,\n",
            "report_to=['tensorboard'],\n",
            "restore_callback_states_from_checkpoint=False,\n",
            "resume_from_checkpoint=None,\n",
            "run_name=./bertBaseMultilingualNew/,\n",
            "save_on_each_node=False,\n",
            "save_only_model=False,\n",
            "save_safetensors=True,\n",
            "save_steps=500,\n",
            "save_strategy=no,\n",
            "save_total_limit=2,\n",
            "seed=42,\n",
            "skip_memory_metrics=True,\n",
            "split_batches=None,\n",
            "tf32=None,\n",
            "torch_compile=False,\n",
            "torch_compile_backend=None,\n",
            "torch_compile_mode=None,\n",
            "torch_empty_cache_steps=None,\n",
            "torchdynamo=None,\n",
            "tpu_metrics_debug=False,\n",
            "tpu_num_cores=None,\n",
            "use_cpu=False,\n",
            "use_ipex=False,\n",
            "use_legacy_prediction_loop=False,\n",
            "use_mps_device=False,\n",
            "warmup_ratio=0.0,\n",
            "warmup_steps=0,\n",
            "weight_decay=0.0,\n",
            ")\n"
          ]
        }
      ],
      "source": [
        "transformers.utils.logging.set_verbosity_info()\n",
        "\n",
        "log_level = training_args.get_process_log_level()\n",
        "logger.setLevel(log_level)\n",
        "datasets.utils.logging.set_verbosity(log_level)\n",
        "transformers.utils.logging.set_verbosity(log_level)\n",
        "transformers.utils.logging.enable_default_handler()\n",
        "transformers.utils.logging.enable_explicit_format()\n",
        "logger.warning(\n",
        "    f\"Process rank: {training_args.local_rank}, device: {training_args.device}, n_gpu: {training_args.n_gpu}\"\n",
        "    + f\" distributed training: {bool(training_args.local_rank != -1)}, 16-bits training: {training_args.fp16}\"\n",
        ")\n",
        "logger.info(f\"Training/evaluation parameters {training_args}\")"
      ]
    },
    {
      "cell_type": "code",
      "execution_count": 54,
      "id": "92d6e2cf",
      "metadata": {
        "execution": {
          "iopub.execute_input": "2023-09-03T08:28:00.133888Z",
          "iopub.status.busy": "2023-09-03T08:28:00.132833Z",
          "iopub.status.idle": "2023-09-03T08:28:00.137889Z",
          "shell.execute_reply": "2023-09-03T08:28:00.136964Z"
        },
        "id": "92d6e2cf",
        "papermill": {
          "duration": 0.057349,
          "end_time": "2023-09-03T08:28:00.140025",
          "exception": false,
          "start_time": "2023-09-03T08:28:00.082676",
          "status": "completed"
        },
        "tags": []
      },
      "outputs": [],
      "source": [
        "model_name = 'sagorsarker/bangla-bert-base'"
      ]
    },
    {
      "cell_type": "code",
      "execution_count": 55,
      "id": "e4641820",
      "metadata": {
        "execution": {
          "iopub.execute_input": "2023-09-03T08:28:00.239321Z",
          "iopub.status.busy": "2023-09-03T08:28:00.238959Z",
          "iopub.status.idle": "2023-09-03T08:28:00.245801Z",
          "shell.execute_reply": "2023-09-03T08:28:00.244881Z"
        },
        "id": "e4641820",
        "papermill": {
          "duration": 0.059296,
          "end_time": "2023-09-03T08:28:00.247898",
          "exception": false,
          "start_time": "2023-09-03T08:28:00.188602",
          "status": "completed"
        },
        "tags": []
      },
      "outputs": [],
      "source": [
        "set_seed(training_args.seed)"
      ]
    },
    {
      "cell_type": "code",
      "execution_count": 56,
      "id": "c2a17ebc",
      "metadata": {
        "execution": {
          "iopub.execute_input": "2023-09-03T08:28:00.342643Z",
          "iopub.status.busy": "2023-09-03T08:28:00.342086Z",
          "iopub.status.idle": "2023-09-03T08:28:00.353856Z",
          "shell.execute_reply": "2023-09-03T08:28:00.352902Z"
        },
        "id": "c2a17ebc",
        "papermill": {
          "duration": 0.061502,
          "end_time": "2023-09-03T08:28:00.355922",
          "exception": false,
          "start_time": "2023-09-03T08:28:00.294420",
          "status": "completed"
        },
        "tags": []
      },
      "outputs": [],
      "source": [
        "punctuations = [\"|\",\"‘\",\">\",\"<\",\"*\",   \"।\", \",\", \";\", \":\", \"?\", \"!\", \"'\", \".\", \"\\\"\", \"-\",\n",
        "                \"[\", \"]\", \"{\", \"}\", \"(\", \")\", '–', \"—\", \"―\", \"~\"]\n",
        "\n",
        "def remove_url(word):\n",
        "    return word.split(\"http\")[0].strip()\n",
        "\n",
        "def extreme_process(word):\n",
        "    word_list = [word]\n",
        "    splitter_list = [\"**\",\"*\", \"…\", \"-\"]\n",
        "\n",
        "    for i in splitter_list:\n",
        "        if i in word:\n",
        "            temp_list = word.split(i)\n",
        "            word_list = list(filter(lambda x:x.strip() != \"\", temp_list))\n",
        "            return word_list\n",
        "    return word_list\n",
        "\n",
        "\n",
        "def process_word(word):\n",
        "    word = word.strip()\n",
        "    if len(word) == 0:\n",
        "        return []\n",
        "    elif len(word) == 1:\n",
        "        if word not in punctuations:\n",
        "            return [word]\n",
        "        else:\n",
        "            return []\n",
        "    else:\n",
        "        word = remove_url(word)\n",
        "\n",
        "        if len(word) == 0:\n",
        "            return []\n",
        "        elif len(word) == 1:\n",
        "            if word in punctuations:\n",
        "                return []\n",
        "            else:\n",
        "                return [word]\n",
        "        else:\n",
        "            if word[0] in punctuations:\n",
        "                word = word[1:]\n",
        "            if word[-1] in punctuations:\n",
        "                word = word[:-1]\n",
        "\n",
        "            word = extreme_process(word)\n",
        "\n",
        "            return word"
      ]
    },
    {
      "cell_type": "code",
      "execution_count": 58,
      "id": "2ba9bcd7",
      "metadata": {
        "execution": {
          "iopub.execute_input": "2023-09-03T08:28:00.453325Z",
          "iopub.status.busy": "2023-09-03T08:28:00.452922Z",
          "iopub.status.idle": "2023-09-03T08:28:00.660592Z",
          "shell.execute_reply": "2023-09-03T08:28:00.659358Z"
        },
        "id": "2ba9bcd7",
        "outputId": "31fd4af3-8f2c-45c7-a1e3-f7e85a7c25b6",
        "papermill": {
          "duration": 0.26149,
          "end_time": "2023-09-03T08:28:00.663944",
          "exception": false,
          "start_time": "2023-09-03T08:28:00.402454",
          "status": "completed"
        },
        "tags": [],
        "colab": {
          "base_uri": "https://localhost:8080/",
          "height": 206
        }
      },
      "outputs": [
        {
          "output_type": "execute_result",
          "data": {
            "text/plain": [
              "                                                text     label\n",
              "0  এই মানুষটারে একটা মানুষও তাহলে কি পছন্দ করে না???  positive\n",
              "1  এত চুরিতে দেশ জোলত কি ভেবে । নাকি এ গুলি মিথ্য...  negative\n",
              "2  আজ আকাশছোঁয় স্বপ্নের পদ্মা সেতুর শুভ উদ্বোধন।...  positive\n",
              "3            ঢাকার ভিতরে 200 বি আর টির বাস লামানো হক   neutral\n",
              "4  বাংলাদেশের পরিবেশের দিকে ও একটু নজর দেওয়া দরকা...  negative"
            ],
            "text/html": [
              "\n",
              "  <div id=\"df-3b001783-8a9b-4a53-9a56-8b27f684d899\" class=\"colab-df-container\">\n",
              "    <div>\n",
              "<style scoped>\n",
              "    .dataframe tbody tr th:only-of-type {\n",
              "        vertical-align: middle;\n",
              "    }\n",
              "\n",
              "    .dataframe tbody tr th {\n",
              "        vertical-align: top;\n",
              "    }\n",
              "\n",
              "    .dataframe thead th {\n",
              "        text-align: right;\n",
              "    }\n",
              "</style>\n",
              "<table border=\"1\" class=\"dataframe\">\n",
              "  <thead>\n",
              "    <tr style=\"text-align: right;\">\n",
              "      <th></th>\n",
              "      <th>text</th>\n",
              "      <th>label</th>\n",
              "    </tr>\n",
              "  </thead>\n",
              "  <tbody>\n",
              "    <tr>\n",
              "      <th>0</th>\n",
              "      <td>এই মানুষটারে একটা মানুষও তাহলে কি পছন্দ করে না???</td>\n",
              "      <td>positive</td>\n",
              "    </tr>\n",
              "    <tr>\n",
              "      <th>1</th>\n",
              "      <td>এত চুরিতে দেশ জোলত কি ভেবে । নাকি এ গুলি মিথ্য...</td>\n",
              "      <td>negative</td>\n",
              "    </tr>\n",
              "    <tr>\n",
              "      <th>2</th>\n",
              "      <td>আজ আকাশছোঁয় স্বপ্নের পদ্মা সেতুর শুভ উদ্বোধন।...</td>\n",
              "      <td>positive</td>\n",
              "    </tr>\n",
              "    <tr>\n",
              "      <th>3</th>\n",
              "      <td>ঢাকার ভিতরে 200 বি আর টির বাস লামানো হক</td>\n",
              "      <td>neutral</td>\n",
              "    </tr>\n",
              "    <tr>\n",
              "      <th>4</th>\n",
              "      <td>বাংলাদেশের পরিবেশের দিকে ও একটু নজর দেওয়া দরকা...</td>\n",
              "      <td>negative</td>\n",
              "    </tr>\n",
              "  </tbody>\n",
              "</table>\n",
              "</div>\n",
              "    <div class=\"colab-df-buttons\">\n",
              "\n",
              "  <div class=\"colab-df-container\">\n",
              "    <button class=\"colab-df-convert\" onclick=\"convertToInteractive('df-3b001783-8a9b-4a53-9a56-8b27f684d899')\"\n",
              "            title=\"Convert this dataframe to an interactive table.\"\n",
              "            style=\"display:none;\">\n",
              "\n",
              "  <svg xmlns=\"http://www.w3.org/2000/svg\" height=\"24px\" viewBox=\"0 -960 960 960\">\n",
              "    <path d=\"M120-120v-720h720v720H120Zm60-500h600v-160H180v160Zm220 220h160v-160H400v160Zm0 220h160v-160H400v160ZM180-400h160v-160H180v160Zm440 0h160v-160H620v160ZM180-180h160v-160H180v160Zm440 0h160v-160H620v160Z\"/>\n",
              "  </svg>\n",
              "    </button>\n",
              "\n",
              "  <style>\n",
              "    .colab-df-container {\n",
              "      display:flex;\n",
              "      gap: 12px;\n",
              "    }\n",
              "\n",
              "    .colab-df-convert {\n",
              "      background-color: #E8F0FE;\n",
              "      border: none;\n",
              "      border-radius: 50%;\n",
              "      cursor: pointer;\n",
              "      display: none;\n",
              "      fill: #1967D2;\n",
              "      height: 32px;\n",
              "      padding: 0 0 0 0;\n",
              "      width: 32px;\n",
              "    }\n",
              "\n",
              "    .colab-df-convert:hover {\n",
              "      background-color: #E2EBFA;\n",
              "      box-shadow: 0px 1px 2px rgba(60, 64, 67, 0.3), 0px 1px 3px 1px rgba(60, 64, 67, 0.15);\n",
              "      fill: #174EA6;\n",
              "    }\n",
              "\n",
              "    .colab-df-buttons div {\n",
              "      margin-bottom: 4px;\n",
              "    }\n",
              "\n",
              "    [theme=dark] .colab-df-convert {\n",
              "      background-color: #3B4455;\n",
              "      fill: #D2E3FC;\n",
              "    }\n",
              "\n",
              "    [theme=dark] .colab-df-convert:hover {\n",
              "      background-color: #434B5C;\n",
              "      box-shadow: 0px 1px 3px 1px rgba(0, 0, 0, 0.15);\n",
              "      filter: drop-shadow(0px 1px 2px rgba(0, 0, 0, 0.3));\n",
              "      fill: #FFFFFF;\n",
              "    }\n",
              "  </style>\n",
              "\n",
              "    <script>\n",
              "      const buttonEl =\n",
              "        document.querySelector('#df-3b001783-8a9b-4a53-9a56-8b27f684d899 button.colab-df-convert');\n",
              "      buttonEl.style.display =\n",
              "        google.colab.kernel.accessAllowed ? 'block' : 'none';\n",
              "\n",
              "      async function convertToInteractive(key) {\n",
              "        const element = document.querySelector('#df-3b001783-8a9b-4a53-9a56-8b27f684d899');\n",
              "        const dataTable =\n",
              "          await google.colab.kernel.invokeFunction('convertToInteractive',\n",
              "                                                    [key], {});\n",
              "        if (!dataTable) return;\n",
              "\n",
              "        const docLinkHtml = 'Like what you see? Visit the ' +\n",
              "          '<a target=\"_blank\" href=https://colab.research.google.com/notebooks/data_table.ipynb>data table notebook</a>'\n",
              "          + ' to learn more about interactive tables.';\n",
              "        element.innerHTML = '';\n",
              "        dataTable['output_type'] = 'display_data';\n",
              "        await google.colab.output.renderOutput(dataTable, element);\n",
              "        const docLink = document.createElement('div');\n",
              "        docLink.innerHTML = docLinkHtml;\n",
              "        element.appendChild(docLink);\n",
              "      }\n",
              "    </script>\n",
              "  </div>\n",
              "\n",
              "\n",
              "<div id=\"df-4959b443-9f7f-439c-a144-566e370e3a80\">\n",
              "  <button class=\"colab-df-quickchart\" onclick=\"quickchart('df-4959b443-9f7f-439c-a144-566e370e3a80')\"\n",
              "            title=\"Suggest charts\"\n",
              "            style=\"display:none;\">\n",
              "\n",
              "<svg xmlns=\"http://www.w3.org/2000/svg\" height=\"24px\"viewBox=\"0 0 24 24\"\n",
              "     width=\"24px\">\n",
              "    <g>\n",
              "        <path d=\"M19 3H5c-1.1 0-2 .9-2 2v14c0 1.1.9 2 2 2h14c1.1 0 2-.9 2-2V5c0-1.1-.9-2-2-2zM9 17H7v-7h2v7zm4 0h-2V7h2v10zm4 0h-2v-4h2v4z\"/>\n",
              "    </g>\n",
              "</svg>\n",
              "  </button>\n",
              "\n",
              "<style>\n",
              "  .colab-df-quickchart {\n",
              "      --bg-color: #E8F0FE;\n",
              "      --fill-color: #1967D2;\n",
              "      --hover-bg-color: #E2EBFA;\n",
              "      --hover-fill-color: #174EA6;\n",
              "      --disabled-fill-color: #AAA;\n",
              "      --disabled-bg-color: #DDD;\n",
              "  }\n",
              "\n",
              "  [theme=dark] .colab-df-quickchart {\n",
              "      --bg-color: #3B4455;\n",
              "      --fill-color: #D2E3FC;\n",
              "      --hover-bg-color: #434B5C;\n",
              "      --hover-fill-color: #FFFFFF;\n",
              "      --disabled-bg-color: #3B4455;\n",
              "      --disabled-fill-color: #666;\n",
              "  }\n",
              "\n",
              "  .colab-df-quickchart {\n",
              "    background-color: var(--bg-color);\n",
              "    border: none;\n",
              "    border-radius: 50%;\n",
              "    cursor: pointer;\n",
              "    display: none;\n",
              "    fill: var(--fill-color);\n",
              "    height: 32px;\n",
              "    padding: 0;\n",
              "    width: 32px;\n",
              "  }\n",
              "\n",
              "  .colab-df-quickchart:hover {\n",
              "    background-color: var(--hover-bg-color);\n",
              "    box-shadow: 0 1px 2px rgba(60, 64, 67, 0.3), 0 1px 3px 1px rgba(60, 64, 67, 0.15);\n",
              "    fill: var(--button-hover-fill-color);\n",
              "  }\n",
              "\n",
              "  .colab-df-quickchart-complete:disabled,\n",
              "  .colab-df-quickchart-complete:disabled:hover {\n",
              "    background-color: var(--disabled-bg-color);\n",
              "    fill: var(--disabled-fill-color);\n",
              "    box-shadow: none;\n",
              "  }\n",
              "\n",
              "  .colab-df-spinner {\n",
              "    border: 2px solid var(--fill-color);\n",
              "    border-color: transparent;\n",
              "    border-bottom-color: var(--fill-color);\n",
              "    animation:\n",
              "      spin 1s steps(1) infinite;\n",
              "  }\n",
              "\n",
              "  @keyframes spin {\n",
              "    0% {\n",
              "      border-color: transparent;\n",
              "      border-bottom-color: var(--fill-color);\n",
              "      border-left-color: var(--fill-color);\n",
              "    }\n",
              "    20% {\n",
              "      border-color: transparent;\n",
              "      border-left-color: var(--fill-color);\n",
              "      border-top-color: var(--fill-color);\n",
              "    }\n",
              "    30% {\n",
              "      border-color: transparent;\n",
              "      border-left-color: var(--fill-color);\n",
              "      border-top-color: var(--fill-color);\n",
              "      border-right-color: var(--fill-color);\n",
              "    }\n",
              "    40% {\n",
              "      border-color: transparent;\n",
              "      border-right-color: var(--fill-color);\n",
              "      border-top-color: var(--fill-color);\n",
              "    }\n",
              "    60% {\n",
              "      border-color: transparent;\n",
              "      border-right-color: var(--fill-color);\n",
              "    }\n",
              "    80% {\n",
              "      border-color: transparent;\n",
              "      border-right-color: var(--fill-color);\n",
              "      border-bottom-color: var(--fill-color);\n",
              "    }\n",
              "    90% {\n",
              "      border-color: transparent;\n",
              "      border-bottom-color: var(--fill-color);\n",
              "    }\n",
              "  }\n",
              "</style>\n",
              "\n",
              "  <script>\n",
              "    async function quickchart(key) {\n",
              "      const quickchartButtonEl =\n",
              "        document.querySelector('#' + key + ' button');\n",
              "      quickchartButtonEl.disabled = true;  // To prevent multiple clicks.\n",
              "      quickchartButtonEl.classList.add('colab-df-spinner');\n",
              "      try {\n",
              "        const charts = await google.colab.kernel.invokeFunction(\n",
              "            'suggestCharts', [key], {});\n",
              "      } catch (error) {\n",
              "        console.error('Error during call to suggestCharts:', error);\n",
              "      }\n",
              "      quickchartButtonEl.classList.remove('colab-df-spinner');\n",
              "      quickchartButtonEl.classList.add('colab-df-quickchart-complete');\n",
              "    }\n",
              "    (() => {\n",
              "      let quickchartButtonEl =\n",
              "        document.querySelector('#df-4959b443-9f7f-439c-a144-566e370e3a80 button');\n",
              "      quickchartButtonEl.style.display =\n",
              "        google.colab.kernel.accessAllowed ? 'block' : 'none';\n",
              "    })();\n",
              "  </script>\n",
              "</div>\n",
              "\n",
              "    </div>\n",
              "  </div>\n"
            ],
            "application/vnd.google.colaboratory.intrinsic+json": {
              "type": "dataframe",
              "variable_name": "train_df",
              "summary": "{\n  \"name\": \"train_df\",\n  \"rows\": 4462,\n  \"fields\": [\n    {\n      \"column\": \"text\",\n      \"properties\": {\n        \"dtype\": \"string\",\n        \"num_unique_values\": 4462,\n        \"samples\": [\n          \"\\u09b6\\u09c7\\u0996 \\u09b9\\u09be\\u09b8\\u09bf\\u09a8\\u09be \\u09a4\\u09cb\\u09ae\\u09be\\u09df \\u09ae\\u09a8\\u09c7 \\u09aa\\u09b0\\u09c7\\u09f7\",\n          \"\\u09ae\\u09bf\\u09b0\\u09aa\\u09c1\\u09b0 \\u09b8\\u09cd\\u099f\\u09c7\\u09b6\\u09a8 \\u098f\\u09ac\\u0982 \\u099f\\u09cd\\u09b0\\u09c7\\u09a8\\u09bf\\u0982 \\u09b8\\u09c7\\u09a8\\u09cd\\u099f\\u09be\\u09b0 \\u09a5\\u09c7\\u0995\\u09c7 \\u09af\\u09a8\\u09cd\\u09a4\\u09cd\\u09b0\\u09aa\\u09be\\u09a4\\u09bf \\u09a8\\u09bf\\u09df\\u09c7 \\u0986\\u09b8\\u09b2\\u09c7\\u09a8, \\u0997\\u09cd\\u09b2\\u09be\\u09b8 \\u09b2\\u09be\\u0997\\u09be\\u09b2\\u09c7\\u09a8 \\u09a6\\u09c7\\u09b6\\u09c0\\u09df \\u09a8\\u09be\\u09b8\\u09bf\\u09b0 \\u0997\\u09cd\\u09b2\\u09be\\u09b8\\u0964 \\u09af\\u09a4\\u0997\\u09c1\\u09b2\\u09cb \\u0995\\u09cd\\u09b7\\u09a4\\u09bf\\u0997\\u09cd\\u09b0\\u09b8\\u09cd\\u09a4 \\u09b9\\u09df\\u09c7\\u099b\\u09c7 \\u09a4\\u09be\\u09b0 \\u09aa\\u09c1\\u09b0\\u09cb\\u09aa\\u09c1\\u09b0\\u09bf \\u09a0\\u09bf\\u0995 \\u09b9\\u09df\\u09a8\\u09bf, \\u099a\\u09b2\\u09be\\u09b0 \\u09ae\\u09a4 \\u0995\\u09b0\\u09c7 \\u099a\\u09be\\u09b2\\u09c1 \\u0995\\u09b0\\u09be\\u0964 \\u098f\\u09a4\\u09c7\\u0987 \\u09b6\\u09cb\\u09b0\\u0997\\u09cb\\u09b2 \\u09aa\\u09dc\\u09c7 \\u0997\\u09c7\\u099b\\u09c7 \\u09ae\\u09be\\u09a4\\u09cd\\u09b0 \\u09e8\\u09e6 \\u09b2\\u0995\\u09cd\\u09b7 \\u09eb\\u09e6 \\u09b9\\u09be\\u099c\\u09be\\u09b0 \\u099f\\u09be\\u0995\\u09be\\u09df \\u09a0\\u09bf\\u0995 \\u09b9\\u09b2\\u09cb!!! \\u09b8\\u09be\\u0982\\u09ac\\u09be\\u09a6\\u09bf\\u0995 \\u09ae\\u09b9\\u09cb\\u09a6\\u09df\\u09b0\\u09be \\u09a4\\u09cb \\u0986\\u09b0 \\u09b8\\u09c7\\u09ad\\u09be\\u09ac\\u09c7 \\u09b2\\u09bf\\u0996\\u09ac\\u09c7 \\u09a8\\u09be, \\u09b2\\u09bf\\u0996\\u09ac\\u09c7 \\u09ae\\u09be\\u09a4\\u09cd\\u09b0 \\u09e8\\u09e6 \\u09b2\\u0995\\u09cd\\u09b7 \\u09eb\\u09e6 \\u09b9\\u09be\\u099c\\u09be\\u09b0 \\u099f\\u09be\\u0995\\u09be\\u09df \\u09ae\\u09c7\\u09b0\\u09be\\u09ae\\u09a4 \\u09b9\\u09df\\u09c7 \\u0997\\u09c7\\u09b2 \\u0995\\u09be\\u099c\\u09c0\\u09aa\\u09be\\u09dc\\u09be \\u09b8\\u09cd\\u099f\\u09c7\\u09b6\\u09a8\\u0964 \\u09a4\\u09be\\u09b0\\u09aa\\u09b0 \\u099c\\u09a8\\u0997\\u09a3\\u09c7\\u09b0 \\u09ae\\u09be\\u099d\\u09c7 \\u09ac\\u09bf\\u09ad\\u09cd\\u09b0\\u09be\\u09a8\\u09cd\\u09a4\\u09bf \\u099b\\u09dc\\u09bf\\u09df\\u09c7 \\u09a6\\u09bf\\u09df\\u09c7 \\u09a6\\u09bf\\u099a\\u09cd\\u099b\\u09c7!!!!\",\n          \"\\u09ac\\u09cd\\u09af\\u09be\\u0995\\u0997\\u09cd\\u09b0\\u09be\\u0989\\u09a8\\u09cd\\u09a1 \\u09ae\\u09bf\\u0989\\u099c\\u09bf\\u0995\\u099f\\u09be \\u09b0\\u0995\\u09cd\\u09a4 \\u0997\\u09b0\\u09ae \\u0995\\u09b0\\u09be\\u09b0 \\u09ae\\u09a4\\u09b8\\u09ac \\u0995\\u09bf\\u099b\\u09c1 \\u09ae\\u09bf\\u09b2\\u09c7 \\u09b8\\u09c7\\u09b0\\u09be\\u099c\\u09df \\u09ac\\u09be\\u0982\\u09b2\\u09be \\u099c\\u09df \\u09ac\\u0999\\u09cd\\u0997\\u09ac\\u09a8\\u09cd\\u09a7\\u09c1\"\n        ],\n        \"semantic_type\": \"\",\n        \"description\": \"\"\n      }\n    },\n    {\n      \"column\": \"label\",\n      \"properties\": {\n        \"dtype\": \"category\",\n        \"num_unique_values\": 3,\n        \"samples\": [\n          \"positive\",\n          \"negative\",\n          \"neutral\"\n        ],\n        \"semantic_type\": \"\",\n        \"description\": \"\"\n      }\n    }\n  ]\n}"
            }
          },
          "metadata": {},
          "execution_count": 58
        }
      ],
      "source": [
        "# l2id = {'Positive': 2, 'Neutral': 1, 'Negative': 0}\n",
        "# train_df = pd.read_csv(train_file, sep='\\t')\n",
        "# #print(train_df.head())\n",
        "# train_df.head()\n",
        "\n",
        "\n",
        "import pandas as pd\n",
        "\n",
        "l2id = {'positive': 2, 'neutral': 1, 'negative': 0}\n",
        "# Load the Excel file instead of a CSV file\n",
        "train_df = pd.read_csv(train_file)  # Replace with your actual file path\n",
        "#print(train_df.head())\n",
        "train_df.head()\n"
      ]
    },
    {
      "cell_type": "code",
      "source": [
        "train_df.head()"
      ],
      "metadata": {
        "colab": {
          "base_uri": "https://localhost:8080/",
          "height": 206
        },
        "id": "VXhhy8W_aRin",
        "outputId": "afd474ff-3bd1-4c42-8524-7b68d1b16239"
      },
      "id": "VXhhy8W_aRin",
      "execution_count": 61,
      "outputs": [
        {
          "output_type": "execute_result",
          "data": {
            "text/plain": [
              "                                                text     label\n",
              "0   এই মানুষটারে একটা মানুষও তাহলে কি পছন্দ করে না??  positive\n",
              "1  এত চুরিতে দেশ জোলত কি ভেবে নাকি এ গুলি মিথ্যা ...  negative\n",
              "2  আজ আকাশছোঁয় স্বপ্নের পদ্মা সেতুর শুভ উদ্বোধন।...  positive\n",
              "3            ঢাকার ভিতরে 200 বি আর টির বাস লামানো হক   neutral\n",
              "4  বাংলাদেশের পরিবেশের দিকে ও একটু নজর দেওয়া দরকা...  negative"
            ],
            "text/html": [
              "\n",
              "  <div id=\"df-b5beb3ce-4214-48f1-9348-eb4cd4049590\" class=\"colab-df-container\">\n",
              "    <div>\n",
              "<style scoped>\n",
              "    .dataframe tbody tr th:only-of-type {\n",
              "        vertical-align: middle;\n",
              "    }\n",
              "\n",
              "    .dataframe tbody tr th {\n",
              "        vertical-align: top;\n",
              "    }\n",
              "\n",
              "    .dataframe thead th {\n",
              "        text-align: right;\n",
              "    }\n",
              "</style>\n",
              "<table border=\"1\" class=\"dataframe\">\n",
              "  <thead>\n",
              "    <tr style=\"text-align: right;\">\n",
              "      <th></th>\n",
              "      <th>text</th>\n",
              "      <th>label</th>\n",
              "    </tr>\n",
              "  </thead>\n",
              "  <tbody>\n",
              "    <tr>\n",
              "      <th>0</th>\n",
              "      <td>এই মানুষটারে একটা মানুষও তাহলে কি পছন্দ করে না??</td>\n",
              "      <td>positive</td>\n",
              "    </tr>\n",
              "    <tr>\n",
              "      <th>1</th>\n",
              "      <td>এত চুরিতে দেশ জোলত কি ভেবে নাকি এ গুলি মিথ্যা ...</td>\n",
              "      <td>negative</td>\n",
              "    </tr>\n",
              "    <tr>\n",
              "      <th>2</th>\n",
              "      <td>আজ আকাশছোঁয় স্বপ্নের পদ্মা সেতুর শুভ উদ্বোধন।...</td>\n",
              "      <td>positive</td>\n",
              "    </tr>\n",
              "    <tr>\n",
              "      <th>3</th>\n",
              "      <td>ঢাকার ভিতরে 200 বি আর টির বাস লামানো হক</td>\n",
              "      <td>neutral</td>\n",
              "    </tr>\n",
              "    <tr>\n",
              "      <th>4</th>\n",
              "      <td>বাংলাদেশের পরিবেশের দিকে ও একটু নজর দেওয়া দরকা...</td>\n",
              "      <td>negative</td>\n",
              "    </tr>\n",
              "  </tbody>\n",
              "</table>\n",
              "</div>\n",
              "    <div class=\"colab-df-buttons\">\n",
              "\n",
              "  <div class=\"colab-df-container\">\n",
              "    <button class=\"colab-df-convert\" onclick=\"convertToInteractive('df-b5beb3ce-4214-48f1-9348-eb4cd4049590')\"\n",
              "            title=\"Convert this dataframe to an interactive table.\"\n",
              "            style=\"display:none;\">\n",
              "\n",
              "  <svg xmlns=\"http://www.w3.org/2000/svg\" height=\"24px\" viewBox=\"0 -960 960 960\">\n",
              "    <path d=\"M120-120v-720h720v720H120Zm60-500h600v-160H180v160Zm220 220h160v-160H400v160Zm0 220h160v-160H400v160ZM180-400h160v-160H180v160Zm440 0h160v-160H620v160ZM180-180h160v-160H180v160Zm440 0h160v-160H620v160Z\"/>\n",
              "  </svg>\n",
              "    </button>\n",
              "\n",
              "  <style>\n",
              "    .colab-df-container {\n",
              "      display:flex;\n",
              "      gap: 12px;\n",
              "    }\n",
              "\n",
              "    .colab-df-convert {\n",
              "      background-color: #E8F0FE;\n",
              "      border: none;\n",
              "      border-radius: 50%;\n",
              "      cursor: pointer;\n",
              "      display: none;\n",
              "      fill: #1967D2;\n",
              "      height: 32px;\n",
              "      padding: 0 0 0 0;\n",
              "      width: 32px;\n",
              "    }\n",
              "\n",
              "    .colab-df-convert:hover {\n",
              "      background-color: #E2EBFA;\n",
              "      box-shadow: 0px 1px 2px rgba(60, 64, 67, 0.3), 0px 1px 3px 1px rgba(60, 64, 67, 0.15);\n",
              "      fill: #174EA6;\n",
              "    }\n",
              "\n",
              "    .colab-df-buttons div {\n",
              "      margin-bottom: 4px;\n",
              "    }\n",
              "\n",
              "    [theme=dark] .colab-df-convert {\n",
              "      background-color: #3B4455;\n",
              "      fill: #D2E3FC;\n",
              "    }\n",
              "\n",
              "    [theme=dark] .colab-df-convert:hover {\n",
              "      background-color: #434B5C;\n",
              "      box-shadow: 0px 1px 3px 1px rgba(0, 0, 0, 0.15);\n",
              "      filter: drop-shadow(0px 1px 2px rgba(0, 0, 0, 0.3));\n",
              "      fill: #FFFFFF;\n",
              "    }\n",
              "  </style>\n",
              "\n",
              "    <script>\n",
              "      const buttonEl =\n",
              "        document.querySelector('#df-b5beb3ce-4214-48f1-9348-eb4cd4049590 button.colab-df-convert');\n",
              "      buttonEl.style.display =\n",
              "        google.colab.kernel.accessAllowed ? 'block' : 'none';\n",
              "\n",
              "      async function convertToInteractive(key) {\n",
              "        const element = document.querySelector('#df-b5beb3ce-4214-48f1-9348-eb4cd4049590');\n",
              "        const dataTable =\n",
              "          await google.colab.kernel.invokeFunction('convertToInteractive',\n",
              "                                                    [key], {});\n",
              "        if (!dataTable) return;\n",
              "\n",
              "        const docLinkHtml = 'Like what you see? Visit the ' +\n",
              "          '<a target=\"_blank\" href=https://colab.research.google.com/notebooks/data_table.ipynb>data table notebook</a>'\n",
              "          + ' to learn more about interactive tables.';\n",
              "        element.innerHTML = '';\n",
              "        dataTable['output_type'] = 'display_data';\n",
              "        await google.colab.output.renderOutput(dataTable, element);\n",
              "        const docLink = document.createElement('div');\n",
              "        docLink.innerHTML = docLinkHtml;\n",
              "        element.appendChild(docLink);\n",
              "      }\n",
              "    </script>\n",
              "  </div>\n",
              "\n",
              "\n",
              "<div id=\"df-10e4595f-b0cb-4f45-95ea-34a79bf9e833\">\n",
              "  <button class=\"colab-df-quickchart\" onclick=\"quickchart('df-10e4595f-b0cb-4f45-95ea-34a79bf9e833')\"\n",
              "            title=\"Suggest charts\"\n",
              "            style=\"display:none;\">\n",
              "\n",
              "<svg xmlns=\"http://www.w3.org/2000/svg\" height=\"24px\"viewBox=\"0 0 24 24\"\n",
              "     width=\"24px\">\n",
              "    <g>\n",
              "        <path d=\"M19 3H5c-1.1 0-2 .9-2 2v14c0 1.1.9 2 2 2h14c1.1 0 2-.9 2-2V5c0-1.1-.9-2-2-2zM9 17H7v-7h2v7zm4 0h-2V7h2v10zm4 0h-2v-4h2v4z\"/>\n",
              "    </g>\n",
              "</svg>\n",
              "  </button>\n",
              "\n",
              "<style>\n",
              "  .colab-df-quickchart {\n",
              "      --bg-color: #E8F0FE;\n",
              "      --fill-color: #1967D2;\n",
              "      --hover-bg-color: #E2EBFA;\n",
              "      --hover-fill-color: #174EA6;\n",
              "      --disabled-fill-color: #AAA;\n",
              "      --disabled-bg-color: #DDD;\n",
              "  }\n",
              "\n",
              "  [theme=dark] .colab-df-quickchart {\n",
              "      --bg-color: #3B4455;\n",
              "      --fill-color: #D2E3FC;\n",
              "      --hover-bg-color: #434B5C;\n",
              "      --hover-fill-color: #FFFFFF;\n",
              "      --disabled-bg-color: #3B4455;\n",
              "      --disabled-fill-color: #666;\n",
              "  }\n",
              "\n",
              "  .colab-df-quickchart {\n",
              "    background-color: var(--bg-color);\n",
              "    border: none;\n",
              "    border-radius: 50%;\n",
              "    cursor: pointer;\n",
              "    display: none;\n",
              "    fill: var(--fill-color);\n",
              "    height: 32px;\n",
              "    padding: 0;\n",
              "    width: 32px;\n",
              "  }\n",
              "\n",
              "  .colab-df-quickchart:hover {\n",
              "    background-color: var(--hover-bg-color);\n",
              "    box-shadow: 0 1px 2px rgba(60, 64, 67, 0.3), 0 1px 3px 1px rgba(60, 64, 67, 0.15);\n",
              "    fill: var(--button-hover-fill-color);\n",
              "  }\n",
              "\n",
              "  .colab-df-quickchart-complete:disabled,\n",
              "  .colab-df-quickchart-complete:disabled:hover {\n",
              "    background-color: var(--disabled-bg-color);\n",
              "    fill: var(--disabled-fill-color);\n",
              "    box-shadow: none;\n",
              "  }\n",
              "\n",
              "  .colab-df-spinner {\n",
              "    border: 2px solid var(--fill-color);\n",
              "    border-color: transparent;\n",
              "    border-bottom-color: var(--fill-color);\n",
              "    animation:\n",
              "      spin 1s steps(1) infinite;\n",
              "  }\n",
              "\n",
              "  @keyframes spin {\n",
              "    0% {\n",
              "      border-color: transparent;\n",
              "      border-bottom-color: var(--fill-color);\n",
              "      border-left-color: var(--fill-color);\n",
              "    }\n",
              "    20% {\n",
              "      border-color: transparent;\n",
              "      border-left-color: var(--fill-color);\n",
              "      border-top-color: var(--fill-color);\n",
              "    }\n",
              "    30% {\n",
              "      border-color: transparent;\n",
              "      border-left-color: var(--fill-color);\n",
              "      border-top-color: var(--fill-color);\n",
              "      border-right-color: var(--fill-color);\n",
              "    }\n",
              "    40% {\n",
              "      border-color: transparent;\n",
              "      border-right-color: var(--fill-color);\n",
              "      border-top-color: var(--fill-color);\n",
              "    }\n",
              "    60% {\n",
              "      border-color: transparent;\n",
              "      border-right-color: var(--fill-color);\n",
              "    }\n",
              "    80% {\n",
              "      border-color: transparent;\n",
              "      border-right-color: var(--fill-color);\n",
              "      border-bottom-color: var(--fill-color);\n",
              "    }\n",
              "    90% {\n",
              "      border-color: transparent;\n",
              "      border-bottom-color: var(--fill-color);\n",
              "    }\n",
              "  }\n",
              "</style>\n",
              "\n",
              "  <script>\n",
              "    async function quickchart(key) {\n",
              "      const quickchartButtonEl =\n",
              "        document.querySelector('#' + key + ' button');\n",
              "      quickchartButtonEl.disabled = true;  // To prevent multiple clicks.\n",
              "      quickchartButtonEl.classList.add('colab-df-spinner');\n",
              "      try {\n",
              "        const charts = await google.colab.kernel.invokeFunction(\n",
              "            'suggestCharts', [key], {});\n",
              "      } catch (error) {\n",
              "        console.error('Error during call to suggestCharts:', error);\n",
              "      }\n",
              "      quickchartButtonEl.classList.remove('colab-df-spinner');\n",
              "      quickchartButtonEl.classList.add('colab-df-quickchart-complete');\n",
              "    }\n",
              "    (() => {\n",
              "      let quickchartButtonEl =\n",
              "        document.querySelector('#df-10e4595f-b0cb-4f45-95ea-34a79bf9e833 button');\n",
              "      quickchartButtonEl.style.display =\n",
              "        google.colab.kernel.accessAllowed ? 'block' : 'none';\n",
              "    })();\n",
              "  </script>\n",
              "</div>\n",
              "\n",
              "    </div>\n",
              "  </div>\n"
            ],
            "application/vnd.google.colaboratory.intrinsic+json": {
              "type": "dataframe",
              "variable_name": "train_df",
              "summary": "{\n  \"name\": \"train_df\",\n  \"rows\": 4462,\n  \"fields\": [\n    {\n      \"column\": \"text\",\n      \"properties\": {\n        \"dtype\": \"string\",\n        \"num_unique_values\": 4456,\n        \"samples\": [\n          \"\\u09a4\\u09a5\\u09cd\\u09af\\u09aa\\u09c2\\u09b0\\u09cd\\u09a3 \\u09aa\\u09cd\\u09b0\\u09a4\\u09bf\\u09ac\\u09c7\\u09a6\\u09a8\\u0964\\u0986\\u09ae\\u09b0\\u09be \\u0997\\u09b0\\u09cd\\u09ac\\u09bf\\u09a4\\u09b2\\u09be\\u09ad \\u0987\\u0989,,,\",\n          \"\\u09b6\\u09c1\\u09a7\\u09c1 \\u099c\\u09be\\u09aa\\u09be\\u09a8 \\u0995\\u09c7\\u09a8 \\u09b8\\u09ac \\u09a6\\u09c7\\u09b6\\u09c7\\u09b0 \\u09aa\\u09cd\\u09b0\\u0995\\u09b2\\u09cd\\u09aa \\u09ac\\u09be\\u0982\\u09b2\\u09be\\u09a6\\u09c7\\u09b6\\u09c7\\u09b0 \\u09a8\\u09bf\\u099c\\u09b8\\u09cd\\u09ac \\u0985\\u09b0\\u09cd\\u09a5\\u09be\\u09df\\u09a8\\u09c7 \\u09aa\\u09cd\\u09b0\\u0995\\u09b2\\u09cd\\u09aa\\u0997\\u09c1\\u09b2\\u09cb \\u09ac\\u09a8\\u09cd\\u09a7 \\u0995\\u09b0\\u09be\\u09b0 \\u0995\\u09cb\\u09a8 \\u0995\\u09be\\u09b0\\u09a3 \\u09a6\\u09c7\\u0996\\u09bf \\u09a8\\u09be\",\n          \"\\u098f\\u09ac\\u09be\\u09b0 \\u0985\\u09a4\\u09bf\\u09b6\\u09bf\\u0997\\u09cd\\u09b0\\u0987 \\u09aa\\u09a6\\u09cd\\u09ae\\u09be \\u09b8\\u09c7\\u09a4\\u09c1\\u09a4\\u09c7 \\u099f\\u09cd\\u09b0\\u09be\\u0995 \\u099a\\u09b2\\u09be\\u099a\\u09b2 \\u09a8\\u09bf\\u09b7\\u09bf\\u09a6\\u09cd\\u09a7 \\u0995\\u09b0\\u09be \\u09b9\\u09cb\\u0995\"\n        ],\n        \"semantic_type\": \"\",\n        \"description\": \"\"\n      }\n    },\n    {\n      \"column\": \"label\",\n      \"properties\": {\n        \"dtype\": \"category\",\n        \"num_unique_values\": 3,\n        \"samples\": [\n          \"positive\",\n          \"negative\",\n          \"neutral\"\n        ],\n        \"semantic_type\": \"\",\n        \"description\": \"\"\n      }\n    }\n  ]\n}"
            }
          },
          "metadata": {},
          "execution_count": 61
        }
      ]
    },
    {
      "cell_type": "code",
      "execution_count": 62,
      "id": "4367c11b",
      "metadata": {
        "execution": {
          "iopub.execute_input": "2023-09-03T08:28:00.760407Z",
          "iopub.status.busy": "2023-09-03T08:28:00.759964Z",
          "iopub.status.idle": "2023-09-03T08:28:05.552166Z",
          "shell.execute_reply": "2023-09-03T08:28:05.551162Z"
        },
        "id": "4367c11b",
        "papermill": {
          "duration": 4.842507,
          "end_time": "2023-09-03T08:28:05.554678",
          "exception": false,
          "start_time": "2023-09-03T08:28:00.712171",
          "status": "completed"
        },
        "tags": []
      },
      "outputs": [],
      "source": [
        "for index, row in train_df.iterrows():\n",
        "    unprocessed_spliited_word = row[\"text\"].split(\" \")\n",
        "    processed_word_list = []\n",
        "    for i in unprocessed_spliited_word:\n",
        "        processed_word_list += process_word(i)\n",
        "    train_df.at[index, \"text\"] = \" \".join(processed_word_list)"
      ]
    },
    {
      "cell_type": "code",
      "execution_count": 63,
      "id": "8efd4635",
      "metadata": {
        "execution": {
          "iopub.execute_input": "2023-09-03T08:28:05.650301Z",
          "iopub.status.busy": "2023-09-03T08:28:05.649935Z",
          "iopub.status.idle": "2023-09-03T08:28:05.669090Z",
          "shell.execute_reply": "2023-09-03T08:28:05.667589Z"
        },
        "id": "8efd4635",
        "outputId": "ba888dcb-be8e-4877-c151-9e29c13ea944",
        "papermill": {
          "duration": 0.069452,
          "end_time": "2023-09-03T08:28:05.671683",
          "exception": false,
          "start_time": "2023-09-03T08:28:05.602231",
          "status": "completed"
        },
        "tags": [],
        "colab": {
          "base_uri": "https://localhost:8080/",
          "height": 206
        }
      },
      "outputs": [
        {
          "output_type": "execute_result",
          "data": {
            "text/plain": [
              "                                                text  label\n",
              "0    এই মানুষটারে একটা মানুষও তাহলে কি পছন্দ করে না?      2\n",
              "1  এত চুরিতে দেশ জোলত কি ভেবে নাকি এ গুলি মিথ্যা ...      0\n",
              "2  আজ আকাশছোঁয় স্বপ্নের পদ্মা সেতুর শুভ উদ্বোধন।...      2\n",
              "3            ঢাকার ভিতরে 200 বি আর টির বাস লামানো হক      1\n",
              "4  বাংলাদেশের পরিবেশের দিকে ও একটু নজর দেওয়া দরকা...      0"
            ],
            "text/html": [
              "\n",
              "  <div id=\"df-fff41c8a-3b44-448b-8ea0-8380ebea47c8\" class=\"colab-df-container\">\n",
              "    <div>\n",
              "<style scoped>\n",
              "    .dataframe tbody tr th:only-of-type {\n",
              "        vertical-align: middle;\n",
              "    }\n",
              "\n",
              "    .dataframe tbody tr th {\n",
              "        vertical-align: top;\n",
              "    }\n",
              "\n",
              "    .dataframe thead th {\n",
              "        text-align: right;\n",
              "    }\n",
              "</style>\n",
              "<table border=\"1\" class=\"dataframe\">\n",
              "  <thead>\n",
              "    <tr style=\"text-align: right;\">\n",
              "      <th></th>\n",
              "      <th>text</th>\n",
              "      <th>label</th>\n",
              "    </tr>\n",
              "  </thead>\n",
              "  <tbody>\n",
              "    <tr>\n",
              "      <th>0</th>\n",
              "      <td>এই মানুষটারে একটা মানুষও তাহলে কি পছন্দ করে না?</td>\n",
              "      <td>2</td>\n",
              "    </tr>\n",
              "    <tr>\n",
              "      <th>1</th>\n",
              "      <td>এত চুরিতে দেশ জোলত কি ভেবে নাকি এ গুলি মিথ্যা ...</td>\n",
              "      <td>0</td>\n",
              "    </tr>\n",
              "    <tr>\n",
              "      <th>2</th>\n",
              "      <td>আজ আকাশছোঁয় স্বপ্নের পদ্মা সেতুর শুভ উদ্বোধন।...</td>\n",
              "      <td>2</td>\n",
              "    </tr>\n",
              "    <tr>\n",
              "      <th>3</th>\n",
              "      <td>ঢাকার ভিতরে 200 বি আর টির বাস লামানো হক</td>\n",
              "      <td>1</td>\n",
              "    </tr>\n",
              "    <tr>\n",
              "      <th>4</th>\n",
              "      <td>বাংলাদেশের পরিবেশের দিকে ও একটু নজর দেওয়া দরকা...</td>\n",
              "      <td>0</td>\n",
              "    </tr>\n",
              "  </tbody>\n",
              "</table>\n",
              "</div>\n",
              "    <div class=\"colab-df-buttons\">\n",
              "\n",
              "  <div class=\"colab-df-container\">\n",
              "    <button class=\"colab-df-convert\" onclick=\"convertToInteractive('df-fff41c8a-3b44-448b-8ea0-8380ebea47c8')\"\n",
              "            title=\"Convert this dataframe to an interactive table.\"\n",
              "            style=\"display:none;\">\n",
              "\n",
              "  <svg xmlns=\"http://www.w3.org/2000/svg\" height=\"24px\" viewBox=\"0 -960 960 960\">\n",
              "    <path d=\"M120-120v-720h720v720H120Zm60-500h600v-160H180v160Zm220 220h160v-160H400v160Zm0 220h160v-160H400v160ZM180-400h160v-160H180v160Zm440 0h160v-160H620v160ZM180-180h160v-160H180v160Zm440 0h160v-160H620v160Z\"/>\n",
              "  </svg>\n",
              "    </button>\n",
              "\n",
              "  <style>\n",
              "    .colab-df-container {\n",
              "      display:flex;\n",
              "      gap: 12px;\n",
              "    }\n",
              "\n",
              "    .colab-df-convert {\n",
              "      background-color: #E8F0FE;\n",
              "      border: none;\n",
              "      border-radius: 50%;\n",
              "      cursor: pointer;\n",
              "      display: none;\n",
              "      fill: #1967D2;\n",
              "      height: 32px;\n",
              "      padding: 0 0 0 0;\n",
              "      width: 32px;\n",
              "    }\n",
              "\n",
              "    .colab-df-convert:hover {\n",
              "      background-color: #E2EBFA;\n",
              "      box-shadow: 0px 1px 2px rgba(60, 64, 67, 0.3), 0px 1px 3px 1px rgba(60, 64, 67, 0.15);\n",
              "      fill: #174EA6;\n",
              "    }\n",
              "\n",
              "    .colab-df-buttons div {\n",
              "      margin-bottom: 4px;\n",
              "    }\n",
              "\n",
              "    [theme=dark] .colab-df-convert {\n",
              "      background-color: #3B4455;\n",
              "      fill: #D2E3FC;\n",
              "    }\n",
              "\n",
              "    [theme=dark] .colab-df-convert:hover {\n",
              "      background-color: #434B5C;\n",
              "      box-shadow: 0px 1px 3px 1px rgba(0, 0, 0, 0.15);\n",
              "      filter: drop-shadow(0px 1px 2px rgba(0, 0, 0, 0.3));\n",
              "      fill: #FFFFFF;\n",
              "    }\n",
              "  </style>\n",
              "\n",
              "    <script>\n",
              "      const buttonEl =\n",
              "        document.querySelector('#df-fff41c8a-3b44-448b-8ea0-8380ebea47c8 button.colab-df-convert');\n",
              "      buttonEl.style.display =\n",
              "        google.colab.kernel.accessAllowed ? 'block' : 'none';\n",
              "\n",
              "      async function convertToInteractive(key) {\n",
              "        const element = document.querySelector('#df-fff41c8a-3b44-448b-8ea0-8380ebea47c8');\n",
              "        const dataTable =\n",
              "          await google.colab.kernel.invokeFunction('convertToInteractive',\n",
              "                                                    [key], {});\n",
              "        if (!dataTable) return;\n",
              "\n",
              "        const docLinkHtml = 'Like what you see? Visit the ' +\n",
              "          '<a target=\"_blank\" href=https://colab.research.google.com/notebooks/data_table.ipynb>data table notebook</a>'\n",
              "          + ' to learn more about interactive tables.';\n",
              "        element.innerHTML = '';\n",
              "        dataTable['output_type'] = 'display_data';\n",
              "        await google.colab.output.renderOutput(dataTable, element);\n",
              "        const docLink = document.createElement('div');\n",
              "        docLink.innerHTML = docLinkHtml;\n",
              "        element.appendChild(docLink);\n",
              "      }\n",
              "    </script>\n",
              "  </div>\n",
              "\n",
              "\n",
              "<div id=\"df-b22e2d7d-6e93-488e-b066-84892e416282\">\n",
              "  <button class=\"colab-df-quickchart\" onclick=\"quickchart('df-b22e2d7d-6e93-488e-b066-84892e416282')\"\n",
              "            title=\"Suggest charts\"\n",
              "            style=\"display:none;\">\n",
              "\n",
              "<svg xmlns=\"http://www.w3.org/2000/svg\" height=\"24px\"viewBox=\"0 0 24 24\"\n",
              "     width=\"24px\">\n",
              "    <g>\n",
              "        <path d=\"M19 3H5c-1.1 0-2 .9-2 2v14c0 1.1.9 2 2 2h14c1.1 0 2-.9 2-2V5c0-1.1-.9-2-2-2zM9 17H7v-7h2v7zm4 0h-2V7h2v10zm4 0h-2v-4h2v4z\"/>\n",
              "    </g>\n",
              "</svg>\n",
              "  </button>\n",
              "\n",
              "<style>\n",
              "  .colab-df-quickchart {\n",
              "      --bg-color: #E8F0FE;\n",
              "      --fill-color: #1967D2;\n",
              "      --hover-bg-color: #E2EBFA;\n",
              "      --hover-fill-color: #174EA6;\n",
              "      --disabled-fill-color: #AAA;\n",
              "      --disabled-bg-color: #DDD;\n",
              "  }\n",
              "\n",
              "  [theme=dark] .colab-df-quickchart {\n",
              "      --bg-color: #3B4455;\n",
              "      --fill-color: #D2E3FC;\n",
              "      --hover-bg-color: #434B5C;\n",
              "      --hover-fill-color: #FFFFFF;\n",
              "      --disabled-bg-color: #3B4455;\n",
              "      --disabled-fill-color: #666;\n",
              "  }\n",
              "\n",
              "  .colab-df-quickchart {\n",
              "    background-color: var(--bg-color);\n",
              "    border: none;\n",
              "    border-radius: 50%;\n",
              "    cursor: pointer;\n",
              "    display: none;\n",
              "    fill: var(--fill-color);\n",
              "    height: 32px;\n",
              "    padding: 0;\n",
              "    width: 32px;\n",
              "  }\n",
              "\n",
              "  .colab-df-quickchart:hover {\n",
              "    background-color: var(--hover-bg-color);\n",
              "    box-shadow: 0 1px 2px rgba(60, 64, 67, 0.3), 0 1px 3px 1px rgba(60, 64, 67, 0.15);\n",
              "    fill: var(--button-hover-fill-color);\n",
              "  }\n",
              "\n",
              "  .colab-df-quickchart-complete:disabled,\n",
              "  .colab-df-quickchart-complete:disabled:hover {\n",
              "    background-color: var(--disabled-bg-color);\n",
              "    fill: var(--disabled-fill-color);\n",
              "    box-shadow: none;\n",
              "  }\n",
              "\n",
              "  .colab-df-spinner {\n",
              "    border: 2px solid var(--fill-color);\n",
              "    border-color: transparent;\n",
              "    border-bottom-color: var(--fill-color);\n",
              "    animation:\n",
              "      spin 1s steps(1) infinite;\n",
              "  }\n",
              "\n",
              "  @keyframes spin {\n",
              "    0% {\n",
              "      border-color: transparent;\n",
              "      border-bottom-color: var(--fill-color);\n",
              "      border-left-color: var(--fill-color);\n",
              "    }\n",
              "    20% {\n",
              "      border-color: transparent;\n",
              "      border-left-color: var(--fill-color);\n",
              "      border-top-color: var(--fill-color);\n",
              "    }\n",
              "    30% {\n",
              "      border-color: transparent;\n",
              "      border-left-color: var(--fill-color);\n",
              "      border-top-color: var(--fill-color);\n",
              "      border-right-color: var(--fill-color);\n",
              "    }\n",
              "    40% {\n",
              "      border-color: transparent;\n",
              "      border-right-color: var(--fill-color);\n",
              "      border-top-color: var(--fill-color);\n",
              "    }\n",
              "    60% {\n",
              "      border-color: transparent;\n",
              "      border-right-color: var(--fill-color);\n",
              "    }\n",
              "    80% {\n",
              "      border-color: transparent;\n",
              "      border-right-color: var(--fill-color);\n",
              "      border-bottom-color: var(--fill-color);\n",
              "    }\n",
              "    90% {\n",
              "      border-color: transparent;\n",
              "      border-bottom-color: var(--fill-color);\n",
              "    }\n",
              "  }\n",
              "</style>\n",
              "\n",
              "  <script>\n",
              "    async function quickchart(key) {\n",
              "      const quickchartButtonEl =\n",
              "        document.querySelector('#' + key + ' button');\n",
              "      quickchartButtonEl.disabled = true;  // To prevent multiple clicks.\n",
              "      quickchartButtonEl.classList.add('colab-df-spinner');\n",
              "      try {\n",
              "        const charts = await google.colab.kernel.invokeFunction(\n",
              "            'suggestCharts', [key], {});\n",
              "      } catch (error) {\n",
              "        console.error('Error during call to suggestCharts:', error);\n",
              "      }\n",
              "      quickchartButtonEl.classList.remove('colab-df-spinner');\n",
              "      quickchartButtonEl.classList.add('colab-df-quickchart-complete');\n",
              "    }\n",
              "    (() => {\n",
              "      let quickchartButtonEl =\n",
              "        document.querySelector('#df-b22e2d7d-6e93-488e-b066-84892e416282 button');\n",
              "      quickchartButtonEl.style.display =\n",
              "        google.colab.kernel.accessAllowed ? 'block' : 'none';\n",
              "    })();\n",
              "  </script>\n",
              "</div>\n",
              "\n",
              "    </div>\n",
              "  </div>\n"
            ],
            "application/vnd.google.colaboratory.intrinsic+json": {
              "type": "dataframe",
              "variable_name": "train_df",
              "summary": "{\n  \"name\": \"train_df\",\n  \"rows\": 4462,\n  \"fields\": [\n    {\n      \"column\": \"text\",\n      \"properties\": {\n        \"dtype\": \"string\",\n        \"num_unique_values\": 4454,\n        \"samples\": [\n          \"\\u09b8\\u09cd\\u09af\\u09be\\u09b2\\u09c1\\u099f \\u09ae\\u09be\\u09a8\\u09a8\\u09c0\\u09af\\u09bc \\u09aa\\u09cd\\u09b0\\u09a7\\u09be\\u09a8\\u09ae\\u09a8\\u09cd\\u09a4\\u09cd\\u09b0\\u09c0 \\u099c\\u09a8\\u09a8\\u09c7\\u09a4\\u09cd\\u09b0\\u09c0 \\u09b6\\u09c7\\u0996 \\u09b9\\u09be\\u09b8\\u09bf\\u09a8\\u09be\\u0995\\u09c7 \\u09ac\\u09be\\u0999\\u09be\\u09b2\\u09bf \\u099c\\u09be\\u09a4\\u09bf\\u09b0 \\u09ae\\u09be\\u09a5\\u09be \\u0989\\u0981\\u099a\\u09c1 \\u0995\\u09b0\\u09c7 \\u09a6\\u09c7\\u0993\\u09af\\u09bc\\u09be\\u09b0 \\u099c\\u09a8\\u09cd\\u09af \\ud83c\\udde7\\ud83c\\udde9\",\n          \"\\u09a7\\u09a8\\u09cd\\u09af\\u09ac\\u09be\\u09a6 \\u09ac\\u09be\\u0982\\u09b2\\u09be\\u09a6\\u09c7\\u09b6 \\u09b8\\u09c7\\u09a8\\u09be\\u09ac\\u09be\\u09b9\\u09bf\\u09a8\\u09c0 \\u0995\\u09c7 \\u09ac\\u09be\\u0982\\u09b2\\u09be\\u09a6\\u09c7\\u09b6\\u09c7\\u09b0 \\u09b8\\u09ae\\u09cd\\u09aa\\u09a6 \\u09aa\\u09a6\\u09cd\\u09ae\\u09be \\u09b8\\u09c7\\u09a4\\u09c1 \\u09b0\\u0995\\u09cd\\u09b7\\u09a8\\u09be \\u09ac\\u09c7\\u0995\\u09cd\\u09b7\\u09a8\\u09c7\\u09b0 \\u09a6\\u09be\\u09df\\u09bf\\u09a4\\u09cd\\u09ac \\u09aa\\u09be\\u09b2\\u09a8 \\u0995\\u09b0\\u09be\\u09b0 \\u099c\\u09a8\\u09cd\\u09af\",\n          \"\\u0989\\u09a6\\u09cd\\u09ad\\u09cb\\u09a7\\u09a8 \\u0995\\u09b0\\u09c7 \\u099f\\u09be\\u0995\\u09be \\u0996\\u09b0\\u099a \\u0995\\u09b0\\u09be\\u09b0 \\u09a6\\u09b0\\u0995\\u09be\\u09b0 \\u09a8\\u09c7\\u0987,,,\\u0998\\u09cb\\u09b6\\u09a8\\u09be \\u09a6\\u09bf\\u09df\\u09c7 \\u099f\\u09cd\\u09b0\\u09c7\\u09a8 \\u099a\\u09b2\\u09be\\u099a\\u09b2 \\u09b6\\u09c1\\u09b0\\u09c1 \\u09b9\\u09df\\u09c7 \\u09af\\u09be\\u0995\"\n        ],\n        \"semantic_type\": \"\",\n        \"description\": \"\"\n      }\n    },\n    {\n      \"column\": \"label\",\n      \"properties\": {\n        \"dtype\": \"number\",\n        \"std\": 0,\n        \"min\": 0,\n        \"max\": 2,\n        \"num_unique_values\": 3,\n        \"samples\": [\n          2,\n          0,\n          1\n        ],\n        \"semantic_type\": \"\",\n        \"description\": \"\"\n      }\n    }\n  ]\n}"
            }
          },
          "metadata": {},
          "execution_count": 63
        }
      ],
      "source": [
        "train_df['label'] = train_df['label'].map(l2id)\n",
        "train_df.head()"
      ]
    },
    {
      "cell_type": "code",
      "execution_count": 64,
      "id": "3d6d9952",
      "metadata": {
        "execution": {
          "iopub.execute_input": "2023-09-03T08:28:05.766895Z",
          "iopub.status.busy": "2023-09-03T08:28:05.766487Z",
          "iopub.status.idle": "2023-09-03T08:28:05.824860Z",
          "shell.execute_reply": "2023-09-03T08:28:05.823274Z"
        },
        "id": "3d6d9952",
        "outputId": "499c851b-49af-47b7-d966-2b43e376fece",
        "papermill": {
          "duration": 0.108523,
          "end_time": "2023-09-03T08:28:05.827129",
          "exception": false,
          "start_time": "2023-09-03T08:28:05.718606",
          "status": "completed"
        },
        "tags": [],
        "colab": {
          "base_uri": "https://localhost:8080/"
        }
      },
      "outputs": [
        {
          "output_type": "stream",
          "name": "stdout",
          "text": [
            "Dataset({\n",
            "    features: ['text', 'label'],\n",
            "    num_rows: 4462\n",
            "})\n"
          ]
        }
      ],
      "source": [
        "train_df = Dataset.from_pandas(train_df)\n",
        "print(train_df)"
      ]
    },
    {
      "cell_type": "code",
      "execution_count": 67,
      "id": "f78c8098",
      "metadata": {
        "execution": {
          "iopub.execute_input": "2023-09-03T08:28:05.922311Z",
          "iopub.status.busy": "2023-09-03T08:28:05.921941Z",
          "iopub.status.idle": "2023-09-03T08:28:06.488204Z",
          "shell.execute_reply": "2023-09-03T08:28:06.487245Z"
        },
        "id": "f78c8098",
        "papermill": {
          "duration": 0.617027,
          "end_time": "2023-09-03T08:28:06.490769",
          "exception": false,
          "start_time": "2023-09-03T08:28:05.873742",
          "status": "completed"
        },
        "tags": []
      },
      "outputs": [],
      "source": [
        "validation_df = pd.read_csv(validation_file)\n",
        "validation_df=validation_df[:1000]\n",
        "for index, row in validation_df.iterrows():\n",
        "    unprocessed_spliited_word = row[\"text\"].split(\" \")\n",
        "    processed_word_list = []\n",
        "    for i in unprocessed_spliited_word:\n",
        "        processed_word_list += process_word(i)\n",
        "    validation_df.at[index, \"text\"] = \" \".join(processed_word_list)"
      ]
    },
    {
      "cell_type": "code",
      "execution_count": 66,
      "id": "f00940b2",
      "metadata": {
        "execution": {
          "iopub.execute_input": "2023-09-03T08:28:06.587395Z",
          "iopub.status.busy": "2023-09-03T08:28:06.586719Z",
          "iopub.status.idle": "2023-09-03T08:28:06.600598Z",
          "shell.execute_reply": "2023-09-03T08:28:06.599705Z"
        },
        "id": "f00940b2",
        "outputId": "b9167ba0-10ad-4bb3-83f0-0f75c18ea701",
        "papermill": {
          "duration": 0.064454,
          "end_time": "2023-09-03T08:28:06.602605",
          "exception": false,
          "start_time": "2023-09-03T08:28:06.538151",
          "status": "completed"
        },
        "tags": [],
        "colab": {
          "base_uri": "https://localhost:8080/",
          "height": 206
        }
      },
      "outputs": [
        {
          "output_type": "execute_result",
          "data": {
            "text/plain": [
              "                                                   text     label\n",
              "4462  অনেক প্রতীক্ষার অবসান ঘটতে চলেছে পঁচিশে জুন দু...   neutral\n",
              "4463  পদ্মা সেতুতে মোটরসাইকেল দুর্ঘটনার কারণে মোটরসা...  negative\n",
              "4464  ভাই আপনি পদ্মা সেতুতে প্রথম বার উঠছেন, উঠে গেল...  negative\n",
              "4465  এদেরকে বিশেষভাবে থেরাপি দেওয়া হোক টাকা ফিরিয়...  positive\n",
              "4466                         মাশাআল্লাহ খুব ভালো হয়েছে  positive"
            ],
            "text/html": [
              "\n",
              "  <div id=\"df-7fa713f5-62f3-417e-8c04-ce0c0b2affb7\" class=\"colab-df-container\">\n",
              "    <div>\n",
              "<style scoped>\n",
              "    .dataframe tbody tr th:only-of-type {\n",
              "        vertical-align: middle;\n",
              "    }\n",
              "\n",
              "    .dataframe tbody tr th {\n",
              "        vertical-align: top;\n",
              "    }\n",
              "\n",
              "    .dataframe thead th {\n",
              "        text-align: right;\n",
              "    }\n",
              "</style>\n",
              "<table border=\"1\" class=\"dataframe\">\n",
              "  <thead>\n",
              "    <tr style=\"text-align: right;\">\n",
              "      <th></th>\n",
              "      <th>text</th>\n",
              "      <th>label</th>\n",
              "    </tr>\n",
              "  </thead>\n",
              "  <tbody>\n",
              "    <tr>\n",
              "      <th>4462</th>\n",
              "      <td>অনেক প্রতীক্ষার অবসান ঘটতে চলেছে পঁচিশে জুন দু...</td>\n",
              "      <td>neutral</td>\n",
              "    </tr>\n",
              "    <tr>\n",
              "      <th>4463</th>\n",
              "      <td>পদ্মা সেতুতে মোটরসাইকেল দুর্ঘটনার কারণে মোটরসা...</td>\n",
              "      <td>negative</td>\n",
              "    </tr>\n",
              "    <tr>\n",
              "      <th>4464</th>\n",
              "      <td>ভাই আপনি পদ্মা সেতুতে প্রথম বার উঠছেন, উঠে গেল...</td>\n",
              "      <td>negative</td>\n",
              "    </tr>\n",
              "    <tr>\n",
              "      <th>4465</th>\n",
              "      <td>এদেরকে বিশেষভাবে থেরাপি দেওয়া হোক টাকা ফিরিয়...</td>\n",
              "      <td>positive</td>\n",
              "    </tr>\n",
              "    <tr>\n",
              "      <th>4466</th>\n",
              "      <td>মাশাআল্লাহ খুব ভালো হয়েছে</td>\n",
              "      <td>positive</td>\n",
              "    </tr>\n",
              "  </tbody>\n",
              "</table>\n",
              "</div>\n",
              "    <div class=\"colab-df-buttons\">\n",
              "\n",
              "  <div class=\"colab-df-container\">\n",
              "    <button class=\"colab-df-convert\" onclick=\"convertToInteractive('df-7fa713f5-62f3-417e-8c04-ce0c0b2affb7')\"\n",
              "            title=\"Convert this dataframe to an interactive table.\"\n",
              "            style=\"display:none;\">\n",
              "\n",
              "  <svg xmlns=\"http://www.w3.org/2000/svg\" height=\"24px\" viewBox=\"0 -960 960 960\">\n",
              "    <path d=\"M120-120v-720h720v720H120Zm60-500h600v-160H180v160Zm220 220h160v-160H400v160Zm0 220h160v-160H400v160ZM180-400h160v-160H180v160Zm440 0h160v-160H620v160ZM180-180h160v-160H180v160Zm440 0h160v-160H620v160Z\"/>\n",
              "  </svg>\n",
              "    </button>\n",
              "\n",
              "  <style>\n",
              "    .colab-df-container {\n",
              "      display:flex;\n",
              "      gap: 12px;\n",
              "    }\n",
              "\n",
              "    .colab-df-convert {\n",
              "      background-color: #E8F0FE;\n",
              "      border: none;\n",
              "      border-radius: 50%;\n",
              "      cursor: pointer;\n",
              "      display: none;\n",
              "      fill: #1967D2;\n",
              "      height: 32px;\n",
              "      padding: 0 0 0 0;\n",
              "      width: 32px;\n",
              "    }\n",
              "\n",
              "    .colab-df-convert:hover {\n",
              "      background-color: #E2EBFA;\n",
              "      box-shadow: 0px 1px 2px rgba(60, 64, 67, 0.3), 0px 1px 3px 1px rgba(60, 64, 67, 0.15);\n",
              "      fill: #174EA6;\n",
              "    }\n",
              "\n",
              "    .colab-df-buttons div {\n",
              "      margin-bottom: 4px;\n",
              "    }\n",
              "\n",
              "    [theme=dark] .colab-df-convert {\n",
              "      background-color: #3B4455;\n",
              "      fill: #D2E3FC;\n",
              "    }\n",
              "\n",
              "    [theme=dark] .colab-df-convert:hover {\n",
              "      background-color: #434B5C;\n",
              "      box-shadow: 0px 1px 3px 1px rgba(0, 0, 0, 0.15);\n",
              "      filter: drop-shadow(0px 1px 2px rgba(0, 0, 0, 0.3));\n",
              "      fill: #FFFFFF;\n",
              "    }\n",
              "  </style>\n",
              "\n",
              "    <script>\n",
              "      const buttonEl =\n",
              "        document.querySelector('#df-7fa713f5-62f3-417e-8c04-ce0c0b2affb7 button.colab-df-convert');\n",
              "      buttonEl.style.display =\n",
              "        google.colab.kernel.accessAllowed ? 'block' : 'none';\n",
              "\n",
              "      async function convertToInteractive(key) {\n",
              "        const element = document.querySelector('#df-7fa713f5-62f3-417e-8c04-ce0c0b2affb7');\n",
              "        const dataTable =\n",
              "          await google.colab.kernel.invokeFunction('convertToInteractive',\n",
              "                                                    [key], {});\n",
              "        if (!dataTable) return;\n",
              "\n",
              "        const docLinkHtml = 'Like what you see? Visit the ' +\n",
              "          '<a target=\"_blank\" href=https://colab.research.google.com/notebooks/data_table.ipynb>data table notebook</a>'\n",
              "          + ' to learn more about interactive tables.';\n",
              "        element.innerHTML = '';\n",
              "        dataTable['output_type'] = 'display_data';\n",
              "        await google.colab.output.renderOutput(dataTable, element);\n",
              "        const docLink = document.createElement('div');\n",
              "        docLink.innerHTML = docLinkHtml;\n",
              "        element.appendChild(docLink);\n",
              "      }\n",
              "    </script>\n",
              "  </div>\n",
              "\n",
              "\n",
              "<div id=\"df-47f8a551-7f9c-4b05-af6f-0c05d4a4be52\">\n",
              "  <button class=\"colab-df-quickchart\" onclick=\"quickchart('df-47f8a551-7f9c-4b05-af6f-0c05d4a4be52')\"\n",
              "            title=\"Suggest charts\"\n",
              "            style=\"display:none;\">\n",
              "\n",
              "<svg xmlns=\"http://www.w3.org/2000/svg\" height=\"24px\"viewBox=\"0 0 24 24\"\n",
              "     width=\"24px\">\n",
              "    <g>\n",
              "        <path d=\"M19 3H5c-1.1 0-2 .9-2 2v14c0 1.1.9 2 2 2h14c1.1 0 2-.9 2-2V5c0-1.1-.9-2-2-2zM9 17H7v-7h2v7zm4 0h-2V7h2v10zm4 0h-2v-4h2v4z\"/>\n",
              "    </g>\n",
              "</svg>\n",
              "  </button>\n",
              "\n",
              "<style>\n",
              "  .colab-df-quickchart {\n",
              "      --bg-color: #E8F0FE;\n",
              "      --fill-color: #1967D2;\n",
              "      --hover-bg-color: #E2EBFA;\n",
              "      --hover-fill-color: #174EA6;\n",
              "      --disabled-fill-color: #AAA;\n",
              "      --disabled-bg-color: #DDD;\n",
              "  }\n",
              "\n",
              "  [theme=dark] .colab-df-quickchart {\n",
              "      --bg-color: #3B4455;\n",
              "      --fill-color: #D2E3FC;\n",
              "      --hover-bg-color: #434B5C;\n",
              "      --hover-fill-color: #FFFFFF;\n",
              "      --disabled-bg-color: #3B4455;\n",
              "      --disabled-fill-color: #666;\n",
              "  }\n",
              "\n",
              "  .colab-df-quickchart {\n",
              "    background-color: var(--bg-color);\n",
              "    border: none;\n",
              "    border-radius: 50%;\n",
              "    cursor: pointer;\n",
              "    display: none;\n",
              "    fill: var(--fill-color);\n",
              "    height: 32px;\n",
              "    padding: 0;\n",
              "    width: 32px;\n",
              "  }\n",
              "\n",
              "  .colab-df-quickchart:hover {\n",
              "    background-color: var(--hover-bg-color);\n",
              "    box-shadow: 0 1px 2px rgba(60, 64, 67, 0.3), 0 1px 3px 1px rgba(60, 64, 67, 0.15);\n",
              "    fill: var(--button-hover-fill-color);\n",
              "  }\n",
              "\n",
              "  .colab-df-quickchart-complete:disabled,\n",
              "  .colab-df-quickchart-complete:disabled:hover {\n",
              "    background-color: var(--disabled-bg-color);\n",
              "    fill: var(--disabled-fill-color);\n",
              "    box-shadow: none;\n",
              "  }\n",
              "\n",
              "  .colab-df-spinner {\n",
              "    border: 2px solid var(--fill-color);\n",
              "    border-color: transparent;\n",
              "    border-bottom-color: var(--fill-color);\n",
              "    animation:\n",
              "      spin 1s steps(1) infinite;\n",
              "  }\n",
              "\n",
              "  @keyframes spin {\n",
              "    0% {\n",
              "      border-color: transparent;\n",
              "      border-bottom-color: var(--fill-color);\n",
              "      border-left-color: var(--fill-color);\n",
              "    }\n",
              "    20% {\n",
              "      border-color: transparent;\n",
              "      border-left-color: var(--fill-color);\n",
              "      border-top-color: var(--fill-color);\n",
              "    }\n",
              "    30% {\n",
              "      border-color: transparent;\n",
              "      border-left-color: var(--fill-color);\n",
              "      border-top-color: var(--fill-color);\n",
              "      border-right-color: var(--fill-color);\n",
              "    }\n",
              "    40% {\n",
              "      border-color: transparent;\n",
              "      border-right-color: var(--fill-color);\n",
              "      border-top-color: var(--fill-color);\n",
              "    }\n",
              "    60% {\n",
              "      border-color: transparent;\n",
              "      border-right-color: var(--fill-color);\n",
              "    }\n",
              "    80% {\n",
              "      border-color: transparent;\n",
              "      border-right-color: var(--fill-color);\n",
              "      border-bottom-color: var(--fill-color);\n",
              "    }\n",
              "    90% {\n",
              "      border-color: transparent;\n",
              "      border-bottom-color: var(--fill-color);\n",
              "    }\n",
              "  }\n",
              "</style>\n",
              "\n",
              "  <script>\n",
              "    async function quickchart(key) {\n",
              "      const quickchartButtonEl =\n",
              "        document.querySelector('#' + key + ' button');\n",
              "      quickchartButtonEl.disabled = true;  // To prevent multiple clicks.\n",
              "      quickchartButtonEl.classList.add('colab-df-spinner');\n",
              "      try {\n",
              "        const charts = await google.colab.kernel.invokeFunction(\n",
              "            'suggestCharts', [key], {});\n",
              "      } catch (error) {\n",
              "        console.error('Error during call to suggestCharts:', error);\n",
              "      }\n",
              "      quickchartButtonEl.classList.remove('colab-df-spinner');\n",
              "      quickchartButtonEl.classList.add('colab-df-quickchart-complete');\n",
              "    }\n",
              "    (() => {\n",
              "      let quickchartButtonEl =\n",
              "        document.querySelector('#df-47f8a551-7f9c-4b05-af6f-0c05d4a4be52 button');\n",
              "      quickchartButtonEl.style.display =\n",
              "        google.colab.kernel.accessAllowed ? 'block' : 'none';\n",
              "    })();\n",
              "  </script>\n",
              "</div>\n",
              "\n",
              "    </div>\n",
              "  </div>\n"
            ],
            "application/vnd.google.colaboratory.intrinsic+json": {
              "type": "dataframe",
              "variable_name": "validation_df",
              "summary": "{\n  \"name\": \"validation_df\",\n  \"rows\": 637,\n  \"fields\": [\n    {\n      \"column\": \"text\",\n      \"properties\": {\n        \"dtype\": \"string\",\n        \"num_unique_values\": 637,\n        \"samples\": [\n          \"\\u0989\\u09a6\\u09cd\\u09ad\\u09cb\\u09a7\\u09a8\\u09c7\\u09b0 \\u09b8\\u09ae\\u09df \\u0997\\u09be\\u09a8 \\u09ac\\u09be\\u099c\\u09a8\\u09be \\u0995\\u09b0\\u09c7 \\u0989\\u09a6\\u09cd\\u09ad\\u09cb\\u09a7\\u09a8 \\u09b9\\u09df\\u09c7\\u099b\\u09c7 \\u09a4\\u09cb \\u09a4\\u09be\\u0987\\u0964\\u0964\",\n          \"\\u098f\\u099f\\u09be\\u09a4\\u09cb \\u0997\\u09cb\\u099f\\u09be\\u09b0\\u09bf \\u0995\\u09a5\\u09be \\u0995\\u09be\\u09b0\\u09a3 \\u0995\\u09cb\\u09b0\\u0986\\u09a8\\u09c7\\u09b0 \\u09ac\\u09a6\\u09b2\\u09c7 \\u0997\\u09be\\u09a8 \\u09ac\\u09b2\\u09c7 \\u0989\\u09a6\\u09cd\\u09ac\\u09cb\\u09a7\\u09a8 \\u0995\\u09b0\\u09be \\u09b9\\u09af\\u09bc\",\n          \"\\u0995\\u09cb\\u09b0\\u0985\\u09be\\u09a8 \\u09a4\\u09bf\\u09b2\\u09be\\u0993\\u09df\\u09be\\u09a4 \\u09b8\\u09a0\\u09bf\\u0995 \\u09b9\\u09df\\u09a8\\u09bf \\u09ae\\u09cb\\u09a8\\u09be\\u099c\\u09be\\u09a4 \\u0993 \\u09b8\\u09a0\\u09bf\\u0995 \\u09b9\\u09df\\u09a8\\u09bf \\u0989\\u09a6\\u09cd\\u09ac\\u09cb\\u09a7\\u09a8 \\u0993 \\u09b8\\u09a0\\u09bf\\u0995 \\u09b9\\u09df\\u09a8\\u09bf\"\n        ],\n        \"semantic_type\": \"\",\n        \"description\": \"\"\n      }\n    },\n    {\n      \"column\": \"label\",\n      \"properties\": {\n        \"dtype\": \"category\",\n        \"num_unique_values\": 3,\n        \"samples\": [\n          \"neutral\",\n          \"negative\",\n          \"positive\"\n        ],\n        \"semantic_type\": \"\",\n        \"description\": \"\"\n      }\n    }\n  ]\n}"
            }
          },
          "metadata": {},
          "execution_count": 66
        }
      ],
      "source": [
        "validation_df.head()"
      ]
    },
    {
      "cell_type": "code",
      "execution_count": 68,
      "id": "dcc6106b",
      "metadata": {
        "execution": {
          "iopub.execute_input": "2023-09-03T08:28:06.698676Z",
          "iopub.status.busy": "2023-09-03T08:28:06.697708Z",
          "iopub.status.idle": "2023-09-03T08:28:06.711824Z",
          "shell.execute_reply": "2023-09-03T08:28:06.710441Z"
        },
        "id": "dcc6106b",
        "outputId": "298b6e9a-d7e6-40fb-fe62-f282bb0964af",
        "papermill": {
          "duration": 0.064364,
          "end_time": "2023-09-03T08:28:06.714035",
          "exception": false,
          "start_time": "2023-09-03T08:28:06.649671",
          "status": "completed"
        },
        "tags": [],
        "colab": {
          "base_uri": "https://localhost:8080/"
        }
      },
      "outputs": [
        {
          "output_type": "stream",
          "name": "stdout",
          "text": [
            "Dataset({\n",
            "    features: ['text', 'label'],\n",
            "    num_rows: 637\n",
            "})\n"
          ]
        }
      ],
      "source": [
        "validation_df['label'] = validation_df['label'].map(l2id)\n",
        "validation_df = Dataset.from_pandas(validation_df)\n",
        "print(validation_df)"
      ]
    },
    {
      "cell_type": "code",
      "execution_count": 69,
      "id": "2f7cb5bb",
      "metadata": {
        "execution": {
          "iopub.execute_input": "2023-09-03T08:28:06.810570Z",
          "iopub.status.busy": "2023-09-03T08:28:06.810200Z",
          "iopub.status.idle": "2023-09-03T08:28:06.841720Z",
          "shell.execute_reply": "2023-09-03T08:28:06.840589Z"
        },
        "id": "2f7cb5bb",
        "outputId": "8e46fe28-418d-4135-fcd4-43cb7045bb21",
        "papermill": {
          "duration": 0.082997,
          "end_time": "2023-09-03T08:28:06.844141",
          "exception": false,
          "start_time": "2023-09-03T08:28:06.761144",
          "status": "completed"
        },
        "tags": [],
        "colab": {
          "base_uri": "https://localhost:8080/"
        }
      },
      "outputs": [
        {
          "output_type": "stream",
          "name": "stdout",
          "text": [
            "                                                text\n",
            "0  অনেক প্রতীক্ষার অবসান ঘটতে চলেছে পঁচিশে জুন দু...\n",
            "1  পদ্মা সেতুতে মোটরসাইকেল দুর্ঘটনার কারণে মোটরসা...\n",
            "2  ভাই আপনি পদ্মা সেতুতে প্রথম বার উঠছেন, উঠে গেল...\n",
            "3  এদেরকে বিশেষভাবে থেরাপি দেওয়া হোক টাকা ফিরিয়...\n",
            "4                         মাশাআল্লাহ খুব ভালো হয়েছে\n",
            "637\n"
          ]
        }
      ],
      "source": [
        "old_test_df = pd.read_csv(validation_file)\n",
        "old_test_df=old_test_df[:1000]\n",
        "old_test_df=old_test_df.drop(columns=['label'])\n",
        "print(old_test_df.head())\n",
        "print(len(old_test_df))"
      ]
    },
    {
      "cell_type": "code",
      "execution_count": 71,
      "id": "1dc1f3de",
      "metadata": {
        "execution": {
          "iopub.execute_input": "2023-09-03T08:28:06.942567Z",
          "iopub.status.busy": "2023-09-03T08:28:06.941643Z",
          "iopub.status.idle": "2023-09-03T08:28:06.987882Z",
          "shell.execute_reply": "2023-09-03T08:28:06.986816Z"
        },
        "id": "1dc1f3de",
        "outputId": "42b0c07b-b339-4246-d9a0-213b3766d75f",
        "papermill": {
          "duration": 0.097998,
          "end_time": "2023-09-03T08:28:06.990255",
          "exception": false,
          "start_time": "2023-09-03T08:28:06.892257",
          "status": "completed"
        },
        "tags": [],
        "colab": {
          "base_uri": "https://localhost:8080/"
        }
      },
      "outputs": [
        {
          "output_type": "stream",
          "name": "stdout",
          "text": [
            "                                                text     label\n",
            "0  অনেক প্রতীক্ষার অবসান ঘটতে চলেছে পঁচিশে জুন দু...   neutral\n",
            "1  পদ্মা সেতুতে মোটরসাইকেল দুর্ঘটনার কারণে মোটরসা...  negative\n",
            "2  ভাই আপনি পদ্মা সেতুতে প্রথম বার উঠছেন, উঠে গেল...  negative\n",
            "3  এদেরকে বিশেষভাবে থেরাপি দেওয়া হোক টাকা ফিরিয়...  positive\n",
            "4                         মাশাআল্লাহ খুব ভালো হয়েছে  positive\n",
            "637\n"
          ]
        }
      ],
      "source": [
        "test_df = pd.read_csv(validation_file)\n",
        "test_df=test_df[:1000]\n",
        "\n",
        "print(test_df.head())\n",
        "print(len(test_df))"
      ]
    },
    {
      "cell_type": "code",
      "execution_count": 72,
      "id": "f0e32ed9",
      "metadata": {
        "execution": {
          "iopub.execute_input": "2023-09-03T08:28:07.089014Z",
          "iopub.status.busy": "2023-09-03T08:28:07.088325Z",
          "iopub.status.idle": "2023-09-03T08:28:07.100674Z",
          "shell.execute_reply": "2023-09-03T08:28:07.099201Z"
        },
        "id": "f0e32ed9",
        "outputId": "e691c01c-3bb7-4779-d468-f93767a30787",
        "papermill": {
          "duration": 0.062768,
          "end_time": "2023-09-03T08:28:07.102857",
          "exception": false,
          "start_time": "2023-09-03T08:28:07.040089",
          "status": "completed"
        },
        "tags": [],
        "colab": {
          "base_uri": "https://localhost:8080/"
        }
      },
      "outputs": [
        {
          "output_type": "stream",
          "name": "stdout",
          "text": [
            "                                                  text  label\n",
            "0    অনেক প্রতীক্ষার অবসান ঘটতে চলেছে পঁচিশে জুন দু...      1\n",
            "1    পদ্মা সেতুতে মোটরসাইকেল দুর্ঘটনার কারণে মোটরসা...      0\n",
            "2    ভাই আপনি পদ্মা সেতুতে প্রথম বার উঠছেন, উঠে গেল...      0\n",
            "3    এদেরকে বিশেষভাবে থেরাপি দেওয়া হোক টাকা ফিরিয়...      2\n",
            "4                           মাশাআল্লাহ খুব ভালো হয়েছে      2\n",
            "..                                                 ...    ...\n",
            "632  পানি উন্নয়ন বোর্ডে কি পরিমাণ দু্র্নীতি হয়, তুল...      1\n",
            "633                                       অসাধারণ গান।      2\n",
            "634                         প্রতিবেদনতার জন্য ধন্যবাদ।      2\n",
            "635  যমুনার সাংবাদিক গুলি আসলেই বাঘের বাচ্চা আল্লাহ...      2\n",
            "636  আপনার ভিডিওটা খুব ভালো লাগলো আপনার ভিডিও টা দে...      2\n",
            "\n",
            "[637 rows x 2 columns]\n"
          ]
        }
      ],
      "source": [
        "test_df['label'] = test_df['label'].map(l2id)\n",
        "print(test_df)"
      ]
    },
    {
      "cell_type": "code",
      "execution_count": 73,
      "id": "4b2ae91b",
      "metadata": {
        "execution": {
          "iopub.execute_input": "2023-09-03T08:28:07.200966Z",
          "iopub.status.busy": "2023-09-03T08:28:07.200400Z",
          "iopub.status.idle": "2023-09-03T08:28:08.106513Z",
          "shell.execute_reply": "2023-09-03T08:28:08.105592Z"
        },
        "id": "4b2ae91b",
        "papermill": {
          "duration": 0.957477,
          "end_time": "2023-09-03T08:28:08.109065",
          "exception": false,
          "start_time": "2023-09-03T08:28:07.151588",
          "status": "completed"
        },
        "tags": []
      },
      "outputs": [],
      "source": [
        "for index, row in test_df.iterrows():\n",
        "    unprocessed_spliited_word = row[\"text\"].split(\" \")\n",
        "    processed_word_list = []\n",
        "    for i in unprocessed_spliited_word:\n",
        "        processed_word_list += process_word(i)\n",
        "    test_df.at[index, \"text\"] = \" \".join(processed_word_list)"
      ]
    },
    {
      "cell_type": "code",
      "execution_count": 74,
      "id": "17cf696c",
      "metadata": {
        "execution": {
          "iopub.execute_input": "2023-09-03T08:28:08.206709Z",
          "iopub.status.busy": "2023-09-03T08:28:08.204993Z",
          "iopub.status.idle": "2023-09-03T08:28:08.221464Z",
          "shell.execute_reply": "2023-09-03T08:28:08.220406Z"
        },
        "id": "17cf696c",
        "papermill": {
          "duration": 0.066469,
          "end_time": "2023-09-03T08:28:08.223432",
          "exception": false,
          "start_time": "2023-09-03T08:28:08.156963",
          "status": "completed"
        },
        "tags": [],
        "colab": {
          "base_uri": "https://localhost:8080/"
        },
        "outputId": "51275cfc-4d03-4258-9a4d-fe30b7db0548"
      },
      "outputs": [
        {
          "output_type": "stream",
          "name": "stdout",
          "text": [
            "Dataset({\n",
            "    features: ['text', 'label'],\n",
            "    num_rows: 637\n",
            "})\n"
          ]
        }
      ],
      "source": [
        "test_df = Dataset.from_pandas(test_df)\n",
        "print(test_df)"
      ]
    },
    {
      "cell_type": "code",
      "execution_count": 75,
      "id": "7e016405",
      "metadata": {
        "execution": {
          "iopub.execute_input": "2023-09-03T08:28:08.318990Z",
          "iopub.status.busy": "2023-09-03T08:28:08.318660Z",
          "iopub.status.idle": "2023-09-03T08:28:08.323499Z",
          "shell.execute_reply": "2023-09-03T08:28:08.322565Z"
        },
        "id": "7e016405",
        "outputId": "3f7584a0-d175-4791-f773-6a38fa0e8215",
        "papermill": {
          "duration": 0.054992,
          "end_time": "2023-09-03T08:28:08.325513",
          "exception": false,
          "start_time": "2023-09-03T08:28:08.270521",
          "status": "completed"
        },
        "tags": [],
        "colab": {
          "base_uri": "https://localhost:8080/"
        }
      },
      "outputs": [
        {
          "output_type": "stream",
          "name": "stderr",
          "text": [
            "INFO:__main__:loading a local file for train\n",
            "INFO:__main__:loading a local file for validation\n",
            "INFO:__main__:loading a local file for test\n"
          ]
        }
      ],
      "source": [
        "data_files = {\"train\": train_df, \"validation\": validation_df, \"test\": test_df}\n",
        "for key in data_files.keys():\n",
        "    logger.info(f\"loading a local file for {key}\")"
      ]
    },
    {
      "cell_type": "code",
      "execution_count": 76,
      "id": "4680ca36",
      "metadata": {
        "execution": {
          "iopub.execute_input": "2023-09-03T08:28:08.422456Z",
          "iopub.status.busy": "2023-09-03T08:28:08.422100Z",
          "iopub.status.idle": "2023-09-03T08:28:08.426572Z",
          "shell.execute_reply": "2023-09-03T08:28:08.425612Z"
        },
        "id": "4680ca36",
        "papermill": {
          "duration": 0.055825,
          "end_time": "2023-09-03T08:28:08.428609",
          "exception": false,
          "start_time": "2023-09-03T08:28:08.372784",
          "status": "completed"
        },
        "tags": []
      },
      "outputs": [],
      "source": [
        "raw_datasets = DatasetDict(\n",
        "    {\"train\": train_df, \"validation\": validation_df, \"test\": test_df}\n",
        ")"
      ]
    },
    {
      "cell_type": "code",
      "execution_count": 77,
      "id": "ae814995",
      "metadata": {
        "execution": {
          "iopub.execute_input": "2023-09-03T08:28:08.528322Z",
          "iopub.status.busy": "2023-09-03T08:28:08.527292Z",
          "iopub.status.idle": "2023-09-03T08:28:08.533906Z",
          "shell.execute_reply": "2023-09-03T08:28:08.532325Z"
        },
        "id": "ae814995",
        "outputId": "70396cbc-173e-4bd3-b291-ddd782e7b062",
        "papermill": {
          "duration": 0.057049,
          "end_time": "2023-09-03T08:28:08.536022",
          "exception": false,
          "start_time": "2023-09-03T08:28:08.478973",
          "status": "completed"
        },
        "tags": [],
        "colab": {
          "base_uri": "https://localhost:8080/"
        }
      },
      "outputs": [
        {
          "output_type": "stream",
          "name": "stdout",
          "text": [
            "DatasetDict({\n",
            "    train: Dataset({\n",
            "        features: ['text', 'label'],\n",
            "        num_rows: 4462\n",
            "    })\n",
            "    validation: Dataset({\n",
            "        features: ['text', 'label'],\n",
            "        num_rows: 637\n",
            "    })\n",
            "    test: Dataset({\n",
            "        features: ['text', 'label'],\n",
            "        num_rows: 637\n",
            "    })\n",
            "})\n"
          ]
        }
      ],
      "source": [
        "print(raw_datasets)"
      ]
    },
    {
      "cell_type": "code",
      "execution_count": 78,
      "id": "4380af34",
      "metadata": {
        "execution": {
          "iopub.execute_input": "2023-09-03T08:28:08.633944Z",
          "iopub.status.busy": "2023-09-03T08:28:08.632949Z",
          "iopub.status.idle": "2023-09-03T08:28:08.670616Z",
          "shell.execute_reply": "2023-09-03T08:28:08.669292Z"
        },
        "id": "4380af34",
        "outputId": "9b2ef1e7-2361-433d-be21-4c8405d2db3c",
        "papermill": {
          "duration": 0.089359,
          "end_time": "2023-09-03T08:28:08.672785",
          "exception": false,
          "start_time": "2023-09-03T08:28:08.583426",
          "status": "completed"
        },
        "tags": [],
        "colab": {
          "base_uri": "https://localhost:8080/"
        }
      },
      "outputs": [
        {
          "output_type": "stream",
          "name": "stdout",
          "text": [
            "[2, 0, 1]\n"
          ]
        }
      ],
      "source": [
        "label_list = raw_datasets[\"train\"].unique(\"label\")\n",
        "print(label_list)"
      ]
    },
    {
      "cell_type": "code",
      "execution_count": 79,
      "id": "a34fb714",
      "metadata": {
        "execution": {
          "iopub.execute_input": "2023-09-03T08:28:08.770178Z",
          "iopub.status.busy": "2023-09-03T08:28:08.769792Z",
          "iopub.status.idle": "2023-09-03T08:28:08.775007Z",
          "shell.execute_reply": "2023-09-03T08:28:08.774030Z"
        },
        "id": "a34fb714",
        "outputId": "a65d4747-4aec-4e90-b8fe-2c72585d7548",
        "papermill": {
          "duration": 0.05719,
          "end_time": "2023-09-03T08:28:08.777596",
          "exception": false,
          "start_time": "2023-09-03T08:28:08.720406",
          "status": "completed"
        },
        "tags": [],
        "colab": {
          "base_uri": "https://localhost:8080/"
        }
      },
      "outputs": [
        {
          "output_type": "stream",
          "name": "stdout",
          "text": [
            "[0, 1, 2]\n"
          ]
        }
      ],
      "source": [
        "label_list.sort()  # sort the labels for determine\n",
        "print(label_list)"
      ]
    },
    {
      "cell_type": "code",
      "execution_count": 80,
      "id": "f8cd2254",
      "metadata": {
        "execution": {
          "iopub.execute_input": "2023-09-03T08:28:08.877390Z",
          "iopub.status.busy": "2023-09-03T08:28:08.877043Z",
          "iopub.status.idle": "2023-09-03T08:28:08.881992Z",
          "shell.execute_reply": "2023-09-03T08:28:08.881091Z"
        },
        "id": "f8cd2254",
        "outputId": "f6a0f48f-d219-4a73-c196-4658a1a6114d",
        "papermill": {
          "duration": 0.056829,
          "end_time": "2023-09-03T08:28:08.884260",
          "exception": false,
          "start_time": "2023-09-03T08:28:08.827431",
          "status": "completed"
        },
        "tags": [],
        "colab": {
          "base_uri": "https://localhost:8080/"
        }
      },
      "outputs": [
        {
          "output_type": "stream",
          "name": "stdout",
          "text": [
            "3\n"
          ]
        }
      ],
      "source": [
        "num_labels = len(label_list)\n",
        "print(num_labels)"
      ]
    },
    {
      "cell_type": "code",
      "execution_count": 81,
      "id": "b5f9cfb3",
      "metadata": {
        "execution": {
          "iopub.execute_input": "2023-09-03T08:28:08.981362Z",
          "iopub.status.busy": "2023-09-03T08:28:08.980459Z",
          "iopub.status.idle": "2023-09-03T08:28:09.269487Z",
          "shell.execute_reply": "2023-09-03T08:28:09.268607Z"
        },
        "id": "b5f9cfb3",
        "outputId": "55a70a52-4873-4e7d-8362-a3b4ebe7ca3c",
        "papermill": {
          "duration": 0.339672,
          "end_time": "2023-09-03T08:28:09.271517",
          "exception": false,
          "start_time": "2023-09-03T08:28:08.931845",
          "status": "completed"
        },
        "tags": [],
        "colab": {
          "base_uri": "https://localhost:8080/",
          "height": 798,
          "referenced_widgets": [
            "6efe0453d2bc4d3fb60d07042b7d686f",
            "ae1242ea7c9848d680f358a8251f3c69",
            "44beaf9a332f48418edf6497a89e1604",
            "0b72e39a1c02441fac9b529d63342b79",
            "1a3673e41e114013bd46594bd85bf86b",
            "b2e2cbe4135347fea1763d6a63e69be5",
            "1396848bf4e942308cff240cb2b10760",
            "a2a56355e5f44dda8ac60e58cde54f2f",
            "f2ab5bfcbf7840879a97078ba0eb0b12",
            "69efbfe5072e4fb1b8995c5918e8018a",
            "582c0d2ea27f4f0c813170a1c5cbd150"
          ]
        }
      },
      "outputs": [
        {
          "output_type": "stream",
          "name": "stderr",
          "text": [
            "/usr/local/lib/python3.10/dist-packages/huggingface_hub/utils/_token.py:89: UserWarning: \n",
            "The secret `HF_TOKEN` does not exist in your Colab secrets.\n",
            "To authenticate with the Hugging Face Hub, create a token in your settings tab (https://huggingface.co/settings/tokens), set it as secret in your Google Colab and restart your session.\n",
            "You will be able to reuse this secret in all of your notebooks.\n",
            "Please note that authentication is recommended but still optional to access public models or datasets.\n",
            "  warnings.warn(\n"
          ]
        },
        {
          "output_type": "display_data",
          "data": {
            "text/plain": [
              "config.json:   0%|          | 0.00/491 [00:00<?, ?B/s]"
            ],
            "application/vnd.jupyter.widget-view+json": {
              "version_major": 2,
              "version_minor": 0,
              "model_id": "6efe0453d2bc4d3fb60d07042b7d686f"
            }
          },
          "metadata": {}
        },
        {
          "output_type": "stream",
          "name": "stderr",
          "text": [
            "[INFO|configuration_utils.py:733] 2024-10-16 10:40:30,031 >> loading configuration file config.json from cache at /root/.cache/huggingface/hub/models--sagorsarker--bangla-bert-base/snapshots/875aa80a42ec196c16bd931ae5d85ad949f58b16/config.json\n",
            "[INFO|configuration_utils.py:800] 2024-10-16 10:40:30,060 >> Model config BertConfig {\n",
            "  \"_name_or_path\": \"sagorsarker/bangla-bert-base\",\n",
            "  \"architectures\": [\n",
            "    \"BertForMaskedLM\"\n",
            "  ],\n",
            "  \"attention_probs_dropout_prob\": 0.1,\n",
            "  \"classifier_dropout\": null,\n",
            "  \"hidden_act\": \"gelu\",\n",
            "  \"hidden_dropout_prob\": 0.1,\n",
            "  \"hidden_size\": 768,\n",
            "  \"id2label\": {\n",
            "    \"0\": \"LABEL_0\",\n",
            "    \"1\": \"LABEL_1\",\n",
            "    \"2\": \"LABEL_2\"\n",
            "  },\n",
            "  \"initializer_range\": 0.02,\n",
            "  \"intermediate_size\": 3072,\n",
            "  \"label2id\": {\n",
            "    \"LABEL_0\": 0,\n",
            "    \"LABEL_1\": 1,\n",
            "    \"LABEL_2\": 2\n",
            "  },\n",
            "  \"layer_norm_eps\": 1e-12,\n",
            "  \"max_position_embeddings\": 512,\n",
            "  \"model_type\": \"bert\",\n",
            "  \"num_attention_heads\": 12,\n",
            "  \"num_hidden_layers\": 12,\n",
            "  \"pad_token_id\": 0,\n",
            "  \"position_embedding_type\": \"absolute\",\n",
            "  \"transformers_version\": \"4.44.2\",\n",
            "  \"type_vocab_size\": 2,\n",
            "  \"use_cache\": true,\n",
            "  \"vocab_size\": 102025\n",
            "}\n",
            "\n"
          ]
        }
      ],
      "source": [
        "config = AutoConfig.from_pretrained(\n",
        "    model_name,\n",
        "    num_labels=num_labels,\n",
        "    finetuning_task=None,\n",
        "    cache_dir=None,\n",
        "    revision=\"main\",\n",
        "    use_auth_token=None,\n",
        ")"
      ]
    },
    {
      "cell_type": "code",
      "execution_count": 82,
      "id": "dca293c9",
      "metadata": {
        "execution": {
          "iopub.execute_input": "2023-09-03T08:28:09.370064Z",
          "iopub.status.busy": "2023-09-03T08:28:09.369180Z",
          "iopub.status.idle": "2023-09-03T08:28:10.840792Z",
          "shell.execute_reply": "2023-09-03T08:28:10.839744Z"
        },
        "id": "dca293c9",
        "outputId": "4da152dd-7790-45ad-dbe1-cdfbada8f503",
        "papermill": {
          "duration": 1.523443,
          "end_time": "2023-09-03T08:28:10.843381",
          "exception": false,
          "start_time": "2023-09-03T08:28:09.319938",
          "status": "completed"
        },
        "tags": [],
        "colab": {
          "base_uri": "https://localhost:8080/",
          "height": 1000,
          "referenced_widgets": [
            "2ed889c1c9804349986558f3f5f8afb0",
            "6f70b3a22aa541b9bfbea159e8c2c6e6",
            "dc8d6175171b4176a497e76445ac9257",
            "c03fd87669ee4c0898d10c6cbb9e47d2",
            "56848692028046bcb0b01ee54356cc13",
            "56fbc11161734e8a9c1c5c899b112f02",
            "067c90730fcc4009b467c4256dd05e51",
            "907ceb0c0d3a41028d07168ffe9f8f78",
            "448ee232ab3d4aca9e760958c944d75e",
            "09db571ba1194a40a6a1ce3f0d031b4c",
            "f45dc0a998fd44c3b338aba3b4fa8c5a"
          ]
        }
      },
      "outputs": [
        {
          "output_type": "stream",
          "name": "stderr",
          "text": [
            "[INFO|tokenization_auto.py:683] 2024-10-16 10:40:53,398 >> Could not locate the tokenizer configuration file, will try to use the model config instead.\n",
            "[INFO|configuration_utils.py:733] 2024-10-16 10:40:53,644 >> loading configuration file config.json from cache at /root/.cache/huggingface/hub/models--sagorsarker--bangla-bert-base/snapshots/875aa80a42ec196c16bd931ae5d85ad949f58b16/config.json\n",
            "[INFO|configuration_utils.py:800] 2024-10-16 10:40:53,646 >> Model config BertConfig {\n",
            "  \"_name_or_path\": \"sagorsarker/bangla-bert-base\",\n",
            "  \"architectures\": [\n",
            "    \"BertForMaskedLM\"\n",
            "  ],\n",
            "  \"attention_probs_dropout_prob\": 0.1,\n",
            "  \"classifier_dropout\": null,\n",
            "  \"hidden_act\": \"gelu\",\n",
            "  \"hidden_dropout_prob\": 0.1,\n",
            "  \"hidden_size\": 768,\n",
            "  \"initializer_range\": 0.02,\n",
            "  \"intermediate_size\": 3072,\n",
            "  \"layer_norm_eps\": 1e-12,\n",
            "  \"max_position_embeddings\": 512,\n",
            "  \"model_type\": \"bert\",\n",
            "  \"num_attention_heads\": 12,\n",
            "  \"num_hidden_layers\": 12,\n",
            "  \"pad_token_id\": 0,\n",
            "  \"position_embedding_type\": \"absolute\",\n",
            "  \"transformers_version\": \"4.44.2\",\n",
            "  \"type_vocab_size\": 2,\n",
            "  \"use_cache\": true,\n",
            "  \"vocab_size\": 102025\n",
            "}\n",
            "\n"
          ]
        },
        {
          "output_type": "display_data",
          "data": {
            "text/plain": [
              "vocab.txt:   0%|          | 0.00/2.24M [00:00<?, ?B/s]"
            ],
            "application/vnd.jupyter.widget-view+json": {
              "version_major": 2,
              "version_minor": 0,
              "model_id": "2ed889c1c9804349986558f3f5f8afb0"
            }
          },
          "metadata": {}
        },
        {
          "output_type": "stream",
          "name": "stderr",
          "text": [
            "[INFO|tokenization_utils_base.py:2269] 2024-10-16 10:40:55,277 >> loading file vocab.txt from cache at /root/.cache/huggingface/hub/models--sagorsarker--bangla-bert-base/snapshots/875aa80a42ec196c16bd931ae5d85ad949f58b16/vocab.txt\n",
            "[INFO|tokenization_utils_base.py:2269] 2024-10-16 10:40:55,279 >> loading file tokenizer.json from cache at None\n",
            "[INFO|tokenization_utils_base.py:2269] 2024-10-16 10:40:55,281 >> loading file added_tokens.json from cache at None\n",
            "[INFO|tokenization_utils_base.py:2269] 2024-10-16 10:40:55,283 >> loading file special_tokens_map.json from cache at None\n",
            "[INFO|tokenization_utils_base.py:2269] 2024-10-16 10:40:55,285 >> loading file tokenizer_config.json from cache at None\n",
            "[INFO|configuration_utils.py:733] 2024-10-16 10:40:55,286 >> loading configuration file config.json from cache at /root/.cache/huggingface/hub/models--sagorsarker--bangla-bert-base/snapshots/875aa80a42ec196c16bd931ae5d85ad949f58b16/config.json\n",
            "[INFO|configuration_utils.py:800] 2024-10-16 10:40:55,289 >> Model config BertConfig {\n",
            "  \"_name_or_path\": \"sagorsarker/bangla-bert-base\",\n",
            "  \"architectures\": [\n",
            "    \"BertForMaskedLM\"\n",
            "  ],\n",
            "  \"attention_probs_dropout_prob\": 0.1,\n",
            "  \"classifier_dropout\": null,\n",
            "  \"hidden_act\": \"gelu\",\n",
            "  \"hidden_dropout_prob\": 0.1,\n",
            "  \"hidden_size\": 768,\n",
            "  \"initializer_range\": 0.02,\n",
            "  \"intermediate_size\": 3072,\n",
            "  \"layer_norm_eps\": 1e-12,\n",
            "  \"max_position_embeddings\": 512,\n",
            "  \"model_type\": \"bert\",\n",
            "  \"num_attention_heads\": 12,\n",
            "  \"num_hidden_layers\": 12,\n",
            "  \"pad_token_id\": 0,\n",
            "  \"position_embedding_type\": \"absolute\",\n",
            "  \"transformers_version\": \"4.44.2\",\n",
            "  \"type_vocab_size\": 2,\n",
            "  \"use_cache\": true,\n",
            "  \"vocab_size\": 102025\n",
            "}\n",
            "\n",
            "/usr/local/lib/python3.10/dist-packages/transformers/tokenization_utils_base.py:1601: FutureWarning: `clean_up_tokenization_spaces` was not set. It will be set to `True` by default. This behavior will be depracted in transformers v4.45, and will be then set to `False` by default. For more details check this issue: https://github.com/huggingface/transformers/issues/31884\n",
            "  warnings.warn(\n",
            "[INFO|configuration_utils.py:733] 2024-10-16 10:40:55,506 >> loading configuration file config.json from cache at /root/.cache/huggingface/hub/models--sagorsarker--bangla-bert-base/snapshots/875aa80a42ec196c16bd931ae5d85ad949f58b16/config.json\n",
            "[INFO|configuration_utils.py:800] 2024-10-16 10:40:55,509 >> Model config BertConfig {\n",
            "  \"_name_or_path\": \"sagorsarker/bangla-bert-base\",\n",
            "  \"architectures\": [\n",
            "    \"BertForMaskedLM\"\n",
            "  ],\n",
            "  \"attention_probs_dropout_prob\": 0.1,\n",
            "  \"classifier_dropout\": null,\n",
            "  \"hidden_act\": \"gelu\",\n",
            "  \"hidden_dropout_prob\": 0.1,\n",
            "  \"hidden_size\": 768,\n",
            "  \"initializer_range\": 0.02,\n",
            "  \"intermediate_size\": 3072,\n",
            "  \"layer_norm_eps\": 1e-12,\n",
            "  \"max_position_embeddings\": 512,\n",
            "  \"model_type\": \"bert\",\n",
            "  \"num_attention_heads\": 12,\n",
            "  \"num_hidden_layers\": 12,\n",
            "  \"pad_token_id\": 0,\n",
            "  \"position_embedding_type\": \"absolute\",\n",
            "  \"transformers_version\": \"4.44.2\",\n",
            "  \"type_vocab_size\": 2,\n",
            "  \"use_cache\": true,\n",
            "  \"vocab_size\": 102025\n",
            "}\n",
            "\n"
          ]
        }
      ],
      "source": [
        "tokenizer = AutoTokenizer.from_pretrained(\n",
        "    model_name,\n",
        "    cache_dir=None,\n",
        "    use_fast=True,\n",
        "    revision=\"main\",\n",
        "    use_auth_token=None,\n",
        ")"
      ]
    },
    {
      "cell_type": "code",
      "execution_count": 83,
      "id": "a27c2c95",
      "metadata": {
        "execution": {
          "iopub.execute_input": "2023-09-03T08:28:10.946394Z",
          "iopub.status.busy": "2023-09-03T08:28:10.946030Z",
          "iopub.status.idle": "2023-09-03T08:28:14.871354Z",
          "shell.execute_reply": "2023-09-03T08:28:14.870480Z"
        },
        "id": "a27c2c95",
        "outputId": "1e094273-015f-41d2-b9a3-ff55c2e58b6f",
        "papermill": {
          "duration": 3.979308,
          "end_time": "2023-09-03T08:28:14.873672",
          "exception": false,
          "start_time": "2023-09-03T08:28:10.894364",
          "status": "completed"
        },
        "tags": [],
        "colab": {
          "base_uri": "https://localhost:8080/",
          "height": 173,
          "referenced_widgets": [
            "697e747122194240832dc4f052557913",
            "20bd77474e1e4f43a2b23a1967cd4cd6",
            "221cfe98cdaa4afd93043a43d73487ed",
            "44e87a15800d4befb6b1a507d6ab91e3",
            "ded684c02b4a4efdb0990c89a3899e50",
            "47208ed9fd3b4b308e04ec58bc0f5411",
            "22d33ab2114941ac98260a9828b02c54",
            "35552e72f86d46ea8b802478e1884cfc",
            "8b29d1fd7a34497886a3925d708e09f3",
            "ea08a43ef8434e0994c43c17a4c5be82",
            "2044ee5e4343414aa9e200fae160b390"
          ]
        }
      },
      "outputs": [
        {
          "output_type": "display_data",
          "data": {
            "text/plain": [
              "model.safetensors:   0%|          | 0.00/660M [00:00<?, ?B/s]"
            ],
            "application/vnd.jupyter.widget-view+json": {
              "version_major": 2,
              "version_minor": 0,
              "model_id": "697e747122194240832dc4f052557913"
            }
          },
          "metadata": {}
        },
        {
          "output_type": "stream",
          "name": "stderr",
          "text": [
            "[INFO|modeling_utils.py:3678] 2024-10-16 10:41:10,720 >> loading weights file model.safetensors from cache at /root/.cache/huggingface/hub/models--sagorsarker--bangla-bert-base/snapshots/875aa80a42ec196c16bd931ae5d85ad949f58b16/model.safetensors\n",
            "[INFO|modeling_utils.py:4497] 2024-10-16 10:41:10,852 >> Some weights of the model checkpoint at sagorsarker/bangla-bert-base were not used when initializing BertForSequenceClassification: ['cls.predictions.bias', 'cls.predictions.transform.LayerNorm.bias', 'cls.predictions.transform.LayerNorm.weight', 'cls.predictions.transform.dense.bias', 'cls.predictions.transform.dense.weight', 'cls.seq_relationship.bias', 'cls.seq_relationship.weight']\n",
            "- This IS expected if you are initializing BertForSequenceClassification from the checkpoint of a model trained on another task or with another architecture (e.g. initializing a BertForSequenceClassification model from a BertForPreTraining model).\n",
            "- This IS NOT expected if you are initializing BertForSequenceClassification from the checkpoint of a model that you expect to be exactly identical (initializing a BertForSequenceClassification model from a BertForSequenceClassification model).\n",
            "[WARNING|modeling_utils.py:4509] 2024-10-16 10:41:10,853 >> Some weights of BertForSequenceClassification were not initialized from the model checkpoint at sagorsarker/bangla-bert-base and are newly initialized: ['classifier.bias', 'classifier.weight']\n",
            "You should probably TRAIN this model on a down-stream task to be able to use it for predictions and inference.\n"
          ]
        }
      ],
      "source": [
        "model = AutoModelForSequenceClassification.from_pretrained(\n",
        "    model_name,\n",
        "    from_tf=bool(\".ckpt\" in model_name),\n",
        "    config=config,\n",
        "    cache_dir=None,\n",
        "    revision=\"main\",\n",
        "    use_auth_token=None,\n",
        "    ignore_mismatched_sizes=False,\n",
        ")"
      ]
    },
    {
      "cell_type": "code",
      "execution_count": 84,
      "id": "1c573a30",
      "metadata": {
        "execution": {
          "iopub.execute_input": "2023-09-03T08:28:14.976590Z",
          "iopub.status.busy": "2023-09-03T08:28:14.975610Z",
          "iopub.status.idle": "2023-09-03T08:28:14.981795Z",
          "shell.execute_reply": "2023-09-03T08:28:14.980740Z"
        },
        "id": "1c573a30",
        "outputId": "78e1aa46-3989-449c-9709-946fdeff9d89",
        "papermill": {
          "duration": 0.061324,
          "end_time": "2023-09-03T08:28:14.984973",
          "exception": false,
          "start_time": "2023-09-03T08:28:14.923649",
          "status": "completed"
        },
        "tags": [],
        "colab": {
          "base_uri": "https://localhost:8080/"
        }
      },
      "outputs": [
        {
          "output_type": "stream",
          "name": "stdout",
          "text": [
            "['text']\n"
          ]
        }
      ],
      "source": [
        "non_label_column_names = [name for name in raw_datasets[\"train\"].column_names if name != \"label\"]\n",
        "print(non_label_column_names)"
      ]
    },
    {
      "cell_type": "code",
      "execution_count": 85,
      "id": "0909e3de",
      "metadata": {
        "execution": {
          "iopub.execute_input": "2023-09-03T08:28:15.088022Z",
          "iopub.status.busy": "2023-09-03T08:28:15.087611Z",
          "iopub.status.idle": "2023-09-03T08:28:15.093003Z",
          "shell.execute_reply": "2023-09-03T08:28:15.091967Z"
        },
        "id": "0909e3de",
        "outputId": "37e7163f-61f1-4362-b09a-0ab07ca130c5",
        "papermill": {
          "duration": 0.062141,
          "end_time": "2023-09-03T08:28:15.097310",
          "exception": false,
          "start_time": "2023-09-03T08:28:15.035169",
          "status": "completed"
        },
        "tags": [],
        "colab": {
          "base_uri": "https://localhost:8080/"
        }
      },
      "outputs": [
        {
          "output_type": "stream",
          "name": "stdout",
          "text": [
            "text\n"
          ]
        }
      ],
      "source": [
        "sentence_key= non_label_column_names[0]\n",
        "print(sentence_key)"
      ]
    },
    {
      "cell_type": "code",
      "execution_count": 86,
      "id": "72ebad08",
      "metadata": {
        "execution": {
          "iopub.execute_input": "2023-09-03T08:28:15.200088Z",
          "iopub.status.busy": "2023-09-03T08:28:15.199736Z",
          "iopub.status.idle": "2023-09-03T08:28:15.209749Z",
          "shell.execute_reply": "2023-09-03T08:28:15.208405Z"
        },
        "id": "72ebad08",
        "outputId": "417df7ae-d7b7-4c15-d3f0-ccc7f6cb7b7b",
        "papermill": {
          "duration": 0.064101,
          "end_time": "2023-09-03T08:28:15.211846",
          "exception": false,
          "start_time": "2023-09-03T08:28:15.147745",
          "status": "completed"
        },
        "tags": [],
        "colab": {
          "base_uri": "https://localhost:8080/"
        }
      },
      "outputs": [
        {
          "output_type": "stream",
          "name": "stdout",
          "text": [
            "128\n"
          ]
        }
      ],
      "source": [
        "padding = \"max_length\"\n",
        "label_to_id = None\n",
        "\n",
        "if (model.config.label2id != PretrainedConfig(num_labels=num_labels).label2id):\n",
        "    # Some have all caps in their config, some don't.\n",
        "    label_name_to_id = {k.lower(): v for k, v in model.config.label2id.items()}\n",
        "    if sorted(label_name_to_id.keys()) == sorted(label_list):\n",
        "        label_to_id = {i: int(label_name_to_id[label_list[i]]) for i in range(num_labels)}\n",
        "    else:\n",
        "        logger.warning(\n",
        "            \"Your model seems to have been trained with labels, but they don't match the dataset: \",\n",
        "            f\"model labels: {sorted(label_name_to_id.keys())}, dataset labels: {sorted(label_list)}.\"\n",
        "            \"\\nIgnoring the model labels as a result.\",)\n",
        "\n",
        "\n",
        "if label_to_id is not None:\n",
        "    model.config.label2id = label_to_id\n",
        "    model.config.id2label = {id: label for label, id in config.label2id.items()}\n",
        "\n",
        "\n",
        "if 128 > tokenizer.model_max_length:\n",
        "    logger.warning(\n",
        "        f\"The max_seq_length passed ({128}) is larger than the maximum length for the\"\n",
        "        f\"model ({tokenizer.model_max_length}). Using max_seq_length={tokenizer.model_max_length}.\")\n",
        "\n",
        "\n",
        "max_seq_length = min(128, tokenizer.model_max_length)\n",
        "print(max_seq_length)"
      ]
    },
    {
      "cell_type": "code",
      "execution_count": 87,
      "id": "65fd9ff5",
      "metadata": {
        "execution": {
          "iopub.execute_input": "2023-09-03T08:28:15.314729Z",
          "iopub.status.busy": "2023-09-03T08:28:15.314283Z",
          "iopub.status.idle": "2023-09-03T08:28:15.320315Z",
          "shell.execute_reply": "2023-09-03T08:28:15.319351Z"
        },
        "id": "65fd9ff5",
        "papermill": {
          "duration": 0.059583,
          "end_time": "2023-09-03T08:28:15.322369",
          "exception": false,
          "start_time": "2023-09-03T08:28:15.262786",
          "status": "completed"
        },
        "tags": []
      },
      "outputs": [],
      "source": [
        "def preprocess_function(examples):\n",
        "    # Tokenize the texts\n",
        "    args = (\n",
        "        (examples[sentence_key],))\n",
        "    result = tokenizer(*args, padding=padding, max_length=max_seq_length, truncation=True)\n",
        "\n",
        "    # Map labels to IDs (not necessary for GLUE tasks)\n",
        "    if label_to_id is not None and \"label\" in examples:\n",
        "        result[\"label\"] = [(label_to_id[l] if l != -1 else -1) for l in examples[\"label\"]]\n",
        "    return result"
      ]
    },
    {
      "cell_type": "code",
      "execution_count": 88,
      "id": "2116bf75",
      "metadata": {
        "execution": {
          "iopub.execute_input": "2023-09-03T08:28:15.425061Z",
          "iopub.status.busy": "2023-09-03T08:28:15.424151Z",
          "iopub.status.idle": "2023-09-03T08:28:25.130181Z",
          "shell.execute_reply": "2023-09-03T08:28:25.128229Z"
        },
        "id": "2116bf75",
        "outputId": "6c25324e-8a88-4de7-e562-90cc9f935e96",
        "papermill": {
          "duration": 9.759778,
          "end_time": "2023-09-03T08:28:25.132391",
          "exception": false,
          "start_time": "2023-09-03T08:28:15.372613",
          "status": "completed"
        },
        "tags": [],
        "colab": {
          "base_uri": "https://localhost:8080/",
          "height": 113,
          "referenced_widgets": [
            "a6da2fa336b54dee84cd7f36efa5fd01",
            "fad6293b005b402fa8f5ea7062495f27",
            "2146ff1dd8bd4448929086d1d296e821",
            "1fe334e979874a4393fd0c3d6b1bc353",
            "2f888ed73a824e42968b8a6a34e29cb8",
            "44b954efe57742a49a9d034c62bc3787",
            "ceb5a6f3f25a4e61af95ece996de621c",
            "577945583b1b4981bf5341052110b57d",
            "c2af57ebaf464b3aaa8249fe9c882561",
            "fe226992d1054cc6b31d46ad0de709f8",
            "31d0b732216c4f45864fe972940127b5",
            "8b6a33f727c84e93afb18507c0322aa2",
            "a71e900b560f45bab3b74332b3123f70",
            "f1b0e807b85a419090f67f47db30f767",
            "bbd415fb46314607841c308a01df0fcd",
            "d4a666c4418c4caa98cfa870e8b97d49",
            "e115b81cbb9943c19e6478f265ee63fe",
            "490163c0d5eb40c2bdb43b8b105d71e9",
            "fbf5d6a74ca3456db3e068b50ab67ade",
            "5128a1283e8f406288597d74ca32b188",
            "eebb9f7a2f254835958a7e83f99db0b1",
            "b060ffc80d3542f6b10c25a6537c1a96",
            "a4be51c4fadd489a9f08afe226d3fad5",
            "4255b5ab0f7b4967a7fb976ed70d0513",
            "cd1c8d1ced114261b6b8f28225d256bf",
            "fc85c3b8f46d4ceab5df83355c4fac0f",
            "9fea527c7f2c4c5ab4c579d7519b9c1e",
            "7d20883b66a84820b22524efbd233e97",
            "c4e51eaec6c74c039c122ff4b1e94ca4",
            "53006c7738f04c0a8738a99377b1630c",
            "2f9b6bf0eaab48d29e68804df3402c7b",
            "9377ba7606bd46958b57e48cbefd208f",
            "ee4f8baa868349c5a915c53eef62e395"
          ]
        }
      },
      "outputs": [
        {
          "output_type": "display_data",
          "data": {
            "text/plain": [
              "Running tokenizer on dataset:   0%|          | 0/4462 [00:00<?, ? examples/s]"
            ],
            "application/vnd.jupyter.widget-view+json": {
              "version_major": 2,
              "version_minor": 0,
              "model_id": "a6da2fa336b54dee84cd7f36efa5fd01"
            }
          },
          "metadata": {}
        },
        {
          "output_type": "display_data",
          "data": {
            "text/plain": [
              "Running tokenizer on dataset:   0%|          | 0/637 [00:00<?, ? examples/s]"
            ],
            "application/vnd.jupyter.widget-view+json": {
              "version_major": 2,
              "version_minor": 0,
              "model_id": "8b6a33f727c84e93afb18507c0322aa2"
            }
          },
          "metadata": {}
        },
        {
          "output_type": "display_data",
          "data": {
            "text/plain": [
              "Running tokenizer on dataset:   0%|          | 0/637 [00:00<?, ? examples/s]"
            ],
            "application/vnd.jupyter.widget-view+json": {
              "version_major": 2,
              "version_minor": 0,
              "model_id": "a4be51c4fadd489a9f08afe226d3fad5"
            }
          },
          "metadata": {}
        }
      ],
      "source": [
        "raw_datasets = raw_datasets.map(\n",
        "    preprocess_function,\n",
        "    batched=True,\n",
        "    load_from_cache_file=True,\n",
        "    desc=\"Running tokenizer on dataset\",\n",
        ")"
      ]
    },
    {
      "cell_type": "code",
      "execution_count": 89,
      "id": "9bc05826",
      "metadata": {
        "execution": {
          "iopub.execute_input": "2023-09-03T08:28:25.235030Z",
          "iopub.status.busy": "2023-09-03T08:28:25.234339Z",
          "iopub.status.idle": "2023-09-03T08:28:25.240175Z",
          "shell.execute_reply": "2023-09-03T08:28:25.239200Z"
        },
        "id": "9bc05826",
        "papermill": {
          "duration": 0.059039,
          "end_time": "2023-09-03T08:28:25.242291",
          "exception": false,
          "start_time": "2023-09-03T08:28:25.183252",
          "status": "completed"
        },
        "tags": []
      },
      "outputs": [],
      "source": [
        "if \"train\" not in raw_datasets:\n",
        "    raise ValueError(\"requires a train dataset\")"
      ]
    },
    {
      "cell_type": "code",
      "execution_count": 90,
      "id": "9939200a",
      "metadata": {
        "execution": {
          "iopub.execute_input": "2023-09-03T08:28:25.343951Z",
          "iopub.status.busy": "2023-09-03T08:28:25.342850Z",
          "iopub.status.idle": "2023-09-03T08:28:25.348966Z",
          "shell.execute_reply": "2023-09-03T08:28:25.347918Z"
        },
        "id": "9939200a",
        "outputId": "d0fec17b-edc5-4914-d369-d41628484bc0",
        "papermill": {
          "duration": 0.059297,
          "end_time": "2023-09-03T08:28:25.351025",
          "exception": false,
          "start_time": "2023-09-03T08:28:25.291728",
          "status": "completed"
        },
        "tags": [],
        "colab": {
          "base_uri": "https://localhost:8080/"
        }
      },
      "outputs": [
        {
          "output_type": "stream",
          "name": "stdout",
          "text": [
            "Dataset({\n",
            "    features: ['text', 'label', 'input_ids', 'token_type_ids', 'attention_mask'],\n",
            "    num_rows: 4462\n",
            "})\n"
          ]
        }
      ],
      "source": [
        "train_dataset = raw_datasets[\"train\"]\n",
        "print(train_dataset)"
      ]
    },
    {
      "cell_type": "code",
      "execution_count": 91,
      "id": "1a304002",
      "metadata": {
        "execution": {
          "iopub.execute_input": "2023-09-03T08:28:25.514245Z",
          "iopub.status.busy": "2023-09-03T08:28:25.513723Z",
          "iopub.status.idle": "2023-09-03T08:28:25.518893Z",
          "shell.execute_reply": "2023-09-03T08:28:25.518031Z"
        },
        "id": "1a304002",
        "papermill": {
          "duration": 0.087474,
          "end_time": "2023-09-03T08:28:25.523177",
          "exception": false,
          "start_time": "2023-09-03T08:28:25.435703",
          "status": "completed"
        },
        "tags": []
      },
      "outputs": [],
      "source": [
        "if \"validation\" not in raw_datasets:\n",
        "    raise ValueError(\"requires a validation dataset\")"
      ]
    },
    {
      "cell_type": "code",
      "execution_count": 92,
      "id": "82e2f7aa",
      "metadata": {
        "execution": {
          "iopub.execute_input": "2023-09-03T08:28:25.669769Z",
          "iopub.status.busy": "2023-09-03T08:28:25.669200Z",
          "iopub.status.idle": "2023-09-03T08:28:25.675112Z",
          "shell.execute_reply": "2023-09-03T08:28:25.674230Z"
        },
        "id": "82e2f7aa",
        "outputId": "0a3a6fd4-4230-4c6b-d942-f19c92783821",
        "papermill": {
          "duration": 0.08476,
          "end_time": "2023-09-03T08:28:25.680761",
          "exception": false,
          "start_time": "2023-09-03T08:28:25.596001",
          "status": "completed"
        },
        "tags": [],
        "colab": {
          "base_uri": "https://localhost:8080/"
        }
      },
      "outputs": [
        {
          "output_type": "stream",
          "name": "stdout",
          "text": [
            "Dataset({\n",
            "    features: ['text', 'label', 'input_ids', 'token_type_ids', 'attention_mask'],\n",
            "    num_rows: 637\n",
            "})\n"
          ]
        }
      ],
      "source": [
        "eval_dataset = raw_datasets[\"validation\"]\n",
        "print(eval_dataset)"
      ]
    },
    {
      "cell_type": "code",
      "execution_count": 93,
      "id": "5a035f50",
      "metadata": {
        "execution": {
          "iopub.execute_input": "2023-09-03T08:28:25.832074Z",
          "iopub.status.busy": "2023-09-03T08:28:25.831644Z",
          "iopub.status.idle": "2023-09-03T08:28:25.837314Z",
          "shell.execute_reply": "2023-09-03T08:28:25.836450Z"
        },
        "id": "5a035f50",
        "outputId": "b073450d-fc60-4c7a-86ca-5224d763e431",
        "papermill": {
          "duration": 0.086326,
          "end_time": "2023-09-03T08:28:25.842996",
          "exception": false,
          "start_time": "2023-09-03T08:28:25.756670",
          "status": "completed"
        },
        "tags": [],
        "colab": {
          "base_uri": "https://localhost:8080/"
        }
      },
      "outputs": [
        {
          "output_type": "stream",
          "name": "stdout",
          "text": [
            "None\n"
          ]
        }
      ],
      "source": [
        "print(max_eval_samples)"
      ]
    },
    {
      "cell_type": "code",
      "execution_count": 94,
      "id": "c7b10bf0",
      "metadata": {
        "execution": {
          "iopub.execute_input": "2023-09-03T08:28:25.987635Z",
          "iopub.status.busy": "2023-09-03T08:28:25.987199Z",
          "iopub.status.idle": "2023-09-03T08:28:25.992751Z",
          "shell.execute_reply": "2023-09-03T08:28:25.991802Z"
        },
        "id": "c7b10bf0",
        "papermill": {
          "duration": 0.08001,
          "end_time": "2023-09-03T08:28:25.995045",
          "exception": false,
          "start_time": "2023-09-03T08:28:25.915035",
          "status": "completed"
        },
        "tags": []
      },
      "outputs": [],
      "source": [
        "if max_eval_samples is not None:\n",
        "    max_eval_samples_n = min(len(eval_dataset), max_eval_samples)\n",
        "    eval_dataset = eval_dataset.select(range(max_eval_samples_n))"
      ]
    },
    {
      "cell_type": "code",
      "execution_count": 95,
      "id": "d81cbdc6",
      "metadata": {
        "execution": {
          "iopub.execute_input": "2023-09-03T08:28:26.147589Z",
          "iopub.status.busy": "2023-09-03T08:28:26.147044Z",
          "iopub.status.idle": "2023-09-03T08:28:26.152121Z",
          "shell.execute_reply": "2023-09-03T08:28:26.151309Z"
        },
        "id": "d81cbdc6",
        "papermill": {
          "duration": 0.082904,
          "end_time": "2023-09-03T08:28:26.156309",
          "exception": false,
          "start_time": "2023-09-03T08:28:26.073405",
          "status": "completed"
        },
        "tags": []
      },
      "outputs": [],
      "source": [
        "if \"test\" not in raw_datasets and \"test_matched\" not in raw_datasets:\n",
        "    raise ValueError(\"requires a test dataset\")"
      ]
    },
    {
      "cell_type": "code",
      "execution_count": 96,
      "id": "855f0034",
      "metadata": {
        "execution": {
          "iopub.execute_input": "2023-09-03T08:28:26.303709Z",
          "iopub.status.busy": "2023-09-03T08:28:26.303283Z",
          "iopub.status.idle": "2023-09-03T08:28:26.308335Z",
          "shell.execute_reply": "2023-09-03T08:28:26.307502Z"
        },
        "id": "855f0034",
        "outputId": "b141550b-522d-4080-9df7-5d8b8989b183",
        "papermill": {
          "duration": 0.085246,
          "end_time": "2023-09-03T08:28:26.314080",
          "exception": false,
          "start_time": "2023-09-03T08:28:26.228834",
          "status": "completed"
        },
        "tags": [],
        "colab": {
          "base_uri": "https://localhost:8080/"
        }
      },
      "outputs": [
        {
          "output_type": "stream",
          "name": "stdout",
          "text": [
            "Dataset({\n",
            "    features: ['text', 'label', 'input_ids', 'token_type_ids', 'attention_mask'],\n",
            "    num_rows: 637\n",
            "})\n"
          ]
        }
      ],
      "source": [
        "predict_dataset = raw_datasets[\"test\"]\n",
        "print(predict_dataset)"
      ]
    },
    {
      "cell_type": "code",
      "execution_count": 97,
      "id": "1ada686f",
      "metadata": {
        "execution": {
          "iopub.execute_input": "2023-09-03T08:28:26.460160Z",
          "iopub.status.busy": "2023-09-03T08:28:26.459749Z",
          "iopub.status.idle": "2023-09-03T08:28:26.464772Z",
          "shell.execute_reply": "2023-09-03T08:28:26.463916Z"
        },
        "id": "1ada686f",
        "outputId": "5d871b86-e600-454a-8f08-1d9c6c6b2989",
        "papermill": {
          "duration": 0.084472,
          "end_time": "2023-09-03T08:28:26.470488",
          "exception": false,
          "start_time": "2023-09-03T08:28:26.386016",
          "status": "completed"
        },
        "tags": [],
        "colab": {
          "base_uri": "https://localhost:8080/"
        }
      },
      "outputs": [
        {
          "output_type": "stream",
          "name": "stdout",
          "text": [
            "None\n"
          ]
        }
      ],
      "source": [
        "print(max_predict_samples)"
      ]
    },
    {
      "cell_type": "code",
      "execution_count": 98,
      "id": "ce70ecce",
      "metadata": {
        "execution": {
          "iopub.execute_input": "2023-09-03T08:28:26.621243Z",
          "iopub.status.busy": "2023-09-03T08:28:26.620835Z",
          "iopub.status.idle": "2023-09-03T08:28:26.625936Z",
          "shell.execute_reply": "2023-09-03T08:28:26.625102Z"
        },
        "id": "ce70ecce",
        "papermill": {
          "duration": 0.083606,
          "end_time": "2023-09-03T08:28:26.630140",
          "exception": false,
          "start_time": "2023-09-03T08:28:26.546534",
          "status": "completed"
        },
        "tags": []
      },
      "outputs": [],
      "source": [
        "if max_predict_samples is not None:\n",
        "    max_predict_samples_n = min(len(predict_dataset), max_predict_samples)\n",
        "    predict_dataset = predict_dataset.select(range(max_predict_samples_n))"
      ]
    },
    {
      "cell_type": "code",
      "execution_count": 99,
      "id": "bd26946d",
      "metadata": {
        "execution": {
          "iopub.execute_input": "2023-09-03T08:28:26.779541Z",
          "iopub.status.busy": "2023-09-03T08:28:26.779128Z",
          "iopub.status.idle": "2023-09-03T08:28:26.789749Z",
          "shell.execute_reply": "2023-09-03T08:28:26.788914Z"
        },
        "id": "bd26946d",
        "outputId": "30d7329f-d10c-4d7c-defb-19f6e434bfde",
        "papermill": {
          "duration": 0.089661,
          "end_time": "2023-09-03T08:28:26.792672",
          "exception": false,
          "start_time": "2023-09-03T08:28:26.703011",
          "status": "completed"
        },
        "tags": [],
        "colab": {
          "base_uri": "https://localhost:8080/"
        }
      },
      "outputs": [
        {
          "output_type": "stream",
          "name": "stderr",
          "text": [
            "INFO:__main__:Sample 912 of the training set: {'text': 'বান্দা যখন অাল্লাহর প্রশংসা করা বাদ দি\\u200cয়ে অন\\u200c্য কিছুর প্রশংসায় মে\\u200cতে ও\\u200cঠে তখন জা\\u200cতির জন\\u200c্য এরকম অ\\u200cনেক বিপদই অ\\u200cপেক্ষা ক\\u200cরে', 'label': 2, 'input_ids': [101, 13068, 6393, 2241, 16365, 2756, 40145, 2046, 25860, 47680, 2047, 3078, 4973, 8844, 5562, 9294, 2178, 7635, 2046, 25860, 47680, 9294, 11559, 2897, 2213, 4069, 2181, 9294, 8239, 2115, 6433, 2062, 16341, 17338, 15960, 2039, 102, 0, 0, 0, 0, 0, 0, 0, 0, 0, 0, 0, 0, 0, 0, 0, 0, 0, 0, 0, 0, 0, 0, 0, 0, 0, 0, 0, 0, 0, 0, 0, 0, 0, 0, 0, 0, 0, 0, 0, 0, 0, 0, 0, 0, 0, 0, 0, 0, 0, 0, 0, 0, 0, 0, 0, 0, 0, 0, 0, 0, 0, 0, 0, 0, 0, 0, 0, 0, 0, 0, 0, 0, 0, 0, 0, 0, 0, 0, 0, 0, 0, 0, 0, 0, 0, 0, 0, 0, 0, 0, 0], 'token_type_ids': [0, 0, 0, 0, 0, 0, 0, 0, 0, 0, 0, 0, 0, 0, 0, 0, 0, 0, 0, 0, 0, 0, 0, 0, 0, 0, 0, 0, 0, 0, 0, 0, 0, 0, 0, 0, 0, 0, 0, 0, 0, 0, 0, 0, 0, 0, 0, 0, 0, 0, 0, 0, 0, 0, 0, 0, 0, 0, 0, 0, 0, 0, 0, 0, 0, 0, 0, 0, 0, 0, 0, 0, 0, 0, 0, 0, 0, 0, 0, 0, 0, 0, 0, 0, 0, 0, 0, 0, 0, 0, 0, 0, 0, 0, 0, 0, 0, 0, 0, 0, 0, 0, 0, 0, 0, 0, 0, 0, 0, 0, 0, 0, 0, 0, 0, 0, 0, 0, 0, 0, 0, 0, 0, 0, 0, 0, 0, 0], 'attention_mask': [1, 1, 1, 1, 1, 1, 1, 1, 1, 1, 1, 1, 1, 1, 1, 1, 1, 1, 1, 1, 1, 1, 1, 1, 1, 1, 1, 1, 1, 1, 1, 1, 1, 1, 1, 1, 1, 0, 0, 0, 0, 0, 0, 0, 0, 0, 0, 0, 0, 0, 0, 0, 0, 0, 0, 0, 0, 0, 0, 0, 0, 0, 0, 0, 0, 0, 0, 0, 0, 0, 0, 0, 0, 0, 0, 0, 0, 0, 0, 0, 0, 0, 0, 0, 0, 0, 0, 0, 0, 0, 0, 0, 0, 0, 0, 0, 0, 0, 0, 0, 0, 0, 0, 0, 0, 0, 0, 0, 0, 0, 0, 0, 0, 0, 0, 0, 0, 0, 0, 0, 0, 0, 0, 0, 0, 0, 0, 0]}.\n",
            "INFO:__main__:Sample 204 of the training set: {'text': '৬ কিলোমিটারের অতি সাধারন এক সেতু নিয়ে এত গলাবাজি পিছিয়ে থাকা বাংলাদেশের বাস্তব বহিঃপ্রকাশ', 'label': 0, 'input_ids': [101, 1026, 18863, 2094, 26779, 45761, 3789, 14168, 2066, 2118, 3283, 3919, 8844, 2592, 70385, 20320, 56885, 2094, 2187, 2119, 2773, 59464, 18821, 12041, 27551, 102, 0, 0, 0, 0, 0, 0, 0, 0, 0, 0, 0, 0, 0, 0, 0, 0, 0, 0, 0, 0, 0, 0, 0, 0, 0, 0, 0, 0, 0, 0, 0, 0, 0, 0, 0, 0, 0, 0, 0, 0, 0, 0, 0, 0, 0, 0, 0, 0, 0, 0, 0, 0, 0, 0, 0, 0, 0, 0, 0, 0, 0, 0, 0, 0, 0, 0, 0, 0, 0, 0, 0, 0, 0, 0, 0, 0, 0, 0, 0, 0, 0, 0, 0, 0, 0, 0, 0, 0, 0, 0, 0, 0, 0, 0, 0, 0, 0, 0, 0, 0, 0, 0], 'token_type_ids': [0, 0, 0, 0, 0, 0, 0, 0, 0, 0, 0, 0, 0, 0, 0, 0, 0, 0, 0, 0, 0, 0, 0, 0, 0, 0, 0, 0, 0, 0, 0, 0, 0, 0, 0, 0, 0, 0, 0, 0, 0, 0, 0, 0, 0, 0, 0, 0, 0, 0, 0, 0, 0, 0, 0, 0, 0, 0, 0, 0, 0, 0, 0, 0, 0, 0, 0, 0, 0, 0, 0, 0, 0, 0, 0, 0, 0, 0, 0, 0, 0, 0, 0, 0, 0, 0, 0, 0, 0, 0, 0, 0, 0, 0, 0, 0, 0, 0, 0, 0, 0, 0, 0, 0, 0, 0, 0, 0, 0, 0, 0, 0, 0, 0, 0, 0, 0, 0, 0, 0, 0, 0, 0, 0, 0, 0, 0, 0], 'attention_mask': [1, 1, 1, 1, 1, 1, 1, 1, 1, 1, 1, 1, 1, 1, 1, 1, 1, 1, 1, 1, 1, 1, 1, 1, 1, 1, 0, 0, 0, 0, 0, 0, 0, 0, 0, 0, 0, 0, 0, 0, 0, 0, 0, 0, 0, 0, 0, 0, 0, 0, 0, 0, 0, 0, 0, 0, 0, 0, 0, 0, 0, 0, 0, 0, 0, 0, 0, 0, 0, 0, 0, 0, 0, 0, 0, 0, 0, 0, 0, 0, 0, 0, 0, 0, 0, 0, 0, 0, 0, 0, 0, 0, 0, 0, 0, 0, 0, 0, 0, 0, 0, 0, 0, 0, 0, 0, 0, 0, 0, 0, 0, 0, 0, 0, 0, 0, 0, 0, 0, 0, 0, 0, 0, 0, 0, 0, 0, 0]}.\n",
            "INFO:__main__:Sample 2253 of the training set: {'text': 'সিমেন্টের বস্তা প্রমাণ করে তোমরা কত কোটি টাকা মেরে খেয়েছ', 'label': 0, 'input_ids': [101, 75032, 13259, 20518, 2395, 8063, 45860, 2039, 4058, 8507, 2429, 2657, 2285, 45931, 2097, 5229, 34989, 8844, 7635, 102, 0, 0, 0, 0, 0, 0, 0, 0, 0, 0, 0, 0, 0, 0, 0, 0, 0, 0, 0, 0, 0, 0, 0, 0, 0, 0, 0, 0, 0, 0, 0, 0, 0, 0, 0, 0, 0, 0, 0, 0, 0, 0, 0, 0, 0, 0, 0, 0, 0, 0, 0, 0, 0, 0, 0, 0, 0, 0, 0, 0, 0, 0, 0, 0, 0, 0, 0, 0, 0, 0, 0, 0, 0, 0, 0, 0, 0, 0, 0, 0, 0, 0, 0, 0, 0, 0, 0, 0, 0, 0, 0, 0, 0, 0, 0, 0, 0, 0, 0, 0, 0, 0, 0, 0, 0, 0, 0, 0], 'token_type_ids': [0, 0, 0, 0, 0, 0, 0, 0, 0, 0, 0, 0, 0, 0, 0, 0, 0, 0, 0, 0, 0, 0, 0, 0, 0, 0, 0, 0, 0, 0, 0, 0, 0, 0, 0, 0, 0, 0, 0, 0, 0, 0, 0, 0, 0, 0, 0, 0, 0, 0, 0, 0, 0, 0, 0, 0, 0, 0, 0, 0, 0, 0, 0, 0, 0, 0, 0, 0, 0, 0, 0, 0, 0, 0, 0, 0, 0, 0, 0, 0, 0, 0, 0, 0, 0, 0, 0, 0, 0, 0, 0, 0, 0, 0, 0, 0, 0, 0, 0, 0, 0, 0, 0, 0, 0, 0, 0, 0, 0, 0, 0, 0, 0, 0, 0, 0, 0, 0, 0, 0, 0, 0, 0, 0, 0, 0, 0, 0], 'attention_mask': [1, 1, 1, 1, 1, 1, 1, 1, 1, 1, 1, 1, 1, 1, 1, 1, 1, 1, 1, 1, 0, 0, 0, 0, 0, 0, 0, 0, 0, 0, 0, 0, 0, 0, 0, 0, 0, 0, 0, 0, 0, 0, 0, 0, 0, 0, 0, 0, 0, 0, 0, 0, 0, 0, 0, 0, 0, 0, 0, 0, 0, 0, 0, 0, 0, 0, 0, 0, 0, 0, 0, 0, 0, 0, 0, 0, 0, 0, 0, 0, 0, 0, 0, 0, 0, 0, 0, 0, 0, 0, 0, 0, 0, 0, 0, 0, 0, 0, 0, 0, 0, 0, 0, 0, 0, 0, 0, 0, 0, 0, 0, 0, 0, 0, 0, 0, 0, 0, 0, 0, 0, 0, 0, 0, 0, 0, 0, 0]}.\n"
          ]
        }
      ],
      "source": [
        "for index in random.sample(range(len(train_dataset)), 3):\n",
        "    logger.info(f\"Sample {index} of the training set: {train_dataset[index]}.\")"
      ]
    },
    {
      "cell_type": "code",
      "execution_count": 100,
      "id": "e3804667",
      "metadata": {
        "execution": {
          "iopub.execute_input": "2023-09-03T08:28:26.943424Z",
          "iopub.status.busy": "2023-09-03T08:28:26.943053Z",
          "iopub.status.idle": "2023-09-03T08:28:27.653424Z",
          "shell.execute_reply": "2023-09-03T08:28:27.652467Z"
        },
        "id": "e3804667",
        "outputId": "9662aa20-5cc0-499d-f800-c87c811865d2",
        "papermill": {
          "duration": 0.789336,
          "end_time": "2023-09-03T08:28:27.655751",
          "exception": false,
          "start_time": "2023-09-03T08:28:26.866415",
          "status": "completed"
        },
        "tags": [],
        "colab": {
          "base_uri": "https://localhost:8080/",
          "height": 49,
          "referenced_widgets": [
            "a6b023d644934a088c40e10f88242277",
            "3d9200f5e35a4d0ba10ab5ef6649ac45",
            "a050fa4f67034b27b35dd3092cf22d81",
            "4991f6454eed4f5f8c3251c6f437ebc1",
            "772cf5f4adfe48d0b571b5a70015000a",
            "cb53a6d26d9f469889ccb1a18327f066",
            "b466751aa9a045fb8fe220caade124fa",
            "83514a6e17804dd4b4146df9d356ab2e",
            "faa63f981b324ef3b0b47b36b55246f8",
            "5ad5e0163eef469481a6dd6280ed4771",
            "8a396b08574845b19600e015930fe87d"
          ]
        }
      },
      "outputs": [
        {
          "output_type": "display_data",
          "data": {
            "text/plain": [
              "Downloading builder script:   0%|          | 0.00/4.20k [00:00<?, ?B/s]"
            ],
            "application/vnd.jupyter.widget-view+json": {
              "version_major": 2,
              "version_minor": 0,
              "model_id": "a6b023d644934a088c40e10f88242277"
            }
          },
          "metadata": {}
        }
      ],
      "source": [
        "metric = evaluate.load(\"accuracy\")"
      ]
    },
    {
      "cell_type": "code",
      "execution_count": 101,
      "id": "643e1cb2",
      "metadata": {
        "execution": {
          "iopub.execute_input": "2023-09-03T08:28:27.763000Z",
          "iopub.status.busy": "2023-09-03T08:28:27.761938Z",
          "iopub.status.idle": "2023-09-03T08:28:27.769619Z",
          "shell.execute_reply": "2023-09-03T08:28:27.768360Z"
        },
        "id": "643e1cb2",
        "papermill": {
          "duration": 0.064028,
          "end_time": "2023-09-03T08:28:27.772351",
          "exception": false,
          "start_time": "2023-09-03T08:28:27.708323",
          "status": "completed"
        },
        "tags": []
      },
      "outputs": [],
      "source": [
        "def calculate_micro_f1_score(true_positives, false_positives, false_negatives):\n",
        "    total_tp = sum(true_positives)\n",
        "    total_fp = sum(false_positives)\n",
        "    total_fn = sum(false_negatives)\n",
        "\n",
        "    micro_precision = total_tp / (total_tp + total_fp + 1e-9)\n",
        "    micro_recall = total_tp / (total_tp + total_fn + 1e-9)\n",
        "\n",
        "    micro_f1 = 2 * (micro_precision * micro_recall) / (micro_precision + micro_recall + 1e-9)\n",
        "\n",
        "    return micro_f1"
      ]
    },
    {
      "cell_type": "code",
      "execution_count": 102,
      "id": "6a98afe1",
      "metadata": {
        "execution": {
          "iopub.execute_input": "2023-09-03T08:28:27.893458Z",
          "iopub.status.busy": "2023-09-03T08:28:27.893038Z",
          "iopub.status.idle": "2023-09-03T08:28:27.903704Z",
          "shell.execute_reply": "2023-09-03T08:28:27.902484Z"
        },
        "id": "6a98afe1",
        "papermill": {
          "duration": 0.074426,
          "end_time": "2023-09-03T08:28:27.906111",
          "exception": false,
          "start_time": "2023-09-03T08:28:27.831685",
          "status": "completed"
        },
        "tags": []
      },
      "outputs": [],
      "source": [
        "def compute_metrics(p: EvalPrediction):\n",
        "    preds = p.predictions[0] if isinstance(p.predictions, tuple) else p.predictions\n",
        "    preds = np.argmax(preds, axis=1)\n",
        "\n",
        "    labels = p.label_ids\n",
        "    # Initialize dictionaries to store TP, FP, and FN for each class\n",
        "    true_positives = {label: 0 for label in range(num_labels)}\n",
        "    false_positives = {label: 0 for label in range(num_labels)}\n",
        "    false_negatives = {label: 0 for label in range(num_labels)}\n",
        "\n",
        "    for label, pred in zip(labels, preds):\n",
        "        for class_id in range(num_labels):\n",
        "            if class_id == label and class_id == pred:\n",
        "                true_positives[class_id] += 1\n",
        "            elif class_id != label and class_id == pred:\n",
        "                false_positives[class_id] += 1\n",
        "            elif class_id == label and class_id != pred:\n",
        "                false_negatives[class_id] += 1\n",
        "\n",
        "    return {\n",
        "        \"micro_f1_score\": calculate_micro_f1_score(\n",
        "            list(true_positives.values()), list(false_positives.values()), list(false_negatives.values())\n",
        "        ),\n",
        "        \"accuracy\": (preds == p.label_ids).astype(np.float32).mean().item()\n",
        "    }\n"
      ]
    },
    {
      "cell_type": "code",
      "execution_count": 103,
      "id": "1a8f4079",
      "metadata": {
        "execution": {
          "iopub.execute_input": "2023-09-03T08:28:28.020332Z",
          "iopub.status.busy": "2023-09-03T08:28:28.019945Z",
          "iopub.status.idle": "2023-09-03T08:28:28.024948Z",
          "shell.execute_reply": "2023-09-03T08:28:28.023859Z"
        },
        "id": "1a8f4079",
        "papermill": {
          "duration": 0.063119,
          "end_time": "2023-09-03T08:28:28.027092",
          "exception": false,
          "start_time": "2023-09-03T08:28:27.963973",
          "status": "completed"
        },
        "tags": []
      },
      "outputs": [],
      "source": [
        "data_collator = default_data_collator"
      ]
    },
    {
      "cell_type": "code",
      "execution_count": 104,
      "id": "9b7adce2",
      "metadata": {
        "execution": {
          "iopub.execute_input": "2023-09-03T08:28:28.136563Z",
          "iopub.status.busy": "2023-09-03T08:28:28.135391Z",
          "iopub.status.idle": "2023-09-03T08:28:28.140534Z",
          "shell.execute_reply": "2023-09-03T08:28:28.139607Z"
        },
        "papermill": {
          "duration": 0.061693,
          "end_time": "2023-09-03T08:28:28.142774",
          "exception": false,
          "start_time": "2023-09-03T08:28:28.081081",
          "status": "completed"
        },
        "tags": [],
        "id": "9b7adce2"
      },
      "outputs": [],
      "source": [
        "import os\n",
        "os.environ[\"WANDB_DISABLED\"] = \"true\""
      ]
    },
    {
      "cell_type": "code",
      "execution_count": 105,
      "id": "c7e03ccf",
      "metadata": {
        "execution": {
          "iopub.execute_input": "2023-09-03T08:28:28.249068Z",
          "iopub.status.busy": "2023-09-03T08:28:28.248703Z",
          "iopub.status.idle": "2023-09-03T08:28:53.247267Z",
          "shell.execute_reply": "2023-09-03T08:28:53.246150Z"
        },
        "id": "c7e03ccf",
        "outputId": "ad13c471-1eb1-4485-9725-7120bcbffd22",
        "papermill": {
          "duration": 25.054839,
          "end_time": "2023-09-03T08:28:53.249394",
          "exception": false,
          "start_time": "2023-09-03T08:28:28.194555",
          "status": "completed"
        },
        "tags": [],
        "colab": {
          "base_uri": "https://localhost:8080/",
          "height": 265
        }
      },
      "outputs": [
        {
          "output_type": "stream",
          "name": "stderr",
          "text": [
            "/usr/local/lib/python3.10/dist-packages/transformers/training_args.py:1525: FutureWarning: `evaluation_strategy` is deprecated and will be removed in version 4.46 of 🤗 Transformers. Use `eval_strategy` instead\n",
            "  warnings.warn(\n",
            "[INFO|training_args.py:1565] 2024-10-16 10:41:50,621 >> using `logging_steps` to initialize `eval_steps` to 500\n",
            "[INFO|training_args.py:2100] 2024-10-16 10:41:50,623 >> PyTorch: setting up devices\n",
            "[INFO|training_args.py:1788] 2024-10-16 10:41:50,643 >> The default value for the training argument `--report_to` will change in v5 (from all installed integrations to none). In v5, you will need to use `--report_to all` to get the same behavior as now. You should start updating your code and make this info disappear :-).\n",
            "[WARNING|integration_utils.py:100] 2024-10-16 10:41:50,646 >> Using the `WANDB_DISABLED` environment variable is deprecated and will be removed in v5. Use the --report_to flag to control the integrations used for logging result (for instance --report_to none).\n",
            "[INFO|trainer.py:811] 2024-10-16 10:41:51,216 >> The following columns in the evaluation set don't have a corresponding argument in `BertForSequenceClassification.forward` and have been ignored: text. If text are not expected by `BertForSequenceClassification.forward`,  you can safely ignore this message.\n",
            "[INFO|trainer.py:3819] 2024-10-16 10:41:51,526 >> \n",
            "***** Running Evaluation *****\n",
            "[INFO|trainer.py:3821] 2024-10-16 10:41:51,528 >>   Num examples = 637\n",
            "[INFO|trainer.py:3824] 2024-10-16 10:41:51,531 >>   Batch size = 8\n"
          ]
        },
        {
          "output_type": "display_data",
          "data": {
            "text/plain": [
              "<IPython.core.display.HTML object>"
            ],
            "text/html": [
              "\n",
              "    <div>\n",
              "      \n",
              "      <progress value='80' max='80' style='width:300px; height:20px; vertical-align: middle;'></progress>\n",
              "      [80/80 00:04]\n",
              "    </div>\n",
              "    "
            ]
          },
          "metadata": {}
        },
        {
          "output_type": "stream",
          "name": "stdout",
          "text": [
            "{'eval_loss': 1.1508536338806152, 'eval_model_preparation_time': 0.0038, 'eval_micro_f1_score': 0.30141287234097114, 'eval_accuracy': 0.3014128804206848, 'eval_runtime': 5.6637, 'eval_samples_per_second': 112.47, 'eval_steps_per_second': 14.125}\n"
          ]
        }
      ],
      "source": [
        "from transformers import BertTokenizer, BertForSequenceClassification, Trainer, TrainingArguments\n",
        "training_args = TrainingArguments(\n",
        "    output_dir=\"./output\",\n",
        "    evaluation_strategy=\"steps\",  # Changed to \"steps\"\n",
        "    logging_dir=\"./logs\",\n",
        "    per_device_train_batch_size=8,\n",
        "    per_device_eval_batch_size=8,\n",
        "    learning_rate=2e-5,\n",
        "    num_train_epochs=3,\n",
        "    weight_decay=0.01,\n",
        "    save_total_limit=3,  # Limit the number of saved checkpoints\n",
        "    load_best_model_at_end=True,\n",
        ")\n",
        "\n",
        "# Initialize the Trainer\n",
        "trainer = Trainer(\n",
        "    model=model,\n",
        "    args=training_args,\n",
        "    train_dataset=train_dataset,\n",
        "    eval_dataset=eval_dataset,\n",
        "    compute_metrics=compute_metrics,\n",
        "    tokenizer=tokenizer,\n",
        ")\n",
        "\n",
        "# Perform cross-validation\n",
        "results = trainer.evaluate()\n",
        "print(results)"
      ]
    },
    {
      "cell_type": "code",
      "execution_count": 106,
      "id": "f3f95361",
      "metadata": {
        "execution": {
          "iopub.execute_input": "2023-09-03T08:28:53.354093Z",
          "iopub.status.busy": "2023-09-03T08:28:53.353731Z",
          "iopub.status.idle": "2023-09-03T09:09:15.870116Z",
          "shell.execute_reply": "2023-09-03T09:09:15.866631Z"
        },
        "id": "f3f95361",
        "outputId": "c66ee7d6-d616-48b6-f85e-6b6e8b7e97e6",
        "papermill": {
          "duration": 2422.573629,
          "end_time": "2023-09-03T09:09:15.874667",
          "exception": false,
          "start_time": "2023-09-03T08:28:53.301038",
          "status": "completed"
        },
        "tags": [],
        "colab": {
          "base_uri": "https://localhost:8080/",
          "height": 1000
        }
      },
      "outputs": [
        {
          "output_type": "stream",
          "name": "stderr",
          "text": [
            "[INFO|trainer.py:811] 2024-10-16 10:41:57,268 >> The following columns in the training set don't have a corresponding argument in `BertForSequenceClassification.forward` and have been ignored: text. If text are not expected by `BertForSequenceClassification.forward`,  you can safely ignore this message.\n",
            "[INFO|trainer.py:2134] 2024-10-16 10:41:57,283 >> ***** Running training *****\n",
            "[INFO|trainer.py:2135] 2024-10-16 10:41:57,284 >>   Num examples = 4,462\n",
            "[INFO|trainer.py:2136] 2024-10-16 10:41:57,286 >>   Num Epochs = 3\n",
            "[INFO|trainer.py:2137] 2024-10-16 10:41:57,287 >>   Instantaneous batch size per device = 8\n",
            "[INFO|trainer.py:2140] 2024-10-16 10:41:57,288 >>   Total train batch size (w. parallel, distributed & accumulation) = 8\n",
            "[INFO|trainer.py:2141] 2024-10-16 10:41:57,289 >>   Gradient Accumulation steps = 1\n",
            "[INFO|trainer.py:2142] 2024-10-16 10:41:57,290 >>   Total optimization steps = 1,674\n",
            "[INFO|trainer.py:2143] 2024-10-16 10:41:57,292 >>   Number of trainable parameters = 164,398,851\n"
          ]
        },
        {
          "output_type": "display_data",
          "data": {
            "text/plain": [
              "<IPython.core.display.HTML object>"
            ],
            "text/html": [
              "\n",
              "    <div>\n",
              "      \n",
              "      <progress value='1674' max='1674' style='width:300px; height:20px; vertical-align: middle;'></progress>\n",
              "      [1674/1674 07:10, Epoch 3/3]\n",
              "    </div>\n",
              "    <table border=\"1\" class=\"dataframe\">\n",
              "  <thead>\n",
              " <tr style=\"text-align: left;\">\n",
              "      <th>Step</th>\n",
              "      <th>Training Loss</th>\n",
              "      <th>Validation Loss</th>\n",
              "      <th>Model Preparation Time</th>\n",
              "      <th>Micro F1 Score</th>\n",
              "      <th>Accuracy</th>\n",
              "    </tr>\n",
              "  </thead>\n",
              "  <tbody>\n",
              "    <tr>\n",
              "      <td>500</td>\n",
              "      <td>0.886800</td>\n",
              "      <td>0.803943</td>\n",
              "      <td>0.003800</td>\n",
              "      <td>0.651491</td>\n",
              "      <td>0.651491</td>\n",
              "    </tr>\n",
              "    <tr>\n",
              "      <td>1000</td>\n",
              "      <td>0.635700</td>\n",
              "      <td>0.806294</td>\n",
              "      <td>0.003800</td>\n",
              "      <td>0.649922</td>\n",
              "      <td>0.649922</td>\n",
              "    </tr>\n",
              "    <tr>\n",
              "      <td>1500</td>\n",
              "      <td>0.438600</td>\n",
              "      <td>0.906866</td>\n",
              "      <td>0.003800</td>\n",
              "      <td>0.684458</td>\n",
              "      <td>0.684458</td>\n",
              "    </tr>\n",
              "  </tbody>\n",
              "</table><p>"
            ]
          },
          "metadata": {}
        },
        {
          "output_type": "stream",
          "name": "stderr",
          "text": [
            "[INFO|trainer.py:811] 2024-10-16 10:43:43,864 >> The following columns in the evaluation set don't have a corresponding argument in `BertForSequenceClassification.forward` and have been ignored: text. If text are not expected by `BertForSequenceClassification.forward`,  you can safely ignore this message.\n",
            "[INFO|trainer.py:3819] 2024-10-16 10:43:43,869 >> \n",
            "***** Running Evaluation *****\n",
            "[INFO|trainer.py:3821] 2024-10-16 10:43:43,870 >>   Num examples = 637\n",
            "[INFO|trainer.py:3824] 2024-10-16 10:43:43,872 >>   Batch size = 8\n"
          ]
        },
        {
          "output_type": "display_data",
          "data": {
            "text/plain": [
              "<IPython.core.display.HTML object>"
            ],
            "text/html": [
              "\n",
              "    <div>\n",
              "      \n",
              "      <progress value='160' max='80' style='width:300px; height:20px; vertical-align: middle;'></progress>\n",
              "      [80/80 01:55]\n",
              "    </div>\n",
              "    "
            ]
          },
          "metadata": {}
        },
        {
          "output_type": "stream",
          "name": "stderr",
          "text": [
            "[INFO|trainer.py:3503] 2024-10-16 10:43:48,265 >> Saving model checkpoint to ./output/checkpoint-500\n",
            "[INFO|configuration_utils.py:472] 2024-10-16 10:43:48,270 >> Configuration saved in ./output/checkpoint-500/config.json\n",
            "[INFO|modeling_utils.py:2799] 2024-10-16 10:43:55,597 >> Model weights saved in ./output/checkpoint-500/model.safetensors\n",
            "[INFO|tokenization_utils_base.py:2684] 2024-10-16 10:43:55,604 >> tokenizer config file saved in ./output/checkpoint-500/tokenizer_config.json\n",
            "[INFO|tokenization_utils_base.py:2693] 2024-10-16 10:43:55,606 >> Special tokens file saved in ./output/checkpoint-500/special_tokens_map.json\n",
            "[INFO|trainer.py:811] 2024-10-16 10:45:53,338 >> The following columns in the evaluation set don't have a corresponding argument in `BertForSequenceClassification.forward` and have been ignored: text. If text are not expected by `BertForSequenceClassification.forward`,  you can safely ignore this message.\n",
            "[INFO|trainer.py:3819] 2024-10-16 10:45:53,344 >> \n",
            "***** Running Evaluation *****\n",
            "[INFO|trainer.py:3821] 2024-10-16 10:45:53,345 >>   Num examples = 637\n",
            "[INFO|trainer.py:3824] 2024-10-16 10:45:53,348 >>   Batch size = 8\n",
            "[INFO|trainer.py:3503] 2024-10-16 10:45:57,629 >> Saving model checkpoint to ./output/checkpoint-1000\n",
            "[INFO|configuration_utils.py:472] 2024-10-16 10:45:57,634 >> Configuration saved in ./output/checkpoint-1000/config.json\n",
            "[INFO|modeling_utils.py:2799] 2024-10-16 10:46:00,512 >> Model weights saved in ./output/checkpoint-1000/model.safetensors\n",
            "[INFO|tokenization_utils_base.py:2684] 2024-10-16 10:46:00,517 >> tokenizer config file saved in ./output/checkpoint-1000/tokenizer_config.json\n",
            "[INFO|tokenization_utils_base.py:2693] 2024-10-16 10:46:00,519 >> Special tokens file saved in ./output/checkpoint-1000/special_tokens_map.json\n",
            "[INFO|trainer.py:811] 2024-10-16 10:47:53,038 >> The following columns in the evaluation set don't have a corresponding argument in `BertForSequenceClassification.forward` and have been ignored: text. If text are not expected by `BertForSequenceClassification.forward`,  you can safely ignore this message.\n",
            "[INFO|trainer.py:3819] 2024-10-16 10:47:53,043 >> \n",
            "***** Running Evaluation *****\n",
            "[INFO|trainer.py:3821] 2024-10-16 10:47:53,044 >>   Num examples = 637\n",
            "[INFO|trainer.py:3824] 2024-10-16 10:47:53,047 >>   Batch size = 8\n",
            "[INFO|trainer.py:3503] 2024-10-16 10:47:57,351 >> Saving model checkpoint to ./output/checkpoint-1500\n",
            "[INFO|configuration_utils.py:472] 2024-10-16 10:47:57,356 >> Configuration saved in ./output/checkpoint-1500/config.json\n",
            "[INFO|modeling_utils.py:2799] 2024-10-16 10:48:02,226 >> Model weights saved in ./output/checkpoint-1500/model.safetensors\n",
            "[INFO|tokenization_utils_base.py:2684] 2024-10-16 10:48:02,230 >> tokenizer config file saved in ./output/checkpoint-1500/tokenizer_config.json\n",
            "[INFO|tokenization_utils_base.py:2693] 2024-10-16 10:48:02,233 >> Special tokens file saved in ./output/checkpoint-1500/special_tokens_map.json\n",
            "[INFO|trainer.py:3503] 2024-10-16 10:48:52,158 >> Saving model checkpoint to ./output/checkpoint-1674\n",
            "[INFO|configuration_utils.py:472] 2024-10-16 10:48:52,165 >> Configuration saved in ./output/checkpoint-1674/config.json\n",
            "[INFO|modeling_utils.py:2799] 2024-10-16 10:48:58,467 >> Model weights saved in ./output/checkpoint-1674/model.safetensors\n",
            "[INFO|tokenization_utils_base.py:2684] 2024-10-16 10:48:58,472 >> tokenizer config file saved in ./output/checkpoint-1674/tokenizer_config.json\n",
            "[INFO|tokenization_utils_base.py:2693] 2024-10-16 10:48:58,473 >> Special tokens file saved in ./output/checkpoint-1674/special_tokens_map.json\n",
            "[INFO|trainer.py:3595] 2024-10-16 10:49:05,071 >> Deleting older checkpoint [output/checkpoint-1000] due to args.save_total_limit\n",
            "[INFO|trainer.py:2394] 2024-10-16 10:49:05,161 >> \n",
            "\n",
            "Training completed. Do not forget to share your model on huggingface.co/models =)\n",
            "\n",
            "\n",
            "[INFO|trainer.py:2632] 2024-10-16 10:49:05,166 >> Loading best model from ./output/checkpoint-500 (score: 0.8039432168006897).\n"
          ]
        }
      ],
      "source": [
        "train_result = trainer.train()"
      ]
    },
    {
      "cell_type": "code",
      "execution_count": null,
      "id": "912fcb5d",
      "metadata": {
        "papermill": {
          "duration": 0.111845,
          "end_time": "2023-09-03T09:09:16.098684",
          "exception": false,
          "start_time": "2023-09-03T09:09:15.986839",
          "status": "completed"
        },
        "tags": [],
        "id": "912fcb5d"
      },
      "outputs": [],
      "source": []
    },
    {
      "cell_type": "code",
      "execution_count": 107,
      "id": "f4a1e4cb",
      "metadata": {
        "execution": {
          "iopub.execute_input": "2023-09-03T09:09:16.328846Z",
          "iopub.status.busy": "2023-09-03T09:09:16.328287Z",
          "iopub.status.idle": "2023-09-03T09:09:16.334285Z",
          "shell.execute_reply": "2023-09-03T09:09:16.333453Z"
        },
        "id": "f4a1e4cb",
        "papermill": {
          "duration": 0.126829,
          "end_time": "2023-09-03T09:09:16.338435",
          "exception": false,
          "start_time": "2023-09-03T09:09:16.211606",
          "status": "completed"
        },
        "tags": []
      },
      "outputs": [],
      "source": [
        "metrics = train_result.metrics\n",
        "max_train_samples = (\n",
        "    max_train_samples if max_train_samples is not None else len(train_dataset)\n",
        ")\n",
        "metrics[\"train_samples\"] = min(max_train_samples, len(train_dataset))"
      ]
    },
    {
      "cell_type": "code",
      "execution_count": 108,
      "id": "62f0dc99",
      "metadata": {
        "execution": {
          "iopub.execute_input": "2023-09-03T09:09:16.582600Z",
          "iopub.status.busy": "2023-09-03T09:09:16.582067Z",
          "iopub.status.idle": "2023-09-03T09:09:18.199588Z",
          "shell.execute_reply": "2023-09-03T09:09:18.197785Z"
        },
        "id": "62f0dc99",
        "outputId": "840c387c-9bdc-4a41-c986-2e78098e7bd6",
        "papermill": {
          "duration": 1.741237,
          "end_time": "2023-09-03T09:09:18.203093",
          "exception": false,
          "start_time": "2023-09-03T09:09:16.461856",
          "status": "completed"
        },
        "tags": [],
        "colab": {
          "base_uri": "https://localhost:8080/"
        }
      },
      "outputs": [
        {
          "output_type": "stream",
          "name": "stderr",
          "text": [
            "[INFO|trainer.py:3503] 2024-10-16 10:49:08,085 >> Saving model checkpoint to ./output\n",
            "[INFO|configuration_utils.py:472] 2024-10-16 10:49:08,094 >> Configuration saved in ./output/config.json\n",
            "[INFO|modeling_utils.py:2799] 2024-10-16 10:49:13,166 >> Model weights saved in ./output/model.safetensors\n",
            "[INFO|tokenization_utils_base.py:2684] 2024-10-16 10:49:13,171 >> tokenizer config file saved in ./output/tokenizer_config.json\n",
            "[INFO|tokenization_utils_base.py:2693] 2024-10-16 10:49:13,173 >> Special tokens file saved in ./output/special_tokens_map.json\n"
          ]
        },
        {
          "output_type": "stream",
          "name": "stdout",
          "text": [
            "***** train metrics *****\n",
            "  epoch                    =        3.0\n",
            "  total_flos               =   820037GF\n",
            "  train_loss               =     0.6251\n",
            "  train_runtime            = 0:07:10.75\n",
            "  train_samples            =       4462\n",
            "  train_samples_per_second =     31.075\n",
            "  train_steps_per_second   =      3.886\n"
          ]
        }
      ],
      "source": [
        "trainer.save_model()\n",
        "trainer.log_metrics(\"train\", metrics)\n",
        "trainer.save_metrics(\"train\", metrics)\n",
        "trainer.save_state()"
      ]
    },
    {
      "cell_type": "code",
      "execution_count": 109,
      "id": "72794b35",
      "metadata": {
        "execution": {
          "iopub.execute_input": "2023-09-03T09:09:18.361895Z",
          "iopub.status.busy": "2023-09-03T09:09:18.361499Z",
          "iopub.status.idle": "2023-09-03T09:09:36.650230Z",
          "shell.execute_reply": "2023-09-03T09:09:36.648979Z"
        },
        "id": "72794b35",
        "outputId": "492f5c89-318a-4a9f-daf3-f304f8ad0cd8",
        "papermill": {
          "duration": 18.369224,
          "end_time": "2023-09-03T09:09:36.652419",
          "exception": false,
          "start_time": "2023-09-03T09:09:18.283195",
          "status": "completed"
        },
        "tags": [],
        "colab": {
          "base_uri": "https://localhost:8080/",
          "height": 335
        }
      },
      "outputs": [
        {
          "output_type": "stream",
          "name": "stderr",
          "text": [
            "INFO:__main__:*** Evaluate ***\n",
            "[INFO|trainer.py:811] 2024-10-16 10:49:13,275 >> The following columns in the evaluation set don't have a corresponding argument in `BertForSequenceClassification.forward` and have been ignored: text. If text are not expected by `BertForSequenceClassification.forward`,  you can safely ignore this message.\n",
            "[INFO|trainer.py:3819] 2024-10-16 10:49:13,281 >> \n",
            "***** Running Evaluation *****\n",
            "[INFO|trainer.py:3821] 2024-10-16 10:49:13,282 >>   Num examples = 637\n",
            "[INFO|trainer.py:3824] 2024-10-16 10:49:13,284 >>   Batch size = 8\n"
          ]
        },
        {
          "output_type": "display_data",
          "data": {
            "text/plain": [
              "<IPython.core.display.HTML object>"
            ],
            "text/html": [
              "\n",
              "    <div>\n",
              "      \n",
              "      <progress value='80' max='80' style='width:300px; height:20px; vertical-align: middle;'></progress>\n",
              "      [80/80 00:04]\n",
              "    </div>\n",
              "    "
            ]
          },
          "metadata": {}
        },
        {
          "output_type": "stream",
          "name": "stdout",
          "text": [
            "***** eval metrics *****\n",
            "  epoch                       =        3.0\n",
            "  eval_accuracy               =     0.6515\n",
            "  eval_loss                   =     0.8039\n",
            "  eval_micro_f1_score         =     0.6515\n",
            "  eval_model_preparation_time =     0.0038\n",
            "  eval_runtime                = 0:00:04.34\n",
            "  eval_samples                =        637\n",
            "  eval_samples_per_second     =    146.548\n",
            "  eval_steps_per_second       =     18.405\n"
          ]
        }
      ],
      "source": [
        "logger.info(\"*** Evaluate ***\")\n",
        "\n",
        "metrics = trainer.evaluate(eval_dataset=eval_dataset)\n",
        "\n",
        "max_eval_samples = (\n",
        "    max_eval_samples if max_eval_samples is not None else len(eval_dataset)\n",
        ")\n",
        "metrics[\"eval_samples\"] = min(max_eval_samples, len(eval_dataset))\n",
        "\n",
        "trainer.log_metrics(\"eval\", metrics)\n",
        "trainer.save_metrics(\"eval\", metrics)"
      ]
    },
    {
      "cell_type": "code",
      "execution_count": 110,
      "id": "9808cce0",
      "metadata": {
        "execution": {
          "iopub.execute_input": "2023-09-03T09:09:36.812448Z",
          "iopub.status.busy": "2023-09-03T09:09:36.812083Z",
          "iopub.status.idle": "2023-09-03T09:10:09.486122Z",
          "shell.execute_reply": "2023-09-03T09:10:09.484730Z"
        },
        "id": "9808cce0",
        "papermill": {
          "duration": 32.755431,
          "end_time": "2023-09-03T09:10:09.488195",
          "exception": false,
          "start_time": "2023-09-03T09:09:36.732764",
          "status": "completed"
        },
        "tags": [],
        "colab": {
          "base_uri": "https://localhost:8080/",
          "height": 141
        },
        "outputId": "408e2f4c-cf87-4e06-a2d3-4902940bc191"
      },
      "outputs": [
        {
          "output_type": "stream",
          "name": "stderr",
          "text": [
            "[INFO|trainer.py:811] 2024-10-16 10:49:17,653 >> The following columns in the test set don't have a corresponding argument in `BertForSequenceClassification.forward` and have been ignored: text. If text are not expected by `BertForSequenceClassification.forward`,  you can safely ignore this message.\n",
            "[INFO|trainer.py:3819] 2024-10-16 10:49:17,668 >> \n",
            "***** Running Prediction *****\n",
            "[INFO|trainer.py:3821] 2024-10-16 10:49:17,670 >>   Num examples = 637\n",
            "[INFO|trainer.py:3824] 2024-10-16 10:49:17,672 >>   Batch size = 8\n"
          ]
        },
        {
          "output_type": "display_data",
          "data": {
            "text/plain": [
              "<IPython.core.display.HTML object>"
            ],
            "text/html": []
          },
          "metadata": {}
        },
        {
          "output_type": "stream",
          "name": "stdout",
          "text": [
            "Test Accuracy: 0.6514913657770801\n"
          ]
        }
      ],
      "source": [
        "from sklearn.metrics import accuracy_score\n",
        "predictions = trainer.predict(predict_dataset).predictions\n",
        "predicted_labels = predictions.argmax(axis=1)\n",
        "actual_labels = predict_dataset['label']\n",
        "accuracy = accuracy_score(actual_labels, predicted_labels)\n",
        "print(\"Test Accuracy:\", accuracy)"
      ]
    },
    {
      "cell_type": "code",
      "execution_count": 111,
      "id": "ae26ee07",
      "metadata": {
        "execution": {
          "iopub.execute_input": "2023-09-03T09:10:09.645362Z",
          "iopub.status.busy": "2023-09-03T09:10:09.644932Z",
          "iopub.status.idle": "2023-09-03T09:10:09.721094Z",
          "shell.execute_reply": "2023-09-03T09:10:09.719994Z"
        },
        "id": "ae26ee07",
        "papermill": {
          "duration": 0.158093,
          "end_time": "2023-09-03T09:10:09.723815",
          "exception": false,
          "start_time": "2023-09-03T09:10:09.565722",
          "status": "completed"
        },
        "tags": [],
        "colab": {
          "base_uri": "https://localhost:8080/"
        },
        "outputId": "0b09489e-23d3-4266-8ccb-1a185e1d54d1"
      },
      "outputs": [
        {
          "output_type": "stream",
          "name": "stdout",
          "text": [
            "Classification Report:\n",
            "               precision    recall  f1-score   support\n",
            "\n",
            "     Class 0       0.58      0.47      0.52       180\n",
            "     Class 1       0.65      0.57      0.61       167\n",
            "     Class 2       0.68      0.81      0.74       290\n",
            "\n",
            "    accuracy                           0.65       637\n",
            "   macro avg       0.64      0.62      0.62       637\n",
            "weighted avg       0.64      0.65      0.64       637\n",
            "\n",
            "Macro F1 Score: 0.6233026048262373\n",
            "Micro F1 Score: 0.6514913657770801\n",
            "Precision: 0.6449403604536335\n",
            "Recall: 0.6514913657770801\n"
          ]
        }
      ],
      "source": [
        "import numpy as np\n",
        "from sklearn.metrics import classification_report, f1_score, precision_score, recall_score\n",
        "\n",
        "\n",
        "true_labels = predict_dataset[\"label\"]\n",
        "\n",
        "\n",
        "classification_rep = classification_report(true_labels, predicted_labels, target_names=[\"Class 0\", \"Class 1\", \"Class 2\"])\n",
        "print(\"Classification Report:\\n\", classification_rep)\n",
        "\n",
        "macro_f1 = f1_score(true_labels, predicted_labels, average=\"macro\")\n",
        "micro_f1 = f1_score(true_labels, predicted_labels, average=\"micro\")\n",
        "print(f\"Macro F1 Score: {macro_f1}\")\n",
        "print(f\"Micro F1 Score: {micro_f1}\")\n",
        "\n",
        "precision = precision_score(true_labels, predicted_labels, average=\"weighted\")  # For binary classification\n",
        "recall = recall_score(true_labels, predicted_labels, average=\"weighted\")  # For binary classification\n",
        "print(f\"Precision: {precision}\")\n",
        "print(f\"Recall: {recall}\")"
      ]
    },
    {
      "cell_type": "code",
      "execution_count": 112,
      "id": "038c8801",
      "metadata": {
        "execution": {
          "iopub.execute_input": "2023-09-03T09:10:09.886212Z",
          "iopub.status.busy": "2023-09-03T09:10:09.884349Z",
          "iopub.status.idle": "2023-09-03T09:10:10.595056Z",
          "shell.execute_reply": "2023-09-03T09:10:10.594104Z"
        },
        "id": "038c8801",
        "papermill": {
          "duration": 0.79182,
          "end_time": "2023-09-03T09:10:10.597223",
          "exception": false,
          "start_time": "2023-09-03T09:10:09.805403",
          "status": "completed"
        },
        "tags": [],
        "colab": {
          "base_uri": "https://localhost:8080/",
          "height": 564
        },
        "outputId": "a8dc215e-5daf-487c-c0ad-ae9ac3fb66bd"
      },
      "outputs": [
        {
          "output_type": "display_data",
          "data": {
            "text/plain": [
              "<Figure size 800x600 with 2 Axes>"
            ],
            "image/png": "[encoded data removed]"
          },
          "metadata": {}
        }
      ],
      "source": [
        "from sklearn.metrics import confusion_matrix\n",
        "import seaborn as sns\n",
        "import matplotlib.pyplot as plt\n",
        "\n",
        "confusion = confusion_matrix(actual_labels, predicted_labels)\n",
        "\n",
        "plt.figure(figsize=(8, 6))\n",
        "sns.heatmap(confusion, annot=True, fmt='d', cmap='Blues', xticklabels=True, yticklabels=True)\n",
        "plt.xlabel('Predicted')\n",
        "plt.ylabel('Actual')\n",
        "plt.title('Confusion Matrix')\n",
        "plt.show()"
      ]
    }
  ],
  "metadata": {
    "accelerator": "GPU",
    "colab": {
      "gpuType": "T4",
      "provenance": [],
      "include_colab_link": true
    },
    "kernelspec": {
      "display_name": "Python 3",
      "language": "python",
      "name": "python3"
    },
    "language_info": {
      "codemirror_mode": {
        "name": "ipython",
        "version": 3
      },
      "file_extension": ".py",
      "mimetype": "text/x-python",
      "name": "python",
      "nbconvert_exporter": "python",
      "pygments_lexer": "ipython3",
      "version": "3.10.12"
    },
    "papermill": {
      "default_parameters": {},
      "duration": 2608.904113,
      "end_time": "2023-09-03T09:10:14.114520",
      "environment_variables": {},
      "exception": null,
      "input_path": "__notebook__.ipynb",
      "output_path": "__notebook__.ipynb",
      "parameters": {},
      "start_time": "2023-09-03T08:26:45.210407",
      "version": "2.4.0"
    },
    "widgets": {
      "application/vnd.jupyter.widget-state+json": {
        "6efe0453d2bc4d3fb60d07042b7d686f": {
          "model_module": "@jupyter-widgets/controls",
          "model_name": "HBoxModel",
          "model_module_version": "1.5.0",
          "state": {
            "_dom_classes": [],
            "_model_module": "@jupyter-widgets/controls",
            "_model_module_version": "1.5.0",
            "_model_name": "HBoxModel",
            "_view_count": null,
            "_view_module": "@jupyter-widgets/controls",
            "_view_module_version": "1.5.0",
            "_view_name": "HBoxView",
            "box_style": "",
            "children": [
              "IPY_MODEL_ae1242ea7c9848d680f358a8251f3c69",
              "IPY_MODEL_44beaf9a332f48418edf6497a89e1604",
              "IPY_MODEL_0b72e39a1c02441fac9b529d63342b79"
            ],
            "layout": "IPY_MODEL_1a3673e41e114013bd46594bd85bf86b"
          }
        },
        "ae1242ea7c9848d680f358a8251f3c69": {
          "model_module": "@jupyter-widgets/controls",
          "model_name": "HTMLModel",
          "model_module_version": "1.5.0",
          "state": {
            "_dom_classes": [],
            "_model_module": "@jupyter-widgets/controls",
            "_model_module_version": "1.5.0",
            "_model_name": "HTMLModel",
            "_view_count": null,
            "_view_module": "@jupyter-widgets/controls",
            "_view_module_version": "1.5.0",
            "_view_name": "HTMLView",
            "description": "",
            "description_tooltip": null,
            "layout": "IPY_MODEL_b2e2cbe4135347fea1763d6a63e69be5",
            "placeholder": "​",
            "style": "IPY_MODEL_1396848bf4e942308cff240cb2b10760",
            "value": "config.json: 100%"
          }
        },
        "44beaf9a332f48418edf6497a89e1604": {
          "model_module": "@jupyter-widgets/controls",
          "model_name": "FloatProgressModel",
          "model_module_version": "1.5.0",
          "state": {
            "_dom_classes": [],
            "_model_module": "@jupyter-widgets/controls",
            "_model_module_version": "1.5.0",
            "_model_name": "FloatProgressModel",
            "_view_count": null,
            "_view_module": "@jupyter-widgets/controls",
            "_view_module_version": "1.5.0",
            "_view_name": "ProgressView",
            "bar_style": "success",
            "description": "",
            "description_tooltip": null,
            "layout": "IPY_MODEL_a2a56355e5f44dda8ac60e58cde54f2f",
            "max": 491,
            "min": 0,
            "orientation": "horizontal",
            "style": "IPY_MODEL_f2ab5bfcbf7840879a97078ba0eb0b12",
            "value": 491
          }
        },
        "0b72e39a1c02441fac9b529d63342b79": {
          "model_module": "@jupyter-widgets/controls",
          "model_name": "HTMLModel",
          "model_module_version": "1.5.0",
          "state": {
            "_dom_classes": [],
            "_model_module": "@jupyter-widgets/controls",
            "_model_module_version": "1.5.0",
            "_model_name": "HTMLModel",
            "_view_count": null,
            "_view_module": "@jupyter-widgets/controls",
            "_view_module_version": "1.5.0",
            "_view_name": "HTMLView",
            "description": "",
            "description_tooltip": null,
            "layout": "IPY_MODEL_69efbfe5072e4fb1b8995c5918e8018a",
            "placeholder": "​",
            "style": "IPY_MODEL_582c0d2ea27f4f0c813170a1c5cbd150",
            "value": " 491/491 [00:00&lt;00:00, 32.5kB/s]"
          }
        },
        "1a3673e41e114013bd46594bd85bf86b": {
          "model_module": "@jupyter-widgets/base",
          "model_name": "LayoutModel",
          "model_module_version": "1.2.0",
          "state": {
            "_model_module": "@jupyter-widgets/base",
            "_model_module_version": "1.2.0",
            "_model_name": "LayoutModel",
            "_view_count": null,
            "_view_module": "@jupyter-widgets/base",
            "_view_module_version": "1.2.0",
            "_view_name": "LayoutView",
            "align_content": null,
            "align_items": null,
            "align_self": null,
            "border": null,
            "bottom": null,
            "display": null,
            "flex": null,
            "flex_flow": null,
            "grid_area": null,
            "grid_auto_columns": null,
            "grid_auto_flow": null,
            "grid_auto_rows": null,
            "grid_column": null,
            "grid_gap": null,
            "grid_row": null,
            "grid_template_areas": null,
            "grid_template_columns": null,
            "grid_template_rows": null,
            "height": null,
            "justify_content": null,
            "justify_items": null,
            "left": null,
            "margin": null,
            "max_height": null,
            "max_width": null,
            "min_height": null,
            "min_width": null,
            "object_fit": null,
            "object_position": null,
            "order": null,
            "overflow": null,
            "overflow_x": null,
            "overflow_y": null,
            "padding": null,
            "right": null,
            "top": null,
            "visibility": null,
            "width": null
          }
        },
        "b2e2cbe4135347fea1763d6a63e69be5": {
          "model_module": "@jupyter-widgets/base",
          "model_name": "LayoutModel",
          "model_module_version": "1.2.0",
          "state": {
            "_model_module": "@jupyter-widgets/base",
            "_model_module_version": "1.2.0",
            "_model_name": "LayoutModel",
            "_view_count": null,
            "_view_module": "@jupyter-widgets/base",
            "_view_module_version": "1.2.0",
            "_view_name": "LayoutView",
            "align_content": null,
            "align_items": null,
            "align_self": null,
            "border": null,
            "bottom": null,
            "display": null,
            "flex": null,
            "flex_flow": null,
            "grid_area": null,
            "grid_auto_columns": null,
            "grid_auto_flow": null,
            "grid_auto_rows": null,
            "grid_column": null,
            "grid_gap": null,
            "grid_row": null,
            "grid_template_areas": null,
            "grid_template_columns": null,
            "grid_template_rows": null,
            "height": null,
            "justify_content": null,
            "justify_items": null,
            "left": null,
            "margin": null,
            "max_height": null,
            "max_width": null,
            "min_height": null,
            "min_width": null,
            "object_fit": null,
            "object_position": null,
            "order": null,
            "overflow": null,
            "overflow_x": null,
            "overflow_y": null,
            "padding": null,
            "right": null,
            "top": null,
            "visibility": null,
            "width": null
          }
        },
        "1396848bf4e942308cff240cb2b10760": {
          "model_module": "@jupyter-widgets/controls",
          "model_name": "DescriptionStyleModel",
          "model_module_version": "1.5.0",
          "state": {
            "_model_module": "@jupyter-widgets/controls",
            "_model_module_version": "1.5.0",
            "_model_name": "DescriptionStyleModel",
            "_view_count": null,
            "_view_module": "@jupyter-widgets/base",
            "_view_module_version": "1.2.0",
            "_view_name": "StyleView",
            "description_width": ""
          }
        },
        "a2a56355e5f44dda8ac60e58cde54f2f": {
          "model_module": "@jupyter-widgets/base",
          "model_name": "LayoutModel",
          "model_module_version": "1.2.0",
          "state": {
            "_model_module": "@jupyter-widgets/base",
            "_model_module_version": "1.2.0",
            "_model_name": "LayoutModel",
            "_view_count": null,
            "_view_module": "@jupyter-widgets/base",
            "_view_module_version": "1.2.0",
            "_view_name": "LayoutView",
            "align_content": null,
            "align_items": null,
            "align_self": null,
            "border": null,
            "bottom": null,
            "display": null,
            "flex": null,
            "flex_flow": null,
            "grid_area": null,
            "grid_auto_columns": null,
            "grid_auto_flow": null,
            "grid_auto_rows": null,
            "grid_column": null,
            "grid_gap": null,
            "grid_row": null,
            "grid_template_areas": null,
            "grid_template_columns": null,
            "grid_template_rows": null,
            "height": null,
            "justify_content": null,
            "justify_items": null,
            "left": null,
            "margin": null,
            "max_height": null,
            "max_width": null,
            "min_height": null,
            "min_width": null,
            "object_fit": null,
            "object_position": null,
            "order": null,
            "overflow": null,
            "overflow_x": null,
            "overflow_y": null,
            "padding": null,
            "right": null,
            "top": null,
            "visibility": null,
            "width": null
          }
        },
        "f2ab5bfcbf7840879a97078ba0eb0b12": {
          "model_module": "@jupyter-widgets/controls",
          "model_name": "ProgressStyleModel",
          "model_module_version": "1.5.0",
          "state": {
            "_model_module": "@jupyter-widgets/controls",
            "_model_module_version": "1.5.0",
            "_model_name": "ProgressStyleModel",
            "_view_count": null,
            "_view_module": "@jupyter-widgets/base",
            "_view_module_version": "1.2.0",
            "_view_name": "StyleView",
            "bar_color": null,
            "description_width": ""
          }
        },
        "69efbfe5072e4fb1b8995c5918e8018a": {
          "model_module": "@jupyter-widgets/base",
          "model_name": "LayoutModel",
          "model_module_version": "1.2.0",
          "state": {
            "_model_module": "@jupyter-widgets/base",
            "_model_module_version": "1.2.0",
            "_model_name": "LayoutModel",
            "_view_count": null,
            "_view_module": "@jupyter-widgets/base",
            "_view_module_version": "1.2.0",
            "_view_name": "LayoutView",
            "align_content": null,
            "align_items": null,
            "align_self": null,
            "border": null,
            "bottom": null,
            "display": null,
            "flex": null,
            "flex_flow": null,
            "grid_area": null,
            "grid_auto_columns": null,
            "grid_auto_flow": null,
            "grid_auto_rows": null,
            "grid_column": null,
            "grid_gap": null,
            "grid_row": null,
            "grid_template_areas": null,
            "grid_template_columns": null,
            "grid_template_rows": null,
            "height": null,
            "justify_content": null,
            "justify_items": null,
            "left": null,
            "margin": null,
            "max_height": null,
            "max_width": null,
            "min_height": null,
            "min_width": null,
            "object_fit": null,
            "object_position": null,
            "order": null,
            "overflow": null,
            "overflow_x": null,
            "overflow_y": null,
            "padding": null,
            "right": null,
            "top": null,
            "visibility": null,
            "width": null
          }
        },
        "582c0d2ea27f4f0c813170a1c5cbd150": {
          "model_module": "@jupyter-widgets/controls",
          "model_name": "DescriptionStyleModel",
          "model_module_version": "1.5.0",
          "state": {
            "_model_module": "@jupyter-widgets/controls",
            "_model_module_version": "1.5.0",
            "_model_name": "DescriptionStyleModel",
            "_view_count": null,
            "_view_module": "@jupyter-widgets/base",
            "_view_module_version": "1.2.0",
            "_view_name": "StyleView",
            "description_width": ""
          }
        },
        "2ed889c1c9804349986558f3f5f8afb0": {
          "model_module": "@jupyter-widgets/controls",
          "model_name": "HBoxModel",
          "model_module_version": "1.5.0",
          "state": {
            "_dom_classes": [],
            "_model_module": "@jupyter-widgets/controls",
            "_model_module_version": "1.5.0",
            "_model_name": "HBoxModel",
            "_view_count": null,
            "_view_module": "@jupyter-widgets/controls",
            "_view_module_version": "1.5.0",
            "_view_name": "HBoxView",
            "box_style": "",
            "children": [
              "IPY_MODEL_6f70b3a22aa541b9bfbea159e8c2c6e6",
              "IPY_MODEL_dc8d6175171b4176a497e76445ac9257",
              "IPY_MODEL_c03fd87669ee4c0898d10c6cbb9e47d2"
            ],
            "layout": "IPY_MODEL_56848692028046bcb0b01ee54356cc13"
          }
        },
        "6f70b3a22aa541b9bfbea159e8c2c6e6": {
          "model_module": "@jupyter-widgets/controls",
          "model_name": "HTMLModel",
          "model_module_version": "1.5.0",
          "state": {
            "_dom_classes": [],
            "_model_module": "@jupyter-widgets/controls",
            "_model_module_version": "1.5.0",
            "_model_name": "HTMLModel",
            "_view_count": null,
            "_view_module": "@jupyter-widgets/controls",
            "_view_module_version": "1.5.0",
            "_view_name": "HTMLView",
            "description": "",
            "description_tooltip": null,
            "layout": "IPY_MODEL_56fbc11161734e8a9c1c5c899b112f02",
            "placeholder": "​",
            "style": "IPY_MODEL_067c90730fcc4009b467c4256dd05e51",
            "value": "vocab.txt: 100%"
          }
        },
        "dc8d6175171b4176a497e76445ac9257": {
          "model_module": "@jupyter-widgets/controls",
          "model_name": "FloatProgressModel",
          "model_module_version": "1.5.0",
          "state": {
            "_dom_classes": [],
            "_model_module": "@jupyter-widgets/controls",
            "_model_module_version": "1.5.0",
            "_model_name": "FloatProgressModel",
            "_view_count": null,
            "_view_module": "@jupyter-widgets/controls",
            "_view_module_version": "1.5.0",
            "_view_name": "ProgressView",
            "bar_style": "success",
            "description": "",
            "description_tooltip": null,
            "layout": "IPY_MODEL_907ceb0c0d3a41028d07168ffe9f8f78",
            "max": 2237676,
            "min": 0,
            "orientation": "horizontal",
            "style": "IPY_MODEL_448ee232ab3d4aca9e760958c944d75e",
            "value": 2237676
          }
        },
        "c03fd87669ee4c0898d10c6cbb9e47d2": {
          "model_module": "@jupyter-widgets/controls",
          "model_name": "HTMLModel",
          "model_module_version": "1.5.0",
          "state": {
            "_dom_classes": [],
            "_model_module": "@jupyter-widgets/controls",
            "_model_module_version": "1.5.0",
            "_model_name": "HTMLModel",
            "_view_count": null,
            "_view_module": "@jupyter-widgets/controls",
            "_view_module_version": "1.5.0",
            "_view_name": "HTMLView",
            "description": "",
            "description_tooltip": null,
            "layout": "IPY_MODEL_09db571ba1194a40a6a1ce3f0d031b4c",
            "placeholder": "​",
            "style": "IPY_MODEL_f45dc0a998fd44c3b338aba3b4fa8c5a",
            "value": " 2.24M/2.24M [00:00&lt;00:00, 36.2MB/s]"
          }
        },
        "56848692028046bcb0b01ee54356cc13": {
          "model_module": "@jupyter-widgets/base",
          "model_name": "LayoutModel",
          "model_module_version": "1.2.0",
          "state": {
            "_model_module": "@jupyter-widgets/base",
            "_model_module_version": "1.2.0",
            "_model_name": "LayoutModel",
            "_view_count": null,
            "_view_module": "@jupyter-widgets/base",
            "_view_module_version": "1.2.0",
            "_view_name": "LayoutView",
            "align_content": null,
            "align_items": null,
            "align_self": null,
            "border": null,
            "bottom": null,
            "display": null,
            "flex": null,
            "flex_flow": null,
            "grid_area": null,
            "grid_auto_columns": null,
            "grid_auto_flow": null,
            "grid_auto_rows": null,
            "grid_column": null,
            "grid_gap": null,
            "grid_row": null,
            "grid_template_areas": null,
            "grid_template_columns": null,
            "grid_template_rows": null,
            "height": null,
            "justify_content": null,
            "justify_items": null,
            "left": null,
            "margin": null,
            "max_height": null,
            "max_width": null,
            "min_height": null,
            "min_width": null,
            "object_fit": null,
            "object_position": null,
            "order": null,
            "overflow": null,
            "overflow_x": null,
            "overflow_y": null,
            "padding": null,
            "right": null,
            "top": null,
            "visibility": null,
            "width": null
          }
        },
        "56fbc11161734e8a9c1c5c899b112f02": {
          "model_module": "@jupyter-widgets/base",
          "model_name": "LayoutModel",
          "model_module_version": "1.2.0",
          "state": {
            "_model_module": "@jupyter-widgets/base",
            "_model_module_version": "1.2.0",
            "_model_name": "LayoutModel",
            "_view_count": null,
            "_view_module": "@jupyter-widgets/base",
            "_view_module_version": "1.2.0",
            "_view_name": "LayoutView",
            "align_content": null,
            "align_items": null,
            "align_self": null,
            "border": null,
            "bottom": null,
            "display": null,
            "flex": null,
            "flex_flow": null,
            "grid_area": null,
            "grid_auto_columns": null,
            "grid_auto_flow": null,
            "grid_auto_rows": null,
            "grid_column": null,
            "grid_gap": null,
            "grid_row": null,
            "grid_template_areas": null,
            "grid_template_columns": null,
            "grid_template_rows": null,
            "height": null,
            "justify_content": null,
            "justify_items": null,
            "left": null,
            "margin": null,
            "max_height": null,
            "max_width": null,
            "min_height": null,
            "min_width": null,
            "object_fit": null,
            "object_position": null,
            "order": null,
            "overflow": null,
            "overflow_x": null,
            "overflow_y": null,
            "padding": null,
            "right": null,
            "top": null,
            "visibility": null,
            "width": null
          }
        },
        "067c90730fcc4009b467c4256dd05e51": {
          "model_module": "@jupyter-widgets/controls",
          "model_name": "DescriptionStyleModel",
          "model_module_version": "1.5.0",
          "state": {
            "_model_module": "@jupyter-widgets/controls",
            "_model_module_version": "1.5.0",
            "_model_name": "DescriptionStyleModel",
            "_view_count": null,
            "_view_module": "@jupyter-widgets/base",
            "_view_module_version": "1.2.0",
            "_view_name": "StyleView",
            "description_width": ""
          }
        },
        "907ceb0c0d3a41028d07168ffe9f8f78": {
          "model_module": "@jupyter-widgets/base",
          "model_name": "LayoutModel",
          "model_module_version": "1.2.0",
          "state": {
            "_model_module": "@jupyter-widgets/base",
            "_model_module_version": "1.2.0",
            "_model_name": "LayoutModel",
            "_view_count": null,
            "_view_module": "@jupyter-widgets/base",
            "_view_module_version": "1.2.0",
            "_view_name": "LayoutView",
            "align_content": null,
            "align_items": null,
            "align_self": null,
            "border": null,
            "bottom": null,
            "display": null,
            "flex": null,
            "flex_flow": null,
            "grid_area": null,
            "grid_auto_columns": null,
            "grid_auto_flow": null,
            "grid_auto_rows": null,
            "grid_column": null,
            "grid_gap": null,
            "grid_row": null,
            "grid_template_areas": null,
            "grid_template_columns": null,
            "grid_template_rows": null,
            "height": null,
            "justify_content": null,
            "justify_items": null,
            "left": null,
            "margin": null,
            "max_height": null,
            "max_width": null,
            "min_height": null,
            "min_width": null,
            "object_fit": null,
            "object_position": null,
            "order": null,
            "overflow": null,
            "overflow_x": null,
            "overflow_y": null,
            "padding": null,
            "right": null,
            "top": null,
            "visibility": null,
            "width": null
          }
        },
        "448ee232ab3d4aca9e760958c944d75e": {
          "model_module": "@jupyter-widgets/controls",
          "model_name": "ProgressStyleModel",
          "model_module_version": "1.5.0",
          "state": {
            "_model_module": "@jupyter-widgets/controls",
            "_model_module_version": "1.5.0",
            "_model_name": "ProgressStyleModel",
            "_view_count": null,
            "_view_module": "@jupyter-widgets/base",
            "_view_module_version": "1.2.0",
            "_view_name": "StyleView",
            "bar_color": null,
            "description_width": ""
          }
        },
        "09db571ba1194a40a6a1ce3f0d031b4c": {
          "model_module": "@jupyter-widgets/base",
          "model_name": "LayoutModel",
          "model_module_version": "1.2.0",
          "state": {
            "_model_module": "@jupyter-widgets/base",
            "_model_module_version": "1.2.0",
            "_model_name": "LayoutModel",
            "_view_count": null,
            "_view_module": "@jupyter-widgets/base",
            "_view_module_version": "1.2.0",
            "_view_name": "LayoutView",
            "align_content": null,
            "align_items": null,
            "align_self": null,
            "border": null,
            "bottom": null,
            "display": null,
            "flex": null,
            "flex_flow": null,
            "grid_area": null,
            "grid_auto_columns": null,
            "grid_auto_flow": null,
            "grid_auto_rows": null,
            "grid_column": null,
            "grid_gap": null,
            "grid_row": null,
            "grid_template_areas": null,
            "grid_template_columns": null,
            "grid_template_rows": null,
            "height": null,
            "justify_content": null,
            "justify_items": null,
            "left": null,
            "margin": null,
            "max_height": null,
            "max_width": null,
            "min_height": null,
            "min_width": null,
            "object_fit": null,
            "object_position": null,
            "order": null,
            "overflow": null,
            "overflow_x": null,
            "overflow_y": null,
            "padding": null,
            "right": null,
            "top": null,
            "visibility": null,
            "width": null
          }
        },
        "f45dc0a998fd44c3b338aba3b4fa8c5a": {
          "model_module": "@jupyter-widgets/controls",
          "model_name": "DescriptionStyleModel",
          "model_module_version": "1.5.0",
          "state": {
            "_model_module": "@jupyter-widgets/controls",
            "_model_module_version": "1.5.0",
            "_model_name": "DescriptionStyleModel",
            "_view_count": null,
            "_view_module": "@jupyter-widgets/base",
            "_view_module_version": "1.2.0",
            "_view_name": "StyleView",
            "description_width": ""
          }
        },
        "697e747122194240832dc4f052557913": {
          "model_module": "@jupyter-widgets/controls",
          "model_name": "HBoxModel",
          "model_module_version": "1.5.0",
          "state": {
            "_dom_classes": [],
            "_model_module": "@jupyter-widgets/controls",
            "_model_module_version": "1.5.0",
            "_model_name": "HBoxModel",
            "_view_count": null,
            "_view_module": "@jupyter-widgets/controls",
            "_view_module_version": "1.5.0",
            "_view_name": "HBoxView",
            "box_style": "",
            "children": [
              "IPY_MODEL_20bd77474e1e4f43a2b23a1967cd4cd6",
              "IPY_MODEL_221cfe98cdaa4afd93043a43d73487ed",
              "IPY_MODEL_44e87a15800d4befb6b1a507d6ab91e3"
            ],
            "layout": "IPY_MODEL_ded684c02b4a4efdb0990c89a3899e50"
          }
        },
        "20bd77474e1e4f43a2b23a1967cd4cd6": {
          "model_module": "@jupyter-widgets/controls",
          "model_name": "HTMLModel",
          "model_module_version": "1.5.0",
          "state": {
            "_dom_classes": [],
            "_model_module": "@jupyter-widgets/controls",
            "_model_module_version": "1.5.0",
            "_model_name": "HTMLModel",
            "_view_count": null,
            "_view_module": "@jupyter-widgets/controls",
            "_view_module_version": "1.5.0",
            "_view_name": "HTMLView",
            "description": "",
            "description_tooltip": null,
            "layout": "IPY_MODEL_47208ed9fd3b4b308e04ec58bc0f5411",
            "placeholder": "​",
            "style": "IPY_MODEL_22d33ab2114941ac98260a9828b02c54",
            "value": "model.safetensors: 100%"
          }
        },
        "221cfe98cdaa4afd93043a43d73487ed": {
          "model_module": "@jupyter-widgets/controls",
          "model_name": "FloatProgressModel",
          "model_module_version": "1.5.0",
          "state": {
            "_dom_classes": [],
            "_model_module": "@jupyter-widgets/controls",
            "_model_module_version": "1.5.0",
            "_model_name": "FloatProgressModel",
            "_view_count": null,
            "_view_module": "@jupyter-widgets/controls",
            "_view_module_version": "1.5.0",
            "_view_name": "ProgressView",
            "bar_style": "success",
            "description": "",
            "description_tooltip": null,
            "layout": "IPY_MODEL_35552e72f86d46ea8b802478e1884cfc",
            "max": 660393036,
            "min": 0,
            "orientation": "horizontal",
            "style": "IPY_MODEL_8b29d1fd7a34497886a3925d708e09f3",
            "value": 660393036
          }
        },
        "44e87a15800d4befb6b1a507d6ab91e3": {
          "model_module": "@jupyter-widgets/controls",
          "model_name": "HTMLModel",
          "model_module_version": "1.5.0",
          "state": {
            "_dom_classes": [],
            "_model_module": "@jupyter-widgets/controls",
            "_model_module_version": "1.5.0",
            "_model_name": "HTMLModel",
            "_view_count": null,
            "_view_module": "@jupyter-widgets/controls",
            "_view_module_version": "1.5.0",
            "_view_name": "HTMLView",
            "description": "",
            "description_tooltip": null,
            "layout": "IPY_MODEL_ea08a43ef8434e0994c43c17a4c5be82",
            "placeholder": "​",
            "style": "IPY_MODEL_2044ee5e4343414aa9e200fae160b390",
            "value": " 660M/660M [00:09&lt;00:00, 56.0MB/s]"
          }
        },
        "ded684c02b4a4efdb0990c89a3899e50": {
          "model_module": "@jupyter-widgets/base",
          "model_name": "LayoutModel",
          "model_module_version": "1.2.0",
          "state": {
            "_model_module": "@jupyter-widgets/base",
            "_model_module_version": "1.2.0",
            "_model_name": "LayoutModel",
            "_view_count": null,
            "_view_module": "@jupyter-widgets/base",
            "_view_module_version": "1.2.0",
            "_view_name": "LayoutView",
            "align_content": null,
            "align_items": null,
            "align_self": null,
            "border": null,
            "bottom": null,
            "display": null,
            "flex": null,
            "flex_flow": null,
            "grid_area": null,
            "grid_auto_columns": null,
            "grid_auto_flow": null,
            "grid_auto_rows": null,
            "grid_column": null,
            "grid_gap": null,
            "grid_row": null,
            "grid_template_areas": null,
            "grid_template_columns": null,
            "grid_template_rows": null,
            "height": null,
            "justify_content": null,
            "justify_items": null,
            "left": null,
            "margin": null,
            "max_height": null,
            "max_width": null,
            "min_height": null,
            "min_width": null,
            "object_fit": null,
            "object_position": null,
            "order": null,
            "overflow": null,
            "overflow_x": null,
            "overflow_y": null,
            "padding": null,
            "right": null,
            "top": null,
            "visibility": null,
            "width": null
          }
        },
        "47208ed9fd3b4b308e04ec58bc0f5411": {
          "model_module": "@jupyter-widgets/base",
          "model_name": "LayoutModel",
          "model_module_version": "1.2.0",
          "state": {
            "_model_module": "@jupyter-widgets/base",
            "_model_module_version": "1.2.0",
            "_model_name": "LayoutModel",
            "_view_count": null,
            "_view_module": "@jupyter-widgets/base",
            "_view_module_version": "1.2.0",
            "_view_name": "LayoutView",
            "align_content": null,
            "align_items": null,
            "align_self": null,
            "border": null,
            "bottom": null,
            "display": null,
            "flex": null,
            "flex_flow": null,
            "grid_area": null,
            "grid_auto_columns": null,
            "grid_auto_flow": null,
            "grid_auto_rows": null,
            "grid_column": null,
            "grid_gap": null,
            "grid_row": null,
            "grid_template_areas": null,
            "grid_template_columns": null,
            "grid_template_rows": null,
            "height": null,
            "justify_content": null,
            "justify_items": null,
            "left": null,
            "margin": null,
            "max_height": null,
            "max_width": null,
            "min_height": null,
            "min_width": null,
            "object_fit": null,
            "object_position": null,
            "order": null,
            "overflow": null,
            "overflow_x": null,
            "overflow_y": null,
            "padding": null,
            "right": null,
            "top": null,
            "visibility": null,
            "width": null
          }
        },
        "22d33ab2114941ac98260a9828b02c54": {
          "model_module": "@jupyter-widgets/controls",
          "model_name": "DescriptionStyleModel",
          "model_module_version": "1.5.0",
          "state": {
            "_model_module": "@jupyter-widgets/controls",
            "_model_module_version": "1.5.0",
            "_model_name": "DescriptionStyleModel",
            "_view_count": null,
            "_view_module": "@jupyter-widgets/base",
            "_view_module_version": "1.2.0",
            "_view_name": "StyleView",
            "description_width": ""
          }
        },
        "35552e72f86d46ea8b802478e1884cfc": {
          "model_module": "@jupyter-widgets/base",
          "model_name": "LayoutModel",
          "model_module_version": "1.2.0",
          "state": {
            "_model_module": "@jupyter-widgets/base",
            "_model_module_version": "1.2.0",
            "_model_name": "LayoutModel",
            "_view_count": null,
            "_view_module": "@jupyter-widgets/base",
            "_view_module_version": "1.2.0",
            "_view_name": "LayoutView",
            "align_content": null,
            "align_items": null,
            "align_self": null,
            "border": null,
            "bottom": null,
            "display": null,
            "flex": null,
            "flex_flow": null,
            "grid_area": null,
            "grid_auto_columns": null,
            "grid_auto_flow": null,
            "grid_auto_rows": null,
            "grid_column": null,
            "grid_gap": null,
            "grid_row": null,
            "grid_template_areas": null,
            "grid_template_columns": null,
            "grid_template_rows": null,
            "height": null,
            "justify_content": null,
            "justify_items": null,
            "left": null,
            "margin": null,
            "max_height": null,
            "max_width": null,
            "min_height": null,
            "min_width": null,
            "object_fit": null,
            "object_position": null,
            "order": null,
            "overflow": null,
            "overflow_x": null,
            "overflow_y": null,
            "padding": null,
            "right": null,
            "top": null,
            "visibility": null,
            "width": null
          }
        },
        "8b29d1fd7a34497886a3925d708e09f3": {
          "model_module": "@jupyter-widgets/controls",
          "model_name": "ProgressStyleModel",
          "model_module_version": "1.5.0",
          "state": {
            "_model_module": "@jupyter-widgets/controls",
            "_model_module_version": "1.5.0",
            "_model_name": "ProgressStyleModel",
            "_view_count": null,
            "_view_module": "@jupyter-widgets/base",
            "_view_module_version": "1.2.0",
            "_view_name": "StyleView",
            "bar_color": null,
            "description_width": ""
          }
        },
        "ea08a43ef8434e0994c43c17a4c5be82": {
          "model_module": "@jupyter-widgets/base",
          "model_name": "LayoutModel",
          "model_module_version": "1.2.0",
          "state": {
            "_model_module": "@jupyter-widgets/base",
            "_model_module_version": "1.2.0",
            "_model_name": "LayoutModel",
            "_view_count": null,
            "_view_module": "@jupyter-widgets/base",
            "_view_module_version": "1.2.0",
            "_view_name": "LayoutView",
            "align_content": null,
            "align_items": null,
            "align_self": null,
            "border": null,
            "bottom": null,
            "display": null,
            "flex": null,
            "flex_flow": null,
            "grid_area": null,
            "grid_auto_columns": null,
            "grid_auto_flow": null,
            "grid_auto_rows": null,
            "grid_column": null,
            "grid_gap": null,
            "grid_row": null,
            "grid_template_areas": null,
            "grid_template_columns": null,
            "grid_template_rows": null,
            "height": null,
            "justify_content": null,
            "justify_items": null,
            "left": null,
            "margin": null,
            "max_height": null,
            "max_width": null,
            "min_height": null,
            "min_width": null,
            "object_fit": null,
            "object_position": null,
            "order": null,
            "overflow": null,
            "overflow_x": null,
            "overflow_y": null,
            "padding": null,
            "right": null,
            "top": null,
            "visibility": null,
            "width": null
          }
        },
        "2044ee5e4343414aa9e200fae160b390": {
          "model_module": "@jupyter-widgets/controls",
          "model_name": "DescriptionStyleModel",
          "model_module_version": "1.5.0",
          "state": {
            "_model_module": "@jupyter-widgets/controls",
            "_model_module_version": "1.5.0",
            "_model_name": "DescriptionStyleModel",
            "_view_count": null,
            "_view_module": "@jupyter-widgets/base",
            "_view_module_version": "1.2.0",
            "_view_name": "StyleView",
            "description_width": ""
          }
        },
        "a6da2fa336b54dee84cd7f36efa5fd01": {
          "model_module": "@jupyter-widgets/controls",
          "model_name": "HBoxModel",
          "model_module_version": "1.5.0",
          "state": {
            "_dom_classes": [],
            "_model_module": "@jupyter-widgets/controls",
            "_model_module_version": "1.5.0",
            "_model_name": "HBoxModel",
            "_view_count": null,
            "_view_module": "@jupyter-widgets/controls",
            "_view_module_version": "1.5.0",
            "_view_name": "HBoxView",
            "box_style": "",
            "children": [
              "IPY_MODEL_fad6293b005b402fa8f5ea7062495f27",
              "IPY_MODEL_2146ff1dd8bd4448929086d1d296e821",
              "IPY_MODEL_1fe334e979874a4393fd0c3d6b1bc353"
            ],
            "layout": "IPY_MODEL_2f888ed73a824e42968b8a6a34e29cb8"
          }
        },
        "fad6293b005b402fa8f5ea7062495f27": {
          "model_module": "@jupyter-widgets/controls",
          "model_name": "HTMLModel",
          "model_module_version": "1.5.0",
          "state": {
            "_dom_classes": [],
            "_model_module": "@jupyter-widgets/controls",
            "_model_module_version": "1.5.0",
            "_model_name": "HTMLModel",
            "_view_count": null,
            "_view_module": "@jupyter-widgets/controls",
            "_view_module_version": "1.5.0",
            "_view_name": "HTMLView",
            "description": "",
            "description_tooltip": null,
            "layout": "IPY_MODEL_44b954efe57742a49a9d034c62bc3787",
            "placeholder": "​",
            "style": "IPY_MODEL_ceb5a6f3f25a4e61af95ece996de621c",
            "value": "Running tokenizer on dataset: 100%"
          }
        },
        "2146ff1dd8bd4448929086d1d296e821": {
          "model_module": "@jupyter-widgets/controls",
          "model_name": "FloatProgressModel",
          "model_module_version": "1.5.0",
          "state": {
            "_dom_classes": [],
            "_model_module": "@jupyter-widgets/controls",
            "_model_module_version": "1.5.0",
            "_model_name": "FloatProgressModel",
            "_view_count": null,
            "_view_module": "@jupyter-widgets/controls",
            "_view_module_version": "1.5.0",
            "_view_name": "ProgressView",
            "bar_style": "success",
            "description": "",
            "description_tooltip": null,
            "layout": "IPY_MODEL_577945583b1b4981bf5341052110b57d",
            "max": 4462,
            "min": 0,
            "orientation": "horizontal",
            "style": "IPY_MODEL_c2af57ebaf464b3aaa8249fe9c882561",
            "value": 4462
          }
        },
        "1fe334e979874a4393fd0c3d6b1bc353": {
          "model_module": "@jupyter-widgets/controls",
          "model_name": "HTMLModel",
          "model_module_version": "1.5.0",
          "state": {
            "_dom_classes": [],
            "_model_module": "@jupyter-widgets/controls",
            "_model_module_version": "1.5.0",
            "_model_name": "HTMLModel",
            "_view_count": null,
            "_view_module": "@jupyter-widgets/controls",
            "_view_module_version": "1.5.0",
            "_view_name": "HTMLView",
            "description": "",
            "description_tooltip": null,
            "layout": "IPY_MODEL_fe226992d1054cc6b31d46ad0de709f8",
            "placeholder": "​",
            "style": "IPY_MODEL_31d0b732216c4f45864fe972940127b5",
            "value": " 4462/4462 [00:00&lt;00:00, 5379.53 examples/s]"
          }
        },
        "2f888ed73a824e42968b8a6a34e29cb8": {
          "model_module": "@jupyter-widgets/base",
          "model_name": "LayoutModel",
          "model_module_version": "1.2.0",
          "state": {
            "_model_module": "@jupyter-widgets/base",
            "_model_module_version": "1.2.0",
            "_model_name": "LayoutModel",
            "_view_count": null,
            "_view_module": "@jupyter-widgets/base",
            "_view_module_version": "1.2.0",
            "_view_name": "LayoutView",
            "align_content": null,
            "align_items": null,
            "align_self": null,
            "border": null,
            "bottom": null,
            "display": null,
            "flex": null,
            "flex_flow": null,
            "grid_area": null,
            "grid_auto_columns": null,
            "grid_auto_flow": null,
            "grid_auto_rows": null,
            "grid_column": null,
            "grid_gap": null,
            "grid_row": null,
            "grid_template_areas": null,
            "grid_template_columns": null,
            "grid_template_rows": null,
            "height": null,
            "justify_content": null,
            "justify_items": null,
            "left": null,
            "margin": null,
            "max_height": null,
            "max_width": null,
            "min_height": null,
            "min_width": null,
            "object_fit": null,
            "object_position": null,
            "order": null,
            "overflow": null,
            "overflow_x": null,
            "overflow_y": null,
            "padding": null,
            "right": null,
            "top": null,
            "visibility": null,
            "width": null
          }
        },
        "44b954efe57742a49a9d034c62bc3787": {
          "model_module": "@jupyter-widgets/base",
          "model_name": "LayoutModel",
          "model_module_version": "1.2.0",
          "state": {
            "_model_module": "@jupyter-widgets/base",
            "_model_module_version": "1.2.0",
            "_model_name": "LayoutModel",
            "_view_count": null,
            "_view_module": "@jupyter-widgets/base",
            "_view_module_version": "1.2.0",
            "_view_name": "LayoutView",
            "align_content": null,
            "align_items": null,
            "align_self": null,
            "border": null,
            "bottom": null,
            "display": null,
            "flex": null,
            "flex_flow": null,
            "grid_area": null,
            "grid_auto_columns": null,
            "grid_auto_flow": null,
            "grid_auto_rows": null,
            "grid_column": null,
            "grid_gap": null,
            "grid_row": null,
            "grid_template_areas": null,
            "grid_template_columns": null,
            "grid_template_rows": null,
            "height": null,
            "justify_content": null,
            "justify_items": null,
            "left": null,
            "margin": null,
            "max_height": null,
            "max_width": null,
            "min_height": null,
            "min_width": null,
            "object_fit": null,
            "object_position": null,
            "order": null,
            "overflow": null,
            "overflow_x": null,
            "overflow_y": null,
            "padding": null,
            "right": null,
            "top": null,
            "visibility": null,
            "width": null
          }
        },
        "ceb5a6f3f25a4e61af95ece996de621c": {
          "model_module": "@jupyter-widgets/controls",
          "model_name": "DescriptionStyleModel",
          "model_module_version": "1.5.0",
          "state": {
            "_model_module": "@jupyter-widgets/controls",
            "_model_module_version": "1.5.0",
            "_model_name": "DescriptionStyleModel",
            "_view_count": null,
            "_view_module": "@jupyter-widgets/base",
            "_view_module_version": "1.2.0",
            "_view_name": "StyleView",
            "description_width": ""
          }
        },
        "577945583b1b4981bf5341052110b57d": {
          "model_module": "@jupyter-widgets/base",
          "model_name": "LayoutModel",
          "model_module_version": "1.2.0",
          "state": {
            "_model_module": "@jupyter-widgets/base",
            "_model_module_version": "1.2.0",
            "_model_name": "LayoutModel",
            "_view_count": null,
            "_view_module": "@jupyter-widgets/base",
            "_view_module_version": "1.2.0",
            "_view_name": "LayoutView",
            "align_content": null,
            "align_items": null,
            "align_self": null,
            "border": null,
            "bottom": null,
            "display": null,
            "flex": null,
            "flex_flow": null,
            "grid_area": null,
            "grid_auto_columns": null,
            "grid_auto_flow": null,
            "grid_auto_rows": null,
            "grid_column": null,
            "grid_gap": null,
            "grid_row": null,
            "grid_template_areas": null,
            "grid_template_columns": null,
            "grid_template_rows": null,
            "height": null,
            "justify_content": null,
            "justify_items": null,
            "left": null,
            "margin": null,
            "max_height": null,
            "max_width": null,
            "min_height": null,
            "min_width": null,
            "object_fit": null,
            "object_position": null,
            "order": null,
            "overflow": null,
            "overflow_x": null,
            "overflow_y": null,
            "padding": null,
            "right": null,
            "top": null,
            "visibility": null,
            "width": null
          }
        },
        "c2af57ebaf464b3aaa8249fe9c882561": {
          "model_module": "@jupyter-widgets/controls",
          "model_name": "ProgressStyleModel",
          "model_module_version": "1.5.0",
          "state": {
            "_model_module": "@jupyter-widgets/controls",
            "_model_module_version": "1.5.0",
            "_model_name": "ProgressStyleModel",
            "_view_count": null,
            "_view_module": "@jupyter-widgets/base",
            "_view_module_version": "1.2.0",
            "_view_name": "StyleView",
            "bar_color": null,
            "description_width": ""
          }
        },
        "fe226992d1054cc6b31d46ad0de709f8": {
          "model_module": "@jupyter-widgets/base",
          "model_name": "LayoutModel",
          "model_module_version": "1.2.0",
          "state": {
            "_model_module": "@jupyter-widgets/base",
            "_model_module_version": "1.2.0",
            "_model_name": "LayoutModel",
            "_view_count": null,
            "_view_module": "@jupyter-widgets/base",
            "_view_module_version": "1.2.0",
            "_view_name": "LayoutView",
            "align_content": null,
            "align_items": null,
            "align_self": null,
            "border": null,
            "bottom": null,
            "display": null,
            "flex": null,
            "flex_flow": null,
            "grid_area": null,
            "grid_auto_columns": null,
            "grid_auto_flow": null,
            "grid_auto_rows": null,
            "grid_column": null,
            "grid_gap": null,
            "grid_row": null,
            "grid_template_areas": null,
            "grid_template_columns": null,
            "grid_template_rows": null,
            "height": null,
            "justify_content": null,
            "justify_items": null,
            "left": null,
            "margin": null,
            "max_height": null,
            "max_width": null,
            "min_height": null,
            "min_width": null,
            "object_fit": null,
            "object_position": null,
            "order": null,
            "overflow": null,
            "overflow_x": null,
            "overflow_y": null,
            "padding": null,
            "right": null,
            "top": null,
            "visibility": null,
            "width": null
          }
        },
        "31d0b732216c4f45864fe972940127b5": {
          "model_module": "@jupyter-widgets/controls",
          "model_name": "DescriptionStyleModel",
          "model_module_version": "1.5.0",
          "state": {
            "_model_module": "@jupyter-widgets/controls",
            "_model_module_version": "1.5.0",
            "_model_name": "DescriptionStyleModel",
            "_view_count": null,
            "_view_module": "@jupyter-widgets/base",
            "_view_module_version": "1.2.0",
            "_view_name": "StyleView",
            "description_width": ""
          }
        },
        "8b6a33f727c84e93afb18507c0322aa2": {
          "model_module": "@jupyter-widgets/controls",
          "model_name": "HBoxModel",
          "model_module_version": "1.5.0",
          "state": {
            "_dom_classes": [],
            "_model_module": "@jupyter-widgets/controls",
            "_model_module_version": "1.5.0",
            "_model_name": "HBoxModel",
            "_view_count": null,
            "_view_module": "@jupyter-widgets/controls",
            "_view_module_version": "1.5.0",
            "_view_name": "HBoxView",
            "box_style": "",
            "children": [
              "IPY_MODEL_a71e900b560f45bab3b74332b3123f70",
              "IPY_MODEL_f1b0e807b85a419090f67f47db30f767",
              "IPY_MODEL_bbd415fb46314607841c308a01df0fcd"
            ],
            "layout": "IPY_MODEL_d4a666c4418c4caa98cfa870e8b97d49"
          }
        },
        "a71e900b560f45bab3b74332b3123f70": {
          "model_module": "@jupyter-widgets/controls",
          "model_name": "HTMLModel",
          "model_module_version": "1.5.0",
          "state": {
            "_dom_classes": [],
            "_model_module": "@jupyter-widgets/controls",
            "_model_module_version": "1.5.0",
            "_model_name": "HTMLModel",
            "_view_count": null,
            "_view_module": "@jupyter-widgets/controls",
            "_view_module_version": "1.5.0",
            "_view_name": "HTMLView",
            "description": "",
            "description_tooltip": null,
            "layout": "IPY_MODEL_e115b81cbb9943c19e6478f265ee63fe",
            "placeholder": "​",
            "style": "IPY_MODEL_490163c0d5eb40c2bdb43b8b105d71e9",
            "value": "Running tokenizer on dataset: 100%"
          }
        },
        "f1b0e807b85a419090f67f47db30f767": {
          "model_module": "@jupyter-widgets/controls",
          "model_name": "FloatProgressModel",
          "model_module_version": "1.5.0",
          "state": {
            "_dom_classes": [],
            "_model_module": "@jupyter-widgets/controls",
            "_model_module_version": "1.5.0",
            "_model_name": "FloatProgressModel",
            "_view_count": null,
            "_view_module": "@jupyter-widgets/controls",
            "_view_module_version": "1.5.0",
            "_view_name": "ProgressView",
            "bar_style": "success",
            "description": "",
            "description_tooltip": null,
            "layout": "IPY_MODEL_fbf5d6a74ca3456db3e068b50ab67ade",
            "max": 637,
            "min": 0,
            "orientation": "horizontal",
            "style": "IPY_MODEL_5128a1283e8f406288597d74ca32b188",
            "value": 637
          }
        },
        "bbd415fb46314607841c308a01df0fcd": {
          "model_module": "@jupyter-widgets/controls",
          "model_name": "HTMLModel",
          "model_module_version": "1.5.0",
          "state": {
            "_dom_classes": [],
            "_model_module": "@jupyter-widgets/controls",
            "_model_module_version": "1.5.0",
            "_model_name": "HTMLModel",
            "_view_count": null,
            "_view_module": "@jupyter-widgets/controls",
            "_view_module_version": "1.5.0",
            "_view_name": "HTMLView",
            "description": "",
            "description_tooltip": null,
            "layout": "IPY_MODEL_eebb9f7a2f254835958a7e83f99db0b1",
            "placeholder": "​",
            "style": "IPY_MODEL_b060ffc80d3542f6b10c25a6537c1a96",
            "value": " 637/637 [00:00&lt;00:00, 4472.66 examples/s]"
          }
        },
        "d4a666c4418c4caa98cfa870e8b97d49": {
          "model_module": "@jupyter-widgets/base",
          "model_name": "LayoutModel",
          "model_module_version": "1.2.0",
          "state": {
            "_model_module": "@jupyter-widgets/base",
            "_model_module_version": "1.2.0",
            "_model_name": "LayoutModel",
            "_view_count": null,
            "_view_module": "@jupyter-widgets/base",
            "_view_module_version": "1.2.0",
            "_view_name": "LayoutView",
            "align_content": null,
            "align_items": null,
            "align_self": null,
            "border": null,
            "bottom": null,
            "display": null,
            "flex": null,
            "flex_flow": null,
            "grid_area": null,
            "grid_auto_columns": null,
            "grid_auto_flow": null,
            "grid_auto_rows": null,
            "grid_column": null,
            "grid_gap": null,
            "grid_row": null,
            "grid_template_areas": null,
            "grid_template_columns": null,
            "grid_template_rows": null,
            "height": null,
            "justify_content": null,
            "justify_items": null,
            "left": null,
            "margin": null,
            "max_height": null,
            "max_width": null,
            "min_height": null,
            "min_width": null,
            "object_fit": null,
            "object_position": null,
            "order": null,
            "overflow": null,
            "overflow_x": null,
            "overflow_y": null,
            "padding": null,
            "right": null,
            "top": null,
            "visibility": null,
            "width": null
          }
        },
        "e115b81cbb9943c19e6478f265ee63fe": {
          "model_module": "@jupyter-widgets/base",
          "model_name": "LayoutModel",
          "model_module_version": "1.2.0",
          "state": {
            "_model_module": "@jupyter-widgets/base",
            "_model_module_version": "1.2.0",
            "_model_name": "LayoutModel",
            "_view_count": null,
            "_view_module": "@jupyter-widgets/base",
            "_view_module_version": "1.2.0",
            "_view_name": "LayoutView",
            "align_content": null,
            "align_items": null,
            "align_self": null,
            "border": null,
            "bottom": null,
            "display": null,
            "flex": null,
            "flex_flow": null,
            "grid_area": null,
            "grid_auto_columns": null,
            "grid_auto_flow": null,
            "grid_auto_rows": null,
            "grid_column": null,
            "grid_gap": null,
            "grid_row": null,
            "grid_template_areas": null,
            "grid_template_columns": null,
            "grid_template_rows": null,
            "height": null,
            "justify_content": null,
            "justify_items": null,
            "left": null,
            "margin": null,
            "max_height": null,
            "max_width": null,
            "min_height": null,
            "min_width": null,
            "object_fit": null,
            "object_position": null,
            "order": null,
            "overflow": null,
            "overflow_x": null,
            "overflow_y": null,
            "padding": null,
            "right": null,
            "top": null,
            "visibility": null,
            "width": null
          }
        },
        "490163c0d5eb40c2bdb43b8b105d71e9": {
          "model_module": "@jupyter-widgets/controls",
          "model_name": "DescriptionStyleModel",
          "model_module_version": "1.5.0",
          "state": {
            "_model_module": "@jupyter-widgets/controls",
            "_model_module_version": "1.5.0",
            "_model_name": "DescriptionStyleModel",
            "_view_count": null,
            "_view_module": "@jupyter-widgets/base",
            "_view_module_version": "1.2.0",
            "_view_name": "StyleView",
            "description_width": ""
          }
        },
        "fbf5d6a74ca3456db3e068b50ab67ade": {
          "model_module": "@jupyter-widgets/base",
          "model_name": "LayoutModel",
          "model_module_version": "1.2.0",
          "state": {
            "_model_module": "@jupyter-widgets/base",
            "_model_module_version": "1.2.0",
            "_model_name": "LayoutModel",
            "_view_count": null,
            "_view_module": "@jupyter-widgets/base",
            "_view_module_version": "1.2.0",
            "_view_name": "LayoutView",
            "align_content": null,
            "align_items": null,
            "align_self": null,
            "border": null,
            "bottom": null,
            "display": null,
            "flex": null,
            "flex_flow": null,
            "grid_area": null,
            "grid_auto_columns": null,
            "grid_auto_flow": null,
            "grid_auto_rows": null,
            "grid_column": null,
            "grid_gap": null,
            "grid_row": null,
            "grid_template_areas": null,
            "grid_template_columns": null,
            "grid_template_rows": null,
            "height": null,
            "justify_content": null,
            "justify_items": null,
            "left": null,
            "margin": null,
            "max_height": null,
            "max_width": null,
            "min_height": null,
            "min_width": null,
            "object_fit": null,
            "object_position": null,
            "order": null,
            "overflow": null,
            "overflow_x": null,
            "overflow_y": null,
            "padding": null,
            "right": null,
            "top": null,
            "visibility": null,
            "width": null
          }
        },
        "5128a1283e8f406288597d74ca32b188": {
          "model_module": "@jupyter-widgets/controls",
          "model_name": "ProgressStyleModel",
          "model_module_version": "1.5.0",
          "state": {
            "_model_module": "@jupyter-widgets/controls",
            "_model_module_version": "1.5.0",
            "_model_name": "ProgressStyleModel",
            "_view_count": null,
            "_view_module": "@jupyter-widgets/base",
            "_view_module_version": "1.2.0",
            "_view_name": "StyleView",
            "bar_color": null,
            "description_width": ""
          }
        },
        "eebb9f7a2f254835958a7e83f99db0b1": {
          "model_module": "@jupyter-widgets/base",
          "model_name": "LayoutModel",
          "model_module_version": "1.2.0",
          "state": {
            "_model_module": "@jupyter-widgets/base",
            "_model_module_version": "1.2.0",
            "_model_name": "LayoutModel",
            "_view_count": null,
            "_view_module": "@jupyter-widgets/base",
            "_view_module_version": "1.2.0",
            "_view_name": "LayoutView",
            "align_content": null,
            "align_items": null,
            "align_self": null,
            "border": null,
            "bottom": null,
            "display": null,
            "flex": null,
            "flex_flow": null,
            "grid_area": null,
            "grid_auto_columns": null,
            "grid_auto_flow": null,
            "grid_auto_rows": null,
            "grid_column": null,
            "grid_gap": null,
            "grid_row": null,
            "grid_template_areas": null,
            "grid_template_columns": null,
            "grid_template_rows": null,
            "height": null,
            "justify_content": null,
            "justify_items": null,
            "left": null,
            "margin": null,
            "max_height": null,
            "max_width": null,
            "min_height": null,
            "min_width": null,
            "object_fit": null,
            "object_position": null,
            "order": null,
            "overflow": null,
            "overflow_x": null,
            "overflow_y": null,
            "padding": null,
            "right": null,
            "top": null,
            "visibility": null,
            "width": null
          }
        },
        "b060ffc80d3542f6b10c25a6537c1a96": {
          "model_module": "@jupyter-widgets/controls",
          "model_name": "DescriptionStyleModel",
          "model_module_version": "1.5.0",
          "state": {
            "_model_module": "@jupyter-widgets/controls",
            "_model_module_version": "1.5.0",
            "_model_name": "DescriptionStyleModel",
            "_view_count": null,
            "_view_module": "@jupyter-widgets/base",
            "_view_module_version": "1.2.0",
            "_view_name": "StyleView",
            "description_width": ""
          }
        },
        "a4be51c4fadd489a9f08afe226d3fad5": {
          "model_module": "@jupyter-widgets/controls",
          "model_name": "HBoxModel",
          "model_module_version": "1.5.0",
          "state": {
            "_dom_classes": [],
            "_model_module": "@jupyter-widgets/controls",
            "_model_module_version": "1.5.0",
            "_model_name": "HBoxModel",
            "_view_count": null,
            "_view_module": "@jupyter-widgets/controls",
            "_view_module_version": "1.5.0",
            "_view_name": "HBoxView",
            "box_style": "",
            "children": [
              "IPY_MODEL_4255b5ab0f7b4967a7fb976ed70d0513",
              "IPY_MODEL_cd1c8d1ced114261b6b8f28225d256bf",
              "IPY_MODEL_fc85c3b8f46d4ceab5df83355c4fac0f"
            ],
            "layout": "IPY_MODEL_9fea527c7f2c4c5ab4c579d7519b9c1e"
          }
        },
        "4255b5ab0f7b4967a7fb976ed70d0513": {
          "model_module": "@jupyter-widgets/controls",
          "model_name": "HTMLModel",
          "model_module_version": "1.5.0",
          "state": {
            "_dom_classes": [],
            "_model_module": "@jupyter-widgets/controls",
            "_model_module_version": "1.5.0",
            "_model_name": "HTMLModel",
            "_view_count": null,
            "_view_module": "@jupyter-widgets/controls",
            "_view_module_version": "1.5.0",
            "_view_name": "HTMLView",
            "description": "",
            "description_tooltip": null,
            "layout": "IPY_MODEL_7d20883b66a84820b22524efbd233e97",
            "placeholder": "​",
            "style": "IPY_MODEL_c4e51eaec6c74c039c122ff4b1e94ca4",
            "value": "Running tokenizer on dataset: 100%"
          }
        },
        "cd1c8d1ced114261b6b8f28225d256bf": {
          "model_module": "@jupyter-widgets/controls",
          "model_name": "FloatProgressModel",
          "model_module_version": "1.5.0",
          "state": {
            "_dom_classes": [],
            "_model_module": "@jupyter-widgets/controls",
            "_model_module_version": "1.5.0",
            "_model_name": "FloatProgressModel",
            "_view_count": null,
            "_view_module": "@jupyter-widgets/controls",
            "_view_module_version": "1.5.0",
            "_view_name": "ProgressView",
            "bar_style": "success",
            "description": "",
            "description_tooltip": null,
            "layout": "IPY_MODEL_53006c7738f04c0a8738a99377b1630c",
            "max": 637,
            "min": 0,
            "orientation": "horizontal",
            "style": "IPY_MODEL_2f9b6bf0eaab48d29e68804df3402c7b",
            "value": 637
          }
        },
        "fc85c3b8f46d4ceab5df83355c4fac0f": {
          "model_module": "@jupyter-widgets/controls",
          "model_name": "HTMLModel",
          "model_module_version": "1.5.0",
          "state": {
            "_dom_classes": [],
            "_model_module": "@jupyter-widgets/controls",
            "_model_module_version": "1.5.0",
            "_model_name": "HTMLModel",
            "_view_count": null,
            "_view_module": "@jupyter-widgets/controls",
            "_view_module_version": "1.5.0",
            "_view_name": "HTMLView",
            "description": "",
            "description_tooltip": null,
            "layout": "IPY_MODEL_9377ba7606bd46958b57e48cbefd208f",
            "placeholder": "​",
            "style": "IPY_MODEL_ee4f8baa868349c5a915c53eef62e395",
            "value": " 637/637 [00:00&lt;00:00, 3951.93 examples/s]"
          }
        },
        "9fea527c7f2c4c5ab4c579d7519b9c1e": {
          "model_module": "@jupyter-widgets/base",
          "model_name": "LayoutModel",
          "model_module_version": "1.2.0",
          "state": {
            "_model_module": "@jupyter-widgets/base",
            "_model_module_version": "1.2.0",
            "_model_name": "LayoutModel",
            "_view_count": null,
            "_view_module": "@jupyter-widgets/base",
            "_view_module_version": "1.2.0",
            "_view_name": "LayoutView",
            "align_content": null,
            "align_items": null,
            "align_self": null,
            "border": null,
            "bottom": null,
            "display": null,
            "flex": null,
            "flex_flow": null,
            "grid_area": null,
            "grid_auto_columns": null,
            "grid_auto_flow": null,
            "grid_auto_rows": null,
            "grid_column": null,
            "grid_gap": null,
            "grid_row": null,
            "grid_template_areas": null,
            "grid_template_columns": null,
            "grid_template_rows": null,
            "height": null,
            "justify_content": null,
            "justify_items": null,
            "left": null,
            "margin": null,
            "max_height": null,
            "max_width": null,
            "min_height": null,
            "min_width": null,
            "object_fit": null,
            "object_position": null,
            "order": null,
            "overflow": null,
            "overflow_x": null,
            "overflow_y": null,
            "padding": null,
            "right": null,
            "top": null,
            "visibility": null,
            "width": null
          }
        },
        "7d20883b66a84820b22524efbd233e97": {
          "model_module": "@jupyter-widgets/base",
          "model_name": "LayoutModel",
          "model_module_version": "1.2.0",
          "state": {
            "_model_module": "@jupyter-widgets/base",
            "_model_module_version": "1.2.0",
            "_model_name": "LayoutModel",
            "_view_count": null,
            "_view_module": "@jupyter-widgets/base",
            "_view_module_version": "1.2.0",
            "_view_name": "LayoutView",
            "align_content": null,
            "align_items": null,
            "align_self": null,
            "border": null,
            "bottom": null,
            "display": null,
            "flex": null,
            "flex_flow": null,
            "grid_area": null,
            "grid_auto_columns": null,
            "grid_auto_flow": null,
            "grid_auto_rows": null,
            "grid_column": null,
            "grid_gap": null,
            "grid_row": null,
            "grid_template_areas": null,
            "grid_template_columns": null,
            "grid_template_rows": null,
            "height": null,
            "justify_content": null,
            "justify_items": null,
            "left": null,
            "margin": null,
            "max_height": null,
            "max_width": null,
            "min_height": null,
            "min_width": null,
            "object_fit": null,
            "object_position": null,
            "order": null,
            "overflow": null,
            "overflow_x": null,
            "overflow_y": null,
            "padding": null,
            "right": null,
            "top": null,
            "visibility": null,
            "width": null
          }
        },
        "c4e51eaec6c74c039c122ff4b1e94ca4": {
          "model_module": "@jupyter-widgets/controls",
          "model_name": "DescriptionStyleModel",
          "model_module_version": "1.5.0",
          "state": {
            "_model_module": "@jupyter-widgets/controls",
            "_model_module_version": "1.5.0",
            "_model_name": "DescriptionStyleModel",
            "_view_count": null,
            "_view_module": "@jupyter-widgets/base",
            "_view_module_version": "1.2.0",
            "_view_name": "StyleView",
            "description_width": ""
          }
        },
        "53006c7738f04c0a8738a99377b1630c": {
          "model_module": "@jupyter-widgets/base",
          "model_name": "LayoutModel",
          "model_module_version": "1.2.0",
          "state": {
            "_model_module": "@jupyter-widgets/base",
            "_model_module_version": "1.2.0",
            "_model_name": "LayoutModel",
            "_view_count": null,
            "_view_module": "@jupyter-widgets/base",
            "_view_module_version": "1.2.0",
            "_view_name": "LayoutView",
            "align_content": null,
            "align_items": null,
            "align_self": null,
            "border": null,
            "bottom": null,
            "display": null,
            "flex": null,
            "flex_flow": null,
            "grid_area": null,
            "grid_auto_columns": null,
            "grid_auto_flow": null,
            "grid_auto_rows": null,
            "grid_column": null,
            "grid_gap": null,
            "grid_row": null,
            "grid_template_areas": null,
            "grid_template_columns": null,
            "grid_template_rows": null,
            "height": null,
            "justify_content": null,
            "justify_items": null,
            "left": null,
            "margin": null,
            "max_height": null,
            "max_width": null,
            "min_height": null,
            "min_width": null,
            "object_fit": null,
            "object_position": null,
            "order": null,
            "overflow": null,
            "overflow_x": null,
            "overflow_y": null,
            "padding": null,
            "right": null,
            "top": null,
            "visibility": null,
            "width": null
          }
        },
        "2f9b6bf0eaab48d29e68804df3402c7b": {
          "model_module": "@jupyter-widgets/controls",
          "model_name": "ProgressStyleModel",
          "model_module_version": "1.5.0",
          "state": {
            "_model_module": "@jupyter-widgets/controls",
            "_model_module_version": "1.5.0",
            "_model_name": "ProgressStyleModel",
            "_view_count": null,
            "_view_module": "@jupyter-widgets/base",
            "_view_module_version": "1.2.0",
            "_view_name": "StyleView",
            "bar_color": null,
            "description_width": ""
          }
        },
        "9377ba7606bd46958b57e48cbefd208f": {
          "model_module": "@jupyter-widgets/base",
          "model_name": "LayoutModel",
          "model_module_version": "1.2.0",
          "state": {
            "_model_module": "@jupyter-widgets/base",
            "_model_module_version": "1.2.0",
            "_model_name": "LayoutModel",
            "_view_count": null,
            "_view_module": "@jupyter-widgets/base",
            "_view_module_version": "1.2.0",
            "_view_name": "LayoutView",
            "align_content": null,
            "align_items": null,
            "align_self": null,
            "border": null,
            "bottom": null,
            "display": null,
            "flex": null,
            "flex_flow": null,
            "grid_area": null,
            "grid_auto_columns": null,
            "grid_auto_flow": null,
            "grid_auto_rows": null,
            "grid_column": null,
            "grid_gap": null,
            "grid_row": null,
            "grid_template_areas": null,
            "grid_template_columns": null,
            "grid_template_rows": null,
            "height": null,
            "justify_content": null,
            "justify_items": null,
            "left": null,
            "margin": null,
            "max_height": null,
            "max_width": null,
            "min_height": null,
            "min_width": null,
            "object_fit": null,
            "object_position": null,
            "order": null,
            "overflow": null,
            "overflow_x": null,
            "overflow_y": null,
            "padding": null,
            "right": null,
            "top": null,
            "visibility": null,
            "width": null
          }
        },
        "ee4f8baa868349c5a915c53eef62e395": {
          "model_module": "@jupyter-widgets/controls",
          "model_name": "DescriptionStyleModel",
          "model_module_version": "1.5.0",
          "state": {
            "_model_module": "@jupyter-widgets/controls",
            "_model_module_version": "1.5.0",
            "_model_name": "DescriptionStyleModel",
            "_view_count": null,
            "_view_module": "@jupyter-widgets/base",
            "_view_module_version": "1.2.0",
            "_view_name": "StyleView",
            "description_width": ""
          }
        },
        "a6b023d644934a088c40e10f88242277": {
          "model_module": "@jupyter-widgets/controls",
          "model_name": "HBoxModel",
          "model_module_version": "1.5.0",
          "state": {
            "_dom_classes": [],
            "_model_module": "@jupyter-widgets/controls",
            "_model_module_version": "1.5.0",
            "_model_name": "HBoxModel",
            "_view_count": null,
            "_view_module": "@jupyter-widgets/controls",
            "_view_module_version": "1.5.0",
            "_view_name": "HBoxView",
            "box_style": "",
            "children": [
              "IPY_MODEL_3d9200f5e35a4d0ba10ab5ef6649ac45",
              "IPY_MODEL_a050fa4f67034b27b35dd3092cf22d81",
              "IPY_MODEL_4991f6454eed4f5f8c3251c6f437ebc1"
            ],
            "layout": "IPY_MODEL_772cf5f4adfe48d0b571b5a70015000a"
          }
        },
        "3d9200f5e35a4d0ba10ab5ef6649ac45": {
          "model_module": "@jupyter-widgets/controls",
          "model_name": "HTMLModel",
          "model_module_version": "1.5.0",
          "state": {
            "_dom_classes": [],
            "_model_module": "@jupyter-widgets/controls",
            "_model_module_version": "1.5.0",
            "_model_name": "HTMLModel",
            "_view_count": null,
            "_view_module": "@jupyter-widgets/controls",
            "_view_module_version": "1.5.0",
            "_view_name": "HTMLView",
            "description": "",
            "description_tooltip": null,
            "layout": "IPY_MODEL_cb53a6d26d9f469889ccb1a18327f066",
            "placeholder": "​",
            "style": "IPY_MODEL_b466751aa9a045fb8fe220caade124fa",
            "value": "Downloading builder script: 100%"
          }
        },
        "a050fa4f67034b27b35dd3092cf22d81": {
          "model_module": "@jupyter-widgets/controls",
          "model_name": "FloatProgressModel",
          "model_module_version": "1.5.0",
          "state": {
            "_dom_classes": [],
            "_model_module": "@jupyter-widgets/controls",
            "_model_module_version": "1.5.0",
            "_model_name": "FloatProgressModel",
            "_view_count": null,
            "_view_module": "@jupyter-widgets/controls",
            "_view_module_version": "1.5.0",
            "_view_name": "ProgressView",
            "bar_style": "success",
            "description": "",
            "description_tooltip": null,
            "layout": "IPY_MODEL_83514a6e17804dd4b4146df9d356ab2e",
            "max": 4203,
            "min": 0,
            "orientation": "horizontal",
            "style": "IPY_MODEL_faa63f981b324ef3b0b47b36b55246f8",
            "value": 4203
          }
        },
        "4991f6454eed4f5f8c3251c6f437ebc1": {
          "model_module": "@jupyter-widgets/controls",
          "model_name": "HTMLModel",
          "model_module_version": "1.5.0",
          "state": {
            "_dom_classes": [],
            "_model_module": "@jupyter-widgets/controls",
            "_model_module_version": "1.5.0",
            "_model_name": "HTMLModel",
            "_view_count": null,
            "_view_module": "@jupyter-widgets/controls",
            "_view_module_version": "1.5.0",
            "_view_name": "HTMLView",
            "description": "",
            "description_tooltip": null,
            "layout": "IPY_MODEL_5ad5e0163eef469481a6dd6280ed4771",
            "placeholder": "​",
            "style": "IPY_MODEL_8a396b08574845b19600e015930fe87d",
            "value": " 4.20k/4.20k [00:00&lt;00:00, 252kB/s]"
          }
        },
        "772cf5f4adfe48d0b571b5a70015000a": {
          "model_module": "@jupyter-widgets/base",
          "model_name": "LayoutModel",
          "model_module_version": "1.2.0",
          "state": {
            "_model_module": "@jupyter-widgets/base",
            "_model_module_version": "1.2.0",
            "_model_name": "LayoutModel",
            "_view_count": null,
            "_view_module": "@jupyter-widgets/base",
            "_view_module_version": "1.2.0",
            "_view_name": "LayoutView",
            "align_content": null,
            "align_items": null,
            "align_self": null,
            "border": null,
            "bottom": null,
            "display": null,
            "flex": null,
            "flex_flow": null,
            "grid_area": null,
            "grid_auto_columns": null,
            "grid_auto_flow": null,
            "grid_auto_rows": null,
            "grid_column": null,
            "grid_gap": null,
            "grid_row": null,
            "grid_template_areas": null,
            "grid_template_columns": null,
            "grid_template_rows": null,
            "height": null,
            "justify_content": null,
            "justify_items": null,
            "left": null,
            "margin": null,
            "max_height": null,
            "max_width": null,
            "min_height": null,
            "min_width": null,
            "object_fit": null,
            "object_position": null,
            "order": null,
            "overflow": null,
            "overflow_x": null,
            "overflow_y": null,
            "padding": null,
            "right": null,
            "top": null,
            "visibility": null,
            "width": null
          }
        },
        "cb53a6d26d9f469889ccb1a18327f066": {
          "model_module": "@jupyter-widgets/base",
          "model_name": "LayoutModel",
          "model_module_version": "1.2.0",
          "state": {
            "_model_module": "@jupyter-widgets/base",
            "_model_module_version": "1.2.0",
            "_model_name": "LayoutModel",
            "_view_count": null,
            "_view_module": "@jupyter-widgets/base",
            "_view_module_version": "1.2.0",
            "_view_name": "LayoutView",
            "align_content": null,
            "align_items": null,
            "align_self": null,
            "border": null,
            "bottom": null,
            "display": null,
            "flex": null,
            "flex_flow": null,
            "grid_area": null,
            "grid_auto_columns": null,
            "grid_auto_flow": null,
            "grid_auto_rows": null,
            "grid_column": null,
            "grid_gap": null,
            "grid_row": null,
            "grid_template_areas": null,
            "grid_template_columns": null,
            "grid_template_rows": null,
            "height": null,
            "justify_content": null,
            "justify_items": null,
            "left": null,
            "margin": null,
            "max_height": null,
            "max_width": null,
            "min_height": null,
            "min_width": null,
            "object_fit": null,
            "object_position": null,
            "order": null,
            "overflow": null,
            "overflow_x": null,
            "overflow_y": null,
            "padding": null,
            "right": null,
            "top": null,
            "visibility": null,
            "width": null
          }
        },
        "b466751aa9a045fb8fe220caade124fa": {
          "model_module": "@jupyter-widgets/controls",
          "model_name": "DescriptionStyleModel",
          "model_module_version": "1.5.0",
          "state": {
            "_model_module": "@jupyter-widgets/controls",
            "_model_module_version": "1.5.0",
            "_model_name": "DescriptionStyleModel",
            "_view_count": null,
            "_view_module": "@jupyter-widgets/base",
            "_view_module_version": "1.2.0",
            "_view_name": "StyleView",
            "description_width": ""
          }
        },
        "83514a6e17804dd4b4146df9d356ab2e": {
          "model_module": "@jupyter-widgets/base",
          "model_name": "LayoutModel",
          "model_module_version": "1.2.0",
          "state": {
            "_model_module": "@jupyter-widgets/base",
            "_model_module_version": "1.2.0",
            "_model_name": "LayoutModel",
            "_view_count": null,
            "_view_module": "@jupyter-widgets/base",
            "_view_module_version": "1.2.0",
            "_view_name": "LayoutView",
            "align_content": null,
            "align_items": null,
            "align_self": null,
            "border": null,
            "bottom": null,
            "display": null,
            "flex": null,
            "flex_flow": null,
            "grid_area": null,
            "grid_auto_columns": null,
            "grid_auto_flow": null,
            "grid_auto_rows": null,
            "grid_column": null,
            "grid_gap": null,
            "grid_row": null,
            "grid_template_areas": null,
            "grid_template_columns": null,
            "grid_template_rows": null,
            "height": null,
            "justify_content": null,
            "justify_items": null,
            "left": null,
            "margin": null,
            "max_height": null,
            "max_width": null,
            "min_height": null,
            "min_width": null,
            "object_fit": null,
            "object_position": null,
            "order": null,
            "overflow": null,
            "overflow_x": null,
            "overflow_y": null,
            "padding": null,
            "right": null,
            "top": null,
            "visibility": null,
            "width": null
          }
        },
        "faa63f981b324ef3b0b47b36b55246f8": {
          "model_module": "@jupyter-widgets/controls",
          "model_name": "ProgressStyleModel",
          "model_module_version": "1.5.0",
          "state": {
            "_model_module": "@jupyter-widgets/controls",
            "_model_module_version": "1.5.0",
            "_model_name": "ProgressStyleModel",
            "_view_count": null,
            "_view_module": "@jupyter-widgets/base",
            "_view_module_version": "1.2.0",
            "_view_name": "StyleView",
            "bar_color": null,
            "description_width": ""
          }
        },
        "5ad5e0163eef469481a6dd6280ed4771": {
          "model_module": "@jupyter-widgets/base",
          "model_name": "LayoutModel",
          "model_module_version": "1.2.0",
          "state": {
            "_model_module": "@jupyter-widgets/base",
            "_model_module_version": "1.2.0",
            "_model_name": "LayoutModel",
            "_view_count": null,
            "_view_module": "@jupyter-widgets/base",
            "_view_module_version": "1.2.0",
            "_view_name": "LayoutView",
            "align_content": null,
            "align_items": null,
            "align_self": null,
            "border": null,
            "bottom": null,
            "display": null,
            "flex": null,
            "flex_flow": null,
            "grid_area": null,
            "grid_auto_columns": null,
            "grid_auto_flow": null,
            "grid_auto_rows": null,
            "grid_column": null,
            "grid_gap": null,
            "grid_row": null,
            "grid_template_areas": null,
            "grid_template_columns": null,
            "grid_template_rows": null,
            "height": null,
            "justify_content": null,
            "justify_items": null,
            "left": null,
            "margin": null,
            "max_height": null,
            "max_width": null,
            "min_height": null,
            "min_width": null,
            "object_fit": null,
            "object_position": null,
            "order": null,
            "overflow": null,
            "overflow_x": null,
            "overflow_y": null,
            "padding": null,
            "right": null,
            "top": null,
            "visibility": null,
            "width": null
          }
        },
        "8a396b08574845b19600e015930fe87d": {
          "model_module": "@jupyter-widgets/controls",
          "model_name": "DescriptionStyleModel",
          "model_module_version": "1.5.0",
          "state": {
            "_model_module": "@jupyter-widgets/controls",
            "_model_module_version": "1.5.0",
            "_model_name": "DescriptionStyleModel",
            "_view_count": null,
            "_view_module": "@jupyter-widgets/base",
            "_view_module_version": "1.2.0",
            "_view_name": "StyleView",
            "description_width": ""
          }
        }
      }
    }
  },
  "nbformat": 4,
  "nbformat_minor": 5
}